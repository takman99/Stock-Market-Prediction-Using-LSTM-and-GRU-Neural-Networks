{
  "cells": [
    {
      "cell_type": "markdown",
      "metadata": {
        "id": "view-in-github",
        "colab_type": "text"
      },
      "source": [
        "<a href=\"https://colab.research.google.com/github/takman99/Stock-Market-Prediction-Using-LSTM-and-GRU-Neural-Networks/blob/main/GRU_Single_Layer.ipynb\" target=\"_parent\"><img src=\"https://colab.research.google.com/assets/colab-badge.svg\" alt=\"Open In Colab\"/></a>"
      ]
    },
    {
      "cell_type": "markdown",
      "metadata": {
        "id": "owQ5tzy7CteV"
      },
      "source": [
        "# GRU Model\n",
        "\n"
      ]
    },
    {
      "cell_type": "code",
      "execution_count": null,
      "metadata": {
        "colab": {
          "base_uri": "https://localhost:8080/"
        },
        "id": "A7uofpvb_PEx",
        "outputId": "b532fe63-cf7b-4826-a1d4-8602585e51a1"
      },
      "outputs": [
        {
          "output_type": "stream",
          "name": "stdout",
          "text": [
            "Requirement already satisfied: yfinance in /usr/local/lib/python3.10/dist-packages (0.2.22)\n",
            "Collecting yfinance\n",
            "  Downloading yfinance-0.2.25-py2.py3-none-any.whl (63 kB)\n",
            "\u001b[?25l     \u001b[90m━━━━━━━━━━━━━━━━━━━━━━━━━━━━━━━━━━━━━━━━\u001b[0m \u001b[32m0.0/63.1 kB\u001b[0m \u001b[31m?\u001b[0m eta \u001b[36m-:--:--\u001b[0m\r\u001b[2K     \u001b[90m━━━━━━━━━━━━━━━━━━━━━━━━━━━━━━━━━━━━━━━━\u001b[0m \u001b[32m63.1/63.1 kB\u001b[0m \u001b[31m23.1 MB/s\u001b[0m eta \u001b[36m0:00:00\u001b[0m\n",
            "\u001b[?25hRequirement already satisfied: pandas>=1.3.0 in /usr/local/lib/python3.10/dist-packages (from yfinance) (1.5.3)\n",
            "Requirement already satisfied: numpy>=1.16.5 in /usr/local/lib/python3.10/dist-packages (from yfinance) (1.22.4)\n",
            "Requirement already satisfied: requests>=2.26 in /usr/local/lib/python3.10/dist-packages (from yfinance) (2.27.1)\n",
            "Requirement already satisfied: multitasking>=0.0.7 in /usr/local/lib/python3.10/dist-packages (from yfinance) (0.0.11)\n",
            "Requirement already satisfied: lxml>=4.9.1 in /usr/local/lib/python3.10/dist-packages (from yfinance) (4.9.3)\n",
            "Requirement already satisfied: appdirs>=1.4.4 in /usr/local/lib/python3.10/dist-packages (from yfinance) (1.4.4)\n",
            "Requirement already satisfied: pytz>=2022.5 in /usr/local/lib/python3.10/dist-packages (from yfinance) (2022.7.1)\n",
            "Requirement already satisfied: frozendict>=2.3.4 in /usr/local/lib/python3.10/dist-packages (from yfinance) (2.3.8)\n",
            "Requirement already satisfied: beautifulsoup4>=4.11.1 in /usr/local/lib/python3.10/dist-packages (from yfinance) (4.11.2)\n",
            "Requirement already satisfied: html5lib>=1.1 in /usr/local/lib/python3.10/dist-packages (from yfinance) (1.1)\n",
            "Requirement already satisfied: soupsieve>1.2 in /usr/local/lib/python3.10/dist-packages (from beautifulsoup4>=4.11.1->yfinance) (2.4.1)\n",
            "Requirement already satisfied: six>=1.9 in /usr/local/lib/python3.10/dist-packages (from html5lib>=1.1->yfinance) (1.16.0)\n",
            "Requirement already satisfied: webencodings in /usr/local/lib/python3.10/dist-packages (from html5lib>=1.1->yfinance) (0.5.1)\n",
            "Requirement already satisfied: python-dateutil>=2.8.1 in /usr/local/lib/python3.10/dist-packages (from pandas>=1.3.0->yfinance) (2.8.2)\n",
            "Requirement already satisfied: urllib3<1.27,>=1.21.1 in /usr/local/lib/python3.10/dist-packages (from requests>=2.26->yfinance) (1.26.16)\n",
            "Requirement already satisfied: certifi>=2017.4.17 in /usr/local/lib/python3.10/dist-packages (from requests>=2.26->yfinance) (2023.5.7)\n",
            "Requirement already satisfied: charset-normalizer~=2.0.0 in /usr/local/lib/python3.10/dist-packages (from requests>=2.26->yfinance) (2.0.12)\n",
            "Requirement already satisfied: idna<4,>=2.5 in /usr/local/lib/python3.10/dist-packages (from requests>=2.26->yfinance) (3.4)\n",
            "Installing collected packages: yfinance\n",
            "  Attempting uninstall: yfinance\n",
            "    Found existing installation: yfinance 0.2.22\n",
            "    Uninstalling yfinance-0.2.22:\n",
            "      Successfully uninstalled yfinance-0.2.22\n",
            "Successfully installed yfinance-0.2.25\n",
            "Requirement already satisfied: pandas in /usr/local/lib/python3.10/dist-packages (1.5.3)\n",
            "Collecting pandas\n",
            "  Downloading pandas-2.0.3-cp310-cp310-manylinux_2_17_x86_64.manylinux2014_x86_64.whl (12.3 MB)\n",
            "\u001b[2K     \u001b[90m━━━━━━━━━━━━━━━━━━━━━━━━━━━━━━━━━━━━━━━\u001b[0m \u001b[32m12.3/12.3 MB\u001b[0m \u001b[31m103.0 MB/s\u001b[0m eta \u001b[36m0:00:00\u001b[0m\n",
            "\u001b[?25hRequirement already satisfied: python-dateutil>=2.8.2 in /usr/local/lib/python3.10/dist-packages (from pandas) (2.8.2)\n",
            "Requirement already satisfied: pytz>=2020.1 in /usr/local/lib/python3.10/dist-packages (from pandas) (2022.7.1)\n",
            "Collecting tzdata>=2022.1 (from pandas)\n",
            "  Downloading tzdata-2023.3-py2.py3-none-any.whl (341 kB)\n",
            "\u001b[2K     \u001b[90m━━━━━━━━━━━━━━━━━━━━━━━━━━━━━━━━━━━━━━\u001b[0m \u001b[32m341.8/341.8 kB\u001b[0m \u001b[31m28.4 MB/s\u001b[0m eta \u001b[36m0:00:00\u001b[0m\n",
            "\u001b[?25hRequirement already satisfied: numpy>=1.21.0 in /usr/local/lib/python3.10/dist-packages (from pandas) (1.22.4)\n",
            "Requirement already satisfied: six>=1.5 in /usr/local/lib/python3.10/dist-packages (from python-dateutil>=2.8.2->pandas) (1.16.0)\n",
            "Installing collected packages: tzdata, pandas\n",
            "  Attempting uninstall: pandas\n",
            "    Found existing installation: pandas 1.5.3\n",
            "    Uninstalling pandas-1.5.3:\n",
            "      Successfully uninstalled pandas-1.5.3\n",
            "\u001b[31mERROR: pip's dependency resolver does not currently take into account all the packages that are installed. This behaviour is the source of the following dependency conflicts.\n",
            "google-colab 1.0.0 requires pandas==1.5.3, but you have pandas 2.0.3 which is incompatible.\u001b[0m\u001b[31m\n",
            "\u001b[0mSuccessfully installed pandas-2.0.3 tzdata-2023.3\n",
            "Collecting pycryptodome\n",
            "  Downloading pycryptodome-3.18.0-cp35-abi3-manylinux_2_17_x86_64.manylinux2014_x86_64.whl (2.1 MB)\n",
            "\u001b[2K     \u001b[90m━━━━━━━━━━━━━━━━━━━━━━━━━━━━━━━━━━━━━━━━\u001b[0m \u001b[32m2.1/2.1 MB\u001b[0m \u001b[31m69.2 MB/s\u001b[0m eta \u001b[36m0:00:00\u001b[0m\n",
            "\u001b[?25hCollecting pycryptodomex\n",
            "  Downloading pycryptodomex-3.18.0-cp35-abi3-manylinux_2_17_x86_64.manylinux2014_x86_64.whl (2.1 MB)\n",
            "\u001b[2K     \u001b[90m━━━━━━━━━━━━━━━━━━━━━━━━━━━━━━━━━━━━━━━━\u001b[0m \u001b[32m2.1/2.1 MB\u001b[0m \u001b[31m97.5 MB/s\u001b[0m eta \u001b[36m0:00:00\u001b[0m\n",
            "\u001b[?25hInstalling collected packages: pycryptodomex, pycryptodome\n",
            "Successfully installed pycryptodome-3.18.0 pycryptodomex-3.18.0\n",
            "Found existing installation: pandas-datareader 0.10.0\n",
            "Uninstalling pandas-datareader-0.10.0:\n",
            "  Successfully uninstalled pandas-datareader-0.10.0\n",
            "Collecting git+https://github.com/raphi6/pandas-datareader.git@ea66d6b981554f9d0262038aef2106dda7138316\n",
            "  Cloning https://github.com/raphi6/pandas-datareader.git (to revision ea66d6b981554f9d0262038aef2106dda7138316) to /tmp/pip-req-build-t7ru8dz_\n",
            "  Running command git clone --filter=blob:none --quiet https://github.com/raphi6/pandas-datareader.git /tmp/pip-req-build-t7ru8dz_\n",
            "  Running command git rev-parse -q --verify 'sha^ea66d6b981554f9d0262038aef2106dda7138316'\n",
            "  Running command git fetch -q https://github.com/raphi6/pandas-datareader.git ea66d6b981554f9d0262038aef2106dda7138316\n",
            "  Running command git checkout -q ea66d6b981554f9d0262038aef2106dda7138316\n",
            "  Resolved https://github.com/raphi6/pandas-datareader.git to commit ea66d6b981554f9d0262038aef2106dda7138316\n",
            "  Preparing metadata (setup.py) ... \u001b[?25l\u001b[?25hdone\n",
            "Requirement already satisfied: lxml in /usr/local/lib/python3.10/dist-packages (from pandas-datareader==0+untagged.811.gea66d6b) (4.9.3)\n",
            "Requirement already satisfied: pandas>=0.23 in /usr/local/lib/python3.10/dist-packages (from pandas-datareader==0+untagged.811.gea66d6b) (2.0.3)\n",
            "Requirement already satisfied: requests>=2.19.0 in /usr/local/lib/python3.10/dist-packages (from pandas-datareader==0+untagged.811.gea66d6b) (2.27.1)\n",
            "Requirement already satisfied: python-dateutil>=2.8.2 in /usr/local/lib/python3.10/dist-packages (from pandas>=0.23->pandas-datareader==0+untagged.811.gea66d6b) (2.8.2)\n",
            "Requirement already satisfied: pytz>=2020.1 in /usr/local/lib/python3.10/dist-packages (from pandas>=0.23->pandas-datareader==0+untagged.811.gea66d6b) (2022.7.1)\n",
            "Requirement already satisfied: tzdata>=2022.1 in /usr/local/lib/python3.10/dist-packages (from pandas>=0.23->pandas-datareader==0+untagged.811.gea66d6b) (2023.3)\n",
            "Requirement already satisfied: numpy>=1.21.0 in /usr/local/lib/python3.10/dist-packages (from pandas>=0.23->pandas-datareader==0+untagged.811.gea66d6b) (1.22.4)\n",
            "Requirement already satisfied: urllib3<1.27,>=1.21.1 in /usr/local/lib/python3.10/dist-packages (from requests>=2.19.0->pandas-datareader==0+untagged.811.gea66d6b) (1.26.16)\n",
            "Requirement already satisfied: certifi>=2017.4.17 in /usr/local/lib/python3.10/dist-packages (from requests>=2.19.0->pandas-datareader==0+untagged.811.gea66d6b) (2023.5.7)\n",
            "Requirement already satisfied: charset-normalizer~=2.0.0 in /usr/local/lib/python3.10/dist-packages (from requests>=2.19.0->pandas-datareader==0+untagged.811.gea66d6b) (2.0.12)\n",
            "Requirement already satisfied: idna<4,>=2.5 in /usr/local/lib/python3.10/dist-packages (from requests>=2.19.0->pandas-datareader==0+untagged.811.gea66d6b) (3.4)\n",
            "Requirement already satisfied: six>=1.5 in /usr/local/lib/python3.10/dist-packages (from python-dateutil>=2.8.2->pandas>=0.23->pandas-datareader==0+untagged.811.gea66d6b) (1.16.0)\n",
            "Building wheels for collected packages: pandas-datareader\n",
            "  Building wheel for pandas-datareader (setup.py) ... \u001b[?25l\u001b[?25hdone\n",
            "  Created wheel for pandas-datareader: filename=pandas_datareader-0+untagged.811.gea66d6b-py3-none-any.whl size=110760 sha256=7a5178b5090e90f76db1823f5f6ba17e767a1ce9e6cac305a6692f99aa0fcee2\n",
            "  Stored in directory: /root/.cache/pip/wheels/1d/22/d3/4a19e9a2a95739409abfc0829d24efa93d7d3c5022e958e4da\n",
            "Successfully built pandas-datareader\n",
            "Installing collected packages: pandas-datareader\n",
            "Successfully installed pandas-datareader-0+untagged.811.gea66d6b\n",
            "Collecting scikit-optimize\n",
            "  Downloading scikit_optimize-0.9.0-py2.py3-none-any.whl (100 kB)\n",
            "\u001b[2K     \u001b[90m━━━━━━━━━━━━━━━━━━━━━━━━━━━━━━━━━━━━━━━\u001b[0m \u001b[32m100.3/100.3 kB\u001b[0m \u001b[31m6.1 MB/s\u001b[0m eta \u001b[36m0:00:00\u001b[0m\n",
            "\u001b[?25hRequirement already satisfied: joblib>=0.11 in /usr/local/lib/python3.10/dist-packages (from scikit-optimize) (1.3.1)\n",
            "Collecting pyaml>=16.9 (from scikit-optimize)\n",
            "  Downloading pyaml-23.7.0-py3-none-any.whl (17 kB)\n",
            "Requirement already satisfied: numpy>=1.13.3 in /usr/local/lib/python3.10/dist-packages (from scikit-optimize) (1.22.4)\n",
            "Requirement already satisfied: scipy>=0.19.1 in /usr/local/lib/python3.10/dist-packages (from scikit-optimize) (1.10.1)\n",
            "Requirement already satisfied: scikit-learn>=0.20.0 in /usr/local/lib/python3.10/dist-packages (from scikit-optimize) (1.2.2)\n",
            "Requirement already satisfied: PyYAML in /usr/local/lib/python3.10/dist-packages (from pyaml>=16.9->scikit-optimize) (6.0)\n",
            "Requirement already satisfied: threadpoolctl>=2.0.0 in /usr/local/lib/python3.10/dist-packages (from scikit-learn>=0.20.0->scikit-optimize) (3.1.0)\n",
            "Installing collected packages: pyaml, scikit-optimize\n",
            "Successfully installed pyaml-23.7.0 scikit-optimize-0.9.0\n"
          ]
        }
      ],
      "source": [
        "# Importing libraries\n",
        "!pip install yfinance --upgrade --no-cache-dir\n",
        "!pip install --upgrade pandas\n",
        "!pip install pycryptodome pycryptodomex\n",
        "!pip uninstall --yes pandas-datareader\n",
        "!pip install git+https://github.com/raphi6/pandas-datareader.git@ea66d6b981554f9d0262038aef2106dda7138316\n",
        "!pip install scikit-optimize\n",
        "import math\n",
        "import yfinance as yf\n",
        "import numpy as np\n",
        "import pandas as pd\n",
        "import pandas_datareader as web\n",
        "import tensorflow as tf\n",
        "from tensorflow.keras.regularizers import L1, L2, L1L2\n",
        "from sklearn.preprocessing import MinMaxScaler\n",
        "from sklearn.metrics import mean_absolute_error\n",
        "from keras.models import Sequential\n",
        "from keras.layers import Dense, GRU, Dropout\n",
        "from keras.optimizers import Adam, RMSprop, Adagrad, Nadam\n",
        "from keras.activations import relu, tanh, linear\n",
        "from keras.callbacks import EarlyStopping\n",
        "from sklearn.preprocessing import MinMaxScaler\n",
        "from sklearn.metrics import mean_absolute_error\n",
        "from sklearn.model_selection import train_test_split\n",
        "from skopt import gp_minimize\n",
        "from skopt.space import Real, Integer, Categorical\n",
        "from skopt.utils import use_named_args\n",
        "import matplotlib.pyplot as plt\n",
        "plt.style.use('fivethirtyeight')"
      ]
    },
    {
      "cell_type": "code",
      "execution_count": null,
      "metadata": {
        "id": "G2X2CLreGn-w"
      },
      "outputs": [],
      "source": [
        "np.random.seed(42)\n",
        "tf.random.set_seed(42)"
      ]
    },
    {
      "cell_type": "code",
      "execution_count": null,
      "metadata": {
        "colab": {
          "base_uri": "https://localhost:8080/"
        },
        "id": "XqI_fTSMDqH7",
        "outputId": "1e9dda97-2f02-4994-d3bd-fabb045da949"
      },
      "outputs": [
        {
          "output_type": "stream",
          "name": "stdout",
          "text": [
            "\r[*********************100%***********************]  1 of 1 completed\n"
          ]
        }
      ],
      "source": [
        "df = yf.download(\"^GSPC\", start=\"2000-01-03\", end=\"2016-11-10\")\n",
        "\n",
        "\n",
        "# Selecting the 6 input features\n",
        "data = df[['Open', 'High', 'Low', 'Close', 'Adj Close', 'Volume']]\n",
        "dataset = data.values\n",
        "\n",
        "training_data_len = len(dataset) - 400\n",
        "\n",
        "# Fitting the MinMaxScaler only on the training data\n",
        "scaler = MinMaxScaler(feature_range=(0, 1))\n",
        "scaler.fit(dataset[:training_data_len])\n",
        "\n",
        "# Transforming both the training and test data using the fitted scaler\n",
        "scaled_data = scaler.transform(dataset)\n",
        "\n",
        "train_data = scaled_data[0:training_data_len, :]\n",
        "x_train = []\n",
        "y_train = []\n",
        "\n",
        "for i in range(60, len(train_data)):\n",
        "    x_train.append(train_data[i - 60:i, :])\n",
        "    y_train.append(train_data[i, 3])\n",
        "\n",
        "x_train, y_train = np.array(x_train), np.array(y_train)\n",
        "x_train = np.reshape(x_train, (x_train.shape[0], x_train.shape[1], 6))\n",
        "\n",
        "#Test data\n",
        "test_data = scaled_data[training_data_len - 60:, :]\n",
        "x_test = []\n",
        "y_test = dataset[training_data_len:, 3]\n",
        "\n",
        "for i in range(60, len(test_data)):\n",
        "    x_test.append(test_data[i - 60:i, :])\n",
        "\n",
        "x_test = np.array(x_test)\n",
        "x_test = np.reshape(x_test, (x_test.shape[0], x_test.shape[1], 6))"
      ]
    },
    {
      "cell_type": "code",
      "execution_count": null,
      "metadata": {
        "colab": {
          "base_uri": "https://localhost:8080/"
        },
        "id": "8VU0ACPsZbZZ",
        "outputId": "f71f08a6-832a-437c-9dc7-f3bf6d0d95a5"
      },
      "outputs": [
        {
          "output_type": "stream",
          "name": "stdout",
          "text": [
            "Iteration No: 1 started. Evaluating function at random point.\n",
            "Epoch 1/200\n",
            "95/95 [==============================] - 2s 9ms/step - loss: 0.0688 - val_loss: 0.0556\n",
            "Epoch 2/200\n",
            "95/95 [==============================] - 0s 5ms/step - loss: 0.0472 - val_loss: 0.0448\n",
            "Epoch 3/200\n",
            "95/95 [==============================] - 0s 5ms/step - loss: 0.0399 - val_loss: 0.0371\n",
            "Epoch 4/200\n",
            "95/95 [==============================] - 0s 5ms/step - loss: 0.0338 - val_loss: 0.0312\n",
            "Epoch 5/200\n",
            "95/95 [==============================] - 0s 5ms/step - loss: 0.0289 - val_loss: 0.0267\n",
            "Epoch 6/200\n",
            "95/95 [==============================] - 0s 5ms/step - loss: 0.0246 - val_loss: 0.0229\n",
            "Epoch 7/200\n",
            "95/95 [==============================] - 0s 5ms/step - loss: 0.0212 - val_loss: 0.0194\n",
            "Epoch 8/200\n",
            "95/95 [==============================] - 0s 5ms/step - loss: 0.0183 - val_loss: 0.0166\n",
            "Epoch 9/200\n",
            "95/95 [==============================] - 1s 5ms/step - loss: 0.0158 - val_loss: 0.0145\n",
            "Epoch 10/200\n",
            "95/95 [==============================] - 0s 5ms/step - loss: 0.0138 - val_loss: 0.0125\n",
            "Epoch 11/200\n",
            "95/95 [==============================] - 0s 5ms/step - loss: 0.0121 - val_loss: 0.0113\n",
            "Epoch 12/200\n",
            "95/95 [==============================] - 0s 5ms/step - loss: 0.0107 - val_loss: 0.0099\n",
            "Epoch 13/200\n",
            "95/95 [==============================] - 0s 5ms/step - loss: 0.0094 - val_loss: 0.0086\n",
            "Epoch 14/200\n",
            "95/95 [==============================] - 0s 5ms/step - loss: 0.0083 - val_loss: 0.0077\n",
            "Epoch 15/200\n",
            "95/95 [==============================] - 1s 5ms/step - loss: 0.0074 - val_loss: 0.0069\n",
            "Epoch 16/200\n",
            "95/95 [==============================] - 1s 5ms/step - loss: 0.0067 - val_loss: 0.0062\n",
            "Epoch 17/200\n",
            "95/95 [==============================] - 1s 5ms/step - loss: 0.0060 - val_loss: 0.0054\n",
            "Epoch 18/200\n",
            "95/95 [==============================] - 1s 5ms/step - loss: 0.0054 - val_loss: 0.0049\n",
            "Epoch 19/200\n",
            "95/95 [==============================] - 1s 5ms/step - loss: 0.0048 - val_loss: 0.0045\n",
            "Epoch 20/200\n",
            "95/95 [==============================] - 0s 5ms/step - loss: 0.0044 - val_loss: 0.0039\n",
            "Epoch 21/200\n",
            "95/95 [==============================] - 0s 5ms/step - loss: 0.0040 - val_loss: 0.0035\n",
            "Epoch 22/200\n",
            "95/95 [==============================] - 0s 5ms/step - loss: 0.0035 - val_loss: 0.0033\n",
            "Epoch 23/200\n",
            "95/95 [==============================] - 0s 5ms/step - loss: 0.0032 - val_loss: 0.0029\n",
            "Epoch 24/200\n",
            "95/95 [==============================] - 0s 5ms/step - loss: 0.0029 - val_loss: 0.0026\n",
            "Epoch 25/200\n",
            "95/95 [==============================] - 0s 5ms/step - loss: 0.0026 - val_loss: 0.0023\n",
            "Epoch 26/200\n",
            "95/95 [==============================] - 0s 5ms/step - loss: 0.0024 - val_loss: 0.0021\n",
            "Epoch 27/200\n",
            "95/95 [==============================] - 0s 5ms/step - loss: 0.0022 - val_loss: 0.0021\n",
            "Epoch 28/200\n",
            "95/95 [==============================] - 0s 5ms/step - loss: 0.0020 - val_loss: 0.0017\n",
            "Epoch 29/200\n",
            "95/95 [==============================] - 0s 5ms/step - loss: 0.0018 - val_loss: 0.0015\n",
            "Epoch 30/200\n",
            "95/95 [==============================] - 0s 5ms/step - loss: 0.0016 - val_loss: 0.0014\n",
            "Epoch 31/200\n",
            "95/95 [==============================] - 0s 5ms/step - loss: 0.0015 - val_loss: 0.0014\n",
            "Epoch 32/200\n",
            "95/95 [==============================] - 0s 5ms/step - loss: 0.0014 - val_loss: 0.0011\n",
            "Epoch 33/200\n",
            "95/95 [==============================] - 0s 5ms/step - loss: 0.0013 - val_loss: 0.0016\n",
            "Epoch 34/200\n",
            "95/95 [==============================] - 0s 5ms/step - loss: 0.0011 - val_loss: 9.4053e-04\n",
            "Epoch 35/200\n",
            "95/95 [==============================] - 0s 5ms/step - loss: 0.0010 - val_loss: 8.6024e-04\n",
            "Epoch 36/200\n",
            "95/95 [==============================] - 0s 5ms/step - loss: 9.6704e-04 - val_loss: 9.3176e-04\n",
            "Epoch 37/200\n",
            "95/95 [==============================] - 0s 5ms/step - loss: 9.0892e-04 - val_loss: 7.6289e-04\n",
            "Epoch 38/200\n",
            "95/95 [==============================] - 0s 5ms/step - loss: 8.4533e-04 - val_loss: 6.9021e-04\n",
            "Epoch 39/200\n",
            "95/95 [==============================] - 0s 5ms/step - loss: 7.9632e-04 - val_loss: 6.2694e-04\n",
            "Epoch 40/200\n",
            "95/95 [==============================] - 0s 5ms/step - loss: 7.5368e-04 - val_loss: 7.1242e-04\n",
            "Epoch 41/200\n",
            "95/95 [==============================] - 0s 5ms/step - loss: 6.9802e-04 - val_loss: 5.4058e-04\n",
            "Epoch 42/200\n",
            "95/95 [==============================] - 0s 5ms/step - loss: 6.5091e-04 - val_loss: 6.3417e-04\n",
            "Epoch 43/200\n",
            "95/95 [==============================] - 0s 5ms/step - loss: 6.1100e-04 - val_loss: 4.8668e-04\n",
            "Epoch 44/200\n",
            "95/95 [==============================] - 1s 5ms/step - loss: 5.8859e-04 - val_loss: 4.5739e-04\n",
            "Epoch 45/200\n",
            "95/95 [==============================] - 0s 5ms/step - loss: 5.6633e-04 - val_loss: 5.1548e-04\n",
            "Epoch 46/200\n",
            "95/95 [==============================] - 0s 5ms/step - loss: 5.4122e-04 - val_loss: 3.9960e-04\n",
            "Epoch 47/200\n",
            "95/95 [==============================] - 0s 5ms/step - loss: 5.1391e-04 - val_loss: 5.2619e-04\n",
            "Epoch 48/200\n",
            "95/95 [==============================] - 0s 5ms/step - loss: 4.8664e-04 - val_loss: 4.5272e-04\n",
            "Epoch 49/200\n",
            "95/95 [==============================] - 0s 5ms/step - loss: 4.7598e-04 - val_loss: 3.6044e-04\n",
            "Epoch 50/200\n",
            "95/95 [==============================] - 0s 5ms/step - loss: 4.7007e-04 - val_loss: 3.2779e-04\n",
            "Epoch 51/200\n",
            "95/95 [==============================] - 0s 5ms/step - loss: 4.4543e-04 - val_loss: 5.6038e-04\n",
            "Epoch 52/200\n",
            "95/95 [==============================] - 0s 5ms/step - loss: 4.3305e-04 - val_loss: 3.5434e-04\n",
            "Epoch 53/200\n",
            "95/95 [==============================] - 0s 5ms/step - loss: 4.3108e-04 - val_loss: 5.3643e-04\n",
            "Epoch 54/200\n",
            "95/95 [==============================] - 0s 5ms/step - loss: 3.9978e-04 - val_loss: 5.0890e-04\n",
            "Epoch 55/200\n",
            "95/95 [==============================] - 0s 5ms/step - loss: 3.9534e-04 - val_loss: 5.2451e-04\n",
            "Epoch 56/200\n",
            "95/95 [==============================] - 0s 5ms/step - loss: 3.8401e-04 - val_loss: 3.7697e-04\n",
            "Epoch 57/200\n",
            "95/95 [==============================] - 1s 5ms/step - loss: 3.7308e-04 - val_loss: 3.3624e-04\n",
            "Epoch 58/200\n",
            "95/95 [==============================] - 1s 5ms/step - loss: 3.9312e-04 - val_loss: 2.6945e-04\n",
            "Epoch 59/200\n",
            "95/95 [==============================] - 1s 5ms/step - loss: 3.7144e-04 - val_loss: 2.6175e-04\n",
            "Epoch 60/200\n",
            "95/95 [==============================] - 0s 5ms/step - loss: 3.5648e-04 - val_loss: 2.5006e-04\n",
            "Epoch 61/200\n",
            "95/95 [==============================] - 0s 5ms/step - loss: 3.5298e-04 - val_loss: 2.4678e-04\n",
            "Epoch 62/200\n",
            "95/95 [==============================] - 0s 5ms/step - loss: 3.5134e-04 - val_loss: 2.7988e-04\n",
            "Epoch 63/200\n",
            "95/95 [==============================] - 0s 5ms/step - loss: 3.3871e-04 - val_loss: 2.6943e-04\n",
            "Epoch 64/200\n",
            "95/95 [==============================] - 0s 5ms/step - loss: 3.4923e-04 - val_loss: 2.8897e-04\n",
            "Epoch 65/200\n",
            "95/95 [==============================] - 0s 5ms/step - loss: 3.2973e-04 - val_loss: 2.3169e-04\n",
            "Epoch 66/200\n",
            "95/95 [==============================] - 0s 5ms/step - loss: 3.4312e-04 - val_loss: 4.6948e-04\n",
            "Epoch 67/200\n",
            "95/95 [==============================] - 0s 5ms/step - loss: 3.2738e-04 - val_loss: 3.2500e-04\n",
            "Epoch 68/200\n",
            "95/95 [==============================] - 0s 5ms/step - loss: 3.1709e-04 - val_loss: 2.2358e-04\n",
            "Epoch 69/200\n",
            "95/95 [==============================] - 0s 5ms/step - loss: 3.0815e-04 - val_loss: 2.6499e-04\n",
            "Epoch 70/200\n",
            "95/95 [==============================] - 0s 5ms/step - loss: 3.0584e-04 - val_loss: 3.8583e-04\n",
            "Epoch 71/200\n",
            "95/95 [==============================] - 1s 5ms/step - loss: 3.1855e-04 - val_loss: 3.4474e-04\n",
            "Epoch 72/200\n",
            "95/95 [==============================] - 0s 5ms/step - loss: 2.9833e-04 - val_loss: 2.5486e-04\n",
            "Epoch 73/200\n",
            "95/95 [==============================] - 0s 5ms/step - loss: 3.1361e-04 - val_loss: 2.7439e-04\n",
            "Epoch 74/200\n",
            "95/95 [==============================] - 0s 5ms/step - loss: 2.9709e-04 - val_loss: 4.1866e-04\n",
            "Epoch 75/200\n",
            "95/95 [==============================] - 0s 5ms/step - loss: 2.9938e-04 - val_loss: 4.0404e-04\n",
            "Epoch 76/200\n",
            "95/95 [==============================] - 0s 5ms/step - loss: 2.9811e-04 - val_loss: 4.0323e-04\n",
            "24/24 [==============================] - 0s 2ms/step\n",
            "rmse= 17.19554250567934\n",
            "Iteration No: 1 ended. Evaluation done at random point.\n",
            "Time taken: 39.7017\n",
            "Function value obtained: 295.6867\n",
            "Current minimum: 295.6867\n",
            "Iteration No: 2 started. Evaluating function at random point.\n",
            "Epoch 1/300\n",
            "190/190 [==============================] - 3s 7ms/step - loss: 0.0361 - val_loss: 0.0160\n",
            "Epoch 2/300\n",
            "190/190 [==============================] - 1s 5ms/step - loss: 0.0116 - val_loss: 0.0099\n",
            "Epoch 3/300\n",
            "190/190 [==============================] - 1s 5ms/step - loss: 0.0091 - val_loss: 0.0081\n",
            "Epoch 4/300\n",
            "190/190 [==============================] - 1s 5ms/step - loss: 0.0075 - val_loss: 0.0060\n",
            "Epoch 5/300\n",
            "190/190 [==============================] - 1s 5ms/step - loss: 0.0064 - val_loss: 0.0056\n",
            "Epoch 6/300\n",
            "190/190 [==============================] - 1s 5ms/step - loss: 0.0056 - val_loss: 0.0045\n",
            "Epoch 7/300\n",
            "190/190 [==============================] - 1s 5ms/step - loss: 0.0050 - val_loss: 0.0044\n",
            "Epoch 8/300\n",
            "190/190 [==============================] - 1s 5ms/step - loss: 0.0047 - val_loss: 0.0039\n",
            "Epoch 9/300\n",
            "190/190 [==============================] - 1s 5ms/step - loss: 0.0043 - val_loss: 0.0035\n",
            "Epoch 10/300\n",
            "190/190 [==============================] - 1s 5ms/step - loss: 0.0040 - val_loss: 0.0033\n",
            "Epoch 11/300\n",
            "190/190 [==============================] - 1s 5ms/step - loss: 0.0038 - val_loss: 0.0034\n",
            "Epoch 12/300\n",
            "190/190 [==============================] - 1s 5ms/step - loss: 0.0036 - val_loss: 0.0031\n",
            "Epoch 13/300\n",
            "190/190 [==============================] - 1s 5ms/step - loss: 0.0034 - val_loss: 0.0032\n",
            "Epoch 14/300\n",
            "190/190 [==============================] - 1s 5ms/step - loss: 0.0032 - val_loss: 0.0028\n",
            "Epoch 15/300\n",
            "190/190 [==============================] - 1s 5ms/step - loss: 0.0031 - val_loss: 0.0027\n",
            "Epoch 16/300\n",
            "190/190 [==============================] - 1s 5ms/step - loss: 0.0029 - val_loss: 0.0027\n",
            "Epoch 17/300\n",
            "190/190 [==============================] - 1s 5ms/step - loss: 0.0028 - val_loss: 0.0024\n",
            "Epoch 18/300\n",
            "190/190 [==============================] - 1s 5ms/step - loss: 0.0026 - val_loss: 0.0026\n",
            "Epoch 19/300\n",
            "190/190 [==============================] - 1s 5ms/step - loss: 0.0025 - val_loss: 0.0023\n",
            "Epoch 20/300\n",
            "190/190 [==============================] - 1s 5ms/step - loss: 0.0023 - val_loss: 0.0022\n",
            "Epoch 21/300\n",
            "190/190 [==============================] - 1s 5ms/step - loss: 0.0022 - val_loss: 0.0024\n",
            "Epoch 22/300\n",
            "190/190 [==============================] - 1s 5ms/step - loss: 0.0020 - val_loss: 0.0017\n",
            "Epoch 23/300\n",
            "190/190 [==============================] - 1s 5ms/step - loss: 0.0019 - val_loss: 0.0020\n",
            "Epoch 24/300\n",
            "190/190 [==============================] - 1s 5ms/step - loss: 0.0018 - val_loss: 0.0018\n",
            "Epoch 25/300\n",
            "190/190 [==============================] - 1s 5ms/step - loss: 0.0017 - val_loss: 0.0015\n",
            "Epoch 26/300\n",
            "190/190 [==============================] - 1s 5ms/step - loss: 0.0016 - val_loss: 0.0013\n",
            "Epoch 27/300\n",
            "190/190 [==============================] - 1s 5ms/step - loss: 0.0015 - val_loss: 0.0013\n",
            "Epoch 28/300\n",
            "190/190 [==============================] - 1s 5ms/step - loss: 0.0014 - val_loss: 0.0012\n",
            "Epoch 29/300\n",
            "190/190 [==============================] - 1s 5ms/step - loss: 0.0013 - val_loss: 0.0012\n",
            "Epoch 30/300\n",
            "190/190 [==============================] - 1s 5ms/step - loss: 0.0012 - val_loss: 0.0012\n",
            "Epoch 31/300\n",
            "190/190 [==============================] - 1s 5ms/step - loss: 0.0011 - val_loss: 9.4844e-04\n",
            "Epoch 32/300\n",
            "190/190 [==============================] - 1s 5ms/step - loss: 0.0011 - val_loss: 8.6472e-04\n",
            "Epoch 33/300\n",
            "190/190 [==============================] - 1s 5ms/step - loss: 9.8784e-04 - val_loss: 0.0011\n",
            "Epoch 34/300\n",
            "190/190 [==============================] - 1s 5ms/step - loss: 9.1687e-04 - val_loss: 7.3393e-04\n",
            "Epoch 35/300\n",
            "190/190 [==============================] - 1s 5ms/step - loss: 8.6253e-04 - val_loss: 0.0011\n",
            "Epoch 36/300\n",
            "190/190 [==============================] - 1s 5ms/step - loss: 8.0551e-04 - val_loss: 0.0012\n",
            "Epoch 37/300\n",
            "190/190 [==============================] - 1s 5ms/step - loss: 7.6484e-04 - val_loss: 7.2954e-04\n",
            "Epoch 38/300\n",
            "190/190 [==============================] - 1s 5ms/step - loss: 7.2597e-04 - val_loss: 6.1695e-04\n",
            "Epoch 39/300\n",
            "190/190 [==============================] - 1s 5ms/step - loss: 6.9141e-04 - val_loss: 5.5559e-04\n",
            "Epoch 40/300\n",
            "190/190 [==============================] - 1s 5ms/step - loss: 6.4587e-04 - val_loss: 5.0499e-04\n",
            "Epoch 41/300\n",
            "190/190 [==============================] - 1s 5ms/step - loss: 6.1468e-04 - val_loss: 5.3956e-04\n",
            "Epoch 42/300\n",
            "190/190 [==============================] - 1s 5ms/step - loss: 5.6622e-04 - val_loss: 8.4653e-04\n",
            "Epoch 43/300\n",
            "190/190 [==============================] - 1s 5ms/step - loss: 5.5718e-04 - val_loss: 6.2038e-04\n",
            "Epoch 44/300\n",
            "190/190 [==============================] - 1s 5ms/step - loss: 5.2072e-04 - val_loss: 4.1177e-04\n",
            "Epoch 45/300\n",
            "190/190 [==============================] - 1s 5ms/step - loss: 5.0197e-04 - val_loss: 0.0012\n",
            "Epoch 46/300\n",
            "190/190 [==============================] - 1s 5ms/step - loss: 4.9341e-04 - val_loss: 4.3061e-04\n",
            "Epoch 47/300\n",
            "190/190 [==============================] - 1s 5ms/step - loss: 4.6066e-04 - val_loss: 4.0142e-04\n",
            "Epoch 48/300\n",
            "190/190 [==============================] - 1s 5ms/step - loss: 4.5103e-04 - val_loss: 3.6978e-04\n",
            "Epoch 49/300\n",
            "190/190 [==============================] - 1s 5ms/step - loss: 4.2096e-04 - val_loss: 3.1966e-04\n",
            "Epoch 50/300\n",
            "190/190 [==============================] - 1s 5ms/step - loss: 4.0701e-04 - val_loss: 3.2201e-04\n",
            "Epoch 51/300\n",
            "190/190 [==============================] - 1s 5ms/step - loss: 3.9063e-04 - val_loss: 5.6338e-04\n",
            "Epoch 52/300\n",
            "190/190 [==============================] - 1s 5ms/step - loss: 3.9173e-04 - val_loss: 2.8415e-04\n",
            "Epoch 53/300\n",
            "190/190 [==============================] - 1s 5ms/step - loss: 3.7528e-04 - val_loss: 5.8562e-04\n",
            "Epoch 54/300\n",
            "190/190 [==============================] - 1s 5ms/step - loss: 3.6040e-04 - val_loss: 4.4878e-04\n",
            "Epoch 55/300\n",
            "190/190 [==============================] - 1s 5ms/step - loss: 3.5092e-04 - val_loss: 2.6516e-04\n",
            "Epoch 56/300\n",
            "190/190 [==============================] - 1s 5ms/step - loss: 3.4278e-04 - val_loss: 2.9294e-04\n",
            "Epoch 57/300\n",
            "190/190 [==============================] - 1s 5ms/step - loss: 3.3897e-04 - val_loss: 4.2894e-04\n",
            "Epoch 58/300\n",
            "190/190 [==============================] - 1s 5ms/step - loss: 3.2012e-04 - val_loss: 2.6468e-04\n",
            "Epoch 59/300\n",
            "190/190 [==============================] - 1s 5ms/step - loss: 3.1861e-04 - val_loss: 3.1240e-04\n",
            "Epoch 60/300\n",
            "190/190 [==============================] - 1s 5ms/step - loss: 3.0460e-04 - val_loss: 3.2344e-04\n",
            "Epoch 61/300\n",
            "190/190 [==============================] - 1s 5ms/step - loss: 3.1556e-04 - val_loss: 4.3158e-04\n",
            "Epoch 62/300\n",
            "190/190 [==============================] - 1s 5ms/step - loss: 3.0102e-04 - val_loss: 5.0361e-04\n",
            "Epoch 63/300\n",
            "190/190 [==============================] - 1s 5ms/step - loss: 2.9547e-04 - val_loss: 2.0326e-04\n",
            "Epoch 64/300\n",
            "190/190 [==============================] - 1s 5ms/step - loss: 2.8843e-04 - val_loss: 2.0226e-04\n",
            "Epoch 65/300\n",
            "190/190 [==============================] - 1s 5ms/step - loss: 2.6946e-04 - val_loss: 2.0950e-04\n",
            "Epoch 66/300\n",
            "190/190 [==============================] - 1s 5ms/step - loss: 2.7638e-04 - val_loss: 3.4563e-04\n",
            "Epoch 67/300\n",
            "190/190 [==============================] - 1s 5ms/step - loss: 2.7398e-04 - val_loss: 1.8826e-04\n",
            "Epoch 68/300\n",
            "190/190 [==============================] - 1s 5ms/step - loss: 2.6549e-04 - val_loss: 2.1524e-04\n",
            "Epoch 69/300\n",
            "190/190 [==============================] - 1s 5ms/step - loss: 2.5187e-04 - val_loss: 2.2953e-04\n",
            "Epoch 70/300\n",
            "190/190 [==============================] - 1s 5ms/step - loss: 2.5657e-04 - val_loss: 2.4807e-04\n",
            "Epoch 71/300\n",
            "190/190 [==============================] - 1s 5ms/step - loss: 2.5593e-04 - val_loss: 1.7421e-04\n",
            "Epoch 72/300\n",
            "190/190 [==============================] - 1s 5ms/step - loss: 2.5267e-04 - val_loss: 2.3201e-04\n",
            "Epoch 73/300\n",
            "190/190 [==============================] - 1s 5ms/step - loss: 2.4481e-04 - val_loss: 4.1725e-04\n",
            "Epoch 74/300\n",
            "190/190 [==============================] - 1s 5ms/step - loss: 2.4326e-04 - val_loss: 4.1602e-04\n",
            "Epoch 75/300\n",
            "190/190 [==============================] - 1s 5ms/step - loss: 2.4443e-04 - val_loss: 4.0030e-04\n",
            "Epoch 76/300\n",
            "190/190 [==============================] - 1s 5ms/step - loss: 2.3436e-04 - val_loss: 1.6755e-04\n",
            "Epoch 77/300\n",
            "190/190 [==============================] - 1s 5ms/step - loss: 2.3305e-04 - val_loss: 2.6041e-04\n",
            "Epoch 78/300\n",
            "190/190 [==============================] - 1s 5ms/step - loss: 2.3064e-04 - val_loss: 2.8640e-04\n",
            "Epoch 79/300\n",
            "190/190 [==============================] - 1s 5ms/step - loss: 2.3272e-04 - val_loss: 1.6054e-04\n",
            "Epoch 80/300\n",
            "190/190 [==============================] - 1s 5ms/step - loss: 2.2262e-04 - val_loss: 1.5018e-04\n",
            "Epoch 81/300\n",
            "190/190 [==============================] - 1s 5ms/step - loss: 2.2211e-04 - val_loss: 1.7783e-04\n",
            "Epoch 82/300\n",
            "190/190 [==============================] - 1s 5ms/step - loss: 2.2018e-04 - val_loss: 1.5597e-04\n",
            "Epoch 83/300\n",
            "190/190 [==============================] - 1s 5ms/step - loss: 2.1463e-04 - val_loss: 1.4339e-04\n",
            "Epoch 84/300\n",
            "190/190 [==============================] - 1s 5ms/step - loss: 2.2156e-04 - val_loss: 2.3368e-04\n",
            "Epoch 85/300\n",
            "190/190 [==============================] - 1s 5ms/step - loss: 2.1937e-04 - val_loss: 4.1439e-04\n",
            "Epoch 86/300\n",
            "190/190 [==============================] - 1s 5ms/step - loss: 2.0848e-04 - val_loss: 1.6312e-04\n",
            "Epoch 87/300\n",
            "190/190 [==============================] - 1s 5ms/step - loss: 2.0814e-04 - val_loss: 2.0885e-04\n",
            "Epoch 88/300\n",
            "190/190 [==============================] - 1s 5ms/step - loss: 2.1237e-04 - val_loss: 1.4187e-04\n",
            "Epoch 89/300\n",
            "190/190 [==============================] - 1s 5ms/step - loss: 2.0893e-04 - val_loss: 2.0211e-04\n",
            "Epoch 90/300\n",
            "190/190 [==============================] - 1s 5ms/step - loss: 2.0299e-04 - val_loss: 1.5610e-04\n",
            "Epoch 91/300\n",
            "190/190 [==============================] - 1s 5ms/step - loss: 2.1351e-04 - val_loss: 1.6459e-04\n",
            "Epoch 92/300\n",
            "190/190 [==============================] - 1s 5ms/step - loss: 2.0342e-04 - val_loss: 1.8234e-04\n",
            "Epoch 93/300\n",
            "190/190 [==============================] - 1s 5ms/step - loss: 2.0906e-04 - val_loss: 2.0795e-04\n",
            "Epoch 94/300\n",
            "190/190 [==============================] - 1s 5ms/step - loss: 2.1094e-04 - val_loss: 1.8261e-04\n",
            "Epoch 95/300\n",
            "190/190 [==============================] - 1s 5ms/step - loss: 2.1238e-04 - val_loss: 5.1306e-04\n",
            "Epoch 96/300\n",
            "190/190 [==============================] - 1s 5ms/step - loss: 2.0122e-04 - val_loss: 1.6332e-04\n",
            "24/24 [==============================] - 0s 2ms/step\n",
            "rmse= 14.213940579200495\n",
            "Iteration No: 2 ended. Evaluation done at random point.\n",
            "Time taken: 92.5994\n",
            "Function value obtained: 202.0361\n",
            "Current minimum: 202.0361\n",
            "Iteration No: 3 started. Evaluating function at random point.\n",
            "Epoch 1/300\n",
            "190/190 [==============================] - 3s 7ms/step - loss: 0.0464 - val_loss: 0.0210\n",
            "Epoch 2/300\n",
            "190/190 [==============================] - 1s 5ms/step - loss: 0.0050 - val_loss: 0.0114\n",
            "Epoch 3/300\n",
            "190/190 [==============================] - 1s 5ms/step - loss: 0.0039 - val_loss: 0.0053\n",
            "Epoch 4/300\n",
            "190/190 [==============================] - 1s 5ms/step - loss: 0.0031 - val_loss: 0.0044\n",
            "Epoch 5/300\n",
            "190/190 [==============================] - 1s 5ms/step - loss: 0.0026 - val_loss: 0.0016\n",
            "Epoch 6/300\n",
            "190/190 [==============================] - 1s 5ms/step - loss: 0.0023 - val_loss: 0.0024\n",
            "Epoch 7/300\n",
            "190/190 [==============================] - 1s 5ms/step - loss: 0.0020 - val_loss: 0.0020\n",
            "Epoch 8/300\n",
            "190/190 [==============================] - 1s 5ms/step - loss: 0.0018 - val_loss: 0.0015\n",
            "Epoch 9/300\n",
            "190/190 [==============================] - 1s 5ms/step - loss: 0.0015 - val_loss: 8.8149e-04\n",
            "Epoch 10/300\n",
            "190/190 [==============================] - 1s 5ms/step - loss: 0.0015 - val_loss: 0.0011\n",
            "Epoch 11/300\n",
            "190/190 [==============================] - 1s 5ms/step - loss: 0.0013 - val_loss: 0.0011\n",
            "Epoch 12/300\n",
            "190/190 [==============================] - 1s 5ms/step - loss: 0.0012 - val_loss: 8.9461e-04\n",
            "Epoch 13/300\n",
            "190/190 [==============================] - 1s 5ms/step - loss: 0.0011 - val_loss: 0.0010\n",
            "Epoch 14/300\n",
            "190/190 [==============================] - 1s 5ms/step - loss: 0.0011 - val_loss: 8.8077e-04\n",
            "Epoch 15/300\n",
            "190/190 [==============================] - 1s 5ms/step - loss: 0.0010 - val_loss: 0.0010\n",
            "Epoch 16/300\n",
            "190/190 [==============================] - 1s 5ms/step - loss: 9.2854e-04 - val_loss: 9.8553e-04\n",
            "Epoch 17/300\n",
            "190/190 [==============================] - 1s 5ms/step - loss: 9.3250e-04 - val_loss: 0.0011\n",
            "Epoch 18/300\n",
            "190/190 [==============================] - 1s 5ms/step - loss: 8.9752e-04 - val_loss: 0.0019\n",
            "Epoch 19/300\n",
            "190/190 [==============================] - 1s 5ms/step - loss: 8.4492e-04 - val_loss: 0.0016\n",
            "Epoch 20/300\n",
            "190/190 [==============================] - 1s 5ms/step - loss: 8.2323e-04 - val_loss: 0.0012\n",
            "Epoch 21/300\n",
            "190/190 [==============================] - 1s 5ms/step - loss: 8.2377e-04 - val_loss: 0.0011\n",
            "Epoch 22/300\n",
            "190/190 [==============================] - 1s 5ms/step - loss: 7.4147e-04 - val_loss: 0.0022\n",
            "24/24 [==============================] - 0s 2ms/step\n",
            "rmse= 35.88263915596217\n",
            "Iteration No: 3 ended. Evaluation done at random point.\n",
            "Time taken: 23.6681\n",
            "Function value obtained: 1287.5638\n",
            "Current minimum: 202.0361\n",
            "Iteration No: 4 started. Evaluating function at random point.\n",
            "Epoch 1/400\n",
            "190/190 [==============================] - 3s 7ms/step - loss: 0.0022 - val_loss: 7.4883e-04\n",
            "Epoch 2/400\n",
            "190/190 [==============================] - 1s 5ms/step - loss: 7.1808e-04 - val_loss: 4.7085e-04\n",
            "Epoch 3/400\n",
            "190/190 [==============================] - 1s 5ms/step - loss: 5.9860e-04 - val_loss: 5.6685e-04\n",
            "Epoch 4/400\n",
            "190/190 [==============================] - 1s 5ms/step - loss: 5.0964e-04 - val_loss: 4.4163e-04\n",
            "Epoch 5/400\n",
            "190/190 [==============================] - 1s 5ms/step - loss: 5.2019e-04 - val_loss: 3.1652e-04\n",
            "Epoch 6/400\n",
            "190/190 [==============================] - 1s 5ms/step - loss: 4.3706e-04 - val_loss: 0.0017\n",
            "Epoch 7/400\n",
            "190/190 [==============================] - 1s 5ms/step - loss: 3.9375e-04 - val_loss: 0.0012\n",
            "Epoch 8/400\n",
            "190/190 [==============================] - 1s 5ms/step - loss: 3.7568e-04 - val_loss: 2.3466e-04\n",
            "Epoch 9/400\n",
            "190/190 [==============================] - 1s 5ms/step - loss: 3.4758e-04 - val_loss: 2.7368e-04\n",
            "Epoch 10/400\n",
            "190/190 [==============================] - 1s 5ms/step - loss: 3.2802e-04 - val_loss: 9.3340e-04\n",
            "Epoch 11/400\n",
            "190/190 [==============================] - 1s 5ms/step - loss: 3.3117e-04 - val_loss: 3.4922e-04\n",
            "Epoch 12/400\n",
            "190/190 [==============================] - 1s 5ms/step - loss: 3.1822e-04 - val_loss: 4.0220e-04\n",
            "Epoch 13/400\n",
            "190/190 [==============================] - 1s 5ms/step - loss: 2.8308e-04 - val_loss: 5.1695e-04\n",
            "Epoch 14/400\n",
            "190/190 [==============================] - 1s 5ms/step - loss: 2.9197e-04 - val_loss: 3.0672e-04\n",
            "Epoch 15/400\n",
            "190/190 [==============================] - 1s 5ms/step - loss: 2.8141e-04 - val_loss: 3.7715e-04\n",
            "Epoch 16/400\n",
            "190/190 [==============================] - 1s 5ms/step - loss: 2.4751e-04 - val_loss: 1.5665e-04\n",
            "Epoch 17/400\n",
            "190/190 [==============================] - 1s 5ms/step - loss: 2.7701e-04 - val_loss: 3.8370e-04\n",
            "Epoch 18/400\n",
            "190/190 [==============================] - 1s 5ms/step - loss: 2.5329e-04 - val_loss: 1.5496e-04\n",
            "Epoch 19/400\n",
            "190/190 [==============================] - 1s 5ms/step - loss: 2.5143e-04 - val_loss: 1.4710e-04\n",
            "Epoch 20/400\n",
            "190/190 [==============================] - 1s 5ms/step - loss: 2.3123e-04 - val_loss: 4.4799e-04\n",
            "Epoch 21/400\n",
            "190/190 [==============================] - 1s 5ms/step - loss: 2.5443e-04 - val_loss: 1.4719e-04\n",
            "Epoch 22/400\n",
            "190/190 [==============================] - 1s 5ms/step - loss: 2.3029e-04 - val_loss: 9.8991e-04\n",
            "Epoch 23/400\n",
            "190/190 [==============================] - 1s 5ms/step - loss: 2.3595e-04 - val_loss: 1.2444e-04\n",
            "Epoch 24/400\n",
            "190/190 [==============================] - 1s 5ms/step - loss: 2.2026e-04 - val_loss: 5.8740e-04\n",
            "Epoch 25/400\n",
            "190/190 [==============================] - 1s 5ms/step - loss: 2.4388e-04 - val_loss: 0.0014\n",
            "Epoch 26/400\n",
            "190/190 [==============================] - 1s 5ms/step - loss: 2.3246e-04 - val_loss: 1.6502e-04\n",
            "Epoch 27/400\n",
            "190/190 [==============================] - 1s 5ms/step - loss: 2.3157e-04 - val_loss: 2.8834e-04\n",
            "Epoch 28/400\n",
            "190/190 [==============================] - 1s 5ms/step - loss: 2.5499e-04 - val_loss: 1.7890e-04\n",
            "Epoch 29/400\n",
            "190/190 [==============================] - 1s 5ms/step - loss: 2.3789e-04 - val_loss: 0.0015\n",
            "Epoch 30/400\n",
            "190/190 [==============================] - 1s 5ms/step - loss: 2.2494e-04 - val_loss: 1.3282e-04\n",
            "Epoch 31/400\n",
            "190/190 [==============================] - 1s 5ms/step - loss: 2.2574e-04 - val_loss: 2.7587e-04\n",
            "24/24 [==============================] - 0s 2ms/step\n",
            "rmse= 13.287501948240102\n",
            "Iteration No: 4 ended. Evaluation done at random point.\n",
            "Time taken: 32.7594\n",
            "Function value obtained: 176.5577\n",
            "Current minimum: 176.5577\n",
            "Iteration No: 5 started. Evaluating function at random point.\n",
            "Epoch 1/100\n",
            "190/190 [==============================] - 3s 7ms/step - loss: 0.0134 - val_loss: 0.0045\n",
            "Epoch 2/100\n",
            "190/190 [==============================] - 1s 5ms/step - loss: 0.0027 - val_loss: 0.0018\n",
            "Epoch 3/100\n",
            "190/190 [==============================] - 1s 5ms/step - loss: 0.0023 - val_loss: 0.0010\n",
            "Epoch 4/100\n",
            "190/190 [==============================] - 1s 5ms/step - loss: 0.0018 - val_loss: 0.0015\n",
            "Epoch 5/100\n",
            "190/190 [==============================] - 1s 5ms/step - loss: 0.0016 - val_loss: 0.0011\n",
            "Epoch 6/100\n",
            "190/190 [==============================] - 1s 5ms/step - loss: 0.0014 - val_loss: 0.0010\n",
            "Epoch 7/100\n",
            "190/190 [==============================] - 1s 5ms/step - loss: 0.0013 - val_loss: 6.6006e-04\n",
            "Epoch 8/100\n",
            "190/190 [==============================] - 1s 5ms/step - loss: 0.0012 - val_loss: 7.5377e-04\n",
            "Epoch 9/100\n",
            "190/190 [==============================] - 1s 5ms/step - loss: 0.0011 - val_loss: 5.9531e-04\n",
            "Epoch 10/100\n",
            "190/190 [==============================] - 1s 5ms/step - loss: 9.7821e-04 - val_loss: 0.0011\n",
            "Epoch 11/100\n",
            "190/190 [==============================] - 1s 5ms/step - loss: 8.8506e-04 - val_loss: 9.4238e-04\n",
            "Epoch 12/100\n",
            "190/190 [==============================] - 1s 5ms/step - loss: 8.3692e-04 - val_loss: 9.1908e-04\n",
            "Epoch 13/100\n",
            "190/190 [==============================] - 1s 5ms/step - loss: 8.0832e-04 - val_loss: 9.7890e-04\n",
            "Epoch 14/100\n",
            "190/190 [==============================] - 1s 5ms/step - loss: 7.7402e-04 - val_loss: 6.0837e-04\n",
            "Epoch 15/100\n",
            "190/190 [==============================] - 1s 5ms/step - loss: 7.4074e-04 - val_loss: 5.2550e-04\n",
            "Epoch 16/100\n",
            "190/190 [==============================] - 1s 5ms/step - loss: 7.0842e-04 - val_loss: 8.6558e-04\n",
            "Epoch 17/100\n",
            "190/190 [==============================] - 1s 5ms/step - loss: 6.7996e-04 - val_loss: 5.7929e-04\n",
            "Epoch 18/100\n",
            "190/190 [==============================] - 1s 5ms/step - loss: 6.7196e-04 - val_loss: 9.1212e-04\n",
            "Epoch 19/100\n",
            "190/190 [==============================] - 1s 5ms/step - loss: 6.5598e-04 - val_loss: 0.0013\n",
            "Epoch 20/100\n",
            "190/190 [==============================] - 1s 5ms/step - loss: 6.2839e-04 - val_loss: 9.7426e-04\n",
            "Epoch 21/100\n",
            "190/190 [==============================] - 1s 5ms/step - loss: 6.2541e-04 - val_loss: 0.0017\n",
            "Epoch 22/100\n",
            "190/190 [==============================] - 1s 5ms/step - loss: 6.1357e-04 - val_loss: 6.6132e-04\n",
            "Epoch 23/100\n",
            "190/190 [==============================] - 1s 5ms/step - loss: 5.8653e-04 - val_loss: 0.0015\n",
            "24/24 [==============================] - 0s 2ms/step\n",
            "rmse= 17.29838082241675\n",
            "Iteration No: 5 ended. Evaluation done at random point.\n",
            "Time taken: 24.4007\n",
            "Function value obtained: 299.2340\n",
            "Current minimum: 176.5577\n",
            "Iteration No: 6 started. Evaluating function at random point.\n",
            "Epoch 1/300\n",
            "379/379 [==============================] - 4s 6ms/step - loss: 0.0160 - val_loss: 0.0092\n",
            "Epoch 2/300\n",
            "379/379 [==============================] - 2s 5ms/step - loss: 0.0080 - val_loss: 0.0063\n",
            "Epoch 3/300\n",
            "379/379 [==============================] - 2s 5ms/step - loss: 0.0057 - val_loss: 0.0058\n",
            "Epoch 4/300\n",
            "379/379 [==============================] - 2s 5ms/step - loss: 0.0045 - val_loss: 0.0036\n",
            "Epoch 5/300\n",
            "379/379 [==============================] - 2s 5ms/step - loss: 0.0038 - val_loss: 0.0033\n",
            "Epoch 6/300\n",
            "379/379 [==============================] - 2s 5ms/step - loss: 0.0033 - val_loss: 0.0032\n",
            "Epoch 7/300\n",
            "379/379 [==============================] - 2s 5ms/step - loss: 0.0029 - val_loss: 0.0025\n",
            "Epoch 8/300\n",
            "379/379 [==============================] - 2s 5ms/step - loss: 0.0026 - val_loss: 0.0023\n",
            "Epoch 9/300\n",
            "379/379 [==============================] - 2s 5ms/step - loss: 0.0023 - val_loss: 0.0021\n",
            "Epoch 10/300\n",
            "379/379 [==============================] - 2s 5ms/step - loss: 0.0021 - val_loss: 0.0019\n",
            "Epoch 11/300\n",
            "379/379 [==============================] - 2s 5ms/step - loss: 0.0019 - val_loss: 0.0024\n",
            "Epoch 12/300\n",
            "379/379 [==============================] - 2s 5ms/step - loss: 0.0017 - val_loss: 0.0015\n",
            "Epoch 13/300\n",
            "379/379 [==============================] - 2s 5ms/step - loss: 0.0015 - val_loss: 0.0014\n",
            "Epoch 14/300\n",
            "379/379 [==============================] - 2s 5ms/step - loss: 0.0013 - val_loss: 0.0015\n",
            "Epoch 15/300\n",
            "379/379 [==============================] - 2s 5ms/step - loss: 0.0012 - val_loss: 0.0011\n",
            "Epoch 16/300\n",
            "379/379 [==============================] - 2s 5ms/step - loss: 0.0011 - val_loss: 8.8328e-04\n",
            "Epoch 17/300\n",
            "379/379 [==============================] - 2s 5ms/step - loss: 9.5683e-04 - val_loss: 8.0674e-04\n",
            "Epoch 18/300\n",
            "379/379 [==============================] - 2s 5ms/step - loss: 8.6040e-04 - val_loss: 7.3449e-04\n",
            "Epoch 19/300\n",
            "379/379 [==============================] - 2s 5ms/step - loss: 8.0965e-04 - val_loss: 8.6464e-04\n",
            "Epoch 20/300\n",
            "379/379 [==============================] - 2s 5ms/step - loss: 7.2837e-04 - val_loss: 5.9225e-04\n",
            "Epoch 21/300\n",
            "379/379 [==============================] - 2s 5ms/step - loss: 6.8566e-04 - val_loss: 6.3686e-04\n",
            "Epoch 22/300\n",
            "379/379 [==============================] - 2s 5ms/step - loss: 6.2096e-04 - val_loss: 4.7682e-04\n",
            "Epoch 23/300\n",
            "379/379 [==============================] - 2s 5ms/step - loss: 5.7996e-04 - val_loss: 6.0027e-04\n",
            "Epoch 24/300\n",
            "379/379 [==============================] - 2s 5ms/step - loss: 5.3223e-04 - val_loss: 4.8919e-04\n",
            "Epoch 25/300\n",
            "379/379 [==============================] - 2s 5ms/step - loss: 5.0461e-04 - val_loss: 7.4178e-04\n",
            "Epoch 26/300\n",
            "379/379 [==============================] - 2s 5ms/step - loss: 4.8370e-04 - val_loss: 4.3319e-04\n",
            "Epoch 27/300\n",
            "379/379 [==============================] - 2s 5ms/step - loss: 4.4321e-04 - val_loss: 3.3960e-04\n",
            "Epoch 28/300\n",
            "379/379 [==============================] - 2s 5ms/step - loss: 4.1871e-04 - val_loss: 3.2252e-04\n",
            "Epoch 29/300\n",
            "379/379 [==============================] - 2s 5ms/step - loss: 4.1030e-04 - val_loss: 3.2521e-04\n",
            "Epoch 30/300\n",
            "379/379 [==============================] - 2s 5ms/step - loss: 3.7545e-04 - val_loss: 9.1665e-04\n",
            "Epoch 31/300\n",
            "379/379 [==============================] - 2s 5ms/step - loss: 3.6499e-04 - val_loss: 2.6371e-04\n",
            "Epoch 32/300\n",
            "379/379 [==============================] - 2s 5ms/step - loss: 3.4925e-04 - val_loss: 2.7059e-04\n",
            "Epoch 33/300\n",
            "379/379 [==============================] - 2s 5ms/step - loss: 3.3085e-04 - val_loss: 3.3122e-04\n",
            "Epoch 34/300\n",
            "379/379 [==============================] - 2s 5ms/step - loss: 3.1733e-04 - val_loss: 2.6960e-04\n",
            "Epoch 35/300\n",
            "379/379 [==============================] - 2s 5ms/step - loss: 3.0987e-04 - val_loss: 2.2100e-04\n",
            "Epoch 36/300\n",
            "379/379 [==============================] - 2s 5ms/step - loss: 2.9125e-04 - val_loss: 2.2883e-04\n",
            "Epoch 37/300\n",
            "379/379 [==============================] - 2s 5ms/step - loss: 2.8841e-04 - val_loss: 2.1054e-04\n",
            "Epoch 38/300\n",
            "379/379 [==============================] - 2s 5ms/step - loss: 2.7434e-04 - val_loss: 2.7409e-04\n",
            "Epoch 39/300\n",
            "379/379 [==============================] - 2s 5ms/step - loss: 2.7076e-04 - val_loss: 4.0344e-04\n",
            "Epoch 40/300\n",
            "379/379 [==============================] - 2s 5ms/step - loss: 2.6252e-04 - val_loss: 1.9410e-04\n",
            "Epoch 41/300\n",
            "379/379 [==============================] - 2s 5ms/step - loss: 2.5416e-04 - val_loss: 2.3686e-04\n",
            "Epoch 42/300\n",
            "379/379 [==============================] - 2s 5ms/step - loss: 2.6133e-04 - val_loss: 1.7430e-04\n",
            "Epoch 43/300\n",
            "379/379 [==============================] - 2s 5ms/step - loss: 2.4502e-04 - val_loss: 2.5565e-04\n",
            "Epoch 44/300\n",
            "379/379 [==============================] - 2s 5ms/step - loss: 2.4328e-04 - val_loss: 2.7095e-04\n",
            "Epoch 45/300\n",
            "379/379 [==============================] - 2s 5ms/step - loss: 2.2914e-04 - val_loss: 2.3865e-04\n",
            "Epoch 46/300\n",
            "379/379 [==============================] - 2s 5ms/step - loss: 2.3112e-04 - val_loss: 2.0287e-04\n",
            "Epoch 47/300\n",
            "379/379 [==============================] - 2s 5ms/step - loss: 2.2732e-04 - val_loss: 1.6515e-04\n",
            "Epoch 48/300\n",
            "379/379 [==============================] - 2s 5ms/step - loss: 2.2130e-04 - val_loss: 1.9815e-04\n",
            "Epoch 49/300\n",
            "379/379 [==============================] - 2s 5ms/step - loss: 2.2515e-04 - val_loss: 2.3115e-04\n",
            "Epoch 50/300\n",
            "379/379 [==============================] - 2s 5ms/step - loss: 2.1586e-04 - val_loss: 1.6722e-04\n",
            "Epoch 51/300\n",
            "379/379 [==============================] - 2s 5ms/step - loss: 2.0650e-04 - val_loss: 3.4820e-04\n",
            "Epoch 52/300\n",
            "379/379 [==============================] - 2s 5ms/step - loss: 2.1381e-04 - val_loss: 1.5873e-04\n",
            "Epoch 53/300\n",
            "379/379 [==============================] - 2s 5ms/step - loss: 2.0760e-04 - val_loss: 3.7614e-04\n",
            "Epoch 54/300\n",
            "379/379 [==============================] - 2s 5ms/step - loss: 1.9972e-04 - val_loss: 1.5890e-04\n",
            "Epoch 55/300\n",
            "379/379 [==============================] - 2s 5ms/step - loss: 2.0358e-04 - val_loss: 1.9958e-04\n",
            "Epoch 56/300\n",
            "379/379 [==============================] - 2s 5ms/step - loss: 2.0005e-04 - val_loss: 2.1424e-04\n",
            "Epoch 57/300\n",
            "379/379 [==============================] - 2s 5ms/step - loss: 2.0352e-04 - val_loss: 1.3973e-04\n",
            "Epoch 58/300\n",
            "379/379 [==============================] - 2s 5ms/step - loss: 1.9114e-04 - val_loss: 1.3442e-04\n",
            "Epoch 59/300\n",
            "379/379 [==============================] - 2s 5ms/step - loss: 1.9121e-04 - val_loss: 2.2233e-04\n",
            "Epoch 60/300\n",
            "379/379 [==============================] - 2s 5ms/step - loss: 2.0088e-04 - val_loss: 2.2062e-04\n",
            "Epoch 61/300\n",
            "379/379 [==============================] - 2s 5ms/step - loss: 2.0057e-04 - val_loss: 1.3272e-04\n",
            "Epoch 62/300\n",
            "379/379 [==============================] - 2s 5ms/step - loss: 1.9213e-04 - val_loss: 1.7178e-04\n",
            "Epoch 63/300\n",
            "379/379 [==============================] - 2s 5ms/step - loss: 1.8820e-04 - val_loss: 2.2515e-04\n",
            "Epoch 64/300\n",
            "379/379 [==============================] - 2s 5ms/step - loss: 1.9517e-04 - val_loss: 1.2720e-04\n",
            "Epoch 65/300\n",
            "379/379 [==============================] - 2s 5ms/step - loss: 1.8595e-04 - val_loss: 1.7472e-04\n",
            "Epoch 66/300\n",
            "379/379 [==============================] - 2s 5ms/step - loss: 1.9818e-04 - val_loss: 1.6579e-04\n",
            "Epoch 67/300\n",
            "379/379 [==============================] - 2s 5ms/step - loss: 1.9087e-04 - val_loss: 1.8048e-04\n",
            "Epoch 68/300\n",
            "379/379 [==============================] - 2s 5ms/step - loss: 1.8804e-04 - val_loss: 1.2244e-04\n",
            "Epoch 69/300\n",
            "379/379 [==============================] - 2s 5ms/step - loss: 1.8156e-04 - val_loss: 1.2464e-04\n",
            "Epoch 70/300\n",
            "379/379 [==============================] - 2s 5ms/step - loss: 1.8650e-04 - val_loss: 3.6960e-04\n",
            "Epoch 71/300\n",
            "379/379 [==============================] - 2s 5ms/step - loss: 1.8082e-04 - val_loss: 1.2811e-04\n",
            "Epoch 72/300\n",
            "379/379 [==============================] - 2s 5ms/step - loss: 1.8774e-04 - val_loss: 1.2044e-04\n",
            "Epoch 73/300\n",
            "379/379 [==============================] - 2s 5ms/step - loss: 1.8228e-04 - val_loss: 1.4985e-04\n",
            "Epoch 74/300\n",
            "379/379 [==============================] - 2s 5ms/step - loss: 1.8912e-04 - val_loss: 1.8057e-04\n",
            "Epoch 75/300\n",
            "379/379 [==============================] - 2s 5ms/step - loss: 1.8051e-04 - val_loss: 1.6100e-04\n",
            "Epoch 76/300\n",
            "379/379 [==============================] - 2s 5ms/step - loss: 1.8569e-04 - val_loss: 2.0199e-04\n",
            "Epoch 77/300\n",
            "379/379 [==============================] - 2s 5ms/step - loss: 1.8481e-04 - val_loss: 1.2913e-04\n",
            "Epoch 78/300\n",
            "379/379 [==============================] - 2s 5ms/step - loss: 1.7831e-04 - val_loss: 1.8053e-04\n",
            "Epoch 79/300\n",
            "379/379 [==============================] - 2s 5ms/step - loss: 1.8007e-04 - val_loss: 1.9322e-04\n",
            "Epoch 80/300\n",
            "379/379 [==============================] - 2s 5ms/step - loss: 1.7418e-04 - val_loss: 2.0581e-04\n",
            "24/24 [==============================] - 0s 2ms/step\n",
            "rmse= 13.591952991931972\n",
            "Iteration No: 6 ended. Evaluation done at random point.\n",
            "Time taken: 155.3205\n",
            "Function value obtained: 184.7412\n",
            "Current minimum: 176.5577\n",
            "Iteration No: 7 started. Evaluating function at random point.\n",
            "Epoch 1/400\n",
            "190/190 [==============================] - 3s 7ms/step - loss: 0.0115 - val_loss: 0.0048\n",
            "Epoch 2/400\n",
            "190/190 [==============================] - 1s 5ms/step - loss: 0.0040 - val_loss: 0.0030\n",
            "Epoch 3/400\n",
            "190/190 [==============================] - 1s 5ms/step - loss: 0.0031 - val_loss: 0.0029\n",
            "Epoch 4/400\n",
            "190/190 [==============================] - 1s 5ms/step - loss: 0.0023 - val_loss: 0.0022\n",
            "Epoch 5/400\n",
            "190/190 [==============================] - 1s 5ms/step - loss: 0.0018 - val_loss: 0.0015\n",
            "Epoch 6/400\n",
            "190/190 [==============================] - 1s 5ms/step - loss: 0.0015 - val_loss: 0.0013\n",
            "Epoch 7/400\n",
            "190/190 [==============================] - 1s 5ms/step - loss: 0.0012 - val_loss: 0.0010\n",
            "Epoch 8/400\n",
            "190/190 [==============================] - 1s 5ms/step - loss: 9.7450e-04 - val_loss: 0.0013\n",
            "Epoch 9/400\n",
            "190/190 [==============================] - 1s 5ms/step - loss: 7.5165e-04 - val_loss: 7.0430e-04\n",
            "Epoch 10/400\n",
            "190/190 [==============================] - 1s 5ms/step - loss: 6.5499e-04 - val_loss: 4.4826e-04\n",
            "Epoch 11/400\n",
            "190/190 [==============================] - 1s 5ms/step - loss: 5.5045e-04 - val_loss: 3.6830e-04\n",
            "Epoch 12/400\n",
            "190/190 [==============================] - 1s 5ms/step - loss: 5.2680e-04 - val_loss: 6.6327e-04\n",
            "Epoch 13/400\n",
            "190/190 [==============================] - 1s 5ms/step - loss: 4.3931e-04 - val_loss: 3.3117e-04\n",
            "Epoch 14/400\n",
            "190/190 [==============================] - 1s 5ms/step - loss: 4.1883e-04 - val_loss: 7.2983e-04\n",
            "Epoch 15/400\n",
            "190/190 [==============================] - 1s 5ms/step - loss: 3.7266e-04 - val_loss: 4.9844e-04\n",
            "Epoch 16/400\n",
            "190/190 [==============================] - 1s 5ms/step - loss: 3.4743e-04 - val_loss: 0.0010\n",
            "Epoch 17/400\n",
            "190/190 [==============================] - 1s 5ms/step - loss: 3.6371e-04 - val_loss: 8.4864e-04\n",
            "Epoch 18/400\n",
            "190/190 [==============================] - 1s 5ms/step - loss: 3.3221e-04 - val_loss: 7.0974e-04\n",
            "Epoch 19/400\n",
            "190/190 [==============================] - 1s 5ms/step - loss: 3.2284e-04 - val_loss: 3.0460e-04\n",
            "Epoch 20/400\n",
            "190/190 [==============================] - 1s 5ms/step - loss: 3.5461e-04 - val_loss: 2.7809e-04\n",
            "Epoch 21/400\n",
            "190/190 [==============================] - 1s 5ms/step - loss: 3.1769e-04 - val_loss: 5.1499e-04\n",
            "Epoch 22/400\n",
            "190/190 [==============================] - 1s 5ms/step - loss: 2.8592e-04 - val_loss: 6.6635e-04\n",
            "Epoch 23/400\n",
            "190/190 [==============================] - 1s 5ms/step - loss: 3.1342e-04 - val_loss: 2.2049e-04\n",
            "Epoch 24/400\n",
            "190/190 [==============================] - 1s 5ms/step - loss: 3.1032e-04 - val_loss: 2.7928e-04\n",
            "Epoch 25/400\n",
            "190/190 [==============================] - 1s 5ms/step - loss: 3.3229e-04 - val_loss: 0.0017\n",
            "Epoch 26/400\n",
            "190/190 [==============================] - 1s 5ms/step - loss: 3.2995e-04 - val_loss: 6.4293e-04\n",
            "Epoch 27/400\n",
            "190/190 [==============================] - 1s 5ms/step - loss: 2.9352e-04 - val_loss: 3.9214e-04\n",
            "Epoch 28/400\n",
            "190/190 [==============================] - 1s 5ms/step - loss: 3.2098e-04 - val_loss: 3.0471e-04\n",
            "Epoch 29/400\n",
            "190/190 [==============================] - 1s 5ms/step - loss: 3.2586e-04 - val_loss: 8.0879e-04\n",
            "Epoch 30/400\n",
            "190/190 [==============================] - 1s 5ms/step - loss: 2.9724e-04 - val_loss: 2.2923e-04\n",
            "Epoch 31/400\n",
            "190/190 [==============================] - 1s 5ms/step - loss: 3.2878e-04 - val_loss: 9.4324e-04\n",
            "24/24 [==============================] - 0s 2ms/step\n",
            "rmse= 18.169205146792454\n",
            "Iteration No: 7 ended. Evaluation done at random point.\n",
            "Time taken: 32.1400\n",
            "Function value obtained: 330.1200\n",
            "Current minimum: 176.5577\n",
            "Iteration No: 8 started. Evaluating function at random point.\n",
            "Epoch 1/200\n",
            "379/379 [==============================] - 4s 6ms/step - loss: 0.0513 - val_loss: 0.0335\n",
            "Epoch 2/200\n",
            "379/379 [==============================] - 2s 5ms/step - loss: 0.0257 - val_loss: 0.0187\n",
            "Epoch 3/200\n",
            "379/379 [==============================] - 2s 5ms/step - loss: 0.0155 - val_loss: 0.0120\n",
            "Epoch 4/200\n",
            "379/379 [==============================] - 2s 5ms/step - loss: 0.0105 - val_loss: 0.0098\n",
            "Epoch 5/200\n",
            "379/379 [==============================] - 2s 5ms/step - loss: 0.0075 - val_loss: 0.0065\n",
            "Epoch 6/200\n",
            "379/379 [==============================] - 2s 5ms/step - loss: 0.0056 - val_loss: 0.0044\n",
            "Epoch 7/200\n",
            "379/379 [==============================] - 2s 5ms/step - loss: 0.0042 - val_loss: 0.0033\n",
            "Epoch 8/200\n",
            "379/379 [==============================] - 2s 5ms/step - loss: 0.0031 - val_loss: 0.0028\n",
            "Epoch 9/200\n",
            "379/379 [==============================] - 2s 5ms/step - loss: 0.0024 - val_loss: 0.0021\n",
            "Epoch 10/200\n",
            "379/379 [==============================] - 2s 5ms/step - loss: 0.0018 - val_loss: 0.0016\n",
            "Epoch 11/200\n",
            "379/379 [==============================] - 2s 5ms/step - loss: 0.0014 - val_loss: 0.0012\n",
            "Epoch 12/200\n",
            "379/379 [==============================] - 2s 5ms/step - loss: 0.0012 - val_loss: 9.2290e-04\n",
            "Epoch 13/200\n",
            "379/379 [==============================] - 2s 5ms/step - loss: 9.3709e-04 - val_loss: 0.0024\n",
            "Epoch 14/200\n",
            "379/379 [==============================] - 2s 5ms/step - loss: 7.9852e-04 - val_loss: 7.2951e-04\n",
            "Epoch 15/200\n",
            "379/379 [==============================] - 2s 5ms/step - loss: 7.0650e-04 - val_loss: 5.9201e-04\n",
            "Epoch 16/200\n",
            "379/379 [==============================] - 2s 5ms/step - loss: 6.0152e-04 - val_loss: 4.4232e-04\n",
            "Epoch 17/200\n",
            "379/379 [==============================] - 2s 5ms/step - loss: 5.6631e-04 - val_loss: 3.8742e-04\n",
            "Epoch 18/200\n",
            "379/379 [==============================] - 2s 5ms/step - loss: 5.0314e-04 - val_loss: 7.3367e-04\n",
            "Epoch 19/200\n",
            "379/379 [==============================] - 2s 5ms/step - loss: 4.7720e-04 - val_loss: 3.0696e-04\n",
            "Epoch 20/200\n",
            "379/379 [==============================] - 2s 5ms/step - loss: 4.3331e-04 - val_loss: 6.4161e-04\n",
            "Epoch 21/200\n",
            "379/379 [==============================] - 2s 5ms/step - loss: 4.2465e-04 - val_loss: 3.2208e-04\n",
            "Epoch 22/200\n",
            "379/379 [==============================] - 2s 5ms/step - loss: 3.8442e-04 - val_loss: 5.0886e-04\n",
            "Epoch 23/200\n",
            "379/379 [==============================] - 2s 5ms/step - loss: 3.7724e-04 - val_loss: 2.7193e-04\n",
            "Epoch 24/200\n",
            "379/379 [==============================] - 2s 5ms/step - loss: 3.5997e-04 - val_loss: 2.5757e-04\n",
            "Epoch 25/200\n",
            "379/379 [==============================] - 2s 5ms/step - loss: 3.6373e-04 - val_loss: 3.8595e-04\n",
            "Epoch 26/200\n",
            "379/379 [==============================] - 2s 5ms/step - loss: 3.3505e-04 - val_loss: 8.4055e-04\n",
            "Epoch 27/200\n",
            "379/379 [==============================] - 2s 5ms/step - loss: 3.2197e-04 - val_loss: 3.9279e-04\n",
            "Epoch 28/200\n",
            "379/379 [==============================] - 2s 5ms/step - loss: 3.1402e-04 - val_loss: 2.5716e-04\n",
            "Epoch 29/200\n",
            "379/379 [==============================] - 2s 5ms/step - loss: 3.0322e-04 - val_loss: 2.3448e-04\n",
            "Epoch 30/200\n",
            "379/379 [==============================] - 2s 5ms/step - loss: 3.0295e-04 - val_loss: 7.1789e-04\n",
            "Epoch 31/200\n",
            "379/379 [==============================] - 2s 5ms/step - loss: 3.0970e-04 - val_loss: 2.8592e-04\n",
            "Epoch 32/200\n",
            "379/379 [==============================] - 2s 5ms/step - loss: 2.8807e-04 - val_loss: 2.2376e-04\n",
            "Epoch 33/200\n",
            "379/379 [==============================] - 2s 5ms/step - loss: 2.8207e-04 - val_loss: 7.9450e-04\n",
            "Epoch 34/200\n",
            "379/379 [==============================] - 2s 5ms/step - loss: 2.8580e-04 - val_loss: 2.2642e-04\n",
            "Epoch 35/200\n",
            "379/379 [==============================] - 2s 5ms/step - loss: 2.7435e-04 - val_loss: 2.1885e-04\n",
            "Epoch 36/200\n",
            "379/379 [==============================] - 2s 5ms/step - loss: 2.6480e-04 - val_loss: 2.1943e-04\n",
            "Epoch 37/200\n",
            "379/379 [==============================] - 2s 5ms/step - loss: 2.6705e-04 - val_loss: 1.7942e-04\n",
            "Epoch 38/200\n",
            "379/379 [==============================] - 2s 5ms/step - loss: 2.6398e-04 - val_loss: 2.4363e-04\n",
            "Epoch 39/200\n",
            "379/379 [==============================] - 2s 5ms/step - loss: 2.7774e-04 - val_loss: 2.4994e-04\n",
            "Epoch 40/200\n",
            "379/379 [==============================] - 2s 5ms/step - loss: 2.5389e-04 - val_loss: 3.1608e-04\n",
            "Epoch 41/200\n",
            "379/379 [==============================] - 2s 5ms/step - loss: 2.7211e-04 - val_loss: 1.7459e-04\n",
            "Epoch 42/200\n",
            "379/379 [==============================] - 2s 5ms/step - loss: 2.5697e-04 - val_loss: 1.6643e-04\n",
            "Epoch 43/200\n",
            "379/379 [==============================] - 2s 5ms/step - loss: 2.6132e-04 - val_loss: 2.6607e-04\n",
            "Epoch 44/200\n",
            "379/379 [==============================] - 2s 5ms/step - loss: 2.6065e-04 - val_loss: 2.6283e-04\n",
            "Epoch 45/200\n",
            "379/379 [==============================] - 2s 5ms/step - loss: 2.6288e-04 - val_loss: 6.9936e-04\n",
            "Epoch 46/200\n",
            "379/379 [==============================] - 2s 5ms/step - loss: 2.5339e-04 - val_loss: 4.2462e-04\n",
            "Epoch 47/200\n",
            "379/379 [==============================] - 2s 5ms/step - loss: 2.4613e-04 - val_loss: 2.4629e-04\n",
            "Epoch 48/200\n",
            "379/379 [==============================] - 2s 5ms/step - loss: 2.3999e-04 - val_loss: 5.9776e-04\n",
            "Epoch 49/200\n",
            "379/379 [==============================] - 2s 5ms/step - loss: 2.4352e-04 - val_loss: 2.2404e-04\n",
            "Epoch 50/200\n",
            "379/379 [==============================] - 2s 5ms/step - loss: 2.4347e-04 - val_loss: 1.7802e-04\n",
            "24/24 [==============================] - 0s 2ms/step\n",
            "rmse= 15.536057777751397\n",
            "Iteration No: 8 ended. Evaluation done at random point.\n",
            "Time taken: 94.9592\n",
            "Function value obtained: 241.3691\n",
            "Current minimum: 176.5577\n",
            "Iteration No: 9 started. Evaluating function at random point.\n",
            "Epoch 1/300\n",
            "190/190 [==============================] - 3s 7ms/step - loss: 0.0576 - val_loss: 0.0437\n",
            "Epoch 2/300\n",
            "190/190 [==============================] - 1s 5ms/step - loss: 0.0362 - val_loss: 0.0292\n",
            "Epoch 3/300\n",
            "190/190 [==============================] - 1s 5ms/step - loss: 0.0255 - val_loss: 0.0215\n",
            "Epoch 4/300\n",
            "190/190 [==============================] - 1s 5ms/step - loss: 0.0184 - val_loss: 0.0154\n",
            "Epoch 5/300\n",
            "190/190 [==============================] - 1s 5ms/step - loss: 0.0137 - val_loss: 0.0121\n",
            "Epoch 6/300\n",
            "190/190 [==============================] - 1s 5ms/step - loss: 0.0105 - val_loss: 0.0091\n",
            "Epoch 7/300\n",
            "190/190 [==============================] - 1s 5ms/step - loss: 0.0082 - val_loss: 0.0072\n",
            "Epoch 8/300\n",
            "190/190 [==============================] - 1s 5ms/step - loss: 0.0066 - val_loss: 0.0058\n",
            "Epoch 9/300\n",
            "190/190 [==============================] - 1s 5ms/step - loss: 0.0054 - val_loss: 0.0045\n",
            "Epoch 10/300\n",
            "190/190 [==============================] - 1s 5ms/step - loss: 0.0044 - val_loss: 0.0041\n",
            "Epoch 11/300\n",
            "190/190 [==============================] - 1s 5ms/step - loss: 0.0036 - val_loss: 0.0040\n",
            "Epoch 12/300\n",
            "190/190 [==============================] - 1s 5ms/step - loss: 0.0030 - val_loss: 0.0025\n",
            "Epoch 13/300\n",
            "190/190 [==============================] - 1s 5ms/step - loss: 0.0025 - val_loss: 0.0022\n",
            "Epoch 14/300\n",
            "190/190 [==============================] - 1s 5ms/step - loss: 0.0021 - val_loss: 0.0017\n",
            "Epoch 15/300\n",
            "190/190 [==============================] - 1s 5ms/step - loss: 0.0018 - val_loss: 0.0014\n",
            "Epoch 16/300\n",
            "190/190 [==============================] - 1s 5ms/step - loss: 0.0015 - val_loss: 0.0015\n",
            "Epoch 17/300\n",
            "190/190 [==============================] - 1s 5ms/step - loss: 0.0013 - val_loss: 0.0018\n",
            "Epoch 18/300\n",
            "190/190 [==============================] - 1s 5ms/step - loss: 0.0012 - val_loss: 0.0012\n",
            "Epoch 19/300\n",
            "190/190 [==============================] - 1s 5ms/step - loss: 9.9214e-04 - val_loss: 7.2834e-04\n",
            "Epoch 20/300\n",
            "190/190 [==============================] - 1s 5ms/step - loss: 8.8361e-04 - val_loss: 8.0602e-04\n",
            "Epoch 21/300\n",
            "190/190 [==============================] - 1s 5ms/step - loss: 7.9034e-04 - val_loss: 0.0012\n",
            "Epoch 22/300\n",
            "190/190 [==============================] - 1s 5ms/step - loss: 7.3867e-04 - val_loss: 5.2874e-04\n",
            "Epoch 23/300\n",
            "190/190 [==============================] - 1s 5ms/step - loss: 6.8312e-04 - val_loss: 7.6460e-04\n",
            "Epoch 24/300\n",
            "190/190 [==============================] - 1s 5ms/step - loss: 6.1033e-04 - val_loss: 5.0260e-04\n",
            "Epoch 25/300\n",
            "190/190 [==============================] - 1s 5ms/step - loss: 6.0718e-04 - val_loss: 6.2366e-04\n",
            "Epoch 26/300\n",
            "190/190 [==============================] - 1s 5ms/step - loss: 5.5078e-04 - val_loss: 3.7625e-04\n",
            "Epoch 27/300\n",
            "190/190 [==============================] - 1s 5ms/step - loss: 5.4241e-04 - val_loss: 4.1393e-04\n",
            "Epoch 28/300\n",
            "190/190 [==============================] - 1s 5ms/step - loss: 4.8093e-04 - val_loss: 3.4931e-04\n",
            "Epoch 29/300\n",
            "190/190 [==============================] - 1s 5ms/step - loss: 4.8738e-04 - val_loss: 3.2349e-04\n",
            "Epoch 30/300\n",
            "190/190 [==============================] - 1s 5ms/step - loss: 4.5934e-04 - val_loss: 4.3323e-04\n",
            "Epoch 31/300\n",
            "190/190 [==============================] - 1s 5ms/step - loss: 4.3586e-04 - val_loss: 5.8934e-04\n",
            "Epoch 32/300\n",
            "190/190 [==============================] - 1s 5ms/step - loss: 4.2724e-04 - val_loss: 3.2125e-04\n",
            "Epoch 33/300\n",
            "190/190 [==============================] - 1s 5ms/step - loss: 4.3581e-04 - val_loss: 4.2714e-04\n",
            "Epoch 34/300\n",
            "190/190 [==============================] - 1s 5ms/step - loss: 3.9498e-04 - val_loss: 5.1175e-04\n",
            "Epoch 35/300\n",
            "190/190 [==============================] - 1s 5ms/step - loss: 4.1529e-04 - val_loss: 9.2011e-04\n",
            "Epoch 36/300\n",
            "190/190 [==============================] - 1s 5ms/step - loss: 3.7440e-04 - val_loss: 2.7724e-04\n",
            "Epoch 37/300\n",
            "190/190 [==============================] - 1s 5ms/step - loss: 3.6289e-04 - val_loss: 6.0748e-04\n",
            "Epoch 38/300\n",
            "190/190 [==============================] - 1s 5ms/step - loss: 3.6360e-04 - val_loss: 6.0273e-04\n",
            "Epoch 39/300\n",
            "190/190 [==============================] - 1s 5ms/step - loss: 3.5157e-04 - val_loss: 2.4355e-04\n",
            "Epoch 40/300\n",
            "190/190 [==============================] - 1s 5ms/step - loss: 3.4255e-04 - val_loss: 3.8711e-04\n",
            "Epoch 41/300\n",
            "190/190 [==============================] - 1s 5ms/step - loss: 3.4467e-04 - val_loss: 2.3556e-04\n",
            "Epoch 42/300\n",
            "190/190 [==============================] - 1s 5ms/step - loss: 3.4208e-04 - val_loss: 4.2402e-04\n",
            "Epoch 43/300\n",
            "190/190 [==============================] - 1s 5ms/step - loss: 3.2832e-04 - val_loss: 2.8848e-04\n",
            "Epoch 44/300\n",
            "190/190 [==============================] - 1s 5ms/step - loss: 3.3498e-04 - val_loss: 3.0179e-04\n",
            "Epoch 45/300\n",
            "190/190 [==============================] - 1s 5ms/step - loss: 3.1963e-04 - val_loss: 6.2435e-04\n",
            "Epoch 46/300\n",
            "190/190 [==============================] - 1s 5ms/step - loss: 3.2330e-04 - val_loss: 2.2330e-04\n",
            "Epoch 47/300\n",
            "190/190 [==============================] - 1s 5ms/step - loss: 3.2034e-04 - val_loss: 2.7643e-04\n",
            "Epoch 48/300\n",
            "190/190 [==============================] - 1s 5ms/step - loss: 3.0518e-04 - val_loss: 2.0214e-04\n",
            "Epoch 49/300\n",
            "190/190 [==============================] - 1s 5ms/step - loss: 3.1506e-04 - val_loss: 2.0313e-04\n",
            "Epoch 50/300\n",
            "190/190 [==============================] - 1s 5ms/step - loss: 3.0468e-04 - val_loss: 2.0778e-04\n",
            "Epoch 51/300\n",
            "190/190 [==============================] - 1s 5ms/step - loss: 2.9473e-04 - val_loss: 9.1751e-04\n",
            "Epoch 52/300\n",
            "190/190 [==============================] - 1s 5ms/step - loss: 2.9354e-04 - val_loss: 3.8419e-04\n",
            "Epoch 53/300\n",
            "190/190 [==============================] - 1s 5ms/step - loss: 2.8736e-04 - val_loss: 3.5199e-04\n",
            "Epoch 54/300\n",
            "190/190 [==============================] - 1s 5ms/step - loss: 2.9276e-04 - val_loss: 2.3082e-04\n",
            "Epoch 55/300\n",
            "190/190 [==============================] - 1s 5ms/step - loss: 2.8556e-04 - val_loss: 2.0611e-04\n",
            "Epoch 56/300\n",
            "190/190 [==============================] - 1s 5ms/step - loss: 2.7812e-04 - val_loss: 2.2469e-04\n",
            "24/24 [==============================] - 0s 2ms/step\n",
            "rmse= 16.866353125493614\n",
            "Iteration No: 9 ended. Evaluation done at random point.\n",
            "Time taken: 57.8284\n",
            "Function value obtained: 284.4739\n",
            "Current minimum: 176.5577\n",
            "Iteration No: 10 started. Evaluating function at random point.\n",
            "Epoch 1/300\n",
            "379/379 [==============================] - 4s 6ms/step - loss: 0.0052 - val_loss: 0.0015\n",
            "Epoch 2/300\n",
            "379/379 [==============================] - 2s 5ms/step - loss: 0.0020 - val_loss: 7.2760e-04\n",
            "Epoch 3/300\n",
            "379/379 [==============================] - 2s 5ms/step - loss: 0.0015 - val_loss: 0.0016\n",
            "Epoch 4/300\n",
            "379/379 [==============================] - 2s 5ms/step - loss: 0.0011 - val_loss: 6.8963e-04\n",
            "Epoch 5/300\n",
            "379/379 [==============================] - 2s 5ms/step - loss: 9.3046e-04 - val_loss: 8.1844e-04\n",
            "Epoch 6/300\n",
            "379/379 [==============================] - 2s 5ms/step - loss: 8.8474e-04 - val_loss: 6.5574e-04\n",
            "Epoch 7/300\n",
            "379/379 [==============================] - 2s 5ms/step - loss: 8.1444e-04 - val_loss: 5.4170e-04\n",
            "Epoch 8/300\n",
            "379/379 [==============================] - 2s 5ms/step - loss: 7.9168e-04 - val_loss: 4.7777e-04\n",
            "Epoch 9/300\n",
            "379/379 [==============================] - 2s 5ms/step - loss: 7.2358e-04 - val_loss: 4.8457e-04\n",
            "Epoch 10/300\n",
            "379/379 [==============================] - 2s 5ms/step - loss: 6.9921e-04 - val_loss: 5.1894e-04\n",
            "Epoch 11/300\n",
            "379/379 [==============================] - 2s 5ms/step - loss: 6.6098e-04 - val_loss: 0.0014\n",
            "Epoch 12/300\n",
            "379/379 [==============================] - 2s 5ms/step - loss: 6.6527e-04 - val_loss: 8.0444e-04\n",
            "Epoch 13/300\n",
            "379/379 [==============================] - 2s 5ms/step - loss: 6.1428e-04 - val_loss: 5.9603e-04\n",
            "Epoch 14/300\n",
            "379/379 [==============================] - 2s 5ms/step - loss: 5.9606e-04 - val_loss: 4.0338e-04\n",
            "Epoch 15/300\n",
            "379/379 [==============================] - 2s 5ms/step - loss: 5.7514e-04 - val_loss: 0.0012\n",
            "Epoch 16/300\n",
            "379/379 [==============================] - 2s 5ms/step - loss: 5.5084e-04 - val_loss: 4.0723e-04\n",
            "Epoch 17/300\n",
            "379/379 [==============================] - 2s 5ms/step - loss: 5.5371e-04 - val_loss: 6.9271e-04\n",
            "Epoch 18/300\n",
            "379/379 [==============================] - 2s 5ms/step - loss: 5.2353e-04 - val_loss: 9.8176e-04\n",
            "Epoch 19/300\n",
            "379/379 [==============================] - 2s 5ms/step - loss: 5.0634e-04 - val_loss: 3.6052e-04\n",
            "Epoch 20/300\n",
            "379/379 [==============================] - 2s 5ms/step - loss: 4.8348e-04 - val_loss: 8.8231e-04\n",
            "Epoch 21/300\n",
            "379/379 [==============================] - 2s 5ms/step - loss: 4.5300e-04 - val_loss: 3.7740e-04\n",
            "Epoch 22/300\n",
            "379/379 [==============================] - 2s 5ms/step - loss: 4.4639e-04 - val_loss: 5.8033e-04\n",
            "Epoch 23/300\n",
            "379/379 [==============================] - 2s 5ms/step - loss: 4.2325e-04 - val_loss: 3.5038e-04\n",
            "Epoch 24/300\n",
            "379/379 [==============================] - 2s 5ms/step - loss: 4.2178e-04 - val_loss: 4.5889e-04\n",
            "Epoch 25/300\n",
            "379/379 [==============================] - 2s 5ms/step - loss: 4.0278e-04 - val_loss: 3.9185e-04\n",
            "Epoch 26/300\n",
            "379/379 [==============================] - 2s 5ms/step - loss: 3.8811e-04 - val_loss: 3.2248e-04\n",
            "Epoch 27/300\n",
            "379/379 [==============================] - 2s 5ms/step - loss: 3.8144e-04 - val_loss: 2.6747e-04\n",
            "Epoch 28/300\n",
            "379/379 [==============================] - 2s 5ms/step - loss: 3.6927e-04 - val_loss: 2.7152e-04\n",
            "Epoch 29/300\n",
            "379/379 [==============================] - 2s 5ms/step - loss: 3.5828e-04 - val_loss: 7.3692e-04\n",
            "Epoch 30/300\n",
            "379/379 [==============================] - 2s 5ms/step - loss: 3.4514e-04 - val_loss: 5.9425e-04\n",
            "Epoch 31/300\n",
            "379/379 [==============================] - 2s 5ms/step - loss: 3.3194e-04 - val_loss: 5.5183e-04\n",
            "Epoch 32/300\n",
            "379/379 [==============================] - 2s 5ms/step - loss: 3.2545e-04 - val_loss: 2.3589e-04\n",
            "Epoch 33/300\n",
            "379/379 [==============================] - 2s 5ms/step - loss: 3.2585e-04 - val_loss: 2.8335e-04\n",
            "Epoch 34/300\n",
            "379/379 [==============================] - 2s 5ms/step - loss: 3.1047e-04 - val_loss: 3.0643e-04\n",
            "Epoch 35/300\n",
            "379/379 [==============================] - 2s 5ms/step - loss: 3.0246e-04 - val_loss: 2.0960e-04\n",
            "Epoch 36/300\n",
            "379/379 [==============================] - 2s 5ms/step - loss: 2.9212e-04 - val_loss: 2.2214e-04\n",
            "Epoch 37/300\n",
            "379/379 [==============================] - 2s 5ms/step - loss: 2.8449e-04 - val_loss: 2.2938e-04\n",
            "Epoch 38/300\n",
            "379/379 [==============================] - 2s 5ms/step - loss: 2.8177e-04 - val_loss: 2.0315e-04\n",
            "Epoch 39/300\n",
            "379/379 [==============================] - 2s 5ms/step - loss: 2.7657e-04 - val_loss: 2.8989e-04\n",
            "Epoch 40/300\n",
            "379/379 [==============================] - 2s 5ms/step - loss: 2.6296e-04 - val_loss: 1.9134e-04\n",
            "Epoch 41/300\n",
            "379/379 [==============================] - 2s 5ms/step - loss: 2.6691e-04 - val_loss: 7.0879e-04\n",
            "Epoch 42/300\n",
            "379/379 [==============================] - 2s 5ms/step - loss: 2.5919e-04 - val_loss: 1.8666e-04\n",
            "Epoch 43/300\n",
            "379/379 [==============================] - 2s 5ms/step - loss: 2.5001e-04 - val_loss: 2.1042e-04\n",
            "Epoch 44/300\n",
            "379/379 [==============================] - 2s 5ms/step - loss: 2.5941e-04 - val_loss: 5.2104e-04\n",
            "Epoch 45/300\n",
            "379/379 [==============================] - 2s 5ms/step - loss: 2.5292e-04 - val_loss: 3.3236e-04\n",
            "Epoch 46/300\n",
            "379/379 [==============================] - 2s 5ms/step - loss: 2.3855e-04 - val_loss: 4.4828e-04\n",
            "Epoch 47/300\n",
            "379/379 [==============================] - 2s 5ms/step - loss: 2.4244e-04 - val_loss: 1.6711e-04\n",
            "Epoch 48/300\n",
            "379/379 [==============================] - 2s 5ms/step - loss: 2.2872e-04 - val_loss: 3.0743e-04\n",
            "Epoch 49/300\n",
            "379/379 [==============================] - 2s 5ms/step - loss: 2.3184e-04 - val_loss: 1.5725e-04\n",
            "Epoch 50/300\n",
            "379/379 [==============================] - 2s 5ms/step - loss: 2.3236e-04 - val_loss: 1.5335e-04\n",
            "Epoch 51/300\n",
            "379/379 [==============================] - 2s 5ms/step - loss: 2.2359e-04 - val_loss: 2.3388e-04\n",
            "Epoch 52/300\n",
            "379/379 [==============================] - 2s 5ms/step - loss: 2.1951e-04 - val_loss: 2.7321e-04\n",
            "Epoch 53/300\n",
            "379/379 [==============================] - 2s 5ms/step - loss: 2.2482e-04 - val_loss: 3.3841e-04\n",
            "Epoch 54/300\n",
            "379/379 [==============================] - 2s 5ms/step - loss: 2.1824e-04 - val_loss: 1.6152e-04\n",
            "Epoch 55/300\n",
            "379/379 [==============================] - 2s 5ms/step - loss: 2.1869e-04 - val_loss: 1.4433e-04\n",
            "Epoch 56/300\n",
            "379/379 [==============================] - 2s 5ms/step - loss: 2.1160e-04 - val_loss: 4.2970e-04\n",
            "Epoch 57/300\n",
            "379/379 [==============================] - 2s 5ms/step - loss: 2.1043e-04 - val_loss: 1.7779e-04\n",
            "Epoch 58/300\n",
            "379/379 [==============================] - 2s 5ms/step - loss: 2.1732e-04 - val_loss: 1.3809e-04\n",
            "Epoch 59/300\n",
            "379/379 [==============================] - 2s 5ms/step - loss: 2.0293e-04 - val_loss: 1.7282e-04\n",
            "Epoch 60/300\n",
            "379/379 [==============================] - 2s 5ms/step - loss: 2.0843e-04 - val_loss: 2.0078e-04\n",
            "Epoch 61/300\n",
            "379/379 [==============================] - 2s 5ms/step - loss: 2.0460e-04 - val_loss: 2.9423e-04\n",
            "Epoch 62/300\n",
            "379/379 [==============================] - 2s 5ms/step - loss: 2.0657e-04 - val_loss: 1.3691e-04\n",
            "Epoch 63/300\n",
            "379/379 [==============================] - 2s 5ms/step - loss: 2.0129e-04 - val_loss: 1.5369e-04\n",
            "Epoch 64/300\n",
            "379/379 [==============================] - 2s 5ms/step - loss: 2.0288e-04 - val_loss: 1.4828e-04\n",
            "Epoch 65/300\n",
            "379/379 [==============================] - 2s 5ms/step - loss: 1.8732e-04 - val_loss: 1.2812e-04\n",
            "Epoch 66/300\n",
            "379/379 [==============================] - 2s 5ms/step - loss: 1.9521e-04 - val_loss: 1.3126e-04\n",
            "Epoch 67/300\n",
            "379/379 [==============================] - 2s 5ms/step - loss: 1.9232e-04 - val_loss: 4.9744e-04\n",
            "Epoch 68/300\n",
            "379/379 [==============================] - 2s 5ms/step - loss: 1.9306e-04 - val_loss: 2.3437e-04\n",
            "Epoch 69/300\n",
            "379/379 [==============================] - 2s 5ms/step - loss: 1.9200e-04 - val_loss: 1.8310e-04\n",
            "Epoch 70/300\n",
            "379/379 [==============================] - 2s 5ms/step - loss: 1.9508e-04 - val_loss: 3.4923e-04\n",
            "Epoch 71/300\n",
            "379/379 [==============================] - 2s 5ms/step - loss: 1.8778e-04 - val_loss: 1.3155e-04\n",
            "Epoch 72/300\n",
            "379/379 [==============================] - 2s 5ms/step - loss: 1.8916e-04 - val_loss: 2.2762e-04\n",
            "Epoch 73/300\n",
            "379/379 [==============================] - 2s 5ms/step - loss: 1.9076e-04 - val_loss: 1.3356e-04\n",
            "24/24 [==============================] - 0s 2ms/step\n",
            "rmse= 13.147303587050276\n",
            "Iteration No: 10 ended. Evaluation done at random point.\n",
            "Time taken: 142.5685\n",
            "Function value obtained: 172.8516\n",
            "Current minimum: 172.8516\n",
            "Iteration No: 11 started. Searching for the next optimal point.\n",
            "Epoch 1/200\n",
            "190/190 [==============================] - 3s 10ms/step - loss: 0.0078 - val_loss: 0.0034\n",
            "Epoch 2/200\n",
            "190/190 [==============================] - 1s 5ms/step - loss: 0.0026 - val_loss: 0.0017\n",
            "Epoch 3/200\n",
            "190/190 [==============================] - 1s 5ms/step - loss: 0.0021 - val_loss: 0.0015\n",
            "Epoch 4/200\n",
            "190/190 [==============================] - 1s 5ms/step - loss: 0.0017 - val_loss: 0.0013\n",
            "Epoch 5/200\n",
            "190/190 [==============================] - 1s 5ms/step - loss: 0.0015 - val_loss: 7.9461e-04\n",
            "Epoch 6/200\n",
            "190/190 [==============================] - 1s 5ms/step - loss: 0.0014 - val_loss: 0.0011\n",
            "Epoch 7/200\n",
            "190/190 [==============================] - 1s 5ms/step - loss: 0.0012 - val_loss: 7.4781e-04\n",
            "Epoch 8/200\n",
            "190/190 [==============================] - 1s 5ms/step - loss: 0.0010 - val_loss: 9.7816e-04\n",
            "Epoch 9/200\n",
            "190/190 [==============================] - 1s 5ms/step - loss: 9.4487e-04 - val_loss: 8.7070e-04\n",
            "Epoch 10/200\n",
            "190/190 [==============================] - 1s 5ms/step - loss: 8.9888e-04 - val_loss: 0.0012\n",
            "Epoch 11/200\n",
            "190/190 [==============================] - 1s 5ms/step - loss: 8.3458e-04 - val_loss: 0.0019\n",
            "Epoch 12/200\n",
            "190/190 [==============================] - 1s 5ms/step - loss: 8.2023e-04 - val_loss: 0.0017\n",
            "Epoch 13/200\n",
            "190/190 [==============================] - 1s 5ms/step - loss: 7.6732e-04 - val_loss: 0.0011\n",
            "Epoch 14/200\n",
            "190/190 [==============================] - 1s 5ms/step - loss: 7.3098e-04 - val_loss: 0.0013\n",
            "Epoch 15/200\n",
            "190/190 [==============================] - 1s 5ms/step - loss: 7.2105e-04 - val_loss: 9.3757e-04\n",
            "24/24 [==============================] - 0s 2ms/step\n",
            "rmse= 24.340262161967928\n",
            "Iteration No: 11 ended. Search finished for the next optimal point.\n",
            "Time taken: 18.5324\n",
            "Function value obtained: 592.4484\n",
            "Current minimum: 172.8516\n",
            "Iteration No: 12 started. Searching for the next optimal point.\n"
          ]
        },
        {
          "output_type": "stream",
          "name": "stderr",
          "text": [
            "/usr/local/lib/python3.10/dist-packages/skopt/optimizer/optimizer.py:449: UserWarning: The objective has been evaluated at this point before.\n",
            "  warnings.warn(\"The objective has been evaluated \"\n"
          ]
        },
        {
          "output_type": "stream",
          "name": "stdout",
          "text": [
            "Epoch 1/300\n",
            "379/379 [==============================] - 4s 6ms/step - loss: 0.0065 - val_loss: 0.0028\n",
            "Epoch 2/300\n",
            "379/379 [==============================] - 2s 5ms/step - loss: 0.0022 - val_loss: 0.0019\n",
            "Epoch 3/300\n",
            "379/379 [==============================] - 2s 5ms/step - loss: 0.0016 - val_loss: 0.0043\n",
            "Epoch 4/300\n",
            "379/379 [==============================] - 2s 5ms/step - loss: 0.0012 - val_loss: 0.0020\n",
            "Epoch 5/300\n",
            "379/379 [==============================] - 2s 5ms/step - loss: 0.0010 - val_loss: 0.0011\n",
            "Epoch 6/300\n",
            "379/379 [==============================] - 2s 5ms/step - loss: 9.4132e-04 - val_loss: 0.0010\n",
            "Epoch 7/300\n",
            "379/379 [==============================] - 2s 5ms/step - loss: 8.2957e-04 - val_loss: 6.6097e-04\n",
            "Epoch 8/300\n",
            "379/379 [==============================] - 2s 5ms/step - loss: 8.0860e-04 - val_loss: 7.3207e-04\n",
            "Epoch 9/300\n",
            "379/379 [==============================] - 2s 5ms/step - loss: 7.5524e-04 - val_loss: 8.0769e-04\n",
            "Epoch 10/300\n",
            "379/379 [==============================] - 2s 5ms/step - loss: 7.2492e-04 - val_loss: 6.9290e-04\n",
            "Epoch 11/300\n",
            "379/379 [==============================] - 2s 5ms/step - loss: 6.7176e-04 - val_loss: 0.0019\n",
            "Epoch 12/300\n",
            "379/379 [==============================] - 2s 5ms/step - loss: 6.9207e-04 - val_loss: 0.0012\n",
            "Epoch 13/300\n",
            "379/379 [==============================] - 2s 5ms/step - loss: 6.4279e-04 - val_loss: 8.2934e-04\n",
            "Epoch 14/300\n",
            "379/379 [==============================] - 2s 5ms/step - loss: 6.0132e-04 - val_loss: 5.0744e-04\n",
            "Epoch 15/300\n",
            "379/379 [==============================] - 2s 5ms/step - loss: 5.8056e-04 - val_loss: 9.9162e-04\n",
            "Epoch 16/300\n",
            "379/379 [==============================] - 2s 5ms/step - loss: 5.6305e-04 - val_loss: 5.0642e-04\n",
            "Epoch 17/300\n",
            "379/379 [==============================] - 2s 5ms/step - loss: 5.6587e-04 - val_loss: 7.5385e-04\n",
            "Epoch 18/300\n",
            "379/379 [==============================] - 2s 5ms/step - loss: 5.3704e-04 - val_loss: 0.0012\n",
            "Epoch 19/300\n",
            "379/379 [==============================] - 2s 5ms/step - loss: 5.1603e-04 - val_loss: 3.7977e-04\n",
            "Epoch 20/300\n",
            "379/379 [==============================] - 2s 5ms/step - loss: 4.9171e-04 - val_loss: 0.0013\n",
            "Epoch 21/300\n",
            "379/379 [==============================] - 2s 5ms/step - loss: 4.6539e-04 - val_loss: 5.1283e-04\n",
            "Epoch 22/300\n",
            "379/379 [==============================] - 2s 5ms/step - loss: 4.5275e-04 - val_loss: 6.5034e-04\n",
            "Epoch 23/300\n",
            "379/379 [==============================] - 2s 5ms/step - loss: 4.2788e-04 - val_loss: 5.2018e-04\n",
            "Epoch 24/300\n",
            "379/379 [==============================] - 2s 5ms/step - loss: 4.2584e-04 - val_loss: 5.7260e-04\n",
            "Epoch 25/300\n",
            "379/379 [==============================] - 2s 5ms/step - loss: 4.0451e-04 - val_loss: 4.0181e-04\n",
            "Epoch 26/300\n",
            "379/379 [==============================] - 2s 5ms/step - loss: 3.9213e-04 - val_loss: 3.8002e-04\n",
            "Epoch 27/300\n",
            "379/379 [==============================] - 2s 5ms/step - loss: 3.9150e-04 - val_loss: 3.0386e-04\n",
            "Epoch 28/300\n",
            "379/379 [==============================] - 2s 5ms/step - loss: 3.6398e-04 - val_loss: 2.9327e-04\n",
            "Epoch 29/300\n",
            "379/379 [==============================] - 2s 5ms/step - loss: 3.5317e-04 - val_loss: 6.4503e-04\n",
            "Epoch 30/300\n",
            "379/379 [==============================] - 2s 5ms/step - loss: 3.4445e-04 - val_loss: 9.1637e-04\n",
            "Epoch 31/300\n",
            "379/379 [==============================] - 2s 5ms/step - loss: 3.3257e-04 - val_loss: 5.1554e-04\n",
            "Epoch 32/300\n",
            "379/379 [==============================] - 2s 5ms/step - loss: 3.2891e-04 - val_loss: 2.2238e-04\n",
            "Epoch 33/300\n",
            "379/379 [==============================] - 2s 5ms/step - loss: 3.2349e-04 - val_loss: 2.8803e-04\n",
            "Epoch 34/300\n",
            "379/379 [==============================] - 2s 5ms/step - loss: 3.0680e-04 - val_loss: 2.8895e-04\n",
            "Epoch 35/300\n",
            "379/379 [==============================] - 2s 5ms/step - loss: 2.9427e-04 - val_loss: 2.1340e-04\n",
            "Epoch 36/300\n",
            "379/379 [==============================] - 2s 5ms/step - loss: 2.8860e-04 - val_loss: 2.2681e-04\n",
            "Epoch 37/300\n",
            "379/379 [==============================] - 2s 5ms/step - loss: 2.7706e-04 - val_loss: 2.0093e-04\n",
            "Epoch 38/300\n",
            "379/379 [==============================] - 2s 5ms/step - loss: 2.7937e-04 - val_loss: 1.9985e-04\n",
            "Epoch 39/300\n",
            "379/379 [==============================] - 2s 5ms/step - loss: 2.7273e-04 - val_loss: 2.3168e-04\n",
            "Epoch 40/300\n",
            "379/379 [==============================] - 2s 5ms/step - loss: 2.5973e-04 - val_loss: 1.9918e-04\n",
            "Epoch 41/300\n",
            "379/379 [==============================] - 2s 5ms/step - loss: 2.6496e-04 - val_loss: 4.3187e-04\n",
            "Epoch 42/300\n",
            "379/379 [==============================] - 2s 5ms/step - loss: 2.5507e-04 - val_loss: 1.7557e-04\n",
            "Epoch 43/300\n",
            "379/379 [==============================] - 2s 5ms/step - loss: 2.4756e-04 - val_loss: 2.9825e-04\n",
            "Epoch 44/300\n",
            "379/379 [==============================] - 2s 5ms/step - loss: 2.5249e-04 - val_loss: 5.0883e-04\n",
            "Epoch 45/300\n",
            "379/379 [==============================] - 2s 5ms/step - loss: 2.4561e-04 - val_loss: 2.5970e-04\n",
            "Epoch 46/300\n",
            "379/379 [==============================] - 2s 5ms/step - loss: 2.3876e-04 - val_loss: 2.7935e-04\n",
            "Epoch 47/300\n",
            "379/379 [==============================] - 2s 5ms/step - loss: 2.4151e-04 - val_loss: 1.6237e-04\n",
            "Epoch 48/300\n",
            "379/379 [==============================] - 2s 5ms/step - loss: 2.2526e-04 - val_loss: 3.2836e-04\n",
            "Epoch 49/300\n",
            "379/379 [==============================] - 2s 5ms/step - loss: 2.3072e-04 - val_loss: 1.5353e-04\n",
            "Epoch 50/300\n",
            "379/379 [==============================] - 2s 5ms/step - loss: 2.3175e-04 - val_loss: 1.5273e-04\n",
            "Epoch 51/300\n",
            "379/379 [==============================] - 2s 5ms/step - loss: 2.2132e-04 - val_loss: 2.4285e-04\n",
            "Epoch 52/300\n",
            "379/379 [==============================] - 2s 5ms/step - loss: 2.2070e-04 - val_loss: 2.7890e-04\n",
            "Epoch 53/300\n",
            "379/379 [==============================] - 2s 5ms/step - loss: 2.2187e-04 - val_loss: 4.1180e-04\n",
            "Epoch 54/300\n",
            "379/379 [==============================] - 2s 5ms/step - loss: 2.1629e-04 - val_loss: 1.5927e-04\n",
            "Epoch 55/300\n",
            "379/379 [==============================] - 2s 5ms/step - loss: 2.1927e-04 - val_loss: 1.4265e-04\n",
            "Epoch 56/300\n",
            "379/379 [==============================] - 2s 5ms/step - loss: 2.0786e-04 - val_loss: 4.9362e-04\n",
            "Epoch 57/300\n",
            "379/379 [==============================] - 2s 5ms/step - loss: 2.0707e-04 - val_loss: 2.8181e-04\n",
            "Epoch 58/300\n",
            "379/379 [==============================] - 2s 5ms/step - loss: 2.1748e-04 - val_loss: 1.3697e-04\n",
            "Epoch 59/300\n",
            "379/379 [==============================] - 2s 5ms/step - loss: 2.0453e-04 - val_loss: 1.7478e-04\n",
            "Epoch 60/300\n",
            "379/379 [==============================] - 2s 5ms/step - loss: 2.0961e-04 - val_loss: 1.8433e-04\n",
            "Epoch 61/300\n",
            "379/379 [==============================] - 2s 5ms/step - loss: 2.0238e-04 - val_loss: 2.3557e-04\n",
            "Epoch 62/300\n",
            "379/379 [==============================] - 2s 5ms/step - loss: 2.0568e-04 - val_loss: 1.3575e-04\n",
            "Epoch 63/300\n",
            "379/379 [==============================] - 2s 5ms/step - loss: 2.0322e-04 - val_loss: 1.3830e-04\n",
            "Epoch 64/300\n",
            "379/379 [==============================] - 2s 5ms/step - loss: 2.0411e-04 - val_loss: 1.9897e-04\n",
            "Epoch 65/300\n",
            "379/379 [==============================] - 2s 5ms/step - loss: 1.8550e-04 - val_loss: 1.3366e-04\n",
            "Epoch 66/300\n",
            "379/379 [==============================] - 2s 5ms/step - loss: 1.9665e-04 - val_loss: 1.3984e-04\n",
            "Epoch 67/300\n",
            "379/379 [==============================] - 2s 5ms/step - loss: 1.9372e-04 - val_loss: 4.3920e-04\n",
            "Epoch 68/300\n",
            "379/379 [==============================] - 2s 5ms/step - loss: 1.9463e-04 - val_loss: 2.3147e-04\n",
            "Epoch 69/300\n",
            "379/379 [==============================] - 2s 5ms/step - loss: 1.8904e-04 - val_loss: 1.5577e-04\n",
            "Epoch 70/300\n",
            "379/379 [==============================] - 2s 5ms/step - loss: 1.9457e-04 - val_loss: 2.4340e-04\n",
            "Epoch 71/300\n",
            "379/379 [==============================] - 2s 5ms/step - loss: 1.8820e-04 - val_loss: 1.2930e-04\n",
            "Epoch 72/300\n",
            "379/379 [==============================] - 2s 5ms/step - loss: 1.8915e-04 - val_loss: 1.3721e-04\n",
            "Epoch 73/300\n",
            "379/379 [==============================] - 2s 5ms/step - loss: 1.9138e-04 - val_loss: 1.1994e-04\n",
            "Epoch 74/300\n",
            "379/379 [==============================] - 2s 5ms/step - loss: 1.8743e-04 - val_loss: 4.6336e-04\n",
            "Epoch 75/300\n",
            "379/379 [==============================] - 2s 5ms/step - loss: 1.8228e-04 - val_loss: 2.4616e-04\n",
            "Epoch 76/300\n",
            "379/379 [==============================] - 2s 5ms/step - loss: 1.8269e-04 - val_loss: 1.1752e-04\n",
            "Epoch 77/300\n",
            "379/379 [==============================] - 2s 5ms/step - loss: 1.8323e-04 - val_loss: 1.2636e-04\n",
            "Epoch 78/300\n",
            "379/379 [==============================] - 2s 5ms/step - loss: 1.8812e-04 - val_loss: 1.7952e-04\n",
            "Epoch 79/300\n",
            "379/379 [==============================] - 2s 5ms/step - loss: 1.8139e-04 - val_loss: 1.9822e-04\n",
            "Epoch 80/300\n",
            "379/379 [==============================] - 2s 5ms/step - loss: 1.8299e-04 - val_loss: 1.6440e-04\n",
            "Epoch 81/300\n",
            "379/379 [==============================] - 2s 5ms/step - loss: 1.8322e-04 - val_loss: 1.2237e-04\n",
            "Epoch 82/300\n",
            "379/379 [==============================] - 2s 5ms/step - loss: 1.7921e-04 - val_loss: 2.1372e-04\n",
            "Epoch 83/300\n",
            "379/379 [==============================] - 2s 5ms/step - loss: 1.8608e-04 - val_loss: 1.1399e-04\n",
            "Epoch 84/300\n",
            "379/379 [==============================] - 2s 5ms/step - loss: 1.8206e-04 - val_loss: 4.1602e-04\n",
            "Epoch 85/300\n",
            "379/379 [==============================] - 2s 5ms/step - loss: 1.7836e-04 - val_loss: 2.0143e-04\n",
            "Epoch 86/300\n",
            "379/379 [==============================] - 2s 5ms/step - loss: 1.8187e-04 - val_loss: 1.4620e-04\n",
            "Epoch 87/300\n",
            "379/379 [==============================] - 2s 5ms/step - loss: 1.7962e-04 - val_loss: 1.4642e-04\n",
            "Epoch 88/300\n",
            "379/379 [==============================] - 2s 5ms/step - loss: 1.7969e-04 - val_loss: 1.3074e-04\n",
            "Epoch 89/300\n",
            "379/379 [==============================] - 2s 5ms/step - loss: 1.8457e-04 - val_loss: 2.0813e-04\n",
            "Epoch 90/300\n",
            "379/379 [==============================] - 2s 5ms/step - loss: 1.7622e-04 - val_loss: 2.8183e-04\n",
            "Epoch 91/300\n",
            "379/379 [==============================] - 2s 5ms/step - loss: 1.8260e-04 - val_loss: 1.4106e-04\n",
            "24/24 [==============================] - 0s 2ms/step\n",
            "rmse= 13.135219403175276\n",
            "Iteration No: 12 ended. Search finished for the next optimal point.\n",
            "Time taken: 177.0346\n",
            "Function value obtained: 172.5340\n",
            "Current minimum: 172.5340\n",
            "Iteration No: 13 started. Searching for the next optimal point.\n",
            "Epoch 1/300\n",
            "379/379 [==============================] - 4s 6ms/step - loss: 0.0053 - val_loss: 0.0028\n",
            "Epoch 2/300\n",
            "379/379 [==============================] - 2s 5ms/step - loss: 0.0020 - val_loss: 0.0019\n",
            "Epoch 3/300\n",
            "379/379 [==============================] - 2s 5ms/step - loss: 0.0014 - val_loss: 0.0016\n",
            "Epoch 4/300\n",
            "379/379 [==============================] - 2s 5ms/step - loss: 0.0011 - val_loss: 0.0011\n",
            "Epoch 5/300\n",
            "379/379 [==============================] - 2s 5ms/step - loss: 8.8745e-04 - val_loss: 7.6794e-04\n",
            "Epoch 6/300\n",
            "379/379 [==============================] - 2s 5ms/step - loss: 7.9384e-04 - val_loss: 8.3231e-04\n",
            "Epoch 7/300\n",
            "379/379 [==============================] - 2s 5ms/step - loss: 7.1674e-04 - val_loss: 7.4607e-04\n",
            "Epoch 8/300\n",
            "379/379 [==============================] - 2s 5ms/step - loss: 6.8569e-04 - val_loss: 7.9273e-04\n",
            "Epoch 9/300\n",
            "379/379 [==============================] - 2s 5ms/step - loss: 6.5376e-04 - val_loss: 7.7475e-04\n",
            "Epoch 10/300\n",
            "379/379 [==============================] - 2s 5ms/step - loss: 6.0636e-04 - val_loss: 7.0651e-04\n",
            "Epoch 11/300\n",
            "379/379 [==============================] - 2s 5ms/step - loss: 5.9102e-04 - val_loss: 0.0012\n",
            "Epoch 12/300\n",
            "379/379 [==============================] - 2s 5ms/step - loss: 5.7507e-04 - val_loss: 0.0016\n",
            "Epoch 13/300\n",
            "379/379 [==============================] - 2s 5ms/step - loss: 5.6795e-04 - val_loss: 0.0014\n",
            "Epoch 14/300\n",
            "379/379 [==============================] - 2s 5ms/step - loss: 5.1934e-04 - val_loss: 4.2193e-04\n",
            "Epoch 15/300\n",
            "379/379 [==============================] - 2s 5ms/step - loss: 5.1705e-04 - val_loss: 9.2175e-04\n",
            "Epoch 16/300\n",
            "379/379 [==============================] - 2s 5ms/step - loss: 4.8898e-04 - val_loss: 4.1243e-04\n",
            "Epoch 17/300\n",
            "379/379 [==============================] - 2s 5ms/step - loss: 4.9097e-04 - val_loss: 5.2381e-04\n",
            "Epoch 18/300\n",
            "379/379 [==============================] - 2s 5ms/step - loss: 4.8167e-04 - val_loss: 0.0011\n",
            "Epoch 19/300\n",
            "379/379 [==============================] - 2s 5ms/step - loss: 4.5402e-04 - val_loss: 3.3777e-04\n",
            "Epoch 20/300\n",
            "379/379 [==============================] - 2s 5ms/step - loss: 4.4362e-04 - val_loss: 8.6106e-04\n",
            "Epoch 21/300\n",
            "379/379 [==============================] - 2s 5ms/step - loss: 4.0585e-04 - val_loss: 3.3009e-04\n",
            "Epoch 22/300\n",
            "379/379 [==============================] - 2s 5ms/step - loss: 4.0496e-04 - val_loss: 6.2862e-04\n",
            "Epoch 23/300\n",
            "379/379 [==============================] - 2s 5ms/step - loss: 3.9477e-04 - val_loss: 6.5908e-04\n",
            "Epoch 24/300\n",
            "379/379 [==============================] - 2s 5ms/step - loss: 3.8095e-04 - val_loss: 4.4817e-04\n",
            "Epoch 25/300\n",
            "379/379 [==============================] - 2s 5ms/step - loss: 3.7790e-04 - val_loss: 5.3425e-04\n",
            "Epoch 26/300\n",
            "379/379 [==============================] - 2s 5ms/step - loss: 3.5877e-04 - val_loss: 5.0815e-04\n",
            "Epoch 27/300\n",
            "379/379 [==============================] - 2s 5ms/step - loss: 3.4850e-04 - val_loss: 5.7049e-04\n",
            "Epoch 28/300\n",
            "379/379 [==============================] - 2s 5ms/step - loss: 3.3732e-04 - val_loss: 3.2291e-04\n",
            "Epoch 29/300\n",
            "379/379 [==============================] - 2s 5ms/step - loss: 3.2832e-04 - val_loss: 4.7966e-04\n",
            "Epoch 30/300\n",
            "379/379 [==============================] - 2s 5ms/step - loss: 3.1780e-04 - val_loss: 8.0362e-04\n",
            "Epoch 31/300\n",
            "379/379 [==============================] - 2s 5ms/step - loss: 3.1784e-04 - val_loss: 5.3391e-04\n",
            "Epoch 32/300\n",
            "379/379 [==============================] - 2s 5ms/step - loss: 3.0442e-04 - val_loss: 2.6026e-04\n",
            "Epoch 33/300\n",
            "379/379 [==============================] - 2s 5ms/step - loss: 3.0137e-04 - val_loss: 3.3248e-04\n",
            "Epoch 34/300\n",
            "379/379 [==============================] - 2s 5ms/step - loss: 2.9134e-04 - val_loss: 2.2248e-04\n",
            "Epoch 35/300\n",
            "379/379 [==============================] - 2s 5ms/step - loss: 2.8138e-04 - val_loss: 1.9918e-04\n",
            "Epoch 36/300\n",
            "379/379 [==============================] - 2s 5ms/step - loss: 2.6830e-04 - val_loss: 5.0238e-04\n",
            "Epoch 37/300\n",
            "379/379 [==============================] - 2s 5ms/step - loss: 2.7294e-04 - val_loss: 1.9581e-04\n",
            "Epoch 38/300\n",
            "379/379 [==============================] - 2s 5ms/step - loss: 2.6753e-04 - val_loss: 1.8865e-04\n",
            "Epoch 39/300\n",
            "379/379 [==============================] - 2s 5ms/step - loss: 2.5660e-04 - val_loss: 5.1941e-04\n",
            "Epoch 40/300\n",
            "379/379 [==============================] - 2s 5ms/step - loss: 2.5057e-04 - val_loss: 1.7948e-04\n",
            "Epoch 41/300\n",
            "379/379 [==============================] - 2s 5ms/step - loss: 2.4909e-04 - val_loss: 3.4314e-04\n",
            "Epoch 42/300\n",
            "379/379 [==============================] - 2s 5ms/step - loss: 2.4785e-04 - val_loss: 4.9347e-04\n",
            "Epoch 43/300\n",
            "379/379 [==============================] - 2s 5ms/step - loss: 2.3291e-04 - val_loss: 1.6560e-04\n",
            "Epoch 44/300\n",
            "379/379 [==============================] - 2s 5ms/step - loss: 2.3692e-04 - val_loss: 4.6336e-04\n",
            "Epoch 45/300\n",
            "379/379 [==============================] - 2s 5ms/step - loss: 2.3496e-04 - val_loss: 1.7746e-04\n",
            "Epoch 46/300\n",
            "379/379 [==============================] - 2s 5ms/step - loss: 2.2315e-04 - val_loss: 1.9611e-04\n",
            "Epoch 47/300\n",
            "379/379 [==============================] - 2s 5ms/step - loss: 2.2421e-04 - val_loss: 1.6199e-04\n",
            "Epoch 48/300\n",
            "379/379 [==============================] - 2s 5ms/step - loss: 2.1849e-04 - val_loss: 1.4933e-04\n",
            "Epoch 49/300\n",
            "379/379 [==============================] - 2s 5ms/step - loss: 2.1255e-04 - val_loss: 1.8904e-04\n",
            "Epoch 50/300\n",
            "379/379 [==============================] - 2s 5ms/step - loss: 2.1884e-04 - val_loss: 2.0321e-04\n",
            "Epoch 51/300\n",
            "379/379 [==============================] - 2s 5ms/step - loss: 2.0683e-04 - val_loss: 2.6878e-04\n",
            "Epoch 52/300\n",
            "379/379 [==============================] - 2s 5ms/step - loss: 2.0561e-04 - val_loss: 1.4976e-04\n",
            "Epoch 53/300\n",
            "379/379 [==============================] - 2s 5ms/step - loss: 2.0307e-04 - val_loss: 2.4393e-04\n",
            "Epoch 54/300\n",
            "379/379 [==============================] - 2s 5ms/step - loss: 2.0461e-04 - val_loss: 1.5367e-04\n",
            "Epoch 55/300\n",
            "379/379 [==============================] - 2s 5ms/step - loss: 1.9817e-04 - val_loss: 2.0412e-04\n",
            "Epoch 56/300\n",
            "379/379 [==============================] - 2s 5ms/step - loss: 1.9571e-04 - val_loss: 5.7002e-04\n",
            "24/24 [==============================] - 0s 2ms/step\n",
            "rmse= 13.149279048834883\n",
            "Iteration No: 13 ended. Search finished for the next optimal point.\n",
            "Time taken: 109.3002\n",
            "Function value obtained: 172.9035\n",
            "Current minimum: 172.5340\n",
            "Iteration No: 14 started. Searching for the next optimal point.\n",
            "Epoch 1/400\n",
            "190/190 [==============================] - 3s 7ms/step - loss: 0.0019 - val_loss: 5.1578e-04\n",
            "Epoch 2/400\n",
            "190/190 [==============================] - 1s 5ms/step - loss: 8.7806e-04 - val_loss: 5.3175e-04\n",
            "Epoch 3/400\n",
            "190/190 [==============================] - 1s 5ms/step - loss: 7.0677e-04 - val_loss: 4.1056e-04\n",
            "Epoch 4/400\n",
            "190/190 [==============================] - 1s 5ms/step - loss: 5.9769e-04 - val_loss: 4.3147e-04\n",
            "Epoch 5/400\n",
            "190/190 [==============================] - 1s 5ms/step - loss: 5.8589e-04 - val_loss: 3.4477e-04\n",
            "Epoch 6/400\n",
            "190/190 [==============================] - 1s 5ms/step - loss: 4.7068e-04 - val_loss: 0.0010\n",
            "Epoch 7/400\n",
            "190/190 [==============================] - 1s 5ms/step - loss: 4.2855e-04 - val_loss: 6.7385e-04\n",
            "Epoch 8/400\n",
            "190/190 [==============================] - 1s 5ms/step - loss: 3.9281e-04 - val_loss: 2.8003e-04\n",
            "Epoch 9/400\n",
            "190/190 [==============================] - 1s 5ms/step - loss: 3.6180e-04 - val_loss: 5.1383e-04\n",
            "Epoch 10/400\n",
            "190/190 [==============================] - 1s 5ms/step - loss: 3.5745e-04 - val_loss: 5.7689e-04\n",
            "Epoch 11/400\n",
            "190/190 [==============================] - 1s 5ms/step - loss: 3.5610e-04 - val_loss: 6.1480e-04\n",
            "Epoch 12/400\n",
            "190/190 [==============================] - 1s 5ms/step - loss: 3.3406e-04 - val_loss: 2.2962e-04\n",
            "Epoch 13/400\n",
            "190/190 [==============================] - 1s 5ms/step - loss: 2.8267e-04 - val_loss: 5.3451e-04\n",
            "Epoch 14/400\n",
            "190/190 [==============================] - 1s 5ms/step - loss: 2.9220e-04 - val_loss: 0.0017\n",
            "Epoch 15/400\n",
            "190/190 [==============================] - 1s 5ms/step - loss: 2.9070e-04 - val_loss: 8.8771e-04\n",
            "Epoch 16/400\n",
            "190/190 [==============================] - 1s 5ms/step - loss: 2.7220e-04 - val_loss: 3.7866e-04\n",
            "Epoch 17/400\n",
            "190/190 [==============================] - 1s 5ms/step - loss: 2.6837e-04 - val_loss: 2.9125e-04\n",
            "Epoch 18/400\n",
            "190/190 [==============================] - 1s 5ms/step - loss: 2.8269e-04 - val_loss: 3.5831e-04\n",
            "Epoch 19/400\n",
            "190/190 [==============================] - 1s 5ms/step - loss: 2.6265e-04 - val_loss: 2.8525e-04\n",
            "Epoch 20/400\n",
            "190/190 [==============================] - 1s 5ms/step - loss: 2.5838e-04 - val_loss: 2.3093e-04\n",
            "24/24 [==============================] - 0s 2ms/step\n",
            "rmse= 16.394617885856\n",
            "Iteration No: 14 ended. Search finished for the next optimal point.\n",
            "Time taken: 22.5791\n",
            "Function value obtained: 268.7835\n",
            "Current minimum: 172.5340\n",
            "Iteration No: 15 started. Searching for the next optimal point.\n",
            "Epoch 1/300\n",
            "190/190 [==============================] - 3s 10ms/step - loss: 0.0176 - val_loss: 0.0042\n",
            "Epoch 2/300\n",
            "190/190 [==============================] - 1s 5ms/step - loss: 0.0045 - val_loss: 0.0015\n",
            "Epoch 3/300\n",
            "190/190 [==============================] - 1s 5ms/step - loss: 0.0035 - val_loss: 0.0015\n",
            "Epoch 4/300\n",
            "190/190 [==============================] - 1s 5ms/step - loss: 0.0027 - val_loss: 0.0011\n",
            "Epoch 5/300\n",
            "190/190 [==============================] - 1s 5ms/step - loss: 0.0021 - val_loss: 8.5799e-04\n",
            "Epoch 6/300\n",
            "190/190 [==============================] - 1s 5ms/step - loss: 0.0018 - val_loss: 7.7178e-04\n",
            "Epoch 7/300\n",
            "190/190 [==============================] - 1s 5ms/step - loss: 0.0015 - val_loss: 8.2207e-04\n",
            "Epoch 8/300\n",
            "190/190 [==============================] - 1s 5ms/step - loss: 0.0014 - val_loss: 9.6360e-04\n",
            "Epoch 9/300\n",
            "190/190 [==============================] - 1s 5ms/step - loss: 0.0012 - val_loss: 0.0012\n",
            "Epoch 10/300\n",
            "190/190 [==============================] - 1s 5ms/step - loss: 0.0011 - val_loss: 0.0010\n",
            "Epoch 11/300\n",
            "190/190 [==============================] - 1s 5ms/step - loss: 0.0010 - val_loss: 0.0015\n",
            "Epoch 12/300\n",
            "190/190 [==============================] - 1s 5ms/step - loss: 9.8052e-04 - val_loss: 7.3913e-04\n",
            "Epoch 13/300\n",
            "190/190 [==============================] - 1s 5ms/step - loss: 9.1399e-04 - val_loss: 8.3264e-04\n",
            "Epoch 14/300\n",
            "190/190 [==============================] - 1s 5ms/step - loss: 8.8772e-04 - val_loss: 5.9088e-04\n",
            "Epoch 15/300\n",
            "190/190 [==============================] - 1s 5ms/step - loss: 8.3969e-04 - val_loss: 6.2488e-04\n",
            "Epoch 16/300\n",
            "190/190 [==============================] - 1s 5ms/step - loss: 8.0491e-04 - val_loss: 6.5340e-04\n",
            "Epoch 17/300\n",
            "190/190 [==============================] - 1s 5ms/step - loss: 8.0322e-04 - val_loss: 0.0015\n",
            "Epoch 18/300\n",
            "190/190 [==============================] - 1s 5ms/step - loss: 7.8399e-04 - val_loss: 0.0012\n",
            "Epoch 19/300\n",
            "190/190 [==============================] - 1s 5ms/step - loss: 7.5060e-04 - val_loss: 8.5506e-04\n",
            "Epoch 20/300\n",
            "190/190 [==============================] - 1s 5ms/step - loss: 7.2292e-04 - val_loss: 0.0011\n",
            "Epoch 21/300\n",
            "190/190 [==============================] - 1s 5ms/step - loss: 7.0630e-04 - val_loss: 9.3967e-04\n",
            "Epoch 22/300\n",
            "190/190 [==============================] - 1s 5ms/step - loss: 6.9164e-04 - val_loss: 5.8702e-04\n",
            "Epoch 23/300\n",
            "190/190 [==============================] - 1s 5ms/step - loss: 6.7925e-04 - val_loss: 6.9019e-04\n",
            "Epoch 24/300\n",
            "190/190 [==============================] - 1s 5ms/step - loss: 6.4628e-04 - val_loss: 4.8073e-04\n",
            "Epoch 25/300\n",
            "190/190 [==============================] - 1s 5ms/step - loss: 6.5300e-04 - val_loss: 4.8001e-04\n",
            "Epoch 26/300\n",
            "190/190 [==============================] - 1s 5ms/step - loss: 6.2310e-04 - val_loss: 7.3274e-04\n",
            "Epoch 27/300\n",
            "190/190 [==============================] - 1s 5ms/step - loss: 6.2679e-04 - val_loss: 7.1924e-04\n",
            "Epoch 28/300\n",
            "190/190 [==============================] - 1s 5ms/step - loss: 6.0426e-04 - val_loss: 6.9291e-04\n",
            "Epoch 29/300\n",
            "190/190 [==============================] - 1s 5ms/step - loss: 6.0059e-04 - val_loss: 6.5065e-04\n",
            "Epoch 30/300\n",
            "190/190 [==============================] - 1s 5ms/step - loss: 5.8124e-04 - val_loss: 8.0098e-04\n",
            "Epoch 31/300\n",
            "190/190 [==============================] - 1s 5ms/step - loss: 5.6682e-04 - val_loss: 0.0012\n",
            "Epoch 32/300\n",
            "190/190 [==============================] - 1s 5ms/step - loss: 5.5319e-04 - val_loss: 4.4645e-04\n",
            "Epoch 33/300\n",
            "190/190 [==============================] - 1s 5ms/step - loss: 5.7497e-04 - val_loss: 8.0715e-04\n",
            "Epoch 34/300\n",
            "190/190 [==============================] - 1s 5ms/step - loss: 5.2994e-04 - val_loss: 4.6012e-04\n",
            "Epoch 35/300\n",
            "190/190 [==============================] - 1s 5ms/step - loss: 5.2942e-04 - val_loss: 5.9609e-04\n",
            "Epoch 36/300\n",
            "190/190 [==============================] - 1s 5ms/step - loss: 4.9536e-04 - val_loss: 7.8540e-04\n",
            "Epoch 37/300\n",
            "190/190 [==============================] - 1s 5ms/step - loss: 4.9391e-04 - val_loss: 6.9883e-04\n",
            "Epoch 38/300\n",
            "190/190 [==============================] - 1s 5ms/step - loss: 4.8560e-04 - val_loss: 3.5525e-04\n",
            "Epoch 39/300\n",
            "190/190 [==============================] - 1s 5ms/step - loss: 4.6608e-04 - val_loss: 3.5234e-04\n",
            "Epoch 40/300\n",
            "190/190 [==============================] - 1s 5ms/step - loss: 4.6370e-04 - val_loss: 3.4672e-04\n",
            "Epoch 41/300\n",
            "190/190 [==============================] - 1s 5ms/step - loss: 4.5349e-04 - val_loss: 6.6766e-04\n",
            "Epoch 42/300\n",
            "190/190 [==============================] - 1s 5ms/step - loss: 4.4457e-04 - val_loss: 8.1026e-04\n",
            "Epoch 43/300\n",
            "190/190 [==============================] - 1s 5ms/step - loss: 4.3732e-04 - val_loss: 5.5430e-04\n",
            "Epoch 44/300\n",
            "190/190 [==============================] - 1s 5ms/step - loss: 4.3016e-04 - val_loss: 3.9783e-04\n",
            "Epoch 45/300\n",
            "190/190 [==============================] - 1s 5ms/step - loss: 4.3069e-04 - val_loss: 7.6748e-04\n",
            "Epoch 46/300\n",
            "190/190 [==============================] - 1s 5ms/step - loss: 4.2556e-04 - val_loss: 4.7065e-04\n",
            "Epoch 47/300\n",
            "190/190 [==============================] - 1s 5ms/step - loss: 4.0861e-04 - val_loss: 3.5696e-04\n",
            "Epoch 48/300\n",
            "190/190 [==============================] - 1s 5ms/step - loss: 3.9654e-04 - val_loss: 3.0465e-04\n",
            "Epoch 49/300\n",
            "190/190 [==============================] - 1s 5ms/step - loss: 3.9280e-04 - val_loss: 3.2473e-04\n",
            "Epoch 50/300\n",
            "190/190 [==============================] - 1s 5ms/step - loss: 3.9395e-04 - val_loss: 2.8715e-04\n",
            "Epoch 51/300\n",
            "190/190 [==============================] - 1s 5ms/step - loss: 3.7176e-04 - val_loss: 4.8930e-04\n",
            "Epoch 52/300\n",
            "190/190 [==============================] - 1s 5ms/step - loss: 3.6537e-04 - val_loss: 2.8958e-04\n",
            "Epoch 53/300\n",
            "190/190 [==============================] - 1s 5ms/step - loss: 3.5873e-04 - val_loss: 5.9110e-04\n",
            "Epoch 54/300\n",
            "190/190 [==============================] - 1s 5ms/step - loss: 3.5273e-04 - val_loss: 2.7245e-04\n",
            "Epoch 55/300\n",
            "190/190 [==============================] - 1s 5ms/step - loss: 3.6002e-04 - val_loss: 3.0287e-04\n",
            "Epoch 56/300\n",
            "190/190 [==============================] - 1s 5ms/step - loss: 3.4940e-04 - val_loss: 6.5691e-04\n",
            "Epoch 57/300\n",
            "190/190 [==============================] - 1s 5ms/step - loss: 3.3147e-04 - val_loss: 3.5482e-04\n",
            "Epoch 58/300\n",
            "190/190 [==============================] - 1s 5ms/step - loss: 3.3294e-04 - val_loss: 2.6666e-04\n",
            "Epoch 59/300\n",
            "190/190 [==============================] - 1s 5ms/step - loss: 3.2777e-04 - val_loss: 2.6901e-04\n",
            "Epoch 60/300\n",
            "190/190 [==============================] - 1s 5ms/step - loss: 3.2111e-04 - val_loss: 7.7425e-04\n",
            "Epoch 61/300\n",
            "190/190 [==============================] - 1s 5ms/step - loss: 3.1930e-04 - val_loss: 4.9125e-04\n",
            "Epoch 62/300\n",
            "190/190 [==============================] - 1s 5ms/step - loss: 3.1170e-04 - val_loss: 3.4443e-04\n",
            "Epoch 63/300\n",
            "190/190 [==============================] - 1s 5ms/step - loss: 3.0540e-04 - val_loss: 2.2736e-04\n",
            "Epoch 64/300\n",
            "190/190 [==============================] - 1s 5ms/step - loss: 2.9948e-04 - val_loss: 5.8147e-04\n",
            "Epoch 65/300\n",
            "190/190 [==============================] - 1s 5ms/step - loss: 2.9916e-04 - val_loss: 2.1771e-04\n",
            "Epoch 66/300\n",
            "190/190 [==============================] - 1s 5ms/step - loss: 2.9212e-04 - val_loss: 4.7761e-04\n",
            "Epoch 67/300\n",
            "190/190 [==============================] - 1s 5ms/step - loss: 2.9023e-04 - val_loss: 4.6892e-04\n",
            "Epoch 68/300\n",
            "190/190 [==============================] - 1s 5ms/step - loss: 2.8698e-04 - val_loss: 2.6164e-04\n",
            "Epoch 69/300\n",
            "190/190 [==============================] - 1s 5ms/step - loss: 2.7669e-04 - val_loss: 2.3026e-04\n",
            "Epoch 70/300\n",
            "190/190 [==============================] - 1s 5ms/step - loss: 2.7167e-04 - val_loss: 2.7786e-04\n",
            "Epoch 71/300\n",
            "190/190 [==============================] - 1s 5ms/step - loss: 2.7218e-04 - val_loss: 2.6230e-04\n",
            "Epoch 72/300\n",
            "190/190 [==============================] - 1s 5ms/step - loss: 2.6827e-04 - val_loss: 1.9814e-04\n",
            "Epoch 73/300\n",
            "190/190 [==============================] - 1s 5ms/step - loss: 2.6669e-04 - val_loss: 2.9103e-04\n",
            "Epoch 74/300\n",
            "190/190 [==============================] - 1s 5ms/step - loss: 2.6267e-04 - val_loss: 3.3973e-04\n",
            "Epoch 75/300\n",
            "190/190 [==============================] - 1s 5ms/step - loss: 2.5212e-04 - val_loss: 2.9724e-04\n",
            "Epoch 76/300\n",
            "190/190 [==============================] - 1s 5ms/step - loss: 2.5342e-04 - val_loss: 2.0237e-04\n",
            "Epoch 77/300\n",
            "190/190 [==============================] - 1s 5ms/step - loss: 2.5482e-04 - val_loss: 1.9150e-04\n",
            "Epoch 78/300\n",
            "190/190 [==============================] - 1s 5ms/step - loss: 2.5080e-04 - val_loss: 2.8260e-04\n",
            "Epoch 79/300\n",
            "190/190 [==============================] - 1s 5ms/step - loss: 2.4615e-04 - val_loss: 1.7893e-04\n",
            "Epoch 80/300\n",
            "190/190 [==============================] - 1s 5ms/step - loss: 2.4187e-04 - val_loss: 2.3606e-04\n",
            "Epoch 81/300\n",
            "190/190 [==============================] - 1s 5ms/step - loss: 2.4602e-04 - val_loss: 1.7059e-04\n",
            "Epoch 82/300\n",
            "190/190 [==============================] - 1s 5ms/step - loss: 2.3872e-04 - val_loss: 3.5801e-04\n",
            "Epoch 83/300\n",
            "190/190 [==============================] - 1s 5ms/step - loss: 2.3590e-04 - val_loss: 1.9435e-04\n",
            "Epoch 84/300\n",
            "190/190 [==============================] - 1s 5ms/step - loss: 2.3352e-04 - val_loss: 1.8743e-04\n",
            "Epoch 85/300\n",
            "190/190 [==============================] - 1s 5ms/step - loss: 2.2420e-04 - val_loss: 3.7457e-04\n",
            "Epoch 86/300\n",
            "190/190 [==============================] - 1s 5ms/step - loss: 2.2703e-04 - val_loss: 2.2254e-04\n",
            "Epoch 87/300\n",
            "190/190 [==============================] - 1s 5ms/step - loss: 2.2579e-04 - val_loss: 1.7595e-04\n",
            "Epoch 88/300\n",
            "190/190 [==============================] - 1s 5ms/step - loss: 2.3016e-04 - val_loss: 1.6439e-04\n",
            "Epoch 89/300\n",
            "190/190 [==============================] - 1s 5ms/step - loss: 2.3288e-04 - val_loss: 1.6370e-04\n",
            "Epoch 90/300\n",
            "190/190 [==============================] - 1s 5ms/step - loss: 2.2182e-04 - val_loss: 2.1515e-04\n",
            "Epoch 91/300\n",
            "190/190 [==============================] - 1s 5ms/step - loss: 2.2335e-04 - val_loss: 1.6301e-04\n",
            "Epoch 92/300\n",
            "190/190 [==============================] - 1s 5ms/step - loss: 2.1886e-04 - val_loss: 1.9662e-04\n",
            "Epoch 93/300\n",
            "190/190 [==============================] - 1s 5ms/step - loss: 2.2047e-04 - val_loss: 2.2545e-04\n",
            "Epoch 94/300\n",
            "190/190 [==============================] - 1s 5ms/step - loss: 2.1926e-04 - val_loss: 1.5563e-04\n",
            "Epoch 95/300\n",
            "190/190 [==============================] - 1s 5ms/step - loss: 2.1772e-04 - val_loss: 2.4895e-04\n",
            "Epoch 96/300\n",
            "190/190 [==============================] - 1s 5ms/step - loss: 2.1404e-04 - val_loss: 5.2699e-04\n",
            "Epoch 97/300\n",
            "190/190 [==============================] - 1s 5ms/step - loss: 2.0956e-04 - val_loss: 1.6811e-04\n",
            "Epoch 98/300\n",
            "190/190 [==============================] - 1s 5ms/step - loss: 2.1027e-04 - val_loss: 1.7405e-04\n",
            "Epoch 99/300\n",
            "190/190 [==============================] - 1s 5ms/step - loss: 2.1182e-04 - val_loss: 1.5817e-04\n",
            "Epoch 100/300\n",
            "190/190 [==============================] - 1s 5ms/step - loss: 2.0995e-04 - val_loss: 2.8470e-04\n",
            "Epoch 101/300\n",
            "190/190 [==============================] - 1s 5ms/step - loss: 2.0293e-04 - val_loss: 1.4848e-04\n",
            "Epoch 102/300\n",
            "190/190 [==============================] - 1s 5ms/step - loss: 2.0528e-04 - val_loss: 1.5715e-04\n",
            "Epoch 103/300\n",
            "190/190 [==============================] - 1s 5ms/step - loss: 2.0004e-04 - val_loss: 1.3984e-04\n",
            "Epoch 104/300\n",
            "190/190 [==============================] - 1s 5ms/step - loss: 2.0566e-04 - val_loss: 4.0159e-04\n",
            "Epoch 105/300\n",
            "190/190 [==============================] - 1s 5ms/step - loss: 2.0175e-04 - val_loss: 2.3384e-04\n",
            "Epoch 106/300\n",
            "190/190 [==============================] - 1s 5ms/step - loss: 1.9828e-04 - val_loss: 1.4150e-04\n",
            "Epoch 107/300\n",
            "190/190 [==============================] - 1s 5ms/step - loss: 2.0058e-04 - val_loss: 2.3525e-04\n",
            "Epoch 108/300\n",
            "190/190 [==============================] - 1s 5ms/step - loss: 1.9442e-04 - val_loss: 1.3361e-04\n",
            "Epoch 109/300\n",
            "190/190 [==============================] - 1s 5ms/step - loss: 2.0106e-04 - val_loss: 1.5440e-04\n",
            "Epoch 110/300\n",
            "190/190 [==============================] - 1s 5ms/step - loss: 1.9087e-04 - val_loss: 1.3780e-04\n",
            "Epoch 111/300\n",
            "190/190 [==============================] - 1s 5ms/step - loss: 1.9742e-04 - val_loss: 2.4426e-04\n",
            "Epoch 112/300\n",
            "190/190 [==============================] - 1s 5ms/step - loss: 1.9246e-04 - val_loss: 1.5300e-04\n",
            "Epoch 113/300\n",
            "190/190 [==============================] - 1s 5ms/step - loss: 1.9430e-04 - val_loss: 1.6329e-04\n",
            "Epoch 114/300\n",
            "190/190 [==============================] - 1s 5ms/step - loss: 1.8951e-04 - val_loss: 1.3083e-04\n",
            "Epoch 115/300\n",
            "190/190 [==============================] - 1s 5ms/step - loss: 1.8936e-04 - val_loss: 1.6458e-04\n",
            "Epoch 116/300\n",
            "190/190 [==============================] - 1s 5ms/step - loss: 1.9482e-04 - val_loss: 1.5595e-04\n",
            "Epoch 117/300\n",
            "190/190 [==============================] - 1s 5ms/step - loss: 1.9013e-04 - val_loss: 2.2084e-04\n",
            "Epoch 118/300\n",
            "190/190 [==============================] - 1s 5ms/step - loss: 1.9323e-04 - val_loss: 1.5832e-04\n",
            "Epoch 119/300\n",
            "190/190 [==============================] - 1s 5ms/step - loss: 1.8543e-04 - val_loss: 4.2907e-04\n",
            "Epoch 120/300\n",
            "190/190 [==============================] - 1s 5ms/step - loss: 1.9037e-04 - val_loss: 1.2412e-04\n",
            "Epoch 121/300\n",
            "190/190 [==============================] - 1s 5ms/step - loss: 1.8703e-04 - val_loss: 3.3499e-04\n",
            "Epoch 122/300\n",
            "190/190 [==============================] - 1s 5ms/step - loss: 1.9207e-04 - val_loss: 1.3207e-04\n",
            "Epoch 123/300\n",
            "190/190 [==============================] - 1s 5ms/step - loss: 1.9501e-04 - val_loss: 1.2753e-04\n",
            "Epoch 124/300\n",
            "190/190 [==============================] - 1s 5ms/step - loss: 1.8316e-04 - val_loss: 1.2424e-04\n",
            "Epoch 125/300\n",
            "190/190 [==============================] - 1s 5ms/step - loss: 1.8384e-04 - val_loss: 1.3636e-04\n",
            "Epoch 126/300\n",
            "190/190 [==============================] - 1s 5ms/step - loss: 1.7656e-04 - val_loss: 1.3152e-04\n",
            "Epoch 127/300\n",
            "190/190 [==============================] - 1s 5ms/step - loss: 1.8379e-04 - val_loss: 2.0508e-04\n",
            "Epoch 128/300\n",
            "190/190 [==============================] - 1s 5ms/step - loss: 1.7987e-04 - val_loss: 2.9926e-04\n",
            "24/24 [==============================] - 0s 2ms/step\n",
            "rmse= 13.168568279930307\n",
            "Iteration No: 15 ended. Search finished for the next optimal point.\n",
            "Time taken: 128.1551\n",
            "Function value obtained: 173.4112\n",
            "Current minimum: 172.5340\n",
            "Epoch 1/300\n",
            "371/379 [============================>.] - ETA: 0s - loss: 0.0044"
          ]
        },
        {
          "output_type": "stream",
          "name": "stderr",
          "text": [
            "WARNING:tensorflow:Early stopping conditioned on metric `val_loss` which is not available. Available metrics are: loss\n"
          ]
        },
        {
          "output_type": "stream",
          "name": "stdout",
          "text": [
            "\b\b\b\b\b\b\b\b\b\b\b\b\b\b\b\b\b\b\b\b\b\b\b\b\b\b\b\b\b\b\b\b\b\b\b\b\b\b\b\b\b\b\b\b\b\b\b\b\b\b\b\b\b\b\b\b\b\b\b\b\b\b\b\b\b\r379/379 [==============================] - 3s 5ms/step - loss: 0.0043\n",
            "Epoch 2/300\n",
            "376/379 [============================>.] - ETA: 0s - loss: 0.0018"
          ]
        },
        {
          "output_type": "stream",
          "name": "stderr",
          "text": [
            "WARNING:tensorflow:Early stopping conditioned on metric `val_loss` which is not available. Available metrics are: loss\n"
          ]
        },
        {
          "output_type": "stream",
          "name": "stdout",
          "text": [
            "\b\b\b\b\b\b\b\b\b\b\b\b\b\b\b\b\b\b\b\b\b\b\b\b\b\b\b\b\b\b\b\b\b\b\b\b\b\b\b\b\b\b\b\b\b\b\b\b\b\b\b\b\b\b\b\b\b\b\b\b\b\b\b\b\b\r379/379 [==============================] - 2s 4ms/step - loss: 0.0018\n",
            "Epoch 3/300\n",
            "373/379 [============================>.] - ETA: 0s - loss: 0.0013"
          ]
        },
        {
          "output_type": "stream",
          "name": "stderr",
          "text": [
            "WARNING:tensorflow:Early stopping conditioned on metric `val_loss` which is not available. Available metrics are: loss\n"
          ]
        },
        {
          "output_type": "stream",
          "name": "stdout",
          "text": [
            "\b\b\b\b\b\b\b\b\b\b\b\b\b\b\b\b\b\b\b\b\b\b\b\b\b\b\b\b\b\b\b\b\b\b\b\b\b\b\b\b\b\b\b\b\b\b\b\b\b\b\b\b\b\b\b\b\b\b\b\b\b\b\b\b\b\r379/379 [==============================] - 2s 4ms/step - loss: 0.0013\n",
            "Epoch 4/300\n",
            "373/379 [============================>.] - ETA: 0s - loss: 9.9654e-04"
          ]
        },
        {
          "output_type": "stream",
          "name": "stderr",
          "text": [
            "WARNING:tensorflow:Early stopping conditioned on metric `val_loss` which is not available. Available metrics are: loss\n"
          ]
        },
        {
          "output_type": "stream",
          "name": "stdout",
          "text": [
            "\b\b\b\b\b\b\b\b\b\b\b\b\b\b\b\b\b\b\b\b\b\b\b\b\b\b\b\b\b\b\b\b\b\b\b\b\b\b\b\b\b\b\b\b\b\b\b\b\b\b\b\b\b\b\b\b\b\b\b\b\b\b\b\b\b\b\b\b\b\r379/379 [==============================] - 2s 4ms/step - loss: 9.9683e-04\n",
            "Epoch 5/300\n",
            "373/379 [============================>.] - ETA: 0s - loss: 8.8697e-04"
          ]
        },
        {
          "output_type": "stream",
          "name": "stderr",
          "text": [
            "WARNING:tensorflow:Early stopping conditioned on metric `val_loss` which is not available. Available metrics are: loss\n"
          ]
        },
        {
          "output_type": "stream",
          "name": "stdout",
          "text": [
            "\b\b\b\b\b\b\b\b\b\b\b\b\b\b\b\b\b\b\b\b\b\b\b\b\b\b\b\b\b\b\b\b\b\b\b\b\b\b\b\b\b\b\b\b\b\b\b\b\b\b\b\b\b\b\b\b\b\b\b\b\b\b\b\b\b\b\b\b\b\r379/379 [==============================] - 2s 4ms/step - loss: 8.8748e-04\n",
            "Epoch 6/300\n",
            "371/379 [============================>.] - ETA: 0s - loss: 8.5150e-04"
          ]
        },
        {
          "output_type": "stream",
          "name": "stderr",
          "text": [
            "WARNING:tensorflow:Early stopping conditioned on metric `val_loss` which is not available. Available metrics are: loss\n"
          ]
        },
        {
          "output_type": "stream",
          "name": "stdout",
          "text": [
            "\b\b\b\b\b\b\b\b\b\b\b\b\b\b\b\b\b\b\b\b\b\b\b\b\b\b\b\b\b\b\b\b\b\b\b\b\b\b\b\b\b\b\b\b\b\b\b\b\b\b\b\b\b\b\b\b\b\b\b\b\b\b\b\b\b\b\b\b\b\r379/379 [==============================] - 2s 4ms/step - loss: 8.5173e-04\n",
            "Epoch 7/300\n",
            "372/379 [============================>.] - ETA: 0s - loss: 7.6059e-04"
          ]
        },
        {
          "output_type": "stream",
          "name": "stderr",
          "text": [
            "WARNING:tensorflow:Early stopping conditioned on metric `val_loss` which is not available. Available metrics are: loss\n"
          ]
        },
        {
          "output_type": "stream",
          "name": "stdout",
          "text": [
            "\b\b\b\b\b\b\b\b\b\b\b\b\b\b\b\b\b\b\b\b\b\b\b\b\b\b\b\b\b\b\b\b\b\b\b\b\b\b\b\b\b\b\b\b\b\b\b\b\b\b\b\b\b\b\b\b\b\b\b\b\b\b\b\b\b\b\b\b\b\r379/379 [==============================] - 2s 4ms/step - loss: 7.5820e-04\n",
            "Epoch 8/300\n",
            "369/379 [============================>.] - ETA: 0s - loss: 7.5351e-04"
          ]
        },
        {
          "output_type": "stream",
          "name": "stderr",
          "text": [
            "WARNING:tensorflow:Early stopping conditioned on metric `val_loss` which is not available. Available metrics are: loss\n"
          ]
        },
        {
          "output_type": "stream",
          "name": "stdout",
          "text": [
            "\b\b\b\b\b\b\b\b\b\b\b\b\b\b\b\b\b\b\b\b\b\b\b\b\b\b\b\b\b\b\b\b\b\b\b\b\b\b\b\b\b\b\b\b\b\b\b\b\b\b\b\b\b\b\b\b\b\b\b\b\b\b\b\b\b\b\b\b\b\r379/379 [==============================] - 2s 4ms/step - loss: 7.5491e-04\n",
            "Epoch 9/300\n",
            "379/379 [==============================] - ETA: 0s - loss: 7.1700e-04"
          ]
        },
        {
          "output_type": "stream",
          "name": "stderr",
          "text": [
            "WARNING:tensorflow:Early stopping conditioned on metric `val_loss` which is not available. Available metrics are: loss\n"
          ]
        },
        {
          "output_type": "stream",
          "name": "stdout",
          "text": [
            "\b\b\b\b\b\b\b\b\b\b\b\b\b\b\b\b\b\b\b\b\b\b\b\b\b\b\b\b\b\b\b\b\b\b\b\b\b\b\b\b\b\b\b\b\b\b\b\b\b\b\b\b\b\b\b\b\b\b\b\b\b\b\b\b\b\b\b\b\b\r379/379 [==============================] - 2s 4ms/step - loss: 7.1700e-04\n",
            "Epoch 10/300\n",
            "374/379 [============================>.] - ETA: 0s - loss: 6.8536e-04"
          ]
        },
        {
          "output_type": "stream",
          "name": "stderr",
          "text": [
            "WARNING:tensorflow:Early stopping conditioned on metric `val_loss` which is not available. Available metrics are: loss\n"
          ]
        },
        {
          "output_type": "stream",
          "name": "stdout",
          "text": [
            "\b\b\b\b\b\b\b\b\b\b\b\b\b\b\b\b\b\b\b\b\b\b\b\b\b\b\b\b\b\b\b\b\b\b\b\b\b\b\b\b\b\b\b\b\b\b\b\b\b\b\b\b\b\b\b\b\b\b\b\b\b\b\b\b\b\b\b\b\b\r379/379 [==============================] - 2s 4ms/step - loss: 6.8368e-04\n",
            "Epoch 11/300\n",
            "373/379 [============================>.] - ETA: 0s - loss: 6.4251e-04"
          ]
        },
        {
          "output_type": "stream",
          "name": "stderr",
          "text": [
            "WARNING:tensorflow:Early stopping conditioned on metric `val_loss` which is not available. Available metrics are: loss\n"
          ]
        },
        {
          "output_type": "stream",
          "name": "stdout",
          "text": [
            "\b\b\b\b\b\b\b\b\b\b\b\b\b\b\b\b\b\b\b\b\b\b\b\b\b\b\b\b\b\b\b\b\b\b\b\b\b\b\b\b\b\b\b\b\b\b\b\b\b\b\b\b\b\b\b\b\b\b\b\b\b\b\b\b\b\b\b\b\b\r379/379 [==============================] - 2s 4ms/step - loss: 6.4096e-04\n",
            "Epoch 12/300\n",
            "373/379 [============================>.] - ETA: 0s - loss: 6.5121e-04"
          ]
        },
        {
          "output_type": "stream",
          "name": "stderr",
          "text": [
            "WARNING:tensorflow:Early stopping conditioned on metric `val_loss` which is not available. Available metrics are: loss\n"
          ]
        },
        {
          "output_type": "stream",
          "name": "stdout",
          "text": [
            "\b\b\b\b\b\b\b\b\b\b\b\b\b\b\b\b\b\b\b\b\b\b\b\b\b\b\b\b\b\b\b\b\b\b\b\b\b\b\b\b\b\b\b\b\b\b\b\b\b\b\b\b\b\b\b\b\b\b\b\b\b\b\b\b\b\b\b\b\b\r379/379 [==============================] - 2s 4ms/step - loss: 6.5429e-04\n",
            "Epoch 13/300\n",
            "373/379 [============================>.] - ETA: 0s - loss: 6.0584e-04"
          ]
        },
        {
          "output_type": "stream",
          "name": "stderr",
          "text": [
            "WARNING:tensorflow:Early stopping conditioned on metric `val_loss` which is not available. Available metrics are: loss\n"
          ]
        },
        {
          "output_type": "stream",
          "name": "stdout",
          "text": [
            "\b\b\b\b\b\b\b\b\b\b\b\b\b\b\b\b\b\b\b\b\b\b\b\b\b\b\b\b\b\b\b\b\b\b\b\b\b\b\b\b\b\b\b\b\b\b\b\b\b\b\b\b\b\b\b\b\b\b\b\b\b\b\b\b\b\b\b\b\b\r379/379 [==============================] - 2s 4ms/step - loss: 6.0439e-04\n",
            "Epoch 14/300\n",
            "372/379 [============================>.] - ETA: 0s - loss: 5.6698e-04"
          ]
        },
        {
          "output_type": "stream",
          "name": "stderr",
          "text": [
            "WARNING:tensorflow:Early stopping conditioned on metric `val_loss` which is not available. Available metrics are: loss\n"
          ]
        },
        {
          "output_type": "stream",
          "name": "stdout",
          "text": [
            "\b\b\b\b\b\b\b\b\b\b\b\b\b\b\b\b\b\b\b\b\b\b\b\b\b\b\b\b\b\b\b\b\b\b\b\b\b\b\b\b\b\b\b\b\b\b\b\b\b\b\b\b\b\b\b\b\b\b\b\b\b\b\b\b\b\b\b\b\b\r379/379 [==============================] - 2s 4ms/step - loss: 5.6614e-04\n",
            "Epoch 15/300\n",
            "373/379 [============================>.] - ETA: 0s - loss: 5.4358e-04"
          ]
        },
        {
          "output_type": "stream",
          "name": "stderr",
          "text": [
            "WARNING:tensorflow:Early stopping conditioned on metric `val_loss` which is not available. Available metrics are: loss\n"
          ]
        },
        {
          "output_type": "stream",
          "name": "stdout",
          "text": [
            "\b\b\b\b\b\b\b\b\b\b\b\b\b\b\b\b\b\b\b\b\b\b\b\b\b\b\b\b\b\b\b\b\b\b\b\b\b\b\b\b\b\b\b\b\b\b\b\b\b\b\b\b\b\b\b\b\b\b\b\b\b\b\b\b\b\b\b\b\b\r379/379 [==============================] - 2s 4ms/step - loss: 5.4503e-04\n",
            "Epoch 16/300\n",
            "378/379 [============================>.] - ETA: 0s - loss: 5.3378e-04"
          ]
        },
        {
          "output_type": "stream",
          "name": "stderr",
          "text": [
            "WARNING:tensorflow:Early stopping conditioned on metric `val_loss` which is not available. Available metrics are: loss\n"
          ]
        },
        {
          "output_type": "stream",
          "name": "stdout",
          "text": [
            "\b\b\b\b\b\b\b\b\b\b\b\b\b\b\b\b\b\b\b\b\b\b\b\b\b\b\b\b\b\b\b\b\b\b\b\b\b\b\b\b\b\b\b\b\b\b\b\b\b\b\b\b\b\b\b\b\b\b\b\b\b\b\b\b\b\b\b\b\b\r379/379 [==============================] - 2s 4ms/step - loss: 5.3376e-04\n",
            "Epoch 17/300\n",
            "374/379 [============================>.] - ETA: 0s - loss: 5.4062e-04"
          ]
        },
        {
          "output_type": "stream",
          "name": "stderr",
          "text": [
            "WARNING:tensorflow:Early stopping conditioned on metric `val_loss` which is not available. Available metrics are: loss\n"
          ]
        },
        {
          "output_type": "stream",
          "name": "stdout",
          "text": [
            "\b\b\b\b\b\b\b\b\b\b\b\b\b\b\b\b\b\b\b\b\b\b\b\b\b\b\b\b\b\b\b\b\b\b\b\b\b\b\b\b\b\b\b\b\b\b\b\b\b\b\b\b\b\b\b\b\b\b\b\b\b\b\b\b\b\b\b\b\b\r379/379 [==============================] - 2s 5ms/step - loss: 5.4167e-04\n",
            "Epoch 18/300\n",
            "372/379 [============================>.] - ETA: 0s - loss: 5.0464e-04"
          ]
        },
        {
          "output_type": "stream",
          "name": "stderr",
          "text": [
            "WARNING:tensorflow:Early stopping conditioned on metric `val_loss` which is not available. Available metrics are: loss\n"
          ]
        },
        {
          "output_type": "stream",
          "name": "stdout",
          "text": [
            "\b\b\b\b\b\b\b\b\b\b\b\b\b\b\b\b\b\b\b\b\b\b\b\b\b\b\b\b\b\b\b\b\b\b\b\b\b\b\b\b\b\b\b\b\b\b\b\b\b\b\b\b\b\b\b\b\b\b\b\b\b\b\b\b\b\b\b\b\b\r379/379 [==============================] - 2s 4ms/step - loss: 5.0407e-04\n",
            "Epoch 19/300\n",
            "373/379 [============================>.] - ETA: 0s - loss: 4.8533e-04"
          ]
        },
        {
          "output_type": "stream",
          "name": "stderr",
          "text": [
            "WARNING:tensorflow:Early stopping conditioned on metric `val_loss` which is not available. Available metrics are: loss\n"
          ]
        },
        {
          "output_type": "stream",
          "name": "stdout",
          "text": [
            "\b\b\b\b\b\b\b\b\b\b\b\b\b\b\b\b\b\b\b\b\b\b\b\b\b\b\b\b\b\b\b\b\b\b\b\b\b\b\b\b\b\b\b\b\b\b\b\b\b\b\b\b\b\b\b\b\b\b\b\b\b\b\b\b\b\b\b\b\b\r379/379 [==============================] - 2s 4ms/step - loss: 4.8575e-04\n",
            "Epoch 20/300\n",
            "373/379 [============================>.] - ETA: 0s - loss: 4.6361e-04"
          ]
        },
        {
          "output_type": "stream",
          "name": "stderr",
          "text": [
            "WARNING:tensorflow:Early stopping conditioned on metric `val_loss` which is not available. Available metrics are: loss\n"
          ]
        },
        {
          "output_type": "stream",
          "name": "stdout",
          "text": [
            "\b\b\b\b\b\b\b\b\b\b\b\b\b\b\b\b\b\b\b\b\b\b\b\b\b\b\b\b\b\b\b\b\b\b\b\b\b\b\b\b\b\b\b\b\b\b\b\b\b\b\b\b\b\b\b\b\b\b\b\b\b\b\b\b\b\b\b\b\b\r379/379 [==============================] - 2s 4ms/step - loss: 4.6329e-04\n",
            "Epoch 21/300\n",
            "373/379 [============================>.] - ETA: 0s - loss: 4.4194e-04"
          ]
        },
        {
          "output_type": "stream",
          "name": "stderr",
          "text": [
            "WARNING:tensorflow:Early stopping conditioned on metric `val_loss` which is not available. Available metrics are: loss\n"
          ]
        },
        {
          "output_type": "stream",
          "name": "stdout",
          "text": [
            "\b\b\b\b\b\b\b\b\b\b\b\b\b\b\b\b\b\b\b\b\b\b\b\b\b\b\b\b\b\b\b\b\b\b\b\b\b\b\b\b\b\b\b\b\b\b\b\b\b\b\b\b\b\b\b\b\b\b\b\b\b\b\b\b\b\b\b\b\b\r379/379 [==============================] - 2s 4ms/step - loss: 4.4166e-04\n",
            "Epoch 22/300\n",
            "373/379 [============================>.] - ETA: 0s - loss: 4.3007e-04"
          ]
        },
        {
          "output_type": "stream",
          "name": "stderr",
          "text": [
            "WARNING:tensorflow:Early stopping conditioned on metric `val_loss` which is not available. Available metrics are: loss\n"
          ]
        },
        {
          "output_type": "stream",
          "name": "stdout",
          "text": [
            "\b\b\b\b\b\b\b\b\b\b\b\b\b\b\b\b\b\b\b\b\b\b\b\b\b\b\b\b\b\b\b\b\b\b\b\b\b\b\b\b\b\b\b\b\b\b\b\b\b\b\b\b\b\b\b\b\b\b\b\b\b\b\b\b\b\b\b\b\b\r379/379 [==============================] - 2s 4ms/step - loss: 4.2907e-04\n",
            "Epoch 23/300\n",
            "373/379 [============================>.] - ETA: 0s - loss: 4.1112e-04"
          ]
        },
        {
          "output_type": "stream",
          "name": "stderr",
          "text": [
            "WARNING:tensorflow:Early stopping conditioned on metric `val_loss` which is not available. Available metrics are: loss\n"
          ]
        },
        {
          "output_type": "stream",
          "name": "stdout",
          "text": [
            "\b\b\b\b\b\b\b\b\b\b\b\b\b\b\b\b\b\b\b\b\b\b\b\b\b\b\b\b\b\b\b\b\b\b\b\b\b\b\b\b\b\b\b\b\b\b\b\b\b\b\b\b\b\b\b\b\b\b\b\b\b\b\b\b\b\b\b\b\b\r379/379 [==============================] - 2s 4ms/step - loss: 4.1068e-04\n",
            "Epoch 24/300\n",
            "376/379 [============================>.] - ETA: 0s - loss: 3.9759e-04"
          ]
        },
        {
          "output_type": "stream",
          "name": "stderr",
          "text": [
            "WARNING:tensorflow:Early stopping conditioned on metric `val_loss` which is not available. Available metrics are: loss\n"
          ]
        },
        {
          "output_type": "stream",
          "name": "stdout",
          "text": [
            "\b\b\b\b\b\b\b\b\b\b\b\b\b\b\b\b\b\b\b\b\b\b\b\b\b\b\b\b\b\b\b\b\b\b\b\b\b\b\b\b\b\b\b\b\b\b\b\b\b\b\b\b\b\b\b\b\b\b\b\b\b\b\b\b\b\b\b\b\b\r379/379 [==============================] - 2s 4ms/step - loss: 3.9888e-04\n",
            "Epoch 25/300\n",
            "374/379 [============================>.] - ETA: 0s - loss: 3.8851e-04"
          ]
        },
        {
          "output_type": "stream",
          "name": "stderr",
          "text": [
            "WARNING:tensorflow:Early stopping conditioned on metric `val_loss` which is not available. Available metrics are: loss\n"
          ]
        },
        {
          "output_type": "stream",
          "name": "stdout",
          "text": [
            "\b\b\b\b\b\b\b\b\b\b\b\b\b\b\b\b\b\b\b\b\b\b\b\b\b\b\b\b\b\b\b\b\b\b\b\b\b\b\b\b\b\b\b\b\b\b\b\b\b\b\b\b\b\b\b\b\b\b\b\b\b\b\b\b\b\b\b\b\b\r379/379 [==============================] - 2s 5ms/step - loss: 3.8984e-04\n",
            "Epoch 26/300\n",
            "372/379 [============================>.] - ETA: 0s - loss: 3.7079e-04"
          ]
        },
        {
          "output_type": "stream",
          "name": "stderr",
          "text": [
            "WARNING:tensorflow:Early stopping conditioned on metric `val_loss` which is not available. Available metrics are: loss\n"
          ]
        },
        {
          "output_type": "stream",
          "name": "stdout",
          "text": [
            "\b\b\b\b\b\b\b\b\b\b\b\b\b\b\b\b\b\b\b\b\b\b\b\b\b\b\b\b\b\b\b\b\b\b\b\b\b\b\b\b\b\b\b\b\b\b\b\b\b\b\b\b\b\b\b\b\b\b\b\b\b\b\b\b\b\b\b\b\b\r379/379 [==============================] - 2s 4ms/step - loss: 3.6983e-04\n",
            "Epoch 27/300\n",
            "373/379 [============================>.] - ETA: 0s - loss: 3.6990e-04"
          ]
        },
        {
          "output_type": "stream",
          "name": "stderr",
          "text": [
            "WARNING:tensorflow:Early stopping conditioned on metric `val_loss` which is not available. Available metrics are: loss\n"
          ]
        },
        {
          "output_type": "stream",
          "name": "stdout",
          "text": [
            "\b\b\b\b\b\b\b\b\b\b\b\b\b\b\b\b\b\b\b\b\b\b\b\b\b\b\b\b\b\b\b\b\b\b\b\b\b\b\b\b\b\b\b\b\b\b\b\b\b\b\b\b\b\b\b\b\b\b\b\b\b\b\b\b\b\b\b\b\b\r379/379 [==============================] - 2s 4ms/step - loss: 3.6975e-04\n",
            "Epoch 28/300\n",
            "373/379 [============================>.] - ETA: 0s - loss: 3.5390e-04"
          ]
        },
        {
          "output_type": "stream",
          "name": "stderr",
          "text": [
            "WARNING:tensorflow:Early stopping conditioned on metric `val_loss` which is not available. Available metrics are: loss\n"
          ]
        },
        {
          "output_type": "stream",
          "name": "stdout",
          "text": [
            "\b\b\b\b\b\b\b\b\b\b\b\b\b\b\b\b\b\b\b\b\b\b\b\b\b\b\b\b\b\b\b\b\b\b\b\b\b\b\b\b\b\b\b\b\b\b\b\b\b\b\b\b\b\b\b\b\b\b\b\b\b\b\b\b\b\b\b\b\b\r379/379 [==============================] - 2s 4ms/step - loss: 3.5319e-04\n",
            "Epoch 29/300\n",
            "373/379 [============================>.] - ETA: 0s - loss: 3.3986e-04"
          ]
        },
        {
          "output_type": "stream",
          "name": "stderr",
          "text": [
            "WARNING:tensorflow:Early stopping conditioned on metric `val_loss` which is not available. Available metrics are: loss\n"
          ]
        },
        {
          "output_type": "stream",
          "name": "stdout",
          "text": [
            "\b\b\b\b\b\b\b\b\b\b\b\b\b\b\b\b\b\b\b\b\b\b\b\b\b\b\b\b\b\b\b\b\b\b\b\b\b\b\b\b\b\b\b\b\b\b\b\b\b\b\b\b\b\b\b\b\b\b\b\b\b\b\b\b\b\b\b\b\b\r379/379 [==============================] - 2s 4ms/step - loss: 3.4063e-04\n",
            "Epoch 30/300\n",
            "373/379 [============================>.] - ETA: 0s - loss: 3.3657e-04"
          ]
        },
        {
          "output_type": "stream",
          "name": "stderr",
          "text": [
            "WARNING:tensorflow:Early stopping conditioned on metric `val_loss` which is not available. Available metrics are: loss\n"
          ]
        },
        {
          "output_type": "stream",
          "name": "stdout",
          "text": [
            "\b\b\b\b\b\b\b\b\b\b\b\b\b\b\b\b\b\b\b\b\b\b\b\b\b\b\b\b\b\b\b\b\b\b\b\b\b\b\b\b\b\b\b\b\b\b\b\b\b\b\b\b\b\b\b\b\b\b\b\b\b\b\b\b\b\b\b\b\b\r379/379 [==============================] - 2s 4ms/step - loss: 3.3677e-04\n",
            "Epoch 31/300\n",
            "373/379 [============================>.] - ETA: 0s - loss: 3.2377e-04"
          ]
        },
        {
          "output_type": "stream",
          "name": "stderr",
          "text": [
            "WARNING:tensorflow:Early stopping conditioned on metric `val_loss` which is not available. Available metrics are: loss\n"
          ]
        },
        {
          "output_type": "stream",
          "name": "stdout",
          "text": [
            "\b\b\b\b\b\b\b\b\b\b\b\b\b\b\b\b\b\b\b\b\b\b\b\b\b\b\b\b\b\b\b\b\b\b\b\b\b\b\b\b\b\b\b\b\b\b\b\b\b\b\b\b\b\b\b\b\b\b\b\b\b\b\b\b\b\b\b\b\b\r379/379 [==============================] - 2s 4ms/step - loss: 3.2284e-04\n",
            "Epoch 32/300\n",
            "370/379 [============================>.] - ETA: 0s - loss: 3.1647e-04"
          ]
        },
        {
          "output_type": "stream",
          "name": "stderr",
          "text": [
            "WARNING:tensorflow:Early stopping conditioned on metric `val_loss` which is not available. Available metrics are: loss\n"
          ]
        },
        {
          "output_type": "stream",
          "name": "stdout",
          "text": [
            "\b\b\b\b\b\b\b\b\b\b\b\b\b\b\b\b\b\b\b\b\b\b\b\b\b\b\b\b\b\b\b\b\b\b\b\b\b\b\b\b\b\b\b\b\b\b\b\b\b\b\b\b\b\b\b\b\b\b\b\b\b\b\b\b\b\b\b\b\b\r379/379 [==============================] - 2s 5ms/step - loss: 3.1731e-04\n",
            "Epoch 33/300\n",
            "373/379 [============================>.] - ETA: 0s - loss: 3.1418e-04"
          ]
        },
        {
          "output_type": "stream",
          "name": "stderr",
          "text": [
            "WARNING:tensorflow:Early stopping conditioned on metric `val_loss` which is not available. Available metrics are: loss\n"
          ]
        },
        {
          "output_type": "stream",
          "name": "stdout",
          "text": [
            "\b\b\b\b\b\b\b\b\b\b\b\b\b\b\b\b\b\b\b\b\b\b\b\b\b\b\b\b\b\b\b\b\b\b\b\b\b\b\b\b\b\b\b\b\b\b\b\b\b\b\b\b\b\b\b\b\b\b\b\b\b\b\b\b\b\b\b\b\b\r379/379 [==============================] - 2s 5ms/step - loss: 3.1424e-04\n",
            "Epoch 34/300\n",
            "372/379 [============================>.] - ETA: 0s - loss: 3.0208e-04"
          ]
        },
        {
          "output_type": "stream",
          "name": "stderr",
          "text": [
            "WARNING:tensorflow:Early stopping conditioned on metric `val_loss` which is not available. Available metrics are: loss\n"
          ]
        },
        {
          "output_type": "stream",
          "name": "stdout",
          "text": [
            "\b\b\b\b\b\b\b\b\b\b\b\b\b\b\b\b\b\b\b\b\b\b\b\b\b\b\b\b\b\b\b\b\b\b\b\b\b\b\b\b\b\b\b\b\b\b\b\b\b\b\b\b\b\b\b\b\b\b\b\b\b\b\b\b\b\b\b\b\b\r379/379 [==============================] - 2s 4ms/step - loss: 3.0115e-04\n",
            "Epoch 35/300\n",
            "372/379 [============================>.] - ETA: 0s - loss: 2.9069e-04"
          ]
        },
        {
          "output_type": "stream",
          "name": "stderr",
          "text": [
            "WARNING:tensorflow:Early stopping conditioned on metric `val_loss` which is not available. Available metrics are: loss\n"
          ]
        },
        {
          "output_type": "stream",
          "name": "stdout",
          "text": [
            "\b\b\b\b\b\b\b\b\b\b\b\b\b\b\b\b\b\b\b\b\b\b\b\b\b\b\b\b\b\b\b\b\b\b\b\b\b\b\b\b\b\b\b\b\b\b\b\b\b\b\b\b\b\b\b\b\b\b\b\b\b\b\b\b\b\b\b\b\b\r379/379 [==============================] - 2s 4ms/step - loss: 2.9104e-04\n",
            "Epoch 36/300\n",
            "373/379 [============================>.] - ETA: 0s - loss: 2.8288e-04"
          ]
        },
        {
          "output_type": "stream",
          "name": "stderr",
          "text": [
            "WARNING:tensorflow:Early stopping conditioned on metric `val_loss` which is not available. Available metrics are: loss\n"
          ]
        },
        {
          "output_type": "stream",
          "name": "stdout",
          "text": [
            "\b\b\b\b\b\b\b\b\b\b\b\b\b\b\b\b\b\b\b\b\b\b\b\b\b\b\b\b\b\b\b\b\b\b\b\b\b\b\b\b\b\b\b\b\b\b\b\b\b\b\b\b\b\b\b\b\b\b\b\b\b\b\b\b\b\b\b\b\b\r379/379 [==============================] - 2s 4ms/step - loss: 2.8446e-04\n",
            "Epoch 37/300\n",
            "372/379 [============================>.] - ETA: 0s - loss: 2.7787e-04"
          ]
        },
        {
          "output_type": "stream",
          "name": "stderr",
          "text": [
            "WARNING:tensorflow:Early stopping conditioned on metric `val_loss` which is not available. Available metrics are: loss\n"
          ]
        },
        {
          "output_type": "stream",
          "name": "stdout",
          "text": [
            "\b\b\b\b\b\b\b\b\b\b\b\b\b\b\b\b\b\b\b\b\b\b\b\b\b\b\b\b\b\b\b\b\b\b\b\b\b\b\b\b\b\b\b\b\b\b\b\b\b\b\b\b\b\b\b\b\b\b\b\b\b\b\b\b\b\b\b\b\b\r379/379 [==============================] - 2s 4ms/step - loss: 2.7786e-04\n",
            "Epoch 38/300\n",
            "373/379 [============================>.] - ETA: 0s - loss: 2.7320e-04"
          ]
        },
        {
          "output_type": "stream",
          "name": "stderr",
          "text": [
            "WARNING:tensorflow:Early stopping conditioned on metric `val_loss` which is not available. Available metrics are: loss\n"
          ]
        },
        {
          "output_type": "stream",
          "name": "stdout",
          "text": [
            "\b\b\b\b\b\b\b\b\b\b\b\b\b\b\b\b\b\b\b\b\b\b\b\b\b\b\b\b\b\b\b\b\b\b\b\b\b\b\b\b\b\b\b\b\b\b\b\b\b\b\b\b\b\b\b\b\b\b\b\b\b\b\b\b\b\b\b\b\b\r379/379 [==============================] - 2s 4ms/step - loss: 2.7408e-04\n",
            "Epoch 39/300\n",
            "372/379 [============================>.] - ETA: 0s - loss: 2.6988e-04"
          ]
        },
        {
          "output_type": "stream",
          "name": "stderr",
          "text": [
            "WARNING:tensorflow:Early stopping conditioned on metric `val_loss` which is not available. Available metrics are: loss\n"
          ]
        },
        {
          "output_type": "stream",
          "name": "stdout",
          "text": [
            "\b\b\b\b\b\b\b\b\b\b\b\b\b\b\b\b\b\b\b\b\b\b\b\b\b\b\b\b\b\b\b\b\b\b\b\b\b\b\b\b\b\b\b\b\b\b\b\b\b\b\b\b\b\b\b\b\b\b\b\b\b\b\b\b\b\b\b\b\b\r379/379 [==============================] - 2s 4ms/step - loss: 2.6860e-04\n",
            "Epoch 40/300\n",
            "371/379 [============================>.] - ETA: 0s - loss: 2.5910e-04"
          ]
        },
        {
          "output_type": "stream",
          "name": "stderr",
          "text": [
            "WARNING:tensorflow:Early stopping conditioned on metric `val_loss` which is not available. Available metrics are: loss\n"
          ]
        },
        {
          "output_type": "stream",
          "name": "stdout",
          "text": [
            "\b\b\b\b\b\b\b\b\b\b\b\b\b\b\b\b\b\b\b\b\b\b\b\b\b\b\b\b\b\b\b\b\b\b\b\b\b\b\b\b\b\b\b\b\b\b\b\b\b\b\b\b\b\b\b\b\b\b\b\b\b\b\b\b\b\b\b\b\b\r379/379 [==============================] - 2s 5ms/step - loss: 2.5759e-04\n",
            "Epoch 41/300\n",
            "378/379 [============================>.] - ETA: 0s - loss: 2.6323e-04"
          ]
        },
        {
          "output_type": "stream",
          "name": "stderr",
          "text": [
            "WARNING:tensorflow:Early stopping conditioned on metric `val_loss` which is not available. Available metrics are: loss\n"
          ]
        },
        {
          "output_type": "stream",
          "name": "stdout",
          "text": [
            "\b\b\b\b\b\b\b\b\b\b\b\b\b\b\b\b\b\b\b\b\b\b\b\b\b\b\b\b\b\b\b\b\b\b\b\b\b\b\b\b\b\b\b\b\b\b\b\b\b\b\b\b\b\b\b\b\b\b\b\b\b\b\b\b\b\b\b\b\b\r379/379 [==============================] - 2s 4ms/step - loss: 2.6319e-04\n",
            "Epoch 42/300\n",
            "373/379 [============================>.] - ETA: 0s - loss: 2.5569e-04"
          ]
        },
        {
          "output_type": "stream",
          "name": "stderr",
          "text": [
            "WARNING:tensorflow:Early stopping conditioned on metric `val_loss` which is not available. Available metrics are: loss\n"
          ]
        },
        {
          "output_type": "stream",
          "name": "stdout",
          "text": [
            "\b\b\b\b\b\b\b\b\b\b\b\b\b\b\b\b\b\b\b\b\b\b\b\b\b\b\b\b\b\b\b\b\b\b\b\b\b\b\b\b\b\b\b\b\b\b\b\b\b\b\b\b\b\b\b\b\b\b\b\b\b\b\b\b\b\b\b\b\b\r379/379 [==============================] - 2s 4ms/step - loss: 2.5499e-04\n",
            "Epoch 43/300\n",
            "372/379 [============================>.] - ETA: 0s - loss: 2.4806e-04"
          ]
        },
        {
          "output_type": "stream",
          "name": "stderr",
          "text": [
            "WARNING:tensorflow:Early stopping conditioned on metric `val_loss` which is not available. Available metrics are: loss\n"
          ]
        },
        {
          "output_type": "stream",
          "name": "stdout",
          "text": [
            "\b\b\b\b\b\b\b\b\b\b\b\b\b\b\b\b\b\b\b\b\b\b\b\b\b\b\b\b\b\b\b\b\b\b\b\b\b\b\b\b\b\b\b\b\b\b\b\b\b\b\b\b\b\b\b\b\b\b\b\b\b\b\b\b\b\b\b\b\b\r379/379 [==============================] - 2s 4ms/step - loss: 2.4772e-04\n",
            "Epoch 44/300\n",
            "373/379 [============================>.] - ETA: 0s - loss: 2.5171e-04"
          ]
        },
        {
          "output_type": "stream",
          "name": "stderr",
          "text": [
            "WARNING:tensorflow:Early stopping conditioned on metric `val_loss` which is not available. Available metrics are: loss\n"
          ]
        },
        {
          "output_type": "stream",
          "name": "stdout",
          "text": [
            "\b\b\b\b\b\b\b\b\b\b\b\b\b\b\b\b\b\b\b\b\b\b\b\b\b\b\b\b\b\b\b\b\b\b\b\b\b\b\b\b\b\b\b\b\b\b\b\b\b\b\b\b\b\b\b\b\b\b\b\b\b\b\b\b\b\b\b\b\b\r379/379 [==============================] - 2s 4ms/step - loss: 2.5071e-04\n",
            "Epoch 45/300\n",
            "373/379 [============================>.] - ETA: 0s - loss: 2.4943e-04"
          ]
        },
        {
          "output_type": "stream",
          "name": "stderr",
          "text": [
            "WARNING:tensorflow:Early stopping conditioned on metric `val_loss` which is not available. Available metrics are: loss\n"
          ]
        },
        {
          "output_type": "stream",
          "name": "stdout",
          "text": [
            "\b\b\b\b\b\b\b\b\b\b\b\b\b\b\b\b\b\b\b\b\b\b\b\b\b\b\b\b\b\b\b\b\b\b\b\b\b\b\b\b\b\b\b\b\b\b\b\b\b\b\b\b\b\b\b\b\b\b\b\b\b\b\b\b\b\b\b\b\b\r379/379 [==============================] - 2s 4ms/step - loss: 2.4906e-04\n",
            "Epoch 46/300\n",
            "373/379 [============================>.] - ETA: 0s - loss: 2.3922e-04"
          ]
        },
        {
          "output_type": "stream",
          "name": "stderr",
          "text": [
            "WARNING:tensorflow:Early stopping conditioned on metric `val_loss` which is not available. Available metrics are: loss\n"
          ]
        },
        {
          "output_type": "stream",
          "name": "stdout",
          "text": [
            "\b\b\b\b\b\b\b\b\b\b\b\b\b\b\b\b\b\b\b\b\b\b\b\b\b\b\b\b\b\b\b\b\b\b\b\b\b\b\b\b\b\b\b\b\b\b\b\b\b\b\b\b\b\b\b\b\b\b\b\b\b\b\b\b\b\b\b\b\b\r379/379 [==============================] - 2s 4ms/step - loss: 2.4002e-04\n",
            "Epoch 47/300\n",
            "370/379 [============================>.] - ETA: 0s - loss: 2.3792e-04"
          ]
        },
        {
          "output_type": "stream",
          "name": "stderr",
          "text": [
            "WARNING:tensorflow:Early stopping conditioned on metric `val_loss` which is not available. Available metrics are: loss\n"
          ]
        },
        {
          "output_type": "stream",
          "name": "stdout",
          "text": [
            "\b\b\b\b\b\b\b\b\b\b\b\b\b\b\b\b\b\b\b\b\b\b\b\b\b\b\b\b\b\b\b\b\b\b\b\b\b\b\b\b\b\b\b\b\b\b\b\b\b\b\b\b\b\b\b\b\b\b\b\b\b\b\b\b\b\b\b\b\b\r379/379 [==============================] - 2s 4ms/step - loss: 2.3838e-04\n",
            "Epoch 48/300\n",
            "375/379 [============================>.] - ETA: 0s - loss: 2.2647e-04"
          ]
        },
        {
          "output_type": "stream",
          "name": "stderr",
          "text": [
            "WARNING:tensorflow:Early stopping conditioned on metric `val_loss` which is not available. Available metrics are: loss\n"
          ]
        },
        {
          "output_type": "stream",
          "name": "stdout",
          "text": [
            "\b\b\b\b\b\b\b\b\b\b\b\b\b\b\b\b\b\b\b\b\b\b\b\b\b\b\b\b\b\b\b\b\b\b\b\b\b\b\b\b\b\b\b\b\b\b\b\b\b\b\b\b\b\b\b\b\b\b\b\b\b\b\b\b\b\b\b\b\b\r379/379 [==============================] - 2s 5ms/step - loss: 2.2628e-04\n",
            "Epoch 49/300\n",
            "379/379 [==============================] - ETA: 0s - loss: 2.3196e-04"
          ]
        },
        {
          "output_type": "stream",
          "name": "stderr",
          "text": [
            "WARNING:tensorflow:Early stopping conditioned on metric `val_loss` which is not available. Available metrics are: loss\n"
          ]
        },
        {
          "output_type": "stream",
          "name": "stdout",
          "text": [
            "\b\b\b\b\b\b\b\b\b\b\b\b\b\b\b\b\b\b\b\b\b\b\b\b\b\b\b\b\b\b\b\b\b\b\b\b\b\b\b\b\b\b\b\b\b\b\b\b\b\b\b\b\b\b\b\b\b\b\b\b\b\b\b\b\b\b\b\b\b\r379/379 [==============================] - 2s 4ms/step - loss: 2.3196e-04\n",
            "Epoch 50/300\n",
            "373/379 [============================>.] - ETA: 0s - loss: 2.3113e-04"
          ]
        },
        {
          "output_type": "stream",
          "name": "stderr",
          "text": [
            "WARNING:tensorflow:Early stopping conditioned on metric `val_loss` which is not available. Available metrics are: loss\n"
          ]
        },
        {
          "output_type": "stream",
          "name": "stdout",
          "text": [
            "\b\b\b\b\b\b\b\b\b\b\b\b\b\b\b\b\b\b\b\b\b\b\b\b\b\b\b\b\b\b\b\b\b\b\b\b\b\b\b\b\b\b\b\b\b\b\b\b\b\b\b\b\b\b\b\b\b\b\b\b\b\b\b\b\b\b\b\b\b\r379/379 [==============================] - 2s 4ms/step - loss: 2.3129e-04\n",
            "Epoch 51/300\n",
            "372/379 [============================>.] - ETA: 0s - loss: 2.2043e-04"
          ]
        },
        {
          "output_type": "stream",
          "name": "stderr",
          "text": [
            "WARNING:tensorflow:Early stopping conditioned on metric `val_loss` which is not available. Available metrics are: loss\n"
          ]
        },
        {
          "output_type": "stream",
          "name": "stdout",
          "text": [
            "\b\b\b\b\b\b\b\b\b\b\b\b\b\b\b\b\b\b\b\b\b\b\b\b\b\b\b\b\b\b\b\b\b\b\b\b\b\b\b\b\b\b\b\b\b\b\b\b\b\b\b\b\b\b\b\b\b\b\b\b\b\b\b\b\b\b\b\b\b\r379/379 [==============================] - 2s 4ms/step - loss: 2.2258e-04\n",
            "Epoch 52/300\n",
            "373/379 [============================>.] - ETA: 0s - loss: 2.2269e-04"
          ]
        },
        {
          "output_type": "stream",
          "name": "stderr",
          "text": [
            "WARNING:tensorflow:Early stopping conditioned on metric `val_loss` which is not available. Available metrics are: loss\n"
          ]
        },
        {
          "output_type": "stream",
          "name": "stdout",
          "text": [
            "\b\b\b\b\b\b\b\b\b\b\b\b\b\b\b\b\b\b\b\b\b\b\b\b\b\b\b\b\b\b\b\b\b\b\b\b\b\b\b\b\b\b\b\b\b\b\b\b\b\b\b\b\b\b\b\b\b\b\b\b\b\b\b\b\b\b\b\b\b\r379/379 [==============================] - 2s 4ms/step - loss: 2.2230e-04\n",
            "Epoch 53/300\n",
            "373/379 [============================>.] - ETA: 0s - loss: 2.2254e-04"
          ]
        },
        {
          "output_type": "stream",
          "name": "stderr",
          "text": [
            "WARNING:tensorflow:Early stopping conditioned on metric `val_loss` which is not available. Available metrics are: loss\n"
          ]
        },
        {
          "output_type": "stream",
          "name": "stdout",
          "text": [
            "\b\b\b\b\b\b\b\b\b\b\b\b\b\b\b\b\b\b\b\b\b\b\b\b\b\b\b\b\b\b\b\b\b\b\b\b\b\b\b\b\b\b\b\b\b\b\b\b\b\b\b\b\b\b\b\b\b\b\b\b\b\b\b\b\b\b\b\b\b\r379/379 [==============================] - 2s 4ms/step - loss: 2.2315e-04\n",
            "Epoch 54/300\n",
            "373/379 [============================>.] - ETA: 0s - loss: 2.1660e-04"
          ]
        },
        {
          "output_type": "stream",
          "name": "stderr",
          "text": [
            "WARNING:tensorflow:Early stopping conditioned on metric `val_loss` which is not available. Available metrics are: loss\n"
          ]
        },
        {
          "output_type": "stream",
          "name": "stdout",
          "text": [
            "\b\b\b\b\b\b\b\b\b\b\b\b\b\b\b\b\b\b\b\b\b\b\b\b\b\b\b\b\b\b\b\b\b\b\b\b\b\b\b\b\b\b\b\b\b\b\b\b\b\b\b\b\b\b\b\b\b\b\b\b\b\b\b\b\b\b\b\b\b\r379/379 [==============================] - 2s 4ms/step - loss: 2.1641e-04\n",
            "Epoch 55/300\n",
            "370/379 [============================>.] - ETA: 0s - loss: 2.1782e-04"
          ]
        },
        {
          "output_type": "stream",
          "name": "stderr",
          "text": [
            "WARNING:tensorflow:Early stopping conditioned on metric `val_loss` which is not available. Available metrics are: loss\n"
          ]
        },
        {
          "output_type": "stream",
          "name": "stdout",
          "text": [
            "\b\b\b\b\b\b\b\b\b\b\b\b\b\b\b\b\b\b\b\b\b\b\b\b\b\b\b\b\b\b\b\b\b\b\b\b\b\b\b\b\b\b\b\b\b\b\b\b\b\b\b\b\b\b\b\b\b\b\b\b\b\b\b\b\b\b\b\b\b\r379/379 [==============================] - 2s 4ms/step - loss: 2.1866e-04\n",
            "Epoch 56/300\n",
            "375/379 [============================>.] - ETA: 0s - loss: 2.1026e-04"
          ]
        },
        {
          "output_type": "stream",
          "name": "stderr",
          "text": [
            "WARNING:tensorflow:Early stopping conditioned on metric `val_loss` which is not available. Available metrics are: loss\n"
          ]
        },
        {
          "output_type": "stream",
          "name": "stdout",
          "text": [
            "\b\b\b\b\b\b\b\b\b\b\b\b\b\b\b\b\b\b\b\b\b\b\b\b\b\b\b\b\b\b\b\b\b\b\b\b\b\b\b\b\b\b\b\b\b\b\b\b\b\b\b\b\b\b\b\b\b\b\b\b\b\b\b\b\b\b\b\b\b\r379/379 [==============================] - 2s 5ms/step - loss: 2.1016e-04\n",
            "Epoch 57/300\n",
            "371/379 [============================>.] - ETA: 0s - loss: 2.1114e-04"
          ]
        },
        {
          "output_type": "stream",
          "name": "stderr",
          "text": [
            "WARNING:tensorflow:Early stopping conditioned on metric `val_loss` which is not available. Available metrics are: loss\n"
          ]
        },
        {
          "output_type": "stream",
          "name": "stdout",
          "text": [
            "\b\b\b\b\b\b\b\b\b\b\b\b\b\b\b\b\b\b\b\b\b\b\b\b\b\b\b\b\b\b\b\b\b\b\b\b\b\b\b\b\b\b\b\b\b\b\b\b\b\b\b\b\b\b\b\b\b\b\b\b\b\b\b\b\b\b\b\b\b\r379/379 [==============================] - 2s 4ms/step - loss: 2.1062e-04\n",
            "Epoch 58/300\n",
            "373/379 [============================>.] - ETA: 0s - loss: 2.1863e-04"
          ]
        },
        {
          "output_type": "stream",
          "name": "stderr",
          "text": [
            "WARNING:tensorflow:Early stopping conditioned on metric `val_loss` which is not available. Available metrics are: loss\n"
          ]
        },
        {
          "output_type": "stream",
          "name": "stdout",
          "text": [
            "\b\b\b\b\b\b\b\b\b\b\b\b\b\b\b\b\b\b\b\b\b\b\b\b\b\b\b\b\b\b\b\b\b\b\b\b\b\b\b\b\b\b\b\b\b\b\b\b\b\b\b\b\b\b\b\b\b\b\b\b\b\b\b\b\b\b\b\b\b\r379/379 [==============================] - 2s 4ms/step - loss: 2.1813e-04\n",
            "Epoch 59/300\n",
            "373/379 [============================>.] - ETA: 0s - loss: 2.0561e-04"
          ]
        },
        {
          "output_type": "stream",
          "name": "stderr",
          "text": [
            "WARNING:tensorflow:Early stopping conditioned on metric `val_loss` which is not available. Available metrics are: loss\n"
          ]
        },
        {
          "output_type": "stream",
          "name": "stdout",
          "text": [
            "\b\b\b\b\b\b\b\b\b\b\b\b\b\b\b\b\b\b\b\b\b\b\b\b\b\b\b\b\b\b\b\b\b\b\b\b\b\b\b\b\b\b\b\b\b\b\b\b\b\b\b\b\b\b\b\b\b\b\b\b\b\b\b\b\b\b\b\b\b\r379/379 [==============================] - 2s 4ms/step - loss: 2.0535e-04\n",
            "Epoch 60/300\n",
            "373/379 [============================>.] - ETA: 0s - loss: 2.1325e-04"
          ]
        },
        {
          "output_type": "stream",
          "name": "stderr",
          "text": [
            "WARNING:tensorflow:Early stopping conditioned on metric `val_loss` which is not available. Available metrics are: loss\n"
          ]
        },
        {
          "output_type": "stream",
          "name": "stdout",
          "text": [
            "\b\b\b\b\b\b\b\b\b\b\b\b\b\b\b\b\b\b\b\b\b\b\b\b\b\b\b\b\b\b\b\b\b\b\b\b\b\b\b\b\b\b\b\b\b\b\b\b\b\b\b\b\b\b\b\b\b\b\b\b\b\b\b\b\b\b\b\b\b\r379/379 [==============================] - 2s 4ms/step - loss: 2.1240e-04\n",
            "Epoch 61/300\n",
            "373/379 [============================>.] - ETA: 0s - loss: 2.0498e-04"
          ]
        },
        {
          "output_type": "stream",
          "name": "stderr",
          "text": [
            "WARNING:tensorflow:Early stopping conditioned on metric `val_loss` which is not available. Available metrics are: loss\n"
          ]
        },
        {
          "output_type": "stream",
          "name": "stdout",
          "text": [
            "\b\b\b\b\b\b\b\b\b\b\b\b\b\b\b\b\b\b\b\b\b\b\b\b\b\b\b\b\b\b\b\b\b\b\b\b\b\b\b\b\b\b\b\b\b\b\b\b\b\b\b\b\b\b\b\b\b\b\b\b\b\b\b\b\b\b\b\b\b\r379/379 [==============================] - 2s 4ms/step - loss: 2.0530e-04\n",
            "Epoch 62/300\n",
            "373/379 [============================>.] - ETA: 0s - loss: 2.0975e-04"
          ]
        },
        {
          "output_type": "stream",
          "name": "stderr",
          "text": [
            "WARNING:tensorflow:Early stopping conditioned on metric `val_loss` which is not available. Available metrics are: loss\n"
          ]
        },
        {
          "output_type": "stream",
          "name": "stdout",
          "text": [
            "\b\b\b\b\b\b\b\b\b\b\b\b\b\b\b\b\b\b\b\b\b\b\b\b\b\b\b\b\b\b\b\b\b\b\b\b\b\b\b\b\b\b\b\b\b\b\b\b\b\b\b\b\b\b\b\b\b\b\b\b\b\b\b\b\b\b\b\b\b\r379/379 [==============================] - 2s 4ms/step - loss: 2.0919e-04\n",
            "Epoch 63/300\n",
            "379/379 [==============================] - ETA: 0s - loss: 2.0500e-04"
          ]
        },
        {
          "output_type": "stream",
          "name": "stderr",
          "text": [
            "WARNING:tensorflow:Early stopping conditioned on metric `val_loss` which is not available. Available metrics are: loss\n"
          ]
        },
        {
          "output_type": "stream",
          "name": "stdout",
          "text": [
            "\b\b\b\b\b\b\b\b\b\b\b\b\b\b\b\b\b\b\b\b\b\b\b\b\b\b\b\b\b\b\b\b\b\b\b\b\b\b\b\b\b\b\b\b\b\b\b\b\b\b\b\b\b\b\b\b\b\b\b\b\b\b\b\b\b\b\b\b\b\r379/379 [==============================] - 2s 4ms/step - loss: 2.0500e-04\n",
            "Epoch 64/300\n",
            "371/379 [============================>.] - ETA: 0s - loss: 2.0463e-04"
          ]
        },
        {
          "output_type": "stream",
          "name": "stderr",
          "text": [
            "WARNING:tensorflow:Early stopping conditioned on metric `val_loss` which is not available. Available metrics are: loss\n"
          ]
        },
        {
          "output_type": "stream",
          "name": "stdout",
          "text": [
            "\b\b\b\b\b\b\b\b\b\b\b\b\b\b\b\b\b\b\b\b\b\b\b\b\b\b\b\b\b\b\b\b\b\b\b\b\b\b\b\b\b\b\b\b\b\b\b\b\b\b\b\b\b\b\b\b\b\b\b\b\b\b\b\b\b\b\b\b\b\r379/379 [==============================] - 2s 5ms/step - loss: 2.0554e-04\n",
            "Epoch 65/300\n",
            "369/379 [============================>.] - ETA: 0s - loss: 1.8951e-04"
          ]
        },
        {
          "output_type": "stream",
          "name": "stderr",
          "text": [
            "WARNING:tensorflow:Early stopping conditioned on metric `val_loss` which is not available. Available metrics are: loss\n"
          ]
        },
        {
          "output_type": "stream",
          "name": "stdout",
          "text": [
            "\b\b\b\b\b\b\b\b\b\b\b\b\b\b\b\b\b\b\b\b\b\b\b\b\b\b\b\b\b\b\b\b\b\b\b\b\b\b\b\b\b\b\b\b\b\b\b\b\b\b\b\b\b\b\b\b\b\b\b\b\b\b\b\b\b\b\b\b\b\r379/379 [==============================] - 2s 4ms/step - loss: 1.8879e-04\n",
            "Epoch 66/300\n",
            "373/379 [============================>.] - ETA: 0s - loss: 1.9927e-04"
          ]
        },
        {
          "output_type": "stream",
          "name": "stderr",
          "text": [
            "WARNING:tensorflow:Early stopping conditioned on metric `val_loss` which is not available. Available metrics are: loss\n"
          ]
        },
        {
          "output_type": "stream",
          "name": "stdout",
          "text": [
            "\b\b\b\b\b\b\b\b\b\b\b\b\b\b\b\b\b\b\b\b\b\b\b\b\b\b\b\b\b\b\b\b\b\b\b\b\b\b\b\b\b\b\b\b\b\b\b\b\b\b\b\b\b\b\b\b\b\b\b\b\b\b\b\b\b\b\b\b\b\r379/379 [==============================] - 2s 4ms/step - loss: 1.9943e-04\n",
            "Epoch 67/300\n",
            "373/379 [============================>.] - ETA: 0s - loss: 1.9527e-04"
          ]
        },
        {
          "output_type": "stream",
          "name": "stderr",
          "text": [
            "WARNING:tensorflow:Early stopping conditioned on metric `val_loss` which is not available. Available metrics are: loss\n"
          ]
        },
        {
          "output_type": "stream",
          "name": "stdout",
          "text": [
            "\b\b\b\b\b\b\b\b\b\b\b\b\b\b\b\b\b\b\b\b\b\b\b\b\b\b\b\b\b\b\b\b\b\b\b\b\b\b\b\b\b\b\b\b\b\b\b\b\b\b\b\b\b\b\b\b\b\b\b\b\b\b\b\b\b\b\b\b\b\r379/379 [==============================] - 2s 4ms/step - loss: 1.9493e-04\n",
            "Epoch 68/300\n",
            "373/379 [============================>.] - ETA: 0s - loss: 1.9869e-04"
          ]
        },
        {
          "output_type": "stream",
          "name": "stderr",
          "text": [
            "WARNING:tensorflow:Early stopping conditioned on metric `val_loss` which is not available. Available metrics are: loss\n"
          ]
        },
        {
          "output_type": "stream",
          "name": "stdout",
          "text": [
            "\b\b\b\b\b\b\b\b\b\b\b\b\b\b\b\b\b\b\b\b\b\b\b\b\b\b\b\b\b\b\b\b\b\b\b\b\b\b\b\b\b\b\b\b\b\b\b\b\b\b\b\b\b\b\b\b\b\b\b\b\b\b\b\b\b\b\b\b\b\r379/379 [==============================] - 2s 4ms/step - loss: 1.9844e-04\n",
            "Epoch 69/300\n",
            "373/379 [============================>.] - ETA: 0s - loss: 1.8998e-04"
          ]
        },
        {
          "output_type": "stream",
          "name": "stderr",
          "text": [
            "WARNING:tensorflow:Early stopping conditioned on metric `val_loss` which is not available. Available metrics are: loss\n"
          ]
        },
        {
          "output_type": "stream",
          "name": "stdout",
          "text": [
            "\b\b\b\b\b\b\b\b\b\b\b\b\b\b\b\b\b\b\b\b\b\b\b\b\b\b\b\b\b\b\b\b\b\b\b\b\b\b\b\b\b\b\b\b\b\b\b\b\b\b\b\b\b\b\b\b\b\b\b\b\b\b\b\b\b\b\b\b\b\r379/379 [==============================] - 2s 4ms/step - loss: 1.9140e-04\n",
            "Epoch 70/300\n",
            "372/379 [============================>.] - ETA: 0s - loss: 1.9482e-04"
          ]
        },
        {
          "output_type": "stream",
          "name": "stderr",
          "text": [
            "WARNING:tensorflow:Early stopping conditioned on metric `val_loss` which is not available. Available metrics are: loss\n"
          ]
        },
        {
          "output_type": "stream",
          "name": "stdout",
          "text": [
            "\b\b\b\b\b\b\b\b\b\b\b\b\b\b\b\b\b\b\b\b\b\b\b\b\b\b\b\b\b\b\b\b\b\b\b\b\b\b\b\b\b\b\b\b\b\b\b\b\b\b\b\b\b\b\b\b\b\b\b\b\b\b\b\b\b\b\b\b\b\r379/379 [==============================] - 2s 4ms/step - loss: 1.9564e-04\n",
            "Epoch 71/300\n",
            "376/379 [============================>.] - ETA: 0s - loss: 1.9164e-04"
          ]
        },
        {
          "output_type": "stream",
          "name": "stderr",
          "text": [
            "WARNING:tensorflow:Early stopping conditioned on metric `val_loss` which is not available. Available metrics are: loss\n"
          ]
        },
        {
          "output_type": "stream",
          "name": "stdout",
          "text": [
            "\b\b\b\b\b\b\b\b\b\b\b\b\b\b\b\b\b\b\b\b\b\b\b\b\b\b\b\b\b\b\b\b\b\b\b\b\b\b\b\b\b\b\b\b\b\b\b\b\b\b\b\b\b\b\b\b\b\b\b\b\b\b\b\b\b\b\b\b\b\r379/379 [==============================] - 2s 4ms/step - loss: 1.9135e-04\n",
            "Epoch 72/300\n",
            "377/379 [============================>.] - ETA: 0s - loss: 1.9149e-04"
          ]
        },
        {
          "output_type": "stream",
          "name": "stderr",
          "text": [
            "WARNING:tensorflow:Early stopping conditioned on metric `val_loss` which is not available. Available metrics are: loss\n"
          ]
        },
        {
          "output_type": "stream",
          "name": "stdout",
          "text": [
            "\b\b\b\b\b\b\b\b\b\b\b\b\b\b\b\b\b\b\b\b\b\b\b\b\b\b\b\b\b\b\b\b\b\b\b\b\b\b\b\b\b\b\b\b\b\b\b\b\b\b\b\b\b\b\b\b\b\b\b\b\b\b\b\b\b\b\b\b\b\r379/379 [==============================] - 2s 5ms/step - loss: 1.9134e-04\n",
            "Epoch 73/300\n",
            "371/379 [============================>.] - ETA: 0s - loss: 1.9400e-04"
          ]
        },
        {
          "output_type": "stream",
          "name": "stderr",
          "text": [
            "WARNING:tensorflow:Early stopping conditioned on metric `val_loss` which is not available. Available metrics are: loss\n"
          ]
        },
        {
          "output_type": "stream",
          "name": "stdout",
          "text": [
            "\b\b\b\b\b\b\b\b\b\b\b\b\b\b\b\b\b\b\b\b\b\b\b\b\b\b\b\b\b\b\b\b\b\b\b\b\b\b\b\b\b\b\b\b\b\b\b\b\b\b\b\b\b\b\b\b\b\b\b\b\b\b\b\b\b\b\b\b\b\r379/379 [==============================] - 2s 4ms/step - loss: 1.9347e-04\n",
            "Epoch 74/300\n",
            "371/379 [============================>.] - ETA: 0s - loss: 1.8907e-04"
          ]
        },
        {
          "output_type": "stream",
          "name": "stderr",
          "text": [
            "WARNING:tensorflow:Early stopping conditioned on metric `val_loss` which is not available. Available metrics are: loss\n"
          ]
        },
        {
          "output_type": "stream",
          "name": "stdout",
          "text": [
            "\b\b\b\b\b\b\b\b\b\b\b\b\b\b\b\b\b\b\b\b\b\b\b\b\b\b\b\b\b\b\b\b\b\b\b\b\b\b\b\b\b\b\b\b\b\b\b\b\b\b\b\b\b\b\b\b\b\b\b\b\b\b\b\b\b\b\b\b\b\r379/379 [==============================] - 2s 4ms/step - loss: 1.9026e-04\n",
            "Epoch 75/300\n",
            "373/379 [============================>.] - ETA: 0s - loss: 1.8405e-04"
          ]
        },
        {
          "output_type": "stream",
          "name": "stderr",
          "text": [
            "WARNING:tensorflow:Early stopping conditioned on metric `val_loss` which is not available. Available metrics are: loss\n"
          ]
        },
        {
          "output_type": "stream",
          "name": "stdout",
          "text": [
            "\b\b\b\b\b\b\b\b\b\b\b\b\b\b\b\b\b\b\b\b\b\b\b\b\b\b\b\b\b\b\b\b\b\b\b\b\b\b\b\b\b\b\b\b\b\b\b\b\b\b\b\b\b\b\b\b\b\b\b\b\b\b\b\b\b\b\b\b\b\r379/379 [==============================] - 2s 4ms/step - loss: 1.8371e-04\n",
            "Epoch 76/300\n",
            "372/379 [============================>.] - ETA: 0s - loss: 1.8354e-04"
          ]
        },
        {
          "output_type": "stream",
          "name": "stderr",
          "text": [
            "WARNING:tensorflow:Early stopping conditioned on metric `val_loss` which is not available. Available metrics are: loss\n"
          ]
        },
        {
          "output_type": "stream",
          "name": "stdout",
          "text": [
            "\b\b\b\b\b\b\b\b\b\b\b\b\b\b\b\b\b\b\b\b\b\b\b\b\b\b\b\b\b\b\b\b\b\b\b\b\b\b\b\b\b\b\b\b\b\b\b\b\b\b\b\b\b\b\b\b\b\b\b\b\b\b\b\b\b\b\b\b\b\r379/379 [==============================] - 2s 4ms/step - loss: 1.8279e-04\n",
            "Epoch 77/300\n",
            "372/379 [============================>.] - ETA: 0s - loss: 1.8508e-04"
          ]
        },
        {
          "output_type": "stream",
          "name": "stderr",
          "text": [
            "WARNING:tensorflow:Early stopping conditioned on metric `val_loss` which is not available. Available metrics are: loss\n"
          ]
        },
        {
          "output_type": "stream",
          "name": "stdout",
          "text": [
            "\b\b\b\b\b\b\b\b\b\b\b\b\b\b\b\b\b\b\b\b\b\b\b\b\b\b\b\b\b\b\b\b\b\b\b\b\b\b\b\b\b\b\b\b\b\b\b\b\b\b\b\b\b\b\b\b\b\b\b\b\b\b\b\b\b\b\b\b\b\r379/379 [==============================] - 2s 4ms/step - loss: 1.8458e-04\n",
            "Epoch 78/300\n",
            "372/379 [============================>.] - ETA: 0s - loss: 1.8753e-04"
          ]
        },
        {
          "output_type": "stream",
          "name": "stderr",
          "text": [
            "WARNING:tensorflow:Early stopping conditioned on metric `val_loss` which is not available. Available metrics are: loss\n"
          ]
        },
        {
          "output_type": "stream",
          "name": "stdout",
          "text": [
            "\b\b\b\b\b\b\b\b\b\b\b\b\b\b\b\b\b\b\b\b\b\b\b\b\b\b\b\b\b\b\b\b\b\b\b\b\b\b\b\b\b\b\b\b\b\b\b\b\b\b\b\b\b\b\b\b\b\b\b\b\b\b\b\b\b\b\b\b\b\r379/379 [==============================] - 2s 4ms/step - loss: 1.8706e-04\n",
            "Epoch 79/300\n",
            "371/379 [============================>.] - ETA: 0s - loss: 1.8051e-04"
          ]
        },
        {
          "output_type": "stream",
          "name": "stderr",
          "text": [
            "WARNING:tensorflow:Early stopping conditioned on metric `val_loss` which is not available. Available metrics are: loss\n"
          ]
        },
        {
          "output_type": "stream",
          "name": "stdout",
          "text": [
            "\b\b\b\b\b\b\b\b\b\b\b\b\b\b\b\b\b\b\b\b\b\b\b\b\b\b\b\b\b\b\b\b\b\b\b\b\b\b\b\b\b\b\b\b\b\b\b\b\b\b\b\b\b\b\b\b\b\b\b\b\b\b\b\b\b\b\b\b\b\r379/379 [==============================] - 2s 5ms/step - loss: 1.8098e-04\n",
            "Epoch 80/300\n",
            "370/379 [============================>.] - ETA: 0s - loss: 1.8294e-04"
          ]
        },
        {
          "output_type": "stream",
          "name": "stderr",
          "text": [
            "WARNING:tensorflow:Early stopping conditioned on metric `val_loss` which is not available. Available metrics are: loss\n"
          ]
        },
        {
          "output_type": "stream",
          "name": "stdout",
          "text": [
            "\b\b\b\b\b\b\b\b\b\b\b\b\b\b\b\b\b\b\b\b\b\b\b\b\b\b\b\b\b\b\b\b\b\b\b\b\b\b\b\b\b\b\b\b\b\b\b\b\b\b\b\b\b\b\b\b\b\b\b\b\b\b\b\b\b\b\b\b\b\r379/379 [==============================] - 2s 5ms/step - loss: 1.8318e-04\n",
            "Epoch 81/300\n",
            "376/379 [============================>.] - ETA: 0s - loss: 1.8295e-04"
          ]
        },
        {
          "output_type": "stream",
          "name": "stderr",
          "text": [
            "WARNING:tensorflow:Early stopping conditioned on metric `val_loss` which is not available. Available metrics are: loss\n"
          ]
        },
        {
          "output_type": "stream",
          "name": "stdout",
          "text": [
            "\b\b\b\b\b\b\b\b\b\b\b\b\b\b\b\b\b\b\b\b\b\b\b\b\b\b\b\b\b\b\b\b\b\b\b\b\b\b\b\b\b\b\b\b\b\b\b\b\b\b\b\b\b\b\b\b\b\b\b\b\b\b\b\b\b\b\b\b\b\r379/379 [==============================] - 2s 5ms/step - loss: 1.8256e-04\n",
            "Epoch 82/300\n",
            "372/379 [============================>.] - ETA: 0s - loss: 1.8119e-04"
          ]
        },
        {
          "output_type": "stream",
          "name": "stderr",
          "text": [
            "WARNING:tensorflow:Early stopping conditioned on metric `val_loss` which is not available. Available metrics are: loss\n"
          ]
        },
        {
          "output_type": "stream",
          "name": "stdout",
          "text": [
            "\b\b\b\b\b\b\b\b\b\b\b\b\b\b\b\b\b\b\b\b\b\b\b\b\b\b\b\b\b\b\b\b\b\b\b\b\b\b\b\b\b\b\b\b\b\b\b\b\b\b\b\b\b\b\b\b\b\b\b\b\b\b\b\b\b\b\b\b\b\r379/379 [==============================] - 2s 4ms/step - loss: 1.8030e-04\n",
            "Epoch 83/300\n",
            "373/379 [============================>.] - ETA: 0s - loss: 1.8437e-04"
          ]
        },
        {
          "output_type": "stream",
          "name": "stderr",
          "text": [
            "WARNING:tensorflow:Early stopping conditioned on metric `val_loss` which is not available. Available metrics are: loss\n"
          ]
        },
        {
          "output_type": "stream",
          "name": "stdout",
          "text": [
            "\b\b\b\b\b\b\b\b\b\b\b\b\b\b\b\b\b\b\b\b\b\b\b\b\b\b\b\b\b\b\b\b\b\b\b\b\b\b\b\b\b\b\b\b\b\b\b\b\b\b\b\b\b\b\b\b\b\b\b\b\b\b\b\b\b\b\b\b\b\r379/379 [==============================] - 2s 4ms/step - loss: 1.8476e-04\n",
            "Epoch 84/300\n",
            "373/379 [============================>.] - ETA: 0s - loss: 1.8281e-04"
          ]
        },
        {
          "output_type": "stream",
          "name": "stderr",
          "text": [
            "WARNING:tensorflow:Early stopping conditioned on metric `val_loss` which is not available. Available metrics are: loss\n"
          ]
        },
        {
          "output_type": "stream",
          "name": "stdout",
          "text": [
            "\b\b\b\b\b\b\b\b\b\b\b\b\b\b\b\b\b\b\b\b\b\b\b\b\b\b\b\b\b\b\b\b\b\b\b\b\b\b\b\b\b\b\b\b\b\b\b\b\b\b\b\b\b\b\b\b\b\b\b\b\b\b\b\b\b\b\b\b\b\r379/379 [==============================] - 2s 4ms/step - loss: 1.8264e-04\n",
            "Epoch 85/300\n",
            "373/379 [============================>.] - ETA: 0s - loss: 1.7591e-04"
          ]
        },
        {
          "output_type": "stream",
          "name": "stderr",
          "text": [
            "WARNING:tensorflow:Early stopping conditioned on metric `val_loss` which is not available. Available metrics are: loss\n"
          ]
        },
        {
          "output_type": "stream",
          "name": "stdout",
          "text": [
            "\b\b\b\b\b\b\b\b\b\b\b\b\b\b\b\b\b\b\b\b\b\b\b\b\b\b\b\b\b\b\b\b\b\b\b\b\b\b\b\b\b\b\b\b\b\b\b\b\b\b\b\b\b\b\b\b\b\b\b\b\b\b\b\b\b\b\b\b\b\r379/379 [==============================] - 2s 4ms/step - loss: 1.8020e-04\n",
            "Epoch 86/300\n",
            "379/379 [==============================] - ETA: 0s - loss: 1.8312e-04"
          ]
        },
        {
          "output_type": "stream",
          "name": "stderr",
          "text": [
            "WARNING:tensorflow:Early stopping conditioned on metric `val_loss` which is not available. Available metrics are: loss\n"
          ]
        },
        {
          "output_type": "stream",
          "name": "stdout",
          "text": [
            "\b\b\b\b\b\b\b\b\b\b\b\b\b\b\b\b\b\b\b\b\b\b\b\b\b\b\b\b\b\b\b\b\b\b\b\b\b\b\b\b\b\b\b\b\b\b\b\b\b\b\b\b\b\b\b\b\b\b\b\b\b\b\b\b\b\b\b\b\b\r379/379 [==============================] - 2s 4ms/step - loss: 1.8312e-04\n",
            "Epoch 87/300\n",
            "378/379 [============================>.] - ETA: 0s - loss: 1.8152e-04"
          ]
        },
        {
          "output_type": "stream",
          "name": "stderr",
          "text": [
            "WARNING:tensorflow:Early stopping conditioned on metric `val_loss` which is not available. Available metrics are: loss\n"
          ]
        },
        {
          "output_type": "stream",
          "name": "stdout",
          "text": [
            "\b\b\b\b\b\b\b\b\b\b\b\b\b\b\b\b\b\b\b\b\b\b\b\b\b\b\b\b\b\b\b\b\b\b\b\b\b\b\b\b\b\b\b\b\b\b\b\b\b\b\b\b\b\b\b\b\b\b\b\b\b\b\b\b\b\b\b\b\b\r379/379 [==============================] - 2s 5ms/step - loss: 1.8147e-04\n",
            "Epoch 88/300\n",
            "368/379 [============================>.] - ETA: 0s - loss: 1.8172e-04"
          ]
        },
        {
          "output_type": "stream",
          "name": "stderr",
          "text": [
            "WARNING:tensorflow:Early stopping conditioned on metric `val_loss` which is not available. Available metrics are: loss\n"
          ]
        },
        {
          "output_type": "stream",
          "name": "stdout",
          "text": [
            "\b\b\b\b\b\b\b\b\b\b\b\b\b\b\b\b\b\b\b\b\b\b\b\b\b\b\b\b\b\b\b\b\b\b\b\b\b\b\b\b\b\b\b\b\b\b\b\b\b\b\b\b\b\b\b\b\b\b\b\b\b\b\b\b\b\b\b\b\b\r379/379 [==============================] - 2s 4ms/step - loss: 1.8263e-04\n",
            "Epoch 89/300\n",
            "372/379 [============================>.] - ETA: 0s - loss: 1.8465e-04"
          ]
        },
        {
          "output_type": "stream",
          "name": "stderr",
          "text": [
            "WARNING:tensorflow:Early stopping conditioned on metric `val_loss` which is not available. Available metrics are: loss\n"
          ]
        },
        {
          "output_type": "stream",
          "name": "stdout",
          "text": [
            "\b\b\b\b\b\b\b\b\b\b\b\b\b\b\b\b\b\b\b\b\b\b\b\b\b\b\b\b\b\b\b\b\b\b\b\b\b\b\b\b\b\b\b\b\b\b\b\b\b\b\b\b\b\b\b\b\b\b\b\b\b\b\b\b\b\b\b\b\b\r379/379 [==============================] - 2s 4ms/step - loss: 1.8372e-04\n",
            "Epoch 90/300\n",
            "373/379 [============================>.] - ETA: 0s - loss: 1.7798e-04"
          ]
        },
        {
          "output_type": "stream",
          "name": "stderr",
          "text": [
            "WARNING:tensorflow:Early stopping conditioned on metric `val_loss` which is not available. Available metrics are: loss\n"
          ]
        },
        {
          "output_type": "stream",
          "name": "stdout",
          "text": [
            "\b\b\b\b\b\b\b\b\b\b\b\b\b\b\b\b\b\b\b\b\b\b\b\b\b\b\b\b\b\b\b\b\b\b\b\b\b\b\b\b\b\b\b\b\b\b\b\b\b\b\b\b\b\b\b\b\b\b\b\b\b\b\b\b\b\b\b\b\b\r379/379 [==============================] - 2s 4ms/step - loss: 1.7820e-04\n",
            "Epoch 91/300\n",
            "373/379 [============================>.] - ETA: 0s - loss: 1.8170e-04"
          ]
        },
        {
          "output_type": "stream",
          "name": "stderr",
          "text": [
            "WARNING:tensorflow:Early stopping conditioned on metric `val_loss` which is not available. Available metrics are: loss\n"
          ]
        },
        {
          "output_type": "stream",
          "name": "stdout",
          "text": [
            "\b\b\b\b\b\b\b\b\b\b\b\b\b\b\b\b\b\b\b\b\b\b\b\b\b\b\b\b\b\b\b\b\b\b\b\b\b\b\b\b\b\b\b\b\b\b\b\b\b\b\b\b\b\b\b\b\b\b\b\b\b\b\b\b\b\b\b\b\b\r379/379 [==============================] - 2s 4ms/step - loss: 1.8245e-04\n",
            "Epoch 92/300\n",
            "373/379 [============================>.] - ETA: 0s - loss: 1.7114e-04"
          ]
        },
        {
          "output_type": "stream",
          "name": "stderr",
          "text": [
            "WARNING:tensorflow:Early stopping conditioned on metric `val_loss` which is not available. Available metrics are: loss\n"
          ]
        },
        {
          "output_type": "stream",
          "name": "stdout",
          "text": [
            "\b\b\b\b\b\b\b\b\b\b\b\b\b\b\b\b\b\b\b\b\b\b\b\b\b\b\b\b\b\b\b\b\b\b\b\b\b\b\b\b\b\b\b\b\b\b\b\b\b\b\b\b\b\b\b\b\b\b\b\b\b\b\b\b\b\b\b\b\b\r379/379 [==============================] - 2s 4ms/step - loss: 1.7075e-04\n",
            "Epoch 93/300\n",
            "373/379 [============================>.] - ETA: 0s - loss: 1.8269e-04"
          ]
        },
        {
          "output_type": "stream",
          "name": "stderr",
          "text": [
            "WARNING:tensorflow:Early stopping conditioned on metric `val_loss` which is not available. Available metrics are: loss\n"
          ]
        },
        {
          "output_type": "stream",
          "name": "stdout",
          "text": [
            "\b\b\b\b\b\b\b\b\b\b\b\b\b\b\b\b\b\b\b\b\b\b\b\b\b\b\b\b\b\b\b\b\b\b\b\b\b\b\b\b\b\b\b\b\b\b\b\b\b\b\b\b\b\b\b\b\b\b\b\b\b\b\b\b\b\b\b\b\b\r379/379 [==============================] - 2s 4ms/step - loss: 1.8243e-04\n",
            "Epoch 94/300\n",
            "376/379 [============================>.] - ETA: 0s - loss: 1.7512e-04"
          ]
        },
        {
          "output_type": "stream",
          "name": "stderr",
          "text": [
            "WARNING:tensorflow:Early stopping conditioned on metric `val_loss` which is not available. Available metrics are: loss\n"
          ]
        },
        {
          "output_type": "stream",
          "name": "stdout",
          "text": [
            "\b\b\b\b\b\b\b\b\b\b\b\b\b\b\b\b\b\b\b\b\b\b\b\b\b\b\b\b\b\b\b\b\b\b\b\b\b\b\b\b\b\b\b\b\b\b\b\b\b\b\b\b\b\b\b\b\b\b\b\b\b\b\b\b\b\b\b\b\b\r379/379 [==============================] - 2s 4ms/step - loss: 1.7466e-04\n",
            "Epoch 95/300\n",
            "378/379 [============================>.] - ETA: 0s - loss: 1.8078e-04"
          ]
        },
        {
          "output_type": "stream",
          "name": "stderr",
          "text": [
            "WARNING:tensorflow:Early stopping conditioned on metric `val_loss` which is not available. Available metrics are: loss\n"
          ]
        },
        {
          "output_type": "stream",
          "name": "stdout",
          "text": [
            "\b\b\b\b\b\b\b\b\b\b\b\b\b\b\b\b\b\b\b\b\b\b\b\b\b\b\b\b\b\b\b\b\b\b\b\b\b\b\b\b\b\b\b\b\b\b\b\b\b\b\b\b\b\b\b\b\b\b\b\b\b\b\b\b\b\b\b\b\b\r379/379 [==============================] - 2s 5ms/step - loss: 1.8074e-04\n",
            "Epoch 96/300\n",
            "378/379 [============================>.] - ETA: 0s - loss: 1.7437e-04"
          ]
        },
        {
          "output_type": "stream",
          "name": "stderr",
          "text": [
            "WARNING:tensorflow:Early stopping conditioned on metric `val_loss` which is not available. Available metrics are: loss\n"
          ]
        },
        {
          "output_type": "stream",
          "name": "stdout",
          "text": [
            "\b\b\b\b\b\b\b\b\b\b\b\b\b\b\b\b\b\b\b\b\b\b\b\b\b\b\b\b\b\b\b\b\b\b\b\b\b\b\b\b\b\b\b\b\b\b\b\b\b\b\b\b\b\b\b\b\b\b\b\b\b\b\b\b\b\b\b\b\b\r379/379 [==============================] - 2s 4ms/step - loss: 1.7432e-04\n",
            "Epoch 97/300\n",
            "372/379 [============================>.] - ETA: 0s - loss: 1.7367e-04"
          ]
        },
        {
          "output_type": "stream",
          "name": "stderr",
          "text": [
            "WARNING:tensorflow:Early stopping conditioned on metric `val_loss` which is not available. Available metrics are: loss\n"
          ]
        },
        {
          "output_type": "stream",
          "name": "stdout",
          "text": [
            "\b\b\b\b\b\b\b\b\b\b\b\b\b\b\b\b\b\b\b\b\b\b\b\b\b\b\b\b\b\b\b\b\b\b\b\b\b\b\b\b\b\b\b\b\b\b\b\b\b\b\b\b\b\b\b\b\b\b\b\b\b\b\b\b\b\b\b\b\b\r379/379 [==============================] - 2s 4ms/step - loss: 1.7313e-04\n",
            "Epoch 98/300\n",
            "373/379 [============================>.] - ETA: 0s - loss: 1.8039e-04"
          ]
        },
        {
          "output_type": "stream",
          "name": "stderr",
          "text": [
            "WARNING:tensorflow:Early stopping conditioned on metric `val_loss` which is not available. Available metrics are: loss\n"
          ]
        },
        {
          "output_type": "stream",
          "name": "stdout",
          "text": [
            "\b\b\b\b\b\b\b\b\b\b\b\b\b\b\b\b\b\b\b\b\b\b\b\b\b\b\b\b\b\b\b\b\b\b\b\b\b\b\b\b\b\b\b\b\b\b\b\b\b\b\b\b\b\b\b\b\b\b\b\b\b\b\b\b\b\b\b\b\b\r379/379 [==============================] - 2s 4ms/step - loss: 1.8011e-04\n",
            "Epoch 99/300\n",
            "373/379 [============================>.] - ETA: 0s - loss: 1.7476e-04"
          ]
        },
        {
          "output_type": "stream",
          "name": "stderr",
          "text": [
            "WARNING:tensorflow:Early stopping conditioned on metric `val_loss` which is not available. Available metrics are: loss\n"
          ]
        },
        {
          "output_type": "stream",
          "name": "stdout",
          "text": [
            "\b\b\b\b\b\b\b\b\b\b\b\b\b\b\b\b\b\b\b\b\b\b\b\b\b\b\b\b\b\b\b\b\b\b\b\b\b\b\b\b\b\b\b\b\b\b\b\b\b\b\b\b\b\b\b\b\b\b\b\b\b\b\b\b\b\b\b\b\b\r379/379 [==============================] - 2s 4ms/step - loss: 1.7468e-04\n",
            "Epoch 100/300\n",
            "371/379 [============================>.] - ETA: 0s - loss: 1.7790e-04"
          ]
        },
        {
          "output_type": "stream",
          "name": "stderr",
          "text": [
            "WARNING:tensorflow:Early stopping conditioned on metric `val_loss` which is not available. Available metrics are: loss\n"
          ]
        },
        {
          "output_type": "stream",
          "name": "stdout",
          "text": [
            "\b\b\b\b\b\b\b\b\b\b\b\b\b\b\b\b\b\b\b\b\b\b\b\b\b\b\b\b\b\b\b\b\b\b\b\b\b\b\b\b\b\b\b\b\b\b\b\b\b\b\b\b\b\b\b\b\b\b\b\b\b\b\b\b\b\b\b\b\b\r379/379 [==============================] - 2s 4ms/step - loss: 1.7715e-04\n",
            "Epoch 101/300\n",
            "373/379 [============================>.] - ETA: 0s - loss: 1.7391e-04"
          ]
        },
        {
          "output_type": "stream",
          "name": "stderr",
          "text": [
            "WARNING:tensorflow:Early stopping conditioned on metric `val_loss` which is not available. Available metrics are: loss\n"
          ]
        },
        {
          "output_type": "stream",
          "name": "stdout",
          "text": [
            "\b\b\b\b\b\b\b\b\b\b\b\b\b\b\b\b\b\b\b\b\b\b\b\b\b\b\b\b\b\b\b\b\b\b\b\b\b\b\b\b\b\b\b\b\b\b\b\b\b\b\b\b\b\b\b\b\b\b\b\b\b\b\b\b\b\b\b\b\b\r379/379 [==============================] - 2s 4ms/step - loss: 1.7394e-04\n",
            "Epoch 102/300\n",
            "378/379 [============================>.] - ETA: 0s - loss: 1.8024e-04"
          ]
        },
        {
          "output_type": "stream",
          "name": "stderr",
          "text": [
            "WARNING:tensorflow:Early stopping conditioned on metric `val_loss` which is not available. Available metrics are: loss\n"
          ]
        },
        {
          "output_type": "stream",
          "name": "stdout",
          "text": [
            "\b\b\b\b\b\b\b\b\b\b\b\b\b\b\b\b\b\b\b\b\b\b\b\b\b\b\b\b\b\b\b\b\b\b\b\b\b\b\b\b\b\b\b\b\b\b\b\b\b\b\b\b\b\b\b\b\b\b\b\b\b\b\b\b\b\b\b\b\b\r379/379 [==============================] - 2s 5ms/step - loss: 1.8021e-04\n",
            "Epoch 103/300\n",
            "378/379 [============================>.] - ETA: 0s - loss: 1.7205e-04"
          ]
        },
        {
          "output_type": "stream",
          "name": "stderr",
          "text": [
            "WARNING:tensorflow:Early stopping conditioned on metric `val_loss` which is not available. Available metrics are: loss\n"
          ]
        },
        {
          "output_type": "stream",
          "name": "stdout",
          "text": [
            "\b\b\b\b\b\b\b\b\b\b\b\b\b\b\b\b\b\b\b\b\b\b\b\b\b\b\b\b\b\b\b\b\b\b\b\b\b\b\b\b\b\b\b\b\b\b\b\b\b\b\b\b\b\b\b\b\b\b\b\b\b\b\b\b\b\b\b\b\b\r379/379 [==============================] - 2s 5ms/step - loss: 1.7200e-04\n",
            "Epoch 104/300\n",
            "373/379 [============================>.] - ETA: 0s - loss: 1.7198e-04"
          ]
        },
        {
          "output_type": "stream",
          "name": "stderr",
          "text": [
            "WARNING:tensorflow:Early stopping conditioned on metric `val_loss` which is not available. Available metrics are: loss\n"
          ]
        },
        {
          "output_type": "stream",
          "name": "stdout",
          "text": [
            "\b\b\b\b\b\b\b\b\b\b\b\b\b\b\b\b\b\b\b\b\b\b\b\b\b\b\b\b\b\b\b\b\b\b\b\b\b\b\b\b\b\b\b\b\b\b\b\b\b\b\b\b\b\b\b\b\b\b\b\b\b\b\b\b\b\b\b\b\b\r379/379 [==============================] - 2s 4ms/step - loss: 1.7171e-04\n",
            "Epoch 105/300\n",
            "371/379 [============================>.] - ETA: 0s - loss: 1.7240e-04"
          ]
        },
        {
          "output_type": "stream",
          "name": "stderr",
          "text": [
            "WARNING:tensorflow:Early stopping conditioned on metric `val_loss` which is not available. Available metrics are: loss\n"
          ]
        },
        {
          "output_type": "stream",
          "name": "stdout",
          "text": [
            "\b\b\b\b\b\b\b\b\b\b\b\b\b\b\b\b\b\b\b\b\b\b\b\b\b\b\b\b\b\b\b\b\b\b\b\b\b\b\b\b\b\b\b\b\b\b\b\b\b\b\b\b\b\b\b\b\b\b\b\b\b\b\b\b\b\b\b\b\b\r379/379 [==============================] - 2s 4ms/step - loss: 1.7277e-04\n",
            "Epoch 106/300\n",
            "370/379 [============================>.] - ETA: 0s - loss: 1.8013e-04"
          ]
        },
        {
          "output_type": "stream",
          "name": "stderr",
          "text": [
            "WARNING:tensorflow:Early stopping conditioned on metric `val_loss` which is not available. Available metrics are: loss\n"
          ]
        },
        {
          "output_type": "stream",
          "name": "stdout",
          "text": [
            "\b\b\b\b\b\b\b\b\b\b\b\b\b\b\b\b\b\b\b\b\b\b\b\b\b\b\b\b\b\b\b\b\b\b\b\b\b\b\b\b\b\b\b\b\b\b\b\b\b\b\b\b\b\b\b\b\b\b\b\b\b\b\b\b\b\b\b\b\b\r379/379 [==============================] - 2s 4ms/step - loss: 1.7985e-04\n",
            "Epoch 107/300\n",
            "371/379 [============================>.] - ETA: 0s - loss: 1.7192e-04"
          ]
        },
        {
          "output_type": "stream",
          "name": "stderr",
          "text": [
            "WARNING:tensorflow:Early stopping conditioned on metric `val_loss` which is not available. Available metrics are: loss\n"
          ]
        },
        {
          "output_type": "stream",
          "name": "stdout",
          "text": [
            "\b\b\b\b\b\b\b\b\b\b\b\b\b\b\b\b\b\b\b\b\b\b\b\b\b\b\b\b\b\b\b\b\b\b\b\b\b\b\b\b\b\b\b\b\b\b\b\b\b\b\b\b\b\b\b\b\b\b\b\b\b\b\b\b\b\b\b\b\b\r379/379 [==============================] - 2s 4ms/step - loss: 1.7174e-04\n",
            "Epoch 108/300\n",
            "373/379 [============================>.] - ETA: 0s - loss: 1.7240e-04"
          ]
        },
        {
          "output_type": "stream",
          "name": "stderr",
          "text": [
            "WARNING:tensorflow:Early stopping conditioned on metric `val_loss` which is not available. Available metrics are: loss\n"
          ]
        },
        {
          "output_type": "stream",
          "name": "stdout",
          "text": [
            "\b\b\b\b\b\b\b\b\b\b\b\b\b\b\b\b\b\b\b\b\b\b\b\b\b\b\b\b\b\b\b\b\b\b\b\b\b\b\b\b\b\b\b\b\b\b\b\b\b\b\b\b\b\b\b\b\b\b\b\b\b\b\b\b\b\b\b\b\b\r379/379 [==============================] - 2s 4ms/step - loss: 1.7156e-04\n",
            "Epoch 109/300\n",
            "371/379 [============================>.] - ETA: 0s - loss: 1.7395e-04"
          ]
        },
        {
          "output_type": "stream",
          "name": "stderr",
          "text": [
            "WARNING:tensorflow:Early stopping conditioned on metric `val_loss` which is not available. Available metrics are: loss\n"
          ]
        },
        {
          "output_type": "stream",
          "name": "stdout",
          "text": [
            "\b\b\b\b\b\b\b\b\b\b\b\b\b\b\b\b\b\b\b\b\b\b\b\b\b\b\b\b\b\b\b\b\b\b\b\b\b\b\b\b\b\b\b\b\b\b\b\b\b\b\b\b\b\b\b\b\b\b\b\b\b\b\b\b\b\b\b\b\b\r379/379 [==============================] - 2s 4ms/step - loss: 1.7366e-04\n",
            "Epoch 110/300\n",
            "370/379 [============================>.] - ETA: 0s - loss: 1.6495e-04"
          ]
        },
        {
          "output_type": "stream",
          "name": "stderr",
          "text": [
            "WARNING:tensorflow:Early stopping conditioned on metric `val_loss` which is not available. Available metrics are: loss\n"
          ]
        },
        {
          "output_type": "stream",
          "name": "stdout",
          "text": [
            "\b\b\b\b\b\b\b\b\b\b\b\b\b\b\b\b\b\b\b\b\b\b\b\b\b\b\b\b\b\b\b\b\b\b\b\b\b\b\b\b\b\b\b\b\b\b\b\b\b\b\b\b\b\b\b\b\b\b\b\b\b\b\b\b\b\b\b\b\b\r379/379 [==============================] - 2s 5ms/step - loss: 1.6438e-04\n",
            "Epoch 111/300\n",
            "376/379 [============================>.] - ETA: 0s - loss: 1.7223e-04"
          ]
        },
        {
          "output_type": "stream",
          "name": "stderr",
          "text": [
            "WARNING:tensorflow:Early stopping conditioned on metric `val_loss` which is not available. Available metrics are: loss\n"
          ]
        },
        {
          "output_type": "stream",
          "name": "stdout",
          "text": [
            "\b\b\b\b\b\b\b\b\b\b\b\b\b\b\b\b\b\b\b\b\b\b\b\b\b\b\b\b\b\b\b\b\b\b\b\b\b\b\b\b\b\b\b\b\b\b\b\b\b\b\b\b\b\b\b\b\b\b\b\b\b\b\b\b\b\b\b\b\b\r379/379 [==============================] - 2s 5ms/step - loss: 1.7210e-04\n",
            "Epoch 112/300\n",
            "373/379 [============================>.] - ETA: 0s - loss: 1.7612e-04"
          ]
        },
        {
          "output_type": "stream",
          "name": "stderr",
          "text": [
            "WARNING:tensorflow:Early stopping conditioned on metric `val_loss` which is not available. Available metrics are: loss\n"
          ]
        },
        {
          "output_type": "stream",
          "name": "stdout",
          "text": [
            "\b\b\b\b\b\b\b\b\b\b\b\b\b\b\b\b\b\b\b\b\b\b\b\b\b\b\b\b\b\b\b\b\b\b\b\b\b\b\b\b\b\b\b\b\b\b\b\b\b\b\b\b\b\b\b\b\b\b\b\b\b\b\b\b\b\b\b\b\b\r379/379 [==============================] - 2s 4ms/step - loss: 1.7493e-04\n",
            "Epoch 113/300\n",
            "373/379 [============================>.] - ETA: 0s - loss: 1.7559e-04"
          ]
        },
        {
          "output_type": "stream",
          "name": "stderr",
          "text": [
            "WARNING:tensorflow:Early stopping conditioned on metric `val_loss` which is not available. Available metrics are: loss\n"
          ]
        },
        {
          "output_type": "stream",
          "name": "stdout",
          "text": [
            "\b\b\b\b\b\b\b\b\b\b\b\b\b\b\b\b\b\b\b\b\b\b\b\b\b\b\b\b\b\b\b\b\b\b\b\b\b\b\b\b\b\b\b\b\b\b\b\b\b\b\b\b\b\b\b\b\b\b\b\b\b\b\b\b\b\b\b\b\b\r379/379 [==============================] - 2s 4ms/step - loss: 1.7499e-04\n",
            "Epoch 114/300\n",
            "373/379 [============================>.] - ETA: 0s - loss: 1.6447e-04"
          ]
        },
        {
          "output_type": "stream",
          "name": "stderr",
          "text": [
            "WARNING:tensorflow:Early stopping conditioned on metric `val_loss` which is not available. Available metrics are: loss\n"
          ]
        },
        {
          "output_type": "stream",
          "name": "stdout",
          "text": [
            "\b\b\b\b\b\b\b\b\b\b\b\b\b\b\b\b\b\b\b\b\b\b\b\b\b\b\b\b\b\b\b\b\b\b\b\b\b\b\b\b\b\b\b\b\b\b\b\b\b\b\b\b\b\b\b\b\b\b\b\b\b\b\b\b\b\b\b\b\b\r379/379 [==============================] - 2s 4ms/step - loss: 1.6353e-04\n",
            "Epoch 115/300\n",
            "373/379 [============================>.] - ETA: 0s - loss: 1.6944e-04"
          ]
        },
        {
          "output_type": "stream",
          "name": "stderr",
          "text": [
            "WARNING:tensorflow:Early stopping conditioned on metric `val_loss` which is not available. Available metrics are: loss\n"
          ]
        },
        {
          "output_type": "stream",
          "name": "stdout",
          "text": [
            "\b\b\b\b\b\b\b\b\b\b\b\b\b\b\b\b\b\b\b\b\b\b\b\b\b\b\b\b\b\b\b\b\b\b\b\b\b\b\b\b\b\b\b\b\b\b\b\b\b\b\b\b\b\b\b\b\b\b\b\b\b\b\b\b\b\b\b\b\b\r379/379 [==============================] - 2s 4ms/step - loss: 1.7216e-04\n",
            "Epoch 116/300\n",
            "372/379 [============================>.] - ETA: 0s - loss: 1.6891e-04"
          ]
        },
        {
          "output_type": "stream",
          "name": "stderr",
          "text": [
            "WARNING:tensorflow:Early stopping conditioned on metric `val_loss` which is not available. Available metrics are: loss\n"
          ]
        },
        {
          "output_type": "stream",
          "name": "stdout",
          "text": [
            "\b\b\b\b\b\b\b\b\b\b\b\b\b\b\b\b\b\b\b\b\b\b\b\b\b\b\b\b\b\b\b\b\b\b\b\b\b\b\b\b\b\b\b\b\b\b\b\b\b\b\b\b\b\b\b\b\b\b\b\b\b\b\b\b\b\b\b\b\b\r379/379 [==============================] - 2s 4ms/step - loss: 1.6968e-04\n",
            "Epoch 117/300\n",
            "378/379 [============================>.] - ETA: 0s - loss: 1.6305e-04"
          ]
        },
        {
          "output_type": "stream",
          "name": "stderr",
          "text": [
            "WARNING:tensorflow:Early stopping conditioned on metric `val_loss` which is not available. Available metrics are: loss\n"
          ]
        },
        {
          "output_type": "stream",
          "name": "stdout",
          "text": [
            "\b\b\b\b\b\b\b\b\b\b\b\b\b\b\b\b\b\b\b\b\b\b\b\b\b\b\b\b\b\b\b\b\b\b\b\b\b\b\b\b\b\b\b\b\b\b\b\b\b\b\b\b\b\b\b\b\b\b\b\b\b\b\b\b\b\b\b\b\b\r379/379 [==============================] - 2s 4ms/step - loss: 1.6304e-04\n",
            "Epoch 118/300\n",
            "373/379 [============================>.] - ETA: 0s - loss: 1.7005e-04"
          ]
        },
        {
          "output_type": "stream",
          "name": "stderr",
          "text": [
            "WARNING:tensorflow:Early stopping conditioned on metric `val_loss` which is not available. Available metrics are: loss\n"
          ]
        },
        {
          "output_type": "stream",
          "name": "stdout",
          "text": [
            "\b\b\b\b\b\b\b\b\b\b\b\b\b\b\b\b\b\b\b\b\b\b\b\b\b\b\b\b\b\b\b\b\b\b\b\b\b\b\b\b\b\b\b\b\b\b\b\b\b\b\b\b\b\b\b\b\b\b\b\b\b\b\b\b\b\b\b\b\b\r379/379 [==============================] - 2s 5ms/step - loss: 1.7013e-04\n",
            "Epoch 119/300\n",
            "372/379 [============================>.] - ETA: 0s - loss: 1.7385e-04"
          ]
        },
        {
          "output_type": "stream",
          "name": "stderr",
          "text": [
            "WARNING:tensorflow:Early stopping conditioned on metric `val_loss` which is not available. Available metrics are: loss\n"
          ]
        },
        {
          "output_type": "stream",
          "name": "stdout",
          "text": [
            "\b\b\b\b\b\b\b\b\b\b\b\b\b\b\b\b\b\b\b\b\b\b\b\b\b\b\b\b\b\b\b\b\b\b\b\b\b\b\b\b\b\b\b\b\b\b\b\b\b\b\b\b\b\b\b\b\b\b\b\b\b\b\b\b\b\b\b\b\b\r379/379 [==============================] - 2s 5ms/step - loss: 1.7405e-04\n",
            "Epoch 120/300\n",
            "373/379 [============================>.] - ETA: 0s - loss: 1.6815e-04"
          ]
        },
        {
          "output_type": "stream",
          "name": "stderr",
          "text": [
            "WARNING:tensorflow:Early stopping conditioned on metric `val_loss` which is not available. Available metrics are: loss\n"
          ]
        },
        {
          "output_type": "stream",
          "name": "stdout",
          "text": [
            "\b\b\b\b\b\b\b\b\b\b\b\b\b\b\b\b\b\b\b\b\b\b\b\b\b\b\b\b\b\b\b\b\b\b\b\b\b\b\b\b\b\b\b\b\b\b\b\b\b\b\b\b\b\b\b\b\b\b\b\b\b\b\b\b\b\b\b\b\b\r379/379 [==============================] - 2s 4ms/step - loss: 1.6759e-04\n",
            "Epoch 121/300\n",
            "373/379 [============================>.] - ETA: 0s - loss: 1.7549e-04"
          ]
        },
        {
          "output_type": "stream",
          "name": "stderr",
          "text": [
            "WARNING:tensorflow:Early stopping conditioned on metric `val_loss` which is not available. Available metrics are: loss\n"
          ]
        },
        {
          "output_type": "stream",
          "name": "stdout",
          "text": [
            "\b\b\b\b\b\b\b\b\b\b\b\b\b\b\b\b\b\b\b\b\b\b\b\b\b\b\b\b\b\b\b\b\b\b\b\b\b\b\b\b\b\b\b\b\b\b\b\b\b\b\b\b\b\b\b\b\b\b\b\b\b\b\b\b\b\b\b\b\b\r379/379 [==============================] - 2s 4ms/step - loss: 1.7469e-04\n",
            "Epoch 122/300\n",
            "373/379 [============================>.] - ETA: 0s - loss: 1.6865e-04"
          ]
        },
        {
          "output_type": "stream",
          "name": "stderr",
          "text": [
            "WARNING:tensorflow:Early stopping conditioned on metric `val_loss` which is not available. Available metrics are: loss\n"
          ]
        },
        {
          "output_type": "stream",
          "name": "stdout",
          "text": [
            "\b\b\b\b\b\b\b\b\b\b\b\b\b\b\b\b\b\b\b\b\b\b\b\b\b\b\b\b\b\b\b\b\b\b\b\b\b\b\b\b\b\b\b\b\b\b\b\b\b\b\b\b\b\b\b\b\b\b\b\b\b\b\b\b\b\b\b\b\b\r379/379 [==============================] - 2s 4ms/step - loss: 1.6886e-04\n",
            "Epoch 123/300\n",
            "373/379 [============================>.] - ETA: 0s - loss: 1.7484e-04"
          ]
        },
        {
          "output_type": "stream",
          "name": "stderr",
          "text": [
            "WARNING:tensorflow:Early stopping conditioned on metric `val_loss` which is not available. Available metrics are: loss\n"
          ]
        },
        {
          "output_type": "stream",
          "name": "stdout",
          "text": [
            "\b\b\b\b\b\b\b\b\b\b\b\b\b\b\b\b\b\b\b\b\b\b\b\b\b\b\b\b\b\b\b\b\b\b\b\b\b\b\b\b\b\b\b\b\b\b\b\b\b\b\b\b\b\b\b\b\b\b\b\b\b\b\b\b\b\b\b\b\b\r379/379 [==============================] - 2s 4ms/step - loss: 1.7468e-04\n",
            "Epoch 124/300\n",
            "373/379 [============================>.] - ETA: 0s - loss: 1.6396e-04"
          ]
        },
        {
          "output_type": "stream",
          "name": "stderr",
          "text": [
            "WARNING:tensorflow:Early stopping conditioned on metric `val_loss` which is not available. Available metrics are: loss\n"
          ]
        },
        {
          "output_type": "stream",
          "name": "stdout",
          "text": [
            "\b\b\b\b\b\b\b\b\b\b\b\b\b\b\b\b\b\b\b\b\b\b\b\b\b\b\b\b\b\b\b\b\b\b\b\b\b\b\b\b\b\b\b\b\b\b\b\b\b\b\b\b\b\b\b\b\b\b\b\b\b\b\b\b\b\b\b\b\b\r379/379 [==============================] - 2s 4ms/step - loss: 1.6594e-04\n",
            "Epoch 125/300\n",
            "368/379 [============================>.] - ETA: 0s - loss: 1.6565e-04"
          ]
        },
        {
          "output_type": "stream",
          "name": "stderr",
          "text": [
            "WARNING:tensorflow:Early stopping conditioned on metric `val_loss` which is not available. Available metrics are: loss\n"
          ]
        },
        {
          "output_type": "stream",
          "name": "stdout",
          "text": [
            "\b\b\b\b\b\b\b\b\b\b\b\b\b\b\b\b\b\b\b\b\b\b\b\b\b\b\b\b\b\b\b\b\b\b\b\b\b\b\b\b\b\b\b\b\b\b\b\b\b\b\b\b\b\b\b\b\b\b\b\b\b\b\b\b\b\b\b\b\b\r379/379 [==============================] - 2s 4ms/step - loss: 1.6397e-04\n",
            "Epoch 126/300\n",
            "372/379 [============================>.] - ETA: 0s - loss: 1.6551e-04"
          ]
        },
        {
          "output_type": "stream",
          "name": "stderr",
          "text": [
            "WARNING:tensorflow:Early stopping conditioned on metric `val_loss` which is not available. Available metrics are: loss\n"
          ]
        },
        {
          "output_type": "stream",
          "name": "stdout",
          "text": [
            "\b\b\b\b\b\b\b\b\b\b\b\b\b\b\b\b\b\b\b\b\b\b\b\b\b\b\b\b\b\b\b\b\b\b\b\b\b\b\b\b\b\b\b\b\b\b\b\b\b\b\b\b\b\b\b\b\b\b\b\b\b\b\b\b\b\b\b\b\b\r379/379 [==============================] - 2s 5ms/step - loss: 1.6578e-04\n",
            "Epoch 127/300\n",
            "369/379 [============================>.] - ETA: 0s - loss: 1.7349e-04"
          ]
        },
        {
          "output_type": "stream",
          "name": "stderr",
          "text": [
            "WARNING:tensorflow:Early stopping conditioned on metric `val_loss` which is not available. Available metrics are: loss\n"
          ]
        },
        {
          "output_type": "stream",
          "name": "stdout",
          "text": [
            "\b\b\b\b\b\b\b\b\b\b\b\b\b\b\b\b\b\b\b\b\b\b\b\b\b\b\b\b\b\b\b\b\b\b\b\b\b\b\b\b\b\b\b\b\b\b\b\b\b\b\b\b\b\b\b\b\b\b\b\b\b\b\b\b\b\b\b\b\b\r379/379 [==============================] - 2s 4ms/step - loss: 1.7162e-04\n",
            "Epoch 128/300\n",
            "370/379 [============================>.] - ETA: 0s - loss: 1.7441e-04"
          ]
        },
        {
          "output_type": "stream",
          "name": "stderr",
          "text": [
            "WARNING:tensorflow:Early stopping conditioned on metric `val_loss` which is not available. Available metrics are: loss\n"
          ]
        },
        {
          "output_type": "stream",
          "name": "stdout",
          "text": [
            "\b\b\b\b\b\b\b\b\b\b\b\b\b\b\b\b\b\b\b\b\b\b\b\b\b\b\b\b\b\b\b\b\b\b\b\b\b\b\b\b\b\b\b\b\b\b\b\b\b\b\b\b\b\b\b\b\b\b\b\b\b\b\b\b\b\b\b\b\b\r379/379 [==============================] - 2s 4ms/step - loss: 1.7432e-04\n",
            "Epoch 129/300\n",
            "373/379 [============================>.] - ETA: 0s - loss: 1.7008e-04"
          ]
        },
        {
          "output_type": "stream",
          "name": "stderr",
          "text": [
            "WARNING:tensorflow:Early stopping conditioned on metric `val_loss` which is not available. Available metrics are: loss\n"
          ]
        },
        {
          "output_type": "stream",
          "name": "stdout",
          "text": [
            "\b\b\b\b\b\b\b\b\b\b\b\b\b\b\b\b\b\b\b\b\b\b\b\b\b\b\b\b\b\b\b\b\b\b\b\b\b\b\b\b\b\b\b\b\b\b\b\b\b\b\b\b\b\b\b\b\b\b\b\b\b\b\b\b\b\b\b\b\b\r379/379 [==============================] - 2s 4ms/step - loss: 1.6921e-04\n",
            "Epoch 130/300\n",
            "373/379 [============================>.] - ETA: 0s - loss: 1.6904e-04"
          ]
        },
        {
          "output_type": "stream",
          "name": "stderr",
          "text": [
            "WARNING:tensorflow:Early stopping conditioned on metric `val_loss` which is not available. Available metrics are: loss\n"
          ]
        },
        {
          "output_type": "stream",
          "name": "stdout",
          "text": [
            "\b\b\b\b\b\b\b\b\b\b\b\b\b\b\b\b\b\b\b\b\b\b\b\b\b\b\b\b\b\b\b\b\b\b\b\b\b\b\b\b\b\b\b\b\b\b\b\b\b\b\b\b\b\b\b\b\b\b\b\b\b\b\b\b\b\b\b\b\b\r379/379 [==============================] - 2s 4ms/step - loss: 1.6926e-04\n",
            "Epoch 131/300\n",
            "372/379 [============================>.] - ETA: 0s - loss: 1.6987e-04"
          ]
        },
        {
          "output_type": "stream",
          "name": "stderr",
          "text": [
            "WARNING:tensorflow:Early stopping conditioned on metric `val_loss` which is not available. Available metrics are: loss\n"
          ]
        },
        {
          "output_type": "stream",
          "name": "stdout",
          "text": [
            "\b\b\b\b\b\b\b\b\b\b\b\b\b\b\b\b\b\b\b\b\b\b\b\b\b\b\b\b\b\b\b\b\b\b\b\b\b\b\b\b\b\b\b\b\b\b\b\b\b\b\b\b\b\b\b\b\b\b\b\b\b\b\b\b\b\b\b\b\b\r379/379 [==============================] - 2s 4ms/step - loss: 1.7093e-04\n",
            "Epoch 132/300\n",
            "373/379 [============================>.] - ETA: 0s - loss: 1.6712e-04"
          ]
        },
        {
          "output_type": "stream",
          "name": "stderr",
          "text": [
            "WARNING:tensorflow:Early stopping conditioned on metric `val_loss` which is not available. Available metrics are: loss\n"
          ]
        },
        {
          "output_type": "stream",
          "name": "stdout",
          "text": [
            "\b\b\b\b\b\b\b\b\b\b\b\b\b\b\b\b\b\b\b\b\b\b\b\b\b\b\b\b\b\b\b\b\b\b\b\b\b\b\b\b\b\b\b\b\b\b\b\b\b\b\b\b\b\b\b\b\b\b\b\b\b\b\b\b\b\b\b\b\b\r379/379 [==============================] - 2s 4ms/step - loss: 1.6674e-04\n",
            "Epoch 133/300\n",
            "374/379 [============================>.] - ETA: 0s - loss: 1.6956e-04"
          ]
        },
        {
          "output_type": "stream",
          "name": "stderr",
          "text": [
            "WARNING:tensorflow:Early stopping conditioned on metric `val_loss` which is not available. Available metrics are: loss\n"
          ]
        },
        {
          "output_type": "stream",
          "name": "stdout",
          "text": [
            "\b\b\b\b\b\b\b\b\b\b\b\b\b\b\b\b\b\b\b\b\b\b\b\b\b\b\b\b\b\b\b\b\b\b\b\b\b\b\b\b\b\b\b\b\b\b\b\b\b\b\b\b\b\b\b\b\b\b\b\b\b\b\b\b\b\b\b\b\b\r379/379 [==============================] - 2s 4ms/step - loss: 1.6982e-04\n",
            "Epoch 134/300\n",
            "375/379 [============================>.] - ETA: 0s - loss: 1.6642e-04"
          ]
        },
        {
          "output_type": "stream",
          "name": "stderr",
          "text": [
            "WARNING:tensorflow:Early stopping conditioned on metric `val_loss` which is not available. Available metrics are: loss\n"
          ]
        },
        {
          "output_type": "stream",
          "name": "stdout",
          "text": [
            "\b\b\b\b\b\b\b\b\b\b\b\b\b\b\b\b\b\b\b\b\b\b\b\b\b\b\b\b\b\b\b\b\b\b\b\b\b\b\b\b\b\b\b\b\b\b\b\b\b\b\b\b\b\b\b\b\b\b\b\b\b\b\b\b\b\b\b\b\b\r379/379 [==============================] - 2s 5ms/step - loss: 1.6691e-04\n",
            "Epoch 135/300\n",
            "373/379 [============================>.] - ETA: 0s - loss: 1.6849e-04"
          ]
        },
        {
          "output_type": "stream",
          "name": "stderr",
          "text": [
            "WARNING:tensorflow:Early stopping conditioned on metric `val_loss` which is not available. Available metrics are: loss\n"
          ]
        },
        {
          "output_type": "stream",
          "name": "stdout",
          "text": [
            "\b\b\b\b\b\b\b\b\b\b\b\b\b\b\b\b\b\b\b\b\b\b\b\b\b\b\b\b\b\b\b\b\b\b\b\b\b\b\b\b\b\b\b\b\b\b\b\b\b\b\b\b\b\b\b\b\b\b\b\b\b\b\b\b\b\b\b\b\b\r379/379 [==============================] - 2s 4ms/step - loss: 1.6830e-04\n",
            "Epoch 136/300\n",
            "373/379 [============================>.] - ETA: 0s - loss: 1.6531e-04"
          ]
        },
        {
          "output_type": "stream",
          "name": "stderr",
          "text": [
            "WARNING:tensorflow:Early stopping conditioned on metric `val_loss` which is not available. Available metrics are: loss\n"
          ]
        },
        {
          "output_type": "stream",
          "name": "stdout",
          "text": [
            "\b\b\b\b\b\b\b\b\b\b\b\b\b\b\b\b\b\b\b\b\b\b\b\b\b\b\b\b\b\b\b\b\b\b\b\b\b\b\b\b\b\b\b\b\b\b\b\b\b\b\b\b\b\b\b\b\b\b\b\b\b\b\b\b\b\b\b\b\b\r379/379 [==============================] - 2s 4ms/step - loss: 1.6458e-04\n",
            "Epoch 137/300\n",
            "373/379 [============================>.] - ETA: 0s - loss: 1.6800e-04"
          ]
        },
        {
          "output_type": "stream",
          "name": "stderr",
          "text": [
            "WARNING:tensorflow:Early stopping conditioned on metric `val_loss` which is not available. Available metrics are: loss\n"
          ]
        },
        {
          "output_type": "stream",
          "name": "stdout",
          "text": [
            "\b\b\b\b\b\b\b\b\b\b\b\b\b\b\b\b\b\b\b\b\b\b\b\b\b\b\b\b\b\b\b\b\b\b\b\b\b\b\b\b\b\b\b\b\b\b\b\b\b\b\b\b\b\b\b\b\b\b\b\b\b\b\b\b\b\b\b\b\b\r379/379 [==============================] - 2s 4ms/step - loss: 1.6784e-04\n",
            "Epoch 138/300\n",
            "373/379 [============================>.] - ETA: 0s - loss: 1.6940e-04"
          ]
        },
        {
          "output_type": "stream",
          "name": "stderr",
          "text": [
            "WARNING:tensorflow:Early stopping conditioned on metric `val_loss` which is not available. Available metrics are: loss\n"
          ]
        },
        {
          "output_type": "stream",
          "name": "stdout",
          "text": [
            "\b\b\b\b\b\b\b\b\b\b\b\b\b\b\b\b\b\b\b\b\b\b\b\b\b\b\b\b\b\b\b\b\b\b\b\b\b\b\b\b\b\b\b\b\b\b\b\b\b\b\b\b\b\b\b\b\b\b\b\b\b\b\b\b\b\b\b\b\b\r379/379 [==============================] - 2s 4ms/step - loss: 1.6878e-04\n",
            "Epoch 139/300\n",
            "373/379 [============================>.] - ETA: 0s - loss: 1.6330e-04"
          ]
        },
        {
          "output_type": "stream",
          "name": "stderr",
          "text": [
            "WARNING:tensorflow:Early stopping conditioned on metric `val_loss` which is not available. Available metrics are: loss\n"
          ]
        },
        {
          "output_type": "stream",
          "name": "stdout",
          "text": [
            "\b\b\b\b\b\b\b\b\b\b\b\b\b\b\b\b\b\b\b\b\b\b\b\b\b\b\b\b\b\b\b\b\b\b\b\b\b\b\b\b\b\b\b\b\b\b\b\b\b\b\b\b\b\b\b\b\b\b\b\b\b\b\b\b\b\b\b\b\b\r379/379 [==============================] - 2s 4ms/step - loss: 1.6377e-04\n",
            "Epoch 140/300\n",
            "373/379 [============================>.] - ETA: 0s - loss: 1.7115e-04"
          ]
        },
        {
          "output_type": "stream",
          "name": "stderr",
          "text": [
            "WARNING:tensorflow:Early stopping conditioned on metric `val_loss` which is not available. Available metrics are: loss\n"
          ]
        },
        {
          "output_type": "stream",
          "name": "stdout",
          "text": [
            "\b\b\b\b\b\b\b\b\b\b\b\b\b\b\b\b\b\b\b\b\b\b\b\b\b\b\b\b\b\b\b\b\b\b\b\b\b\b\b\b\b\b\b\b\b\b\b\b\b\b\b\b\b\b\b\b\b\b\b\b\b\b\b\b\b\b\b\b\b\r379/379 [==============================] - 2s 4ms/step - loss: 1.7083e-04\n",
            "Epoch 141/300\n",
            "371/379 [============================>.] - ETA: 0s - loss: 1.6127e-04"
          ]
        },
        {
          "output_type": "stream",
          "name": "stderr",
          "text": [
            "WARNING:tensorflow:Early stopping conditioned on metric `val_loss` which is not available. Available metrics are: loss\n"
          ]
        },
        {
          "output_type": "stream",
          "name": "stdout",
          "text": [
            "\b\b\b\b\b\b\b\b\b\b\b\b\b\b\b\b\b\b\b\b\b\b\b\b\b\b\b\b\b\b\b\b\b\b\b\b\b\b\b\b\b\b\b\b\b\b\b\b\b\b\b\b\b\b\b\b\b\b\b\b\b\b\b\b\b\b\b\b\b\r379/379 [==============================] - 2s 5ms/step - loss: 1.6072e-04\n",
            "Epoch 142/300\n",
            "379/379 [==============================] - ETA: 0s - loss: 1.7216e-04"
          ]
        },
        {
          "output_type": "stream",
          "name": "stderr",
          "text": [
            "WARNING:tensorflow:Early stopping conditioned on metric `val_loss` which is not available. Available metrics are: loss\n"
          ]
        },
        {
          "output_type": "stream",
          "name": "stdout",
          "text": [
            "\b\b\b\b\b\b\b\b\b\b\b\b\b\b\b\b\b\b\b\b\b\b\b\b\b\b\b\b\b\b\b\b\b\b\b\b\b\b\b\b\b\b\b\b\b\b\b\b\b\b\b\b\b\b\b\b\b\b\b\b\b\b\b\b\b\b\b\b\b\r379/379 [==============================] - 2s 4ms/step - loss: 1.7216e-04\n",
            "Epoch 143/300\n",
            "373/379 [============================>.] - ETA: 0s - loss: 1.6609e-04"
          ]
        },
        {
          "output_type": "stream",
          "name": "stderr",
          "text": [
            "WARNING:tensorflow:Early stopping conditioned on metric `val_loss` which is not available. Available metrics are: loss\n"
          ]
        },
        {
          "output_type": "stream",
          "name": "stdout",
          "text": [
            "\b\b\b\b\b\b\b\b\b\b\b\b\b\b\b\b\b\b\b\b\b\b\b\b\b\b\b\b\b\b\b\b\b\b\b\b\b\b\b\b\b\b\b\b\b\b\b\b\b\b\b\b\b\b\b\b\b\b\b\b\b\b\b\b\b\b\b\b\b\r379/379 [==============================] - 2s 4ms/step - loss: 1.6615e-04\n",
            "Epoch 144/300\n",
            "372/379 [============================>.] - ETA: 0s - loss: 1.6192e-04"
          ]
        },
        {
          "output_type": "stream",
          "name": "stderr",
          "text": [
            "WARNING:tensorflow:Early stopping conditioned on metric `val_loss` which is not available. Available metrics are: loss\n"
          ]
        },
        {
          "output_type": "stream",
          "name": "stdout",
          "text": [
            "\b\b\b\b\b\b\b\b\b\b\b\b\b\b\b\b\b\b\b\b\b\b\b\b\b\b\b\b\b\b\b\b\b\b\b\b\b\b\b\b\b\b\b\b\b\b\b\b\b\b\b\b\b\b\b\b\b\b\b\b\b\b\b\b\b\b\b\b\b\r379/379 [==============================] - 2s 4ms/step - loss: 1.6172e-04\n",
            "Epoch 145/300\n",
            "373/379 [============================>.] - ETA: 0s - loss: 1.6933e-04"
          ]
        },
        {
          "output_type": "stream",
          "name": "stderr",
          "text": [
            "WARNING:tensorflow:Early stopping conditioned on metric `val_loss` which is not available. Available metrics are: loss\n"
          ]
        },
        {
          "output_type": "stream",
          "name": "stdout",
          "text": [
            "\b\b\b\b\b\b\b\b\b\b\b\b\b\b\b\b\b\b\b\b\b\b\b\b\b\b\b\b\b\b\b\b\b\b\b\b\b\b\b\b\b\b\b\b\b\b\b\b\b\b\b\b\b\b\b\b\b\b\b\b\b\b\b\b\b\b\b\b\b\r379/379 [==============================] - 2s 4ms/step - loss: 1.7077e-04\n",
            "Epoch 146/300\n",
            "372/379 [============================>.] - ETA: 0s - loss: 1.6139e-04"
          ]
        },
        {
          "output_type": "stream",
          "name": "stderr",
          "text": [
            "WARNING:tensorflow:Early stopping conditioned on metric `val_loss` which is not available. Available metrics are: loss\n"
          ]
        },
        {
          "output_type": "stream",
          "name": "stdout",
          "text": [
            "\b\b\b\b\b\b\b\b\b\b\b\b\b\b\b\b\b\b\b\b\b\b\b\b\b\b\b\b\b\b\b\b\b\b\b\b\b\b\b\b\b\b\b\b\b\b\b\b\b\b\b\b\b\b\b\b\b\b\b\b\b\b\b\b\b\b\b\b\b\r379/379 [==============================] - 2s 4ms/step - loss: 1.6151e-04\n",
            "Epoch 147/300\n",
            "372/379 [============================>.] - ETA: 0s - loss: 1.6483e-04"
          ]
        },
        {
          "output_type": "stream",
          "name": "stderr",
          "text": [
            "WARNING:tensorflow:Early stopping conditioned on metric `val_loss` which is not available. Available metrics are: loss\n"
          ]
        },
        {
          "output_type": "stream",
          "name": "stdout",
          "text": [
            "\b\b\b\b\b\b\b\b\b\b\b\b\b\b\b\b\b\b\b\b\b\b\b\b\b\b\b\b\b\b\b\b\b\b\b\b\b\b\b\b\b\b\b\b\b\b\b\b\b\b\b\b\b\b\b\b\b\b\b\b\b\b\b\b\b\b\b\b\b\r379/379 [==============================] - 2s 4ms/step - loss: 1.6464e-04\n",
            "Epoch 148/300\n",
            "368/379 [============================>.] - ETA: 0s - loss: 1.6403e-04"
          ]
        },
        {
          "output_type": "stream",
          "name": "stderr",
          "text": [
            "WARNING:tensorflow:Early stopping conditioned on metric `val_loss` which is not available. Available metrics are: loss\n"
          ]
        },
        {
          "output_type": "stream",
          "name": "stdout",
          "text": [
            "\b\b\b\b\b\b\b\b\b\b\b\b\b\b\b\b\b\b\b\b\b\b\b\b\b\b\b\b\b\b\b\b\b\b\b\b\b\b\b\b\b\b\b\b\b\b\b\b\b\b\b\b\b\b\b\b\b\b\b\b\b\b\b\b\b\b\b\b\b\r379/379 [==============================] - 2s 4ms/step - loss: 1.6358e-04\n",
            "Epoch 149/300\n",
            "372/379 [============================>.] - ETA: 0s - loss: 1.6782e-04"
          ]
        },
        {
          "output_type": "stream",
          "name": "stderr",
          "text": [
            "WARNING:tensorflow:Early stopping conditioned on metric `val_loss` which is not available. Available metrics are: loss\n"
          ]
        },
        {
          "output_type": "stream",
          "name": "stdout",
          "text": [
            "\b\b\b\b\b\b\b\b\b\b\b\b\b\b\b\b\b\b\b\b\b\b\b\b\b\b\b\b\b\b\b\b\b\b\b\b\b\b\b\b\b\b\b\b\b\b\b\b\b\b\b\b\b\b\b\b\b\b\b\b\b\b\b\b\b\b\b\b\b\r379/379 [==============================] - 2s 5ms/step - loss: 1.6759e-04\n",
            "Epoch 150/300\n",
            "375/379 [============================>.] - ETA: 0s - loss: 1.6855e-04"
          ]
        },
        {
          "output_type": "stream",
          "name": "stderr",
          "text": [
            "WARNING:tensorflow:Early stopping conditioned on metric `val_loss` which is not available. Available metrics are: loss\n"
          ]
        },
        {
          "output_type": "stream",
          "name": "stdout",
          "text": [
            "\b\b\b\b\b\b\b\b\b\b\b\b\b\b\b\b\b\b\b\b\b\b\b\b\b\b\b\b\b\b\b\b\b\b\b\b\b\b\b\b\b\b\b\b\b\b\b\b\b\b\b\b\b\b\b\b\b\b\b\b\b\b\b\b\b\b\b\b\b\r379/379 [==============================] - 2s 4ms/step - loss: 1.6822e-04\n",
            "Epoch 151/300\n",
            "373/379 [============================>.] - ETA: 0s - loss: 1.6396e-04"
          ]
        },
        {
          "output_type": "stream",
          "name": "stderr",
          "text": [
            "WARNING:tensorflow:Early stopping conditioned on metric `val_loss` which is not available. Available metrics are: loss\n"
          ]
        },
        {
          "output_type": "stream",
          "name": "stdout",
          "text": [
            "\b\b\b\b\b\b\b\b\b\b\b\b\b\b\b\b\b\b\b\b\b\b\b\b\b\b\b\b\b\b\b\b\b\b\b\b\b\b\b\b\b\b\b\b\b\b\b\b\b\b\b\b\b\b\b\b\b\b\b\b\b\b\b\b\b\b\b\b\b\r379/379 [==============================] - 2s 4ms/step - loss: 1.6441e-04\n",
            "Epoch 152/300\n",
            "372/379 [============================>.] - ETA: 0s - loss: 1.7000e-04"
          ]
        },
        {
          "output_type": "stream",
          "name": "stderr",
          "text": [
            "WARNING:tensorflow:Early stopping conditioned on metric `val_loss` which is not available. Available metrics are: loss\n"
          ]
        },
        {
          "output_type": "stream",
          "name": "stdout",
          "text": [
            "\b\b\b\b\b\b\b\b\b\b\b\b\b\b\b\b\b\b\b\b\b\b\b\b\b\b\b\b\b\b\b\b\b\b\b\b\b\b\b\b\b\b\b\b\b\b\b\b\b\b\b\b\b\b\b\b\b\b\b\b\b\b\b\b\b\b\b\b\b\r379/379 [==============================] - 2s 4ms/step - loss: 1.6924e-04\n",
            "Epoch 153/300\n",
            "373/379 [============================>.] - ETA: 0s - loss: 1.6431e-04"
          ]
        },
        {
          "output_type": "stream",
          "name": "stderr",
          "text": [
            "WARNING:tensorflow:Early stopping conditioned on metric `val_loss` which is not available. Available metrics are: loss\n"
          ]
        },
        {
          "output_type": "stream",
          "name": "stdout",
          "text": [
            "\b\b\b\b\b\b\b\b\b\b\b\b\b\b\b\b\b\b\b\b\b\b\b\b\b\b\b\b\b\b\b\b\b\b\b\b\b\b\b\b\b\b\b\b\b\b\b\b\b\b\b\b\b\b\b\b\b\b\b\b\b\b\b\b\b\b\b\b\b\r379/379 [==============================] - 2s 4ms/step - loss: 1.6428e-04\n",
            "Epoch 154/300\n",
            "373/379 [============================>.] - ETA: 0s - loss: 1.6902e-04"
          ]
        },
        {
          "output_type": "stream",
          "name": "stderr",
          "text": [
            "WARNING:tensorflow:Early stopping conditioned on metric `val_loss` which is not available. Available metrics are: loss\n"
          ]
        },
        {
          "output_type": "stream",
          "name": "stdout",
          "text": [
            "\b\b\b\b\b\b\b\b\b\b\b\b\b\b\b\b\b\b\b\b\b\b\b\b\b\b\b\b\b\b\b\b\b\b\b\b\b\b\b\b\b\b\b\b\b\b\b\b\b\b\b\b\b\b\b\b\b\b\b\b\b\b\b\b\b\b\b\b\b\r379/379 [==============================] - 2s 4ms/step - loss: 1.6831e-04\n",
            "Epoch 155/300\n",
            "373/379 [============================>.] - ETA: 0s - loss: 1.6782e-04"
          ]
        },
        {
          "output_type": "stream",
          "name": "stderr",
          "text": [
            "WARNING:tensorflow:Early stopping conditioned on metric `val_loss` which is not available. Available metrics are: loss\n"
          ]
        },
        {
          "output_type": "stream",
          "name": "stdout",
          "text": [
            "\b\b\b\b\b\b\b\b\b\b\b\b\b\b\b\b\b\b\b\b\b\b\b\b\b\b\b\b\b\b\b\b\b\b\b\b\b\b\b\b\b\b\b\b\b\b\b\b\b\b\b\b\b\b\b\b\b\b\b\b\b\b\b\b\b\b\b\b\b\r379/379 [==============================] - 2s 4ms/step - loss: 1.6780e-04\n",
            "Epoch 156/300\n",
            "379/379 [==============================] - ETA: 0s - loss: 1.6813e-04"
          ]
        },
        {
          "output_type": "stream",
          "name": "stderr",
          "text": [
            "WARNING:tensorflow:Early stopping conditioned on metric `val_loss` which is not available. Available metrics are: loss\n"
          ]
        },
        {
          "output_type": "stream",
          "name": "stdout",
          "text": [
            "\b\b\b\b\b\b\b\b\b\b\b\b\b\b\b\b\b\b\b\b\b\b\b\b\b\b\b\b\b\b\b\b\b\b\b\b\b\b\b\b\b\b\b\b\b\b\b\b\b\b\b\b\b\b\b\b\b\b\b\b\b\b\b\b\b\b\b\b\b\r379/379 [==============================] - 2s 4ms/step - loss: 1.6813e-04\n",
            "Epoch 157/300\n",
            "379/379 [==============================] - ETA: 0s - loss: 1.6565e-04"
          ]
        },
        {
          "output_type": "stream",
          "name": "stderr",
          "text": [
            "WARNING:tensorflow:Early stopping conditioned on metric `val_loss` which is not available. Available metrics are: loss\n"
          ]
        },
        {
          "output_type": "stream",
          "name": "stdout",
          "text": [
            "\b\b\b\b\b\b\b\b\b\b\b\b\b\b\b\b\b\b\b\b\b\b\b\b\b\b\b\b\b\b\b\b\b\b\b\b\b\b\b\b\b\b\b\b\b\b\b\b\b\b\b\b\b\b\b\b\b\b\b\b\b\b\b\b\b\b\b\b\b\r379/379 [==============================] - 2s 5ms/step - loss: 1.6565e-04\n",
            "Epoch 158/300\n",
            "379/379 [==============================] - ETA: 0s - loss: 1.5623e-04"
          ]
        },
        {
          "output_type": "stream",
          "name": "stderr",
          "text": [
            "WARNING:tensorflow:Early stopping conditioned on metric `val_loss` which is not available. Available metrics are: loss\n"
          ]
        },
        {
          "output_type": "stream",
          "name": "stdout",
          "text": [
            "\b\b\b\b\b\b\b\b\b\b\b\b\b\b\b\b\b\b\b\b\b\b\b\b\b\b\b\b\b\b\b\b\b\b\b\b\b\b\b\b\b\b\b\b\b\b\b\b\b\b\b\b\b\b\b\b\b\b\b\b\b\b\b\b\b\b\b\b\b\r379/379 [==============================] - 2s 4ms/step - loss: 1.5623e-04\n",
            "Epoch 159/300\n",
            "372/379 [============================>.] - ETA: 0s - loss: 1.6729e-04"
          ]
        },
        {
          "output_type": "stream",
          "name": "stderr",
          "text": [
            "WARNING:tensorflow:Early stopping conditioned on metric `val_loss` which is not available. Available metrics are: loss\n"
          ]
        },
        {
          "output_type": "stream",
          "name": "stdout",
          "text": [
            "\b\b\b\b\b\b\b\b\b\b\b\b\b\b\b\b\b\b\b\b\b\b\b\b\b\b\b\b\b\b\b\b\b\b\b\b\b\b\b\b\b\b\b\b\b\b\b\b\b\b\b\b\b\b\b\b\b\b\b\b\b\b\b\b\b\b\b\b\b\r379/379 [==============================] - 2s 4ms/step - loss: 1.6655e-04\n",
            "Epoch 160/300\n",
            "373/379 [============================>.] - ETA: 0s - loss: 1.6448e-04"
          ]
        },
        {
          "output_type": "stream",
          "name": "stderr",
          "text": [
            "WARNING:tensorflow:Early stopping conditioned on metric `val_loss` which is not available. Available metrics are: loss\n"
          ]
        },
        {
          "output_type": "stream",
          "name": "stdout",
          "text": [
            "\b\b\b\b\b\b\b\b\b\b\b\b\b\b\b\b\b\b\b\b\b\b\b\b\b\b\b\b\b\b\b\b\b\b\b\b\b\b\b\b\b\b\b\b\b\b\b\b\b\b\b\b\b\b\b\b\b\b\b\b\b\b\b\b\b\b\b\b\b\r379/379 [==============================] - 2s 4ms/step - loss: 1.6491e-04\n",
            "Epoch 161/300\n",
            "372/379 [============================>.] - ETA: 0s - loss: 1.5860e-04"
          ]
        },
        {
          "output_type": "stream",
          "name": "stderr",
          "text": [
            "WARNING:tensorflow:Early stopping conditioned on metric `val_loss` which is not available. Available metrics are: loss\n"
          ]
        },
        {
          "output_type": "stream",
          "name": "stdout",
          "text": [
            "\b\b\b\b\b\b\b\b\b\b\b\b\b\b\b\b\b\b\b\b\b\b\b\b\b\b\b\b\b\b\b\b\b\b\b\b\b\b\b\b\b\b\b\b\b\b\b\b\b\b\b\b\b\b\b\b\b\b\b\b\b\b\b\b\b\b\b\b\b\r379/379 [==============================] - 2s 4ms/step - loss: 1.6050e-04\n",
            "Epoch 162/300\n",
            "372/379 [============================>.] - ETA: 0s - loss: 1.6268e-04"
          ]
        },
        {
          "output_type": "stream",
          "name": "stderr",
          "text": [
            "WARNING:tensorflow:Early stopping conditioned on metric `val_loss` which is not available. Available metrics are: loss\n"
          ]
        },
        {
          "output_type": "stream",
          "name": "stdout",
          "text": [
            "\b\b\b\b\b\b\b\b\b\b\b\b\b\b\b\b\b\b\b\b\b\b\b\b\b\b\b\b\b\b\b\b\b\b\b\b\b\b\b\b\b\b\b\b\b\b\b\b\b\b\b\b\b\b\b\b\b\b\b\b\b\b\b\b\b\b\b\b\b\r379/379 [==============================] - 2s 4ms/step - loss: 1.6301e-04\n",
            "Epoch 163/300\n",
            "370/379 [============================>.] - ETA: 0s - loss: 1.6341e-04"
          ]
        },
        {
          "output_type": "stream",
          "name": "stderr",
          "text": [
            "WARNING:tensorflow:Early stopping conditioned on metric `val_loss` which is not available. Available metrics are: loss\n"
          ]
        },
        {
          "output_type": "stream",
          "name": "stdout",
          "text": [
            "\b\b\b\b\b\b\b\b\b\b\b\b\b\b\b\b\b\b\b\b\b\b\b\b\b\b\b\b\b\b\b\b\b\b\b\b\b\b\b\b\b\b\b\b\b\b\b\b\b\b\b\b\b\b\b\b\b\b\b\b\b\b\b\b\b\b\b\b\b\r379/379 [==============================] - 2s 5ms/step - loss: 1.6202e-04\n",
            "Epoch 164/300\n",
            "378/379 [============================>.] - ETA: 0s - loss: 1.7012e-04"
          ]
        },
        {
          "output_type": "stream",
          "name": "stderr",
          "text": [
            "WARNING:tensorflow:Early stopping conditioned on metric `val_loss` which is not available. Available metrics are: loss\n"
          ]
        },
        {
          "output_type": "stream",
          "name": "stdout",
          "text": [
            "\b\b\b\b\b\b\b\b\b\b\b\b\b\b\b\b\b\b\b\b\b\b\b\b\b\b\b\b\b\b\b\b\b\b\b\b\b\b\b\b\b\b\b\b\b\b\b\b\b\b\b\b\b\b\b\b\b\b\b\b\b\b\b\b\b\b\b\b\b\r379/379 [==============================] - 2s 5ms/step - loss: 1.7007e-04\n",
            "Epoch 165/300\n",
            "371/379 [============================>.] - ETA: 0s - loss: 1.6500e-04"
          ]
        },
        {
          "output_type": "stream",
          "name": "stderr",
          "text": [
            "WARNING:tensorflow:Early stopping conditioned on metric `val_loss` which is not available. Available metrics are: loss\n"
          ]
        },
        {
          "output_type": "stream",
          "name": "stdout",
          "text": [
            "\b\b\b\b\b\b\b\b\b\b\b\b\b\b\b\b\b\b\b\b\b\b\b\b\b\b\b\b\b\b\b\b\b\b\b\b\b\b\b\b\b\b\b\b\b\b\b\b\b\b\b\b\b\b\b\b\b\b\b\b\b\b\b\b\b\b\b\b\b\r379/379 [==============================] - 2s 5ms/step - loss: 1.6479e-04\n",
            "Epoch 166/300\n",
            "373/379 [============================>.] - ETA: 0s - loss: 1.6101e-04"
          ]
        },
        {
          "output_type": "stream",
          "name": "stderr",
          "text": [
            "WARNING:tensorflow:Early stopping conditioned on metric `val_loss` which is not available. Available metrics are: loss\n"
          ]
        },
        {
          "output_type": "stream",
          "name": "stdout",
          "text": [
            "\b\b\b\b\b\b\b\b\b\b\b\b\b\b\b\b\b\b\b\b\b\b\b\b\b\b\b\b\b\b\b\b\b\b\b\b\b\b\b\b\b\b\b\b\b\b\b\b\b\b\b\b\b\b\b\b\b\b\b\b\b\b\b\b\b\b\b\b\b\r379/379 [==============================] - 2s 4ms/step - loss: 1.6242e-04\n",
            "Epoch 167/300\n",
            "373/379 [============================>.] - ETA: 0s - loss: 1.5969e-04"
          ]
        },
        {
          "output_type": "stream",
          "name": "stderr",
          "text": [
            "WARNING:tensorflow:Early stopping conditioned on metric `val_loss` which is not available. Available metrics are: loss\n"
          ]
        },
        {
          "output_type": "stream",
          "name": "stdout",
          "text": [
            "\b\b\b\b\b\b\b\b\b\b\b\b\b\b\b\b\b\b\b\b\b\b\b\b\b\b\b\b\b\b\b\b\b\b\b\b\b\b\b\b\b\b\b\b\b\b\b\b\b\b\b\b\b\b\b\b\b\b\b\b\b\b\b\b\b\b\b\b\b\r379/379 [==============================] - 2s 4ms/step - loss: 1.5955e-04\n",
            "Epoch 168/300\n",
            "373/379 [============================>.] - ETA: 0s - loss: 1.6388e-04"
          ]
        },
        {
          "output_type": "stream",
          "name": "stderr",
          "text": [
            "WARNING:tensorflow:Early stopping conditioned on metric `val_loss` which is not available. Available metrics are: loss\n"
          ]
        },
        {
          "output_type": "stream",
          "name": "stdout",
          "text": [
            "\b\b\b\b\b\b\b\b\b\b\b\b\b\b\b\b\b\b\b\b\b\b\b\b\b\b\b\b\b\b\b\b\b\b\b\b\b\b\b\b\b\b\b\b\b\b\b\b\b\b\b\b\b\b\b\b\b\b\b\b\b\b\b\b\b\b\b\b\b\r379/379 [==============================] - 2s 4ms/step - loss: 1.6309e-04\n",
            "Epoch 169/300\n",
            "372/379 [============================>.] - ETA: 0s - loss: 1.6505e-04"
          ]
        },
        {
          "output_type": "stream",
          "name": "stderr",
          "text": [
            "WARNING:tensorflow:Early stopping conditioned on metric `val_loss` which is not available. Available metrics are: loss\n"
          ]
        },
        {
          "output_type": "stream",
          "name": "stdout",
          "text": [
            "\b\b\b\b\b\b\b\b\b\b\b\b\b\b\b\b\b\b\b\b\b\b\b\b\b\b\b\b\b\b\b\b\b\b\b\b\b\b\b\b\b\b\b\b\b\b\b\b\b\b\b\b\b\b\b\b\b\b\b\b\b\b\b\b\b\b\b\b\b\r379/379 [==============================] - 2s 4ms/step - loss: 1.6444e-04\n",
            "Epoch 170/300\n",
            "373/379 [============================>.] - ETA: 0s - loss: 1.6804e-04"
          ]
        },
        {
          "output_type": "stream",
          "name": "stderr",
          "text": [
            "WARNING:tensorflow:Early stopping conditioned on metric `val_loss` which is not available. Available metrics are: loss\n"
          ]
        },
        {
          "output_type": "stream",
          "name": "stdout",
          "text": [
            "\b\b\b\b\b\b\b\b\b\b\b\b\b\b\b\b\b\b\b\b\b\b\b\b\b\b\b\b\b\b\b\b\b\b\b\b\b\b\b\b\b\b\b\b\b\b\b\b\b\b\b\b\b\b\b\b\b\b\b\b\b\b\b\b\b\b\b\b\b\r379/379 [==============================] - 2s 4ms/step - loss: 1.6809e-04\n",
            "Epoch 171/300\n",
            "372/379 [============================>.] - ETA: 0s - loss: 1.6592e-04"
          ]
        },
        {
          "output_type": "stream",
          "name": "stderr",
          "text": [
            "WARNING:tensorflow:Early stopping conditioned on metric `val_loss` which is not available. Available metrics are: loss\n"
          ]
        },
        {
          "output_type": "stream",
          "name": "stdout",
          "text": [
            "\b\b\b\b\b\b\b\b\b\b\b\b\b\b\b\b\b\b\b\b\b\b\b\b\b\b\b\b\b\b\b\b\b\b\b\b\b\b\b\b\b\b\b\b\b\b\b\b\b\b\b\b\b\b\b\b\b\b\b\b\b\b\b\b\b\b\b\b\b\r379/379 [==============================] - 2s 4ms/step - loss: 1.6494e-04\n",
            "Epoch 172/300\n",
            "371/379 [============================>.] - ETA: 0s - loss: 1.6727e-04"
          ]
        },
        {
          "output_type": "stream",
          "name": "stderr",
          "text": [
            "WARNING:tensorflow:Early stopping conditioned on metric `val_loss` which is not available. Available metrics are: loss\n"
          ]
        },
        {
          "output_type": "stream",
          "name": "stdout",
          "text": [
            "\b\b\b\b\b\b\b\b\b\b\b\b\b\b\b\b\b\b\b\b\b\b\b\b\b\b\b\b\b\b\b\b\b\b\b\b\b\b\b\b\b\b\b\b\b\b\b\b\b\b\b\b\b\b\b\b\b\b\b\b\b\b\b\b\b\b\b\b\b\r379/379 [==============================] - 2s 5ms/step - loss: 1.6644e-04\n",
            "Epoch 173/300\n",
            "375/379 [============================>.] - ETA: 0s - loss: 1.6437e-04"
          ]
        },
        {
          "output_type": "stream",
          "name": "stderr",
          "text": [
            "WARNING:tensorflow:Early stopping conditioned on metric `val_loss` which is not available. Available metrics are: loss\n"
          ]
        },
        {
          "output_type": "stream",
          "name": "stdout",
          "text": [
            "\b\b\b\b\b\b\b\b\b\b\b\b\b\b\b\b\b\b\b\b\b\b\b\b\b\b\b\b\b\b\b\b\b\b\b\b\b\b\b\b\b\b\b\b\b\b\b\b\b\b\b\b\b\b\b\b\b\b\b\b\b\b\b\b\b\b\b\b\b\r379/379 [==============================] - 2s 4ms/step - loss: 1.6422e-04\n",
            "Epoch 174/300\n",
            "371/379 [============================>.] - ETA: 0s - loss: 1.6007e-04"
          ]
        },
        {
          "output_type": "stream",
          "name": "stderr",
          "text": [
            "WARNING:tensorflow:Early stopping conditioned on metric `val_loss` which is not available. Available metrics are: loss\n"
          ]
        },
        {
          "output_type": "stream",
          "name": "stdout",
          "text": [
            "\b\b\b\b\b\b\b\b\b\b\b\b\b\b\b\b\b\b\b\b\b\b\b\b\b\b\b\b\b\b\b\b\b\b\b\b\b\b\b\b\b\b\b\b\b\b\b\b\b\b\b\b\b\b\b\b\b\b\b\b\b\b\b\b\b\b\b\b\b\r379/379 [==============================] - 2s 4ms/step - loss: 1.5971e-04\n",
            "Epoch 175/300\n",
            "379/379 [==============================] - ETA: 0s - loss: 1.6477e-04"
          ]
        },
        {
          "output_type": "stream",
          "name": "stderr",
          "text": [
            "WARNING:tensorflow:Early stopping conditioned on metric `val_loss` which is not available. Available metrics are: loss\n"
          ]
        },
        {
          "output_type": "stream",
          "name": "stdout",
          "text": [
            "\b\b\b\b\b\b\b\b\b\b\b\b\b\b\b\b\b\b\b\b\b\b\b\b\b\b\b\b\b\b\b\b\b\b\b\b\b\b\b\b\b\b\b\b\b\b\b\b\b\b\b\b\b\b\b\b\b\b\b\b\b\b\b\b\b\b\b\b\b\r379/379 [==============================] - 2s 4ms/step - loss: 1.6477e-04\n",
            "Epoch 176/300\n",
            "373/379 [============================>.] - ETA: 0s - loss: 1.6125e-04"
          ]
        },
        {
          "output_type": "stream",
          "name": "stderr",
          "text": [
            "WARNING:tensorflow:Early stopping conditioned on metric `val_loss` which is not available. Available metrics are: loss\n"
          ]
        },
        {
          "output_type": "stream",
          "name": "stdout",
          "text": [
            "\b\b\b\b\b\b\b\b\b\b\b\b\b\b\b\b\b\b\b\b\b\b\b\b\b\b\b\b\b\b\b\b\b\b\b\b\b\b\b\b\b\b\b\b\b\b\b\b\b\b\b\b\b\b\b\b\b\b\b\b\b\b\b\b\b\b\b\b\b\r379/379 [==============================] - 2s 4ms/step - loss: 1.6144e-04\n",
            "Epoch 177/300\n",
            "372/379 [============================>.] - ETA: 0s - loss: 1.6943e-04"
          ]
        },
        {
          "output_type": "stream",
          "name": "stderr",
          "text": [
            "WARNING:tensorflow:Early stopping conditioned on metric `val_loss` which is not available. Available metrics are: loss\n"
          ]
        },
        {
          "output_type": "stream",
          "name": "stdout",
          "text": [
            "\b\b\b\b\b\b\b\b\b\b\b\b\b\b\b\b\b\b\b\b\b\b\b\b\b\b\b\b\b\b\b\b\b\b\b\b\b\b\b\b\b\b\b\b\b\b\b\b\b\b\b\b\b\b\b\b\b\b\b\b\b\b\b\b\b\b\b\b\b\r379/379 [==============================] - 2s 4ms/step - loss: 1.6926e-04\n",
            "Epoch 178/300\n",
            "378/379 [============================>.] - ETA: 0s - loss: 1.6159e-04"
          ]
        },
        {
          "output_type": "stream",
          "name": "stderr",
          "text": [
            "WARNING:tensorflow:Early stopping conditioned on metric `val_loss` which is not available. Available metrics are: loss\n"
          ]
        },
        {
          "output_type": "stream",
          "name": "stdout",
          "text": [
            "\b\b\b\b\b\b\b\b\b\b\b\b\b\b\b\b\b\b\b\b\b\b\b\b\b\b\b\b\b\b\b\b\b\b\b\b\b\b\b\b\b\b\b\b\b\b\b\b\b\b\b\b\b\b\b\b\b\b\b\b\b\b\b\b\b\b\b\b\b\r379/379 [==============================] - 2s 4ms/step - loss: 1.6155e-04\n",
            "Epoch 179/300\n",
            "378/379 [============================>.] - ETA: 0s - loss: 1.6347e-04"
          ]
        },
        {
          "output_type": "stream",
          "name": "stderr",
          "text": [
            "WARNING:tensorflow:Early stopping conditioned on metric `val_loss` which is not available. Available metrics are: loss\n"
          ]
        },
        {
          "output_type": "stream",
          "name": "stdout",
          "text": [
            "\b\b\b\b\b\b\b\b\b\b\b\b\b\b\b\b\b\b\b\b\b\b\b\b\b\b\b\b\b\b\b\b\b\b\b\b\b\b\b\b\b\b\b\b\b\b\b\b\b\b\b\b\b\b\b\b\b\b\b\b\b\b\b\b\b\b\b\b\b\r379/379 [==============================] - 2s 5ms/step - loss: 1.6349e-04\n",
            "Epoch 180/300\n",
            "378/379 [============================>.] - ETA: 0s - loss: 1.6028e-04"
          ]
        },
        {
          "output_type": "stream",
          "name": "stderr",
          "text": [
            "WARNING:tensorflow:Early stopping conditioned on metric `val_loss` which is not available. Available metrics are: loss\n"
          ]
        },
        {
          "output_type": "stream",
          "name": "stdout",
          "text": [
            "\b\b\b\b\b\b\b\b\b\b\b\b\b\b\b\b\b\b\b\b\b\b\b\b\b\b\b\b\b\b\b\b\b\b\b\b\b\b\b\b\b\b\b\b\b\b\b\b\b\b\b\b\b\b\b\b\b\b\b\b\b\b\b\b\b\b\b\b\b\r379/379 [==============================] - 2s 5ms/step - loss: 1.6027e-04\n",
            "Epoch 181/300\n",
            "371/379 [============================>.] - ETA: 0s - loss: 1.6022e-04"
          ]
        },
        {
          "output_type": "stream",
          "name": "stderr",
          "text": [
            "WARNING:tensorflow:Early stopping conditioned on metric `val_loss` which is not available. Available metrics are: loss\n"
          ]
        },
        {
          "output_type": "stream",
          "name": "stdout",
          "text": [
            "\b\b\b\b\b\b\b\b\b\b\b\b\b\b\b\b\b\b\b\b\b\b\b\b\b\b\b\b\b\b\b\b\b\b\b\b\b\b\b\b\b\b\b\b\b\b\b\b\b\b\b\b\b\b\b\b\b\b\b\b\b\b\b\b\b\b\b\b\b\r379/379 [==============================] - 2s 5ms/step - loss: 1.6074e-04\n",
            "Epoch 182/300\n",
            "371/379 [============================>.] - ETA: 0s - loss: 1.5825e-04"
          ]
        },
        {
          "output_type": "stream",
          "name": "stderr",
          "text": [
            "WARNING:tensorflow:Early stopping conditioned on metric `val_loss` which is not available. Available metrics are: loss\n"
          ]
        },
        {
          "output_type": "stream",
          "name": "stdout",
          "text": [
            "\b\b\b\b\b\b\b\b\b\b\b\b\b\b\b\b\b\b\b\b\b\b\b\b\b\b\b\b\b\b\b\b\b\b\b\b\b\b\b\b\b\b\b\b\b\b\b\b\b\b\b\b\b\b\b\b\b\b\b\b\b\b\b\b\b\b\b\b\b\r379/379 [==============================] - 2s 4ms/step - loss: 1.6013e-04\n",
            "Epoch 183/300\n",
            "373/379 [============================>.] - ETA: 0s - loss: 1.6653e-04"
          ]
        },
        {
          "output_type": "stream",
          "name": "stderr",
          "text": [
            "WARNING:tensorflow:Early stopping conditioned on metric `val_loss` which is not available. Available metrics are: loss\n"
          ]
        },
        {
          "output_type": "stream",
          "name": "stdout",
          "text": [
            "\b\b\b\b\b\b\b\b\b\b\b\b\b\b\b\b\b\b\b\b\b\b\b\b\b\b\b\b\b\b\b\b\b\b\b\b\b\b\b\b\b\b\b\b\b\b\b\b\b\b\b\b\b\b\b\b\b\b\b\b\b\b\b\b\b\b\b\b\b\r379/379 [==============================] - 2s 4ms/step - loss: 1.6589e-04\n",
            "Epoch 184/300\n",
            "373/379 [============================>.] - ETA: 0s - loss: 1.6154e-04"
          ]
        },
        {
          "output_type": "stream",
          "name": "stderr",
          "text": [
            "WARNING:tensorflow:Early stopping conditioned on metric `val_loss` which is not available. Available metrics are: loss\n"
          ]
        },
        {
          "output_type": "stream",
          "name": "stdout",
          "text": [
            "\b\b\b\b\b\b\b\b\b\b\b\b\b\b\b\b\b\b\b\b\b\b\b\b\b\b\b\b\b\b\b\b\b\b\b\b\b\b\b\b\b\b\b\b\b\b\b\b\b\b\b\b\b\b\b\b\b\b\b\b\b\b\b\b\b\b\b\b\b\r379/379 [==============================] - 2s 4ms/step - loss: 1.6224e-04\n",
            "Epoch 185/300\n",
            "373/379 [============================>.] - ETA: 0s - loss: 1.6404e-04"
          ]
        },
        {
          "output_type": "stream",
          "name": "stderr",
          "text": [
            "WARNING:tensorflow:Early stopping conditioned on metric `val_loss` which is not available. Available metrics are: loss\n"
          ]
        },
        {
          "output_type": "stream",
          "name": "stdout",
          "text": [
            "\b\b\b\b\b\b\b\b\b\b\b\b\b\b\b\b\b\b\b\b\b\b\b\b\b\b\b\b\b\b\b\b\b\b\b\b\b\b\b\b\b\b\b\b\b\b\b\b\b\b\b\b\b\b\b\b\b\b\b\b\b\b\b\b\b\b\b\b\b\r379/379 [==============================] - 2s 4ms/step - loss: 1.6367e-04\n",
            "Epoch 186/300\n",
            "373/379 [============================>.] - ETA: 0s - loss: 1.7215e-04"
          ]
        },
        {
          "output_type": "stream",
          "name": "stderr",
          "text": [
            "WARNING:tensorflow:Early stopping conditioned on metric `val_loss` which is not available. Available metrics are: loss\n"
          ]
        },
        {
          "output_type": "stream",
          "name": "stdout",
          "text": [
            "\b\b\b\b\b\b\b\b\b\b\b\b\b\b\b\b\b\b\b\b\b\b\b\b\b\b\b\b\b\b\b\b\b\b\b\b\b\b\b\b\b\b\b\b\b\b\b\b\b\b\b\b\b\b\b\b\b\b\b\b\b\b\b\b\b\b\b\b\b\r379/379 [==============================] - 2s 4ms/step - loss: 1.7126e-04\n",
            "Epoch 187/300\n",
            "375/379 [============================>.] - ETA: 0s - loss: 1.6305e-04"
          ]
        },
        {
          "output_type": "stream",
          "name": "stderr",
          "text": [
            "WARNING:tensorflow:Early stopping conditioned on metric `val_loss` which is not available. Available metrics are: loss\n"
          ]
        },
        {
          "output_type": "stream",
          "name": "stdout",
          "text": [
            "\b\b\b\b\b\b\b\b\b\b\b\b\b\b\b\b\b\b\b\b\b\b\b\b\b\b\b\b\b\b\b\b\b\b\b\b\b\b\b\b\b\b\b\b\b\b\b\b\b\b\b\b\b\b\b\b\b\b\b\b\b\b\b\b\b\b\b\b\b\r379/379 [==============================] - 2s 5ms/step - loss: 1.6283e-04\n",
            "Epoch 188/300\n",
            "372/379 [============================>.] - ETA: 0s - loss: 1.6384e-04"
          ]
        },
        {
          "output_type": "stream",
          "name": "stderr",
          "text": [
            "WARNING:tensorflow:Early stopping conditioned on metric `val_loss` which is not available. Available metrics are: loss\n"
          ]
        },
        {
          "output_type": "stream",
          "name": "stdout",
          "text": [
            "\b\b\b\b\b\b\b\b\b\b\b\b\b\b\b\b\b\b\b\b\b\b\b\b\b\b\b\b\b\b\b\b\b\b\b\b\b\b\b\b\b\b\b\b\b\b\b\b\b\b\b\b\b\b\b\b\b\b\b\b\b\b\b\b\b\b\b\b\b\r379/379 [==============================] - 2s 5ms/step - loss: 1.6404e-04\n",
            "Epoch 189/300\n",
            "377/379 [============================>.] - ETA: 0s - loss: 1.6419e-04"
          ]
        },
        {
          "output_type": "stream",
          "name": "stderr",
          "text": [
            "WARNING:tensorflow:Early stopping conditioned on metric `val_loss` which is not available. Available metrics are: loss\n"
          ]
        },
        {
          "output_type": "stream",
          "name": "stdout",
          "text": [
            "\b\b\b\b\b\b\b\b\b\b\b\b\b\b\b\b\b\b\b\b\b\b\b\b\b\b\b\b\b\b\b\b\b\b\b\b\b\b\b\b\b\b\b\b\b\b\b\b\b\b\b\b\b\b\b\b\b\b\b\b\b\b\b\b\b\b\b\b\b\r379/379 [==============================] - 2s 4ms/step - loss: 1.6425e-04\n",
            "Epoch 190/300\n",
            "374/379 [============================>.] - ETA: 0s - loss: 1.6662e-04"
          ]
        },
        {
          "output_type": "stream",
          "name": "stderr",
          "text": [
            "WARNING:tensorflow:Early stopping conditioned on metric `val_loss` which is not available. Available metrics are: loss\n"
          ]
        },
        {
          "output_type": "stream",
          "name": "stdout",
          "text": [
            "\b\b\b\b\b\b\b\b\b\b\b\b\b\b\b\b\b\b\b\b\b\b\b\b\b\b\b\b\b\b\b\b\b\b\b\b\b\b\b\b\b\b\b\b\b\b\b\b\b\b\b\b\b\b\b\b\b\b\b\b\b\b\b\b\b\b\b\b\b\r379/379 [==============================] - 2s 5ms/step - loss: 1.6655e-04\n",
            "Epoch 191/300\n",
            "377/379 [============================>.] - ETA: 0s - loss: 1.6393e-04"
          ]
        },
        {
          "output_type": "stream",
          "name": "stderr",
          "text": [
            "WARNING:tensorflow:Early stopping conditioned on metric `val_loss` which is not available. Available metrics are: loss\n"
          ]
        },
        {
          "output_type": "stream",
          "name": "stdout",
          "text": [
            "\b\b\b\b\b\b\b\b\b\b\b\b\b\b\b\b\b\b\b\b\b\b\b\b\b\b\b\b\b\b\b\b\b\b\b\b\b\b\b\b\b\b\b\b\b\b\b\b\b\b\b\b\b\b\b\b\b\b\b\b\b\b\b\b\b\b\b\b\b\r379/379 [==============================] - 2s 4ms/step - loss: 1.6411e-04\n",
            "Epoch 192/300\n",
            "373/379 [============================>.] - ETA: 0s - loss: 1.6971e-04"
          ]
        },
        {
          "output_type": "stream",
          "name": "stderr",
          "text": [
            "WARNING:tensorflow:Early stopping conditioned on metric `val_loss` which is not available. Available metrics are: loss\n"
          ]
        },
        {
          "output_type": "stream",
          "name": "stdout",
          "text": [
            "\b\b\b\b\b\b\b\b\b\b\b\b\b\b\b\b\b\b\b\b\b\b\b\b\b\b\b\b\b\b\b\b\b\b\b\b\b\b\b\b\b\b\b\b\b\b\b\b\b\b\b\b\b\b\b\b\b\b\b\b\b\b\b\b\b\b\b\b\b\r379/379 [==============================] - 2s 4ms/step - loss: 1.6864e-04\n",
            "Epoch 193/300\n",
            "376/379 [============================>.] - ETA: 0s - loss: 1.6324e-04"
          ]
        },
        {
          "output_type": "stream",
          "name": "stderr",
          "text": [
            "WARNING:tensorflow:Early stopping conditioned on metric `val_loss` which is not available. Available metrics are: loss\n"
          ]
        },
        {
          "output_type": "stream",
          "name": "stdout",
          "text": [
            "\b\b\b\b\b\b\b\b\b\b\b\b\b\b\b\b\b\b\b\b\b\b\b\b\b\b\b\b\b\b\b\b\b\b\b\b\b\b\b\b\b\b\b\b\b\b\b\b\b\b\b\b\b\b\b\b\b\b\b\b\b\b\b\b\b\b\b\b\b\r379/379 [==============================] - 2s 4ms/step - loss: 1.6426e-04\n",
            "Epoch 194/300\n",
            "379/379 [==============================] - ETA: 0s - loss: 1.6125e-04"
          ]
        },
        {
          "output_type": "stream",
          "name": "stderr",
          "text": [
            "WARNING:tensorflow:Early stopping conditioned on metric `val_loss` which is not available. Available metrics are: loss\n"
          ]
        },
        {
          "output_type": "stream",
          "name": "stdout",
          "text": [
            "\b\b\b\b\b\b\b\b\b\b\b\b\b\b\b\b\b\b\b\b\b\b\b\b\b\b\b\b\b\b\b\b\b\b\b\b\b\b\b\b\b\b\b\b\b\b\b\b\b\b\b\b\b\b\b\b\b\b\b\b\b\b\b\b\b\b\b\b\b\r379/379 [==============================] - 2s 5ms/step - loss: 1.6125e-04\n",
            "Epoch 195/300\n",
            "375/379 [============================>.] - ETA: 0s - loss: 1.5787e-04"
          ]
        },
        {
          "output_type": "stream",
          "name": "stderr",
          "text": [
            "WARNING:tensorflow:Early stopping conditioned on metric `val_loss` which is not available. Available metrics are: loss\n"
          ]
        },
        {
          "output_type": "stream",
          "name": "stdout",
          "text": [
            "\b\b\b\b\b\b\b\b\b\b\b\b\b\b\b\b\b\b\b\b\b\b\b\b\b\b\b\b\b\b\b\b\b\b\b\b\b\b\b\b\b\b\b\b\b\b\b\b\b\b\b\b\b\b\b\b\b\b\b\b\b\b\b\b\b\b\b\b\b\r379/379 [==============================] - 2s 5ms/step - loss: 1.5766e-04\n",
            "Epoch 196/300\n",
            "371/379 [============================>.] - ETA: 0s - loss: 1.6900e-04"
          ]
        },
        {
          "output_type": "stream",
          "name": "stderr",
          "text": [
            "WARNING:tensorflow:Early stopping conditioned on metric `val_loss` which is not available. Available metrics are: loss\n"
          ]
        },
        {
          "output_type": "stream",
          "name": "stdout",
          "text": [
            "\b\b\b\b\b\b\b\b\b\b\b\b\b\b\b\b\b\b\b\b\b\b\b\b\b\b\b\b\b\b\b\b\b\b\b\b\b\b\b\b\b\b\b\b\b\b\b\b\b\b\b\b\b\b\b\b\b\b\b\b\b\b\b\b\b\b\b\b\b\r379/379 [==============================] - 2s 5ms/step - loss: 1.6748e-04\n",
            "Epoch 197/300\n",
            "370/379 [============================>.] - ETA: 0s - loss: 1.6082e-04"
          ]
        },
        {
          "output_type": "stream",
          "name": "stderr",
          "text": [
            "WARNING:tensorflow:Early stopping conditioned on metric `val_loss` which is not available. Available metrics are: loss\n"
          ]
        },
        {
          "output_type": "stream",
          "name": "stdout",
          "text": [
            "\b\b\b\b\b\b\b\b\b\b\b\b\b\b\b\b\b\b\b\b\b\b\b\b\b\b\b\b\b\b\b\b\b\b\b\b\b\b\b\b\b\b\b\b\b\b\b\b\b\b\b\b\b\b\b\b\b\b\b\b\b\b\b\b\b\b\b\b\b\r379/379 [==============================] - 2s 4ms/step - loss: 1.5998e-04\n",
            "Epoch 198/300\n",
            "371/379 [============================>.] - ETA: 0s - loss: 1.6738e-04"
          ]
        },
        {
          "output_type": "stream",
          "name": "stderr",
          "text": [
            "WARNING:tensorflow:Early stopping conditioned on metric `val_loss` which is not available. Available metrics are: loss\n"
          ]
        },
        {
          "output_type": "stream",
          "name": "stdout",
          "text": [
            "\b\b\b\b\b\b\b\b\b\b\b\b\b\b\b\b\b\b\b\b\b\b\b\b\b\b\b\b\b\b\b\b\b\b\b\b\b\b\b\b\b\b\b\b\b\b\b\b\b\b\b\b\b\b\b\b\b\b\b\b\b\b\b\b\b\b\b\b\b\r379/379 [==============================] - 2s 4ms/step - loss: 1.6800e-04\n",
            "Epoch 199/300\n",
            "379/379 [==============================] - ETA: 0s - loss: 1.6459e-04"
          ]
        },
        {
          "output_type": "stream",
          "name": "stderr",
          "text": [
            "WARNING:tensorflow:Early stopping conditioned on metric `val_loss` which is not available. Available metrics are: loss\n"
          ]
        },
        {
          "output_type": "stream",
          "name": "stdout",
          "text": [
            "\b\b\b\b\b\b\b\b\b\b\b\b\b\b\b\b\b\b\b\b\b\b\b\b\b\b\b\b\b\b\b\b\b\b\b\b\b\b\b\b\b\b\b\b\b\b\b\b\b\b\b\b\b\b\b\b\b\b\b\b\b\b\b\b\b\b\b\b\b\r379/379 [==============================] - 2s 4ms/step - loss: 1.6459e-04\n",
            "Epoch 200/300\n",
            "371/379 [============================>.] - ETA: 0s - loss: 1.5976e-04"
          ]
        },
        {
          "output_type": "stream",
          "name": "stderr",
          "text": [
            "WARNING:tensorflow:Early stopping conditioned on metric `val_loss` which is not available. Available metrics are: loss\n"
          ]
        },
        {
          "output_type": "stream",
          "name": "stdout",
          "text": [
            "\b\b\b\b\b\b\b\b\b\b\b\b\b\b\b\b\b\b\b\b\b\b\b\b\b\b\b\b\b\b\b\b\b\b\b\b\b\b\b\b\b\b\b\b\b\b\b\b\b\b\b\b\b\b\b\b\b\b\b\b\b\b\b\b\b\b\b\b\b\r379/379 [==============================] - 2s 4ms/step - loss: 1.6087e-04\n",
            "Epoch 201/300\n",
            "373/379 [============================>.] - ETA: 0s - loss: 1.6369e-04"
          ]
        },
        {
          "output_type": "stream",
          "name": "stderr",
          "text": [
            "WARNING:tensorflow:Early stopping conditioned on metric `val_loss` which is not available. Available metrics are: loss\n"
          ]
        },
        {
          "output_type": "stream",
          "name": "stdout",
          "text": [
            "\b\b\b\b\b\b\b\b\b\b\b\b\b\b\b\b\b\b\b\b\b\b\b\b\b\b\b\b\b\b\b\b\b\b\b\b\b\b\b\b\b\b\b\b\b\b\b\b\b\b\b\b\b\b\b\b\b\b\b\b\b\b\b\b\b\b\b\b\b\r379/379 [==============================] - 2s 4ms/step - loss: 1.6394e-04\n",
            "Epoch 202/300\n",
            "378/379 [============================>.] - ETA: 0s - loss: 1.6013e-04"
          ]
        },
        {
          "output_type": "stream",
          "name": "stderr",
          "text": [
            "WARNING:tensorflow:Early stopping conditioned on metric `val_loss` which is not available. Available metrics are: loss\n"
          ]
        },
        {
          "output_type": "stream",
          "name": "stdout",
          "text": [
            "\b\b\b\b\b\b\b\b\b\b\b\b\b\b\b\b\b\b\b\b\b\b\b\b\b\b\b\b\b\b\b\b\b\b\b\b\b\b\b\b\b\b\b\b\b\b\b\b\b\b\b\b\b\b\b\b\b\b\b\b\b\b\b\b\b\b\b\b\b\r379/379 [==============================] - 2s 4ms/step - loss: 1.6011e-04\n",
            "Epoch 203/300\n",
            "378/379 [============================>.] - ETA: 0s - loss: 1.6158e-04"
          ]
        },
        {
          "output_type": "stream",
          "name": "stderr",
          "text": [
            "WARNING:tensorflow:Early stopping conditioned on metric `val_loss` which is not available. Available metrics are: loss\n"
          ]
        },
        {
          "output_type": "stream",
          "name": "stdout",
          "text": [
            "\b\b\b\b\b\b\b\b\b\b\b\b\b\b\b\b\b\b\b\b\b\b\b\b\b\b\b\b\b\b\b\b\b\b\b\b\b\b\b\b\b\b\b\b\b\b\b\b\b\b\b\b\b\b\b\b\b\b\b\b\b\b\b\b\b\b\b\b\b\r379/379 [==============================] - 2s 5ms/step - loss: 1.6153e-04\n",
            "Epoch 204/300\n",
            "378/379 [============================>.] - ETA: 0s - loss: 1.6710e-04"
          ]
        },
        {
          "output_type": "stream",
          "name": "stderr",
          "text": [
            "WARNING:tensorflow:Early stopping conditioned on metric `val_loss` which is not available. Available metrics are: loss\n"
          ]
        },
        {
          "output_type": "stream",
          "name": "stdout",
          "text": [
            "\b\b\b\b\b\b\b\b\b\b\b\b\b\b\b\b\b\b\b\b\b\b\b\b\b\b\b\b\b\b\b\b\b\b\b\b\b\b\b\b\b\b\b\b\b\b\b\b\b\b\b\b\b\b\b\b\b\b\b\b\b\b\b\b\b\b\b\b\b\r379/379 [==============================] - 2s 4ms/step - loss: 1.6705e-04\n",
            "Epoch 205/300\n",
            "373/379 [============================>.] - ETA: 0s - loss: 1.5627e-04"
          ]
        },
        {
          "output_type": "stream",
          "name": "stderr",
          "text": [
            "WARNING:tensorflow:Early stopping conditioned on metric `val_loss` which is not available. Available metrics are: loss\n"
          ]
        },
        {
          "output_type": "stream",
          "name": "stdout",
          "text": [
            "\b\b\b\b\b\b\b\b\b\b\b\b\b\b\b\b\b\b\b\b\b\b\b\b\b\b\b\b\b\b\b\b\b\b\b\b\b\b\b\b\b\b\b\b\b\b\b\b\b\b\b\b\b\b\b\b\b\b\b\b\b\b\b\b\b\b\b\b\b\r379/379 [==============================] - 2s 4ms/step - loss: 1.5742e-04\n",
            "Epoch 206/300\n",
            "369/379 [============================>.] - ETA: 0s - loss: 1.6034e-04"
          ]
        },
        {
          "output_type": "stream",
          "name": "stderr",
          "text": [
            "WARNING:tensorflow:Early stopping conditioned on metric `val_loss` which is not available. Available metrics are: loss\n"
          ]
        },
        {
          "output_type": "stream",
          "name": "stdout",
          "text": [
            "\b\b\b\b\b\b\b\b\b\b\b\b\b\b\b\b\b\b\b\b\b\b\b\b\b\b\b\b\b\b\b\b\b\b\b\b\b\b\b\b\b\b\b\b\b\b\b\b\b\b\b\b\b\b\b\b\b\b\b\b\b\b\b\b\b\b\b\b\b\r379/379 [==============================] - 2s 4ms/step - loss: 1.5967e-04\n",
            "Epoch 207/300\n",
            "370/379 [============================>.] - ETA: 0s - loss: 1.6327e-04"
          ]
        },
        {
          "output_type": "stream",
          "name": "stderr",
          "text": [
            "WARNING:tensorflow:Early stopping conditioned on metric `val_loss` which is not available. Available metrics are: loss\n"
          ]
        },
        {
          "output_type": "stream",
          "name": "stdout",
          "text": [
            "\b\b\b\b\b\b\b\b\b\b\b\b\b\b\b\b\b\b\b\b\b\b\b\b\b\b\b\b\b\b\b\b\b\b\b\b\b\b\b\b\b\b\b\b\b\b\b\b\b\b\b\b\b\b\b\b\b\b\b\b\b\b\b\b\b\b\b\b\b\r379/379 [==============================] - 2s 4ms/step - loss: 1.6327e-04\n",
            "Epoch 208/300\n",
            "373/379 [============================>.] - ETA: 0s - loss: 1.6386e-04"
          ]
        },
        {
          "output_type": "stream",
          "name": "stderr",
          "text": [
            "WARNING:tensorflow:Early stopping conditioned on metric `val_loss` which is not available. Available metrics are: loss\n"
          ]
        },
        {
          "output_type": "stream",
          "name": "stdout",
          "text": [
            "\b\b\b\b\b\b\b\b\b\b\b\b\b\b\b\b\b\b\b\b\b\b\b\b\b\b\b\b\b\b\b\b\b\b\b\b\b\b\b\b\b\b\b\b\b\b\b\b\b\b\b\b\b\b\b\b\b\b\b\b\b\b\b\b\b\b\b\b\b\r379/379 [==============================] - 2s 4ms/step - loss: 1.6373e-04\n",
            "Epoch 209/300\n",
            "372/379 [============================>.] - ETA: 0s - loss: 1.6769e-04"
          ]
        },
        {
          "output_type": "stream",
          "name": "stderr",
          "text": [
            "WARNING:tensorflow:Early stopping conditioned on metric `val_loss` which is not available. Available metrics are: loss\n"
          ]
        },
        {
          "output_type": "stream",
          "name": "stdout",
          "text": [
            "\b\b\b\b\b\b\b\b\b\b\b\b\b\b\b\b\b\b\b\b\b\b\b\b\b\b\b\b\b\b\b\b\b\b\b\b\b\b\b\b\b\b\b\b\b\b\b\b\b\b\b\b\b\b\b\b\b\b\b\b\b\b\b\b\b\b\b\b\b\r379/379 [==============================] - 2s 4ms/step - loss: 1.6672e-04\n",
            "Epoch 210/300\n",
            "374/379 [============================>.] - ETA: 0s - loss: 1.6455e-04"
          ]
        },
        {
          "output_type": "stream",
          "name": "stderr",
          "text": [
            "WARNING:tensorflow:Early stopping conditioned on metric `val_loss` which is not available. Available metrics are: loss\n"
          ]
        },
        {
          "output_type": "stream",
          "name": "stdout",
          "text": [
            "\b\b\b\b\b\b\b\b\b\b\b\b\b\b\b\b\b\b\b\b\b\b\b\b\b\b\b\b\b\b\b\b\b\b\b\b\b\b\b\b\b\b\b\b\b\b\b\b\b\b\b\b\b\b\b\b\b\b\b\b\b\b\b\b\b\b\b\b\b\r379/379 [==============================] - 2s 5ms/step - loss: 1.6382e-04\n",
            "Epoch 211/300\n",
            "379/379 [==============================] - ETA: 0s - loss: 1.6003e-04"
          ]
        },
        {
          "output_type": "stream",
          "name": "stderr",
          "text": [
            "WARNING:tensorflow:Early stopping conditioned on metric `val_loss` which is not available. Available metrics are: loss\n"
          ]
        },
        {
          "output_type": "stream",
          "name": "stdout",
          "text": [
            "\b\b\b\b\b\b\b\b\b\b\b\b\b\b\b\b\b\b\b\b\b\b\b\b\b\b\b\b\b\b\b\b\b\b\b\b\b\b\b\b\b\b\b\b\b\b\b\b\b\b\b\b\b\b\b\b\b\b\b\b\b\b\b\b\b\b\b\b\b\r379/379 [==============================] - 2s 5ms/step - loss: 1.6003e-04\n",
            "Epoch 212/300\n",
            "373/379 [============================>.] - ETA: 0s - loss: 1.5587e-04"
          ]
        },
        {
          "output_type": "stream",
          "name": "stderr",
          "text": [
            "WARNING:tensorflow:Early stopping conditioned on metric `val_loss` which is not available. Available metrics are: loss\n"
          ]
        },
        {
          "output_type": "stream",
          "name": "stdout",
          "text": [
            "\b\b\b\b\b\b\b\b\b\b\b\b\b\b\b\b\b\b\b\b\b\b\b\b\b\b\b\b\b\b\b\b\b\b\b\b\b\b\b\b\b\b\b\b\b\b\b\b\b\b\b\b\b\b\b\b\b\b\b\b\b\b\b\b\b\b\b\b\b\r379/379 [==============================] - 2s 4ms/step - loss: 1.5674e-04\n",
            "Epoch 213/300\n",
            "373/379 [============================>.] - ETA: 0s - loss: 1.6405e-04"
          ]
        },
        {
          "output_type": "stream",
          "name": "stderr",
          "text": [
            "WARNING:tensorflow:Early stopping conditioned on metric `val_loss` which is not available. Available metrics are: loss\n"
          ]
        },
        {
          "output_type": "stream",
          "name": "stdout",
          "text": [
            "\b\b\b\b\b\b\b\b\b\b\b\b\b\b\b\b\b\b\b\b\b\b\b\b\b\b\b\b\b\b\b\b\b\b\b\b\b\b\b\b\b\b\b\b\b\b\b\b\b\b\b\b\b\b\b\b\b\b\b\b\b\b\b\b\b\b\b\b\b\r379/379 [==============================] - 2s 4ms/step - loss: 1.6370e-04\n",
            "Epoch 214/300\n",
            "372/379 [============================>.] - ETA: 0s - loss: 1.5999e-04"
          ]
        },
        {
          "output_type": "stream",
          "name": "stderr",
          "text": [
            "WARNING:tensorflow:Early stopping conditioned on metric `val_loss` which is not available. Available metrics are: loss\n"
          ]
        },
        {
          "output_type": "stream",
          "name": "stdout",
          "text": [
            "\b\b\b\b\b\b\b\b\b\b\b\b\b\b\b\b\b\b\b\b\b\b\b\b\b\b\b\b\b\b\b\b\b\b\b\b\b\b\b\b\b\b\b\b\b\b\b\b\b\b\b\b\b\b\b\b\b\b\b\b\b\b\b\b\b\b\b\b\b\r379/379 [==============================] - 2s 4ms/step - loss: 1.5884e-04\n",
            "Epoch 215/300\n",
            "370/379 [============================>.] - ETA: 0s - loss: 1.6175e-04"
          ]
        },
        {
          "output_type": "stream",
          "name": "stderr",
          "text": [
            "WARNING:tensorflow:Early stopping conditioned on metric `val_loss` which is not available. Available metrics are: loss\n"
          ]
        },
        {
          "output_type": "stream",
          "name": "stdout",
          "text": [
            "\b\b\b\b\b\b\b\b\b\b\b\b\b\b\b\b\b\b\b\b\b\b\b\b\b\b\b\b\b\b\b\b\b\b\b\b\b\b\b\b\b\b\b\b\b\b\b\b\b\b\b\b\b\b\b\b\b\b\b\b\b\b\b\b\b\b\b\b\b\r379/379 [==============================] - 2s 4ms/step - loss: 1.6128e-04\n",
            "Epoch 216/300\n",
            "370/379 [============================>.] - ETA: 0s - loss: 1.5793e-04"
          ]
        },
        {
          "output_type": "stream",
          "name": "stderr",
          "text": [
            "WARNING:tensorflow:Early stopping conditioned on metric `val_loss` which is not available. Available metrics are: loss\n"
          ]
        },
        {
          "output_type": "stream",
          "name": "stdout",
          "text": [
            "\b\b\b\b\b\b\b\b\b\b\b\b\b\b\b\b\b\b\b\b\b\b\b\b\b\b\b\b\b\b\b\b\b\b\b\b\b\b\b\b\b\b\b\b\b\b\b\b\b\b\b\b\b\b\b\b\b\b\b\b\b\b\b\b\b\b\b\b\b\r379/379 [==============================] - 2s 4ms/step - loss: 1.5877e-04\n",
            "Epoch 217/300\n",
            "372/379 [============================>.] - ETA: 0s - loss: 1.5955e-04"
          ]
        },
        {
          "output_type": "stream",
          "name": "stderr",
          "text": [
            "WARNING:tensorflow:Early stopping conditioned on metric `val_loss` which is not available. Available metrics are: loss\n"
          ]
        },
        {
          "output_type": "stream",
          "name": "stdout",
          "text": [
            "\b\b\b\b\b\b\b\b\b\b\b\b\b\b\b\b\b\b\b\b\b\b\b\b\b\b\b\b\b\b\b\b\b\b\b\b\b\b\b\b\b\b\b\b\b\b\b\b\b\b\b\b\b\b\b\b\b\b\b\b\b\b\b\b\b\b\b\b\b\r379/379 [==============================] - 2s 4ms/step - loss: 1.6016e-04\n",
            "Epoch 218/300\n",
            "379/379 [==============================] - ETA: 0s - loss: 1.6692e-04"
          ]
        },
        {
          "output_type": "stream",
          "name": "stderr",
          "text": [
            "WARNING:tensorflow:Early stopping conditioned on metric `val_loss` which is not available. Available metrics are: loss\n"
          ]
        },
        {
          "output_type": "stream",
          "name": "stdout",
          "text": [
            "\b\b\b\b\b\b\b\b\b\b\b\b\b\b\b\b\b\b\b\b\b\b\b\b\b\b\b\b\b\b\b\b\b\b\b\b\b\b\b\b\b\b\b\b\b\b\b\b\b\b\b\b\b\b\b\b\b\b\b\b\b\b\b\b\b\b\b\b\b\r379/379 [==============================] - 2s 5ms/step - loss: 1.6692e-04\n",
            "Epoch 219/300\n",
            "372/379 [============================>.] - ETA: 0s - loss: 1.5805e-04"
          ]
        },
        {
          "output_type": "stream",
          "name": "stderr",
          "text": [
            "WARNING:tensorflow:Early stopping conditioned on metric `val_loss` which is not available. Available metrics are: loss\n"
          ]
        },
        {
          "output_type": "stream",
          "name": "stdout",
          "text": [
            "\b\b\b\b\b\b\b\b\b\b\b\b\b\b\b\b\b\b\b\b\b\b\b\b\b\b\b\b\b\b\b\b\b\b\b\b\b\b\b\b\b\b\b\b\b\b\b\b\b\b\b\b\b\b\b\b\b\b\b\b\b\b\b\b\b\b\b\b\b\r379/379 [==============================] - 2s 5ms/step - loss: 1.5801e-04\n",
            "Epoch 220/300\n",
            "373/379 [============================>.] - ETA: 0s - loss: 1.6105e-04"
          ]
        },
        {
          "output_type": "stream",
          "name": "stderr",
          "text": [
            "WARNING:tensorflow:Early stopping conditioned on metric `val_loss` which is not available. Available metrics are: loss\n"
          ]
        },
        {
          "output_type": "stream",
          "name": "stdout",
          "text": [
            "\b\b\b\b\b\b\b\b\b\b\b\b\b\b\b\b\b\b\b\b\b\b\b\b\b\b\b\b\b\b\b\b\b\b\b\b\b\b\b\b\b\b\b\b\b\b\b\b\b\b\b\b\b\b\b\b\b\b\b\b\b\b\b\b\b\b\b\b\b\r379/379 [==============================] - 2s 4ms/step - loss: 1.6190e-04\n",
            "Epoch 221/300\n",
            "371/379 [============================>.] - ETA: 0s - loss: 1.6219e-04"
          ]
        },
        {
          "output_type": "stream",
          "name": "stderr",
          "text": [
            "WARNING:tensorflow:Early stopping conditioned on metric `val_loss` which is not available. Available metrics are: loss\n"
          ]
        },
        {
          "output_type": "stream",
          "name": "stdout",
          "text": [
            "\b\b\b\b\b\b\b\b\b\b\b\b\b\b\b\b\b\b\b\b\b\b\b\b\b\b\b\b\b\b\b\b\b\b\b\b\b\b\b\b\b\b\b\b\b\b\b\b\b\b\b\b\b\b\b\b\b\b\b\b\b\b\b\b\b\b\b\b\b\r379/379 [==============================] - 2s 4ms/step - loss: 1.6290e-04\n",
            "Epoch 222/300\n",
            "371/379 [============================>.] - ETA: 0s - loss: 1.6478e-04"
          ]
        },
        {
          "output_type": "stream",
          "name": "stderr",
          "text": [
            "WARNING:tensorflow:Early stopping conditioned on metric `val_loss` which is not available. Available metrics are: loss\n"
          ]
        },
        {
          "output_type": "stream",
          "name": "stdout",
          "text": [
            "\b\b\b\b\b\b\b\b\b\b\b\b\b\b\b\b\b\b\b\b\b\b\b\b\b\b\b\b\b\b\b\b\b\b\b\b\b\b\b\b\b\b\b\b\b\b\b\b\b\b\b\b\b\b\b\b\b\b\b\b\b\b\b\b\b\b\b\b\b\r379/379 [==============================] - 2s 4ms/step - loss: 1.6599e-04\n",
            "Epoch 223/300\n",
            "372/379 [============================>.] - ETA: 0s - loss: 1.6087e-04"
          ]
        },
        {
          "output_type": "stream",
          "name": "stderr",
          "text": [
            "WARNING:tensorflow:Early stopping conditioned on metric `val_loss` which is not available. Available metrics are: loss\n"
          ]
        },
        {
          "output_type": "stream",
          "name": "stdout",
          "text": [
            "\b\b\b\b\b\b\b\b\b\b\b\b\b\b\b\b\b\b\b\b\b\b\b\b\b\b\b\b\b\b\b\b\b\b\b\b\b\b\b\b\b\b\b\b\b\b\b\b\b\b\b\b\b\b\b\b\b\b\b\b\b\b\b\b\b\b\b\b\b\r379/379 [==============================] - 2s 4ms/step - loss: 1.6087e-04\n",
            "Epoch 224/300\n",
            "373/379 [============================>.] - ETA: 0s - loss: 1.5747e-04"
          ]
        },
        {
          "output_type": "stream",
          "name": "stderr",
          "text": [
            "WARNING:tensorflow:Early stopping conditioned on metric `val_loss` which is not available. Available metrics are: loss\n"
          ]
        },
        {
          "output_type": "stream",
          "name": "stdout",
          "text": [
            "\b\b\b\b\b\b\b\b\b\b\b\b\b\b\b\b\b\b\b\b\b\b\b\b\b\b\b\b\b\b\b\b\b\b\b\b\b\b\b\b\b\b\b\b\b\b\b\b\b\b\b\b\b\b\b\b\b\b\b\b\b\b\b\b\b\b\b\b\b\r379/379 [==============================] - 2s 4ms/step - loss: 1.5747e-04\n",
            "Epoch 225/300\n",
            "378/379 [============================>.] - ETA: 0s - loss: 1.6611e-04"
          ]
        },
        {
          "output_type": "stream",
          "name": "stderr",
          "text": [
            "WARNING:tensorflow:Early stopping conditioned on metric `val_loss` which is not available. Available metrics are: loss\n"
          ]
        },
        {
          "output_type": "stream",
          "name": "stdout",
          "text": [
            "\b\b\b\b\b\b\b\b\b\b\b\b\b\b\b\b\b\b\b\b\b\b\b\b\b\b\b\b\b\b\b\b\b\b\b\b\b\b\b\b\b\b\b\b\b\b\b\b\b\b\b\b\b\b\b\b\b\b\b\b\b\b\b\b\b\b\b\b\b\r379/379 [==============================] - 2s 4ms/step - loss: 1.6607e-04\n",
            "Epoch 226/300\n",
            "379/379 [==============================] - ETA: 0s - loss: 1.6255e-04"
          ]
        },
        {
          "output_type": "stream",
          "name": "stderr",
          "text": [
            "WARNING:tensorflow:Early stopping conditioned on metric `val_loss` which is not available. Available metrics are: loss\n"
          ]
        },
        {
          "output_type": "stream",
          "name": "stdout",
          "text": [
            "\b\b\b\b\b\b\b\b\b\b\b\b\b\b\b\b\b\b\b\b\b\b\b\b\b\b\b\b\b\b\b\b\b\b\b\b\b\b\b\b\b\b\b\b\b\b\b\b\b\b\b\b\b\b\b\b\b\b\b\b\b\b\b\b\b\b\b\b\b\r379/379 [==============================] - 2s 5ms/step - loss: 1.6255e-04\n",
            "Epoch 227/300\n",
            "377/379 [============================>.] - ETA: 0s - loss: 1.6239e-04"
          ]
        },
        {
          "output_type": "stream",
          "name": "stderr",
          "text": [
            "WARNING:tensorflow:Early stopping conditioned on metric `val_loss` which is not available. Available metrics are: loss\n"
          ]
        },
        {
          "output_type": "stream",
          "name": "stdout",
          "text": [
            "\b\b\b\b\b\b\b\b\b\b\b\b\b\b\b\b\b\b\b\b\b\b\b\b\b\b\b\b\b\b\b\b\b\b\b\b\b\b\b\b\b\b\b\b\b\b\b\b\b\b\b\b\b\b\b\b\b\b\b\b\b\b\b\b\b\b\b\b\b\r379/379 [==============================] - 2s 4ms/step - loss: 1.6235e-04\n",
            "Epoch 228/300\n",
            "373/379 [============================>.] - ETA: 0s - loss: 1.6077e-04"
          ]
        },
        {
          "output_type": "stream",
          "name": "stderr",
          "text": [
            "WARNING:tensorflow:Early stopping conditioned on metric `val_loss` which is not available. Available metrics are: loss\n"
          ]
        },
        {
          "output_type": "stream",
          "name": "stdout",
          "text": [
            "\b\b\b\b\b\b\b\b\b\b\b\b\b\b\b\b\b\b\b\b\b\b\b\b\b\b\b\b\b\b\b\b\b\b\b\b\b\b\b\b\b\b\b\b\b\b\b\b\b\b\b\b\b\b\b\b\b\b\b\b\b\b\b\b\b\b\b\b\b\r379/379 [==============================] - 2s 4ms/step - loss: 1.6105e-04\n",
            "Epoch 229/300\n",
            "368/379 [============================>.] - ETA: 0s - loss: 1.5716e-04"
          ]
        },
        {
          "output_type": "stream",
          "name": "stderr",
          "text": [
            "WARNING:tensorflow:Early stopping conditioned on metric `val_loss` which is not available. Available metrics are: loss\n"
          ]
        },
        {
          "output_type": "stream",
          "name": "stdout",
          "text": [
            "\b\b\b\b\b\b\b\b\b\b\b\b\b\b\b\b\b\b\b\b\b\b\b\b\b\b\b\b\b\b\b\b\b\b\b\b\b\b\b\b\b\b\b\b\b\b\b\b\b\b\b\b\b\b\b\b\b\b\b\b\b\b\b\b\b\b\b\b\b\r379/379 [==============================] - 2s 4ms/step - loss: 1.5988e-04\n",
            "Epoch 230/300\n",
            "371/379 [============================>.] - ETA: 0s - loss: 1.6037e-04"
          ]
        },
        {
          "output_type": "stream",
          "name": "stderr",
          "text": [
            "WARNING:tensorflow:Early stopping conditioned on metric `val_loss` which is not available. Available metrics are: loss\n"
          ]
        },
        {
          "output_type": "stream",
          "name": "stdout",
          "text": [
            "\b\b\b\b\b\b\b\b\b\b\b\b\b\b\b\b\b\b\b\b\b\b\b\b\b\b\b\b\b\b\b\b\b\b\b\b\b\b\b\b\b\b\b\b\b\b\b\b\b\b\b\b\b\b\b\b\b\b\b\b\b\b\b\b\b\b\b\b\b\r379/379 [==============================] - 2s 4ms/step - loss: 1.5996e-04\n",
            "Epoch 231/300\n",
            "371/379 [============================>.] - ETA: 0s - loss: 1.6734e-04"
          ]
        },
        {
          "output_type": "stream",
          "name": "stderr",
          "text": [
            "WARNING:tensorflow:Early stopping conditioned on metric `val_loss` which is not available. Available metrics are: loss\n"
          ]
        },
        {
          "output_type": "stream",
          "name": "stdout",
          "text": [
            "\b\b\b\b\b\b\b\b\b\b\b\b\b\b\b\b\b\b\b\b\b\b\b\b\b\b\b\b\b\b\b\b\b\b\b\b\b\b\b\b\b\b\b\b\b\b\b\b\b\b\b\b\b\b\b\b\b\b\b\b\b\b\b\b\b\b\b\b\b\r379/379 [==============================] - 2s 5ms/step - loss: 1.6715e-04\n",
            "Epoch 232/300\n",
            "369/379 [============================>.] - ETA: 0s - loss: 1.5797e-04"
          ]
        },
        {
          "output_type": "stream",
          "name": "stderr",
          "text": [
            "WARNING:tensorflow:Early stopping conditioned on metric `val_loss` which is not available. Available metrics are: loss\n"
          ]
        },
        {
          "output_type": "stream",
          "name": "stdout",
          "text": [
            "\b\b\b\b\b\b\b\b\b\b\b\b\b\b\b\b\b\b\b\b\b\b\b\b\b\b\b\b\b\b\b\b\b\b\b\b\b\b\b\b\b\b\b\b\b\b\b\b\b\b\b\b\b\b\b\b\b\b\b\b\b\b\b\b\b\b\b\b\b\r379/379 [==============================] - 2s 4ms/step - loss: 1.5720e-04\n",
            "Epoch 233/300\n",
            "373/379 [============================>.] - ETA: 0s - loss: 1.6011e-04"
          ]
        },
        {
          "output_type": "stream",
          "name": "stderr",
          "text": [
            "WARNING:tensorflow:Early stopping conditioned on metric `val_loss` which is not available. Available metrics are: loss\n"
          ]
        },
        {
          "output_type": "stream",
          "name": "stdout",
          "text": [
            "\b\b\b\b\b\b\b\b\b\b\b\b\b\b\b\b\b\b\b\b\b\b\b\b\b\b\b\b\b\b\b\b\b\b\b\b\b\b\b\b\b\b\b\b\b\b\b\b\b\b\b\b\b\b\b\b\b\b\b\b\b\b\b\b\b\b\b\b\b\r379/379 [==============================] - 2s 5ms/step - loss: 1.6043e-04\n",
            "Epoch 234/300\n",
            "369/379 [============================>.] - ETA: 0s - loss: 1.5652e-04"
          ]
        },
        {
          "output_type": "stream",
          "name": "stderr",
          "text": [
            "WARNING:tensorflow:Early stopping conditioned on metric `val_loss` which is not available. Available metrics are: loss\n"
          ]
        },
        {
          "output_type": "stream",
          "name": "stdout",
          "text": [
            "\b\b\b\b\b\b\b\b\b\b\b\b\b\b\b\b\b\b\b\b\b\b\b\b\b\b\b\b\b\b\b\b\b\b\b\b\b\b\b\b\b\b\b\b\b\b\b\b\b\b\b\b\b\b\b\b\b\b\b\b\b\b\b\b\b\b\b\b\b\r379/379 [==============================] - 2s 5ms/step - loss: 1.5582e-04\n",
            "Epoch 235/300\n",
            "373/379 [============================>.] - ETA: 0s - loss: 1.5910e-04"
          ]
        },
        {
          "output_type": "stream",
          "name": "stderr",
          "text": [
            "WARNING:tensorflow:Early stopping conditioned on metric `val_loss` which is not available. Available metrics are: loss\n"
          ]
        },
        {
          "output_type": "stream",
          "name": "stdout",
          "text": [
            "\b\b\b\b\b\b\b\b\b\b\b\b\b\b\b\b\b\b\b\b\b\b\b\b\b\b\b\b\b\b\b\b\b\b\b\b\b\b\b\b\b\b\b\b\b\b\b\b\b\b\b\b\b\b\b\b\b\b\b\b\b\b\b\b\b\b\b\b\b\r379/379 [==============================] - 2s 5ms/step - loss: 1.5876e-04\n",
            "Epoch 236/300\n",
            "368/379 [============================>.] - ETA: 0s - loss: 1.6464e-04"
          ]
        },
        {
          "output_type": "stream",
          "name": "stderr",
          "text": [
            "WARNING:tensorflow:Early stopping conditioned on metric `val_loss` which is not available. Available metrics are: loss\n"
          ]
        },
        {
          "output_type": "stream",
          "name": "stdout",
          "text": [
            "\b\b\b\b\b\b\b\b\b\b\b\b\b\b\b\b\b\b\b\b\b\b\b\b\b\b\b\b\b\b\b\b\b\b\b\b\b\b\b\b\b\b\b\b\b\b\b\b\b\b\b\b\b\b\b\b\b\b\b\b\b\b\b\b\b\b\b\b\b\r379/379 [==============================] - 2s 4ms/step - loss: 1.6481e-04\n",
            "Epoch 237/300\n",
            "370/379 [============================>.] - ETA: 0s - loss: 1.5913e-04"
          ]
        },
        {
          "output_type": "stream",
          "name": "stderr",
          "text": [
            "WARNING:tensorflow:Early stopping conditioned on metric `val_loss` which is not available. Available metrics are: loss\n"
          ]
        },
        {
          "output_type": "stream",
          "name": "stdout",
          "text": [
            "\b\b\b\b\b\b\b\b\b\b\b\b\b\b\b\b\b\b\b\b\b\b\b\b\b\b\b\b\b\b\b\b\b\b\b\b\b\b\b\b\b\b\b\b\b\b\b\b\b\b\b\b\b\b\b\b\b\b\b\b\b\b\b\b\b\b\b\b\b\r379/379 [==============================] - 2s 4ms/step - loss: 1.5966e-04\n",
            "Epoch 238/300\n",
            "379/379 [==============================] - ETA: 0s - loss: 1.5852e-04"
          ]
        },
        {
          "output_type": "stream",
          "name": "stderr",
          "text": [
            "WARNING:tensorflow:Early stopping conditioned on metric `val_loss` which is not available. Available metrics are: loss\n"
          ]
        },
        {
          "output_type": "stream",
          "name": "stdout",
          "text": [
            "\b\b\b\b\b\b\b\b\b\b\b\b\b\b\b\b\b\b\b\b\b\b\b\b\b\b\b\b\b\b\b\b\b\b\b\b\b\b\b\b\b\b\b\b\b\b\b\b\b\b\b\b\b\b\b\b\b\b\b\b\b\b\b\b\b\b\b\b\b\r379/379 [==============================] - 2s 4ms/step - loss: 1.5852e-04\n",
            "Epoch 239/300\n",
            "376/379 [============================>.] - ETA: 0s - loss: 1.6080e-04"
          ]
        },
        {
          "output_type": "stream",
          "name": "stderr",
          "text": [
            "WARNING:tensorflow:Early stopping conditioned on metric `val_loss` which is not available. Available metrics are: loss\n"
          ]
        },
        {
          "output_type": "stream",
          "name": "stdout",
          "text": [
            "\b\b\b\b\b\b\b\b\b\b\b\b\b\b\b\b\b\b\b\b\b\b\b\b\b\b\b\b\b\b\b\b\b\b\b\b\b\b\b\b\b\b\b\b\b\b\b\b\b\b\b\b\b\b\b\b\b\b\b\b\b\b\b\b\b\b\b\b\b\r379/379 [==============================] - 2s 5ms/step - loss: 1.6060e-04\n",
            "Epoch 240/300\n",
            "376/379 [============================>.] - ETA: 0s - loss: 1.7259e-04"
          ]
        },
        {
          "output_type": "stream",
          "name": "stderr",
          "text": [
            "WARNING:tensorflow:Early stopping conditioned on metric `val_loss` which is not available. Available metrics are: loss\n"
          ]
        },
        {
          "output_type": "stream",
          "name": "stdout",
          "text": [
            "\b\b\b\b\b\b\b\b\b\b\b\b\b\b\b\b\b\b\b\b\b\b\b\b\b\b\b\b\b\b\b\b\b\b\b\b\b\b\b\b\b\b\b\b\b\b\b\b\b\b\b\b\b\b\b\b\b\b\b\b\b\b\b\b\b\b\b\b\b\r379/379 [==============================] - 2s 5ms/step - loss: 1.7273e-04\n",
            "Epoch 241/300\n",
            "374/379 [============================>.] - ETA: 0s - loss: 1.5908e-04"
          ]
        },
        {
          "output_type": "stream",
          "name": "stderr",
          "text": [
            "WARNING:tensorflow:Early stopping conditioned on metric `val_loss` which is not available. Available metrics are: loss\n"
          ]
        },
        {
          "output_type": "stream",
          "name": "stdout",
          "text": [
            "\b\b\b\b\b\b\b\b\b\b\b\b\b\b\b\b\b\b\b\b\b\b\b\b\b\b\b\b\b\b\b\b\b\b\b\b\b\b\b\b\b\b\b\b\b\b\b\b\b\b\b\b\b\b\b\b\b\b\b\b\b\b\b\b\b\b\b\b\b\r379/379 [==============================] - 2s 5ms/step - loss: 1.5883e-04\n",
            "Epoch 242/300\n",
            "375/379 [============================>.] - ETA: 0s - loss: 1.6131e-04"
          ]
        },
        {
          "output_type": "stream",
          "name": "stderr",
          "text": [
            "WARNING:tensorflow:Early stopping conditioned on metric `val_loss` which is not available. Available metrics are: loss\n"
          ]
        },
        {
          "output_type": "stream",
          "name": "stdout",
          "text": [
            "\b\b\b\b\b\b\b\b\b\b\b\b\b\b\b\b\b\b\b\b\b\b\b\b\b\b\b\b\b\b\b\b\b\b\b\b\b\b\b\b\b\b\b\b\b\b\b\b\b\b\b\b\b\b\b\b\b\b\b\b\b\b\b\b\b\b\b\b\b\r379/379 [==============================] - 2s 5ms/step - loss: 1.6187e-04\n",
            "Epoch 243/300\n",
            "378/379 [============================>.] - ETA: 0s - loss: 1.5527e-04"
          ]
        },
        {
          "output_type": "stream",
          "name": "stderr",
          "text": [
            "WARNING:tensorflow:Early stopping conditioned on metric `val_loss` which is not available. Available metrics are: loss\n"
          ]
        },
        {
          "output_type": "stream",
          "name": "stdout",
          "text": [
            "\b\b\b\b\b\b\b\b\b\b\b\b\b\b\b\b\b\b\b\b\b\b\b\b\b\b\b\b\b\b\b\b\b\b\b\b\b\b\b\b\b\b\b\b\b\b\b\b\b\b\b\b\b\b\b\b\b\b\b\b\b\b\b\b\b\b\b\b\b\r379/379 [==============================] - 2s 5ms/step - loss: 1.5523e-04\n",
            "Epoch 244/300\n",
            "373/379 [============================>.] - ETA: 0s - loss: 1.6029e-04"
          ]
        },
        {
          "output_type": "stream",
          "name": "stderr",
          "text": [
            "WARNING:tensorflow:Early stopping conditioned on metric `val_loss` which is not available. Available metrics are: loss\n"
          ]
        },
        {
          "output_type": "stream",
          "name": "stdout",
          "text": [
            "\b\b\b\b\b\b\b\b\b\b\b\b\b\b\b\b\b\b\b\b\b\b\b\b\b\b\b\b\b\b\b\b\b\b\b\b\b\b\b\b\b\b\b\b\b\b\b\b\b\b\b\b\b\b\b\b\b\b\b\b\b\b\b\b\b\b\b\b\b\r379/379 [==============================] - 2s 5ms/step - loss: 1.6005e-04\n",
            "Epoch 245/300\n",
            "375/379 [============================>.] - ETA: 0s - loss: 1.6380e-04"
          ]
        },
        {
          "output_type": "stream",
          "name": "stderr",
          "text": [
            "WARNING:tensorflow:Early stopping conditioned on metric `val_loss` which is not available. Available metrics are: loss\n"
          ]
        },
        {
          "output_type": "stream",
          "name": "stdout",
          "text": [
            "\b\b\b\b\b\b\b\b\b\b\b\b\b\b\b\b\b\b\b\b\b\b\b\b\b\b\b\b\b\b\b\b\b\b\b\b\b\b\b\b\b\b\b\b\b\b\b\b\b\b\b\b\b\b\b\b\b\b\b\b\b\b\b\b\b\b\b\b\b\r379/379 [==============================] - 2s 5ms/step - loss: 1.6317e-04\n",
            "Epoch 246/300\n",
            "372/379 [============================>.] - ETA: 0s - loss: 1.6185e-04"
          ]
        },
        {
          "output_type": "stream",
          "name": "stderr",
          "text": [
            "WARNING:tensorflow:Early stopping conditioned on metric `val_loss` which is not available. Available metrics are: loss\n"
          ]
        },
        {
          "output_type": "stream",
          "name": "stdout",
          "text": [
            "\b\b\b\b\b\b\b\b\b\b\b\b\b\b\b\b\b\b\b\b\b\b\b\b\b\b\b\b\b\b\b\b\b\b\b\b\b\b\b\b\b\b\b\b\b\b\b\b\b\b\b\b\b\b\b\b\b\b\b\b\b\b\b\b\b\b\b\b\b\r379/379 [==============================] - 2s 5ms/step - loss: 1.6117e-04\n",
            "Epoch 247/300\n",
            "370/379 [============================>.] - ETA: 0s - loss: 1.5915e-04"
          ]
        },
        {
          "output_type": "stream",
          "name": "stderr",
          "text": [
            "WARNING:tensorflow:Early stopping conditioned on metric `val_loss` which is not available. Available metrics are: loss\n"
          ]
        },
        {
          "output_type": "stream",
          "name": "stdout",
          "text": [
            "\b\b\b\b\b\b\b\b\b\b\b\b\b\b\b\b\b\b\b\b\b\b\b\b\b\b\b\b\b\b\b\b\b\b\b\b\b\b\b\b\b\b\b\b\b\b\b\b\b\b\b\b\b\b\b\b\b\b\b\b\b\b\b\b\b\b\b\b\b\r379/379 [==============================] - 2s 4ms/step - loss: 1.5866e-04\n",
            "Epoch 248/300\n",
            "369/379 [============================>.] - ETA: 0s - loss: 1.5633e-04"
          ]
        },
        {
          "output_type": "stream",
          "name": "stderr",
          "text": [
            "WARNING:tensorflow:Early stopping conditioned on metric `val_loss` which is not available. Available metrics are: loss\n"
          ]
        },
        {
          "output_type": "stream",
          "name": "stdout",
          "text": [
            "\b\b\b\b\b\b\b\b\b\b\b\b\b\b\b\b\b\b\b\b\b\b\b\b\b\b\b\b\b\b\b\b\b\b\b\b\b\b\b\b\b\b\b\b\b\b\b\b\b\b\b\b\b\b\b\b\b\b\b\b\b\b\b\b\b\b\b\b\b\r379/379 [==============================] - 2s 5ms/step - loss: 1.5526e-04\n",
            "Epoch 249/300\n",
            "376/379 [============================>.] - ETA: 0s - loss: 1.6033e-04"
          ]
        },
        {
          "output_type": "stream",
          "name": "stderr",
          "text": [
            "WARNING:tensorflow:Early stopping conditioned on metric `val_loss` which is not available. Available metrics are: loss\n"
          ]
        },
        {
          "output_type": "stream",
          "name": "stdout",
          "text": [
            "\b\b\b\b\b\b\b\b\b\b\b\b\b\b\b\b\b\b\b\b\b\b\b\b\b\b\b\b\b\b\b\b\b\b\b\b\b\b\b\b\b\b\b\b\b\b\b\b\b\b\b\b\b\b\b\b\b\b\b\b\b\b\b\b\b\b\b\b\b\r379/379 [==============================] - 2s 5ms/step - loss: 1.6023e-04\n",
            "Epoch 250/300\n",
            "372/379 [============================>.] - ETA: 0s - loss: 1.6046e-04"
          ]
        },
        {
          "output_type": "stream",
          "name": "stderr",
          "text": [
            "WARNING:tensorflow:Early stopping conditioned on metric `val_loss` which is not available. Available metrics are: loss\n"
          ]
        },
        {
          "output_type": "stream",
          "name": "stdout",
          "text": [
            "\b\b\b\b\b\b\b\b\b\b\b\b\b\b\b\b\b\b\b\b\b\b\b\b\b\b\b\b\b\b\b\b\b\b\b\b\b\b\b\b\b\b\b\b\b\b\b\b\b\b\b\b\b\b\b\b\b\b\b\b\b\b\b\b\b\b\b\b\b\r379/379 [==============================] - 2s 5ms/step - loss: 1.6007e-04\n",
            "Epoch 251/300\n",
            "370/379 [============================>.] - ETA: 0s - loss: 1.6047e-04"
          ]
        },
        {
          "output_type": "stream",
          "name": "stderr",
          "text": [
            "WARNING:tensorflow:Early stopping conditioned on metric `val_loss` which is not available. Available metrics are: loss\n"
          ]
        },
        {
          "output_type": "stream",
          "name": "stdout",
          "text": [
            "\b\b\b\b\b\b\b\b\b\b\b\b\b\b\b\b\b\b\b\b\b\b\b\b\b\b\b\b\b\b\b\b\b\b\b\b\b\b\b\b\b\b\b\b\b\b\b\b\b\b\b\b\b\b\b\b\b\b\b\b\b\b\b\b\b\b\b\b\b\r379/379 [==============================] - 2s 5ms/step - loss: 1.5953e-04\n",
            "Epoch 252/300\n",
            "378/379 [============================>.] - ETA: 0s - loss: 1.5573e-04"
          ]
        },
        {
          "output_type": "stream",
          "name": "stderr",
          "text": [
            "WARNING:tensorflow:Early stopping conditioned on metric `val_loss` which is not available. Available metrics are: loss\n"
          ]
        },
        {
          "output_type": "stream",
          "name": "stdout",
          "text": [
            "\b\b\b\b\b\b\b\b\b\b\b\b\b\b\b\b\b\b\b\b\b\b\b\b\b\b\b\b\b\b\b\b\b\b\b\b\b\b\b\b\b\b\b\b\b\b\b\b\b\b\b\b\b\b\b\b\b\b\b\b\b\b\b\b\b\b\b\b\b\r379/379 [==============================] - 2s 5ms/step - loss: 1.5569e-04\n",
            "Epoch 253/300\n",
            "368/379 [============================>.] - ETA: 0s - loss: 1.5643e-04"
          ]
        },
        {
          "output_type": "stream",
          "name": "stderr",
          "text": [
            "WARNING:tensorflow:Early stopping conditioned on metric `val_loss` which is not available. Available metrics are: loss\n"
          ]
        },
        {
          "output_type": "stream",
          "name": "stdout",
          "text": [
            "\b\b\b\b\b\b\b\b\b\b\b\b\b\b\b\b\b\b\b\b\b\b\b\b\b\b\b\b\b\b\b\b\b\b\b\b\b\b\b\b\b\b\b\b\b\b\b\b\b\b\b\b\b\b\b\b\b\b\b\b\b\b\b\b\b\b\b\b\b\r379/379 [==============================] - 2s 5ms/step - loss: 1.5640e-04\n",
            "Epoch 254/300\n",
            "370/379 [============================>.] - ETA: 0s - loss: 1.6401e-04"
          ]
        },
        {
          "output_type": "stream",
          "name": "stderr",
          "text": [
            "WARNING:tensorflow:Early stopping conditioned on metric `val_loss` which is not available. Available metrics are: loss\n"
          ]
        },
        {
          "output_type": "stream",
          "name": "stdout",
          "text": [
            "\b\b\b\b\b\b\b\b\b\b\b\b\b\b\b\b\b\b\b\b\b\b\b\b\b\b\b\b\b\b\b\b\b\b\b\b\b\b\b\b\b\b\b\b\b\b\b\b\b\b\b\b\b\b\b\b\b\b\b\b\b\b\b\b\b\b\b\b\b\r379/379 [==============================] - 2s 5ms/step - loss: 1.6325e-04\n",
            "Epoch 255/300\n",
            "373/379 [============================>.] - ETA: 0s - loss: 1.5553e-04"
          ]
        },
        {
          "output_type": "stream",
          "name": "stderr",
          "text": [
            "WARNING:tensorflow:Early stopping conditioned on metric `val_loss` which is not available. Available metrics are: loss\n"
          ]
        },
        {
          "output_type": "stream",
          "name": "stdout",
          "text": [
            "\b\b\b\b\b\b\b\b\b\b\b\b\b\b\b\b\b\b\b\b\b\b\b\b\b\b\b\b\b\b\b\b\b\b\b\b\b\b\b\b\b\b\b\b\b\b\b\b\b\b\b\b\b\b\b\b\b\b\b\b\b\b\b\b\b\b\b\b\b\r379/379 [==============================] - 2s 5ms/step - loss: 1.5631e-04\n",
            "Epoch 256/300\n",
            "376/379 [============================>.] - ETA: 0s - loss: 1.5920e-04"
          ]
        },
        {
          "output_type": "stream",
          "name": "stderr",
          "text": [
            "WARNING:tensorflow:Early stopping conditioned on metric `val_loss` which is not available. Available metrics are: loss\n"
          ]
        },
        {
          "output_type": "stream",
          "name": "stdout",
          "text": [
            "\b\b\b\b\b\b\b\b\b\b\b\b\b\b\b\b\b\b\b\b\b\b\b\b\b\b\b\b\b\b\b\b\b\b\b\b\b\b\b\b\b\b\b\b\b\b\b\b\b\b\b\b\b\b\b\b\b\b\b\b\b\b\b\b\b\b\b\b\b\r379/379 [==============================] - 2s 5ms/step - loss: 1.5893e-04\n",
            "Epoch 257/300\n",
            "374/379 [============================>.] - ETA: 0s - loss: 1.6042e-04"
          ]
        },
        {
          "output_type": "stream",
          "name": "stderr",
          "text": [
            "WARNING:tensorflow:Early stopping conditioned on metric `val_loss` which is not available. Available metrics are: loss\n"
          ]
        },
        {
          "output_type": "stream",
          "name": "stdout",
          "text": [
            "\b\b\b\b\b\b\b\b\b\b\b\b\b\b\b\b\b\b\b\b\b\b\b\b\b\b\b\b\b\b\b\b\b\b\b\b\b\b\b\b\b\b\b\b\b\b\b\b\b\b\b\b\b\b\b\b\b\b\b\b\b\b\b\b\b\b\b\b\b\r379/379 [==============================] - 2s 5ms/step - loss: 1.5959e-04\n",
            "Epoch 258/300\n",
            "368/379 [============================>.] - ETA: 0s - loss: 1.5657e-04"
          ]
        },
        {
          "output_type": "stream",
          "name": "stderr",
          "text": [
            "WARNING:tensorflow:Early stopping conditioned on metric `val_loss` which is not available. Available metrics are: loss\n"
          ]
        },
        {
          "output_type": "stream",
          "name": "stdout",
          "text": [
            "\b\b\b\b\b\b\b\b\b\b\b\b\b\b\b\b\b\b\b\b\b\b\b\b\b\b\b\b\b\b\b\b\b\b\b\b\b\b\b\b\b\b\b\b\b\b\b\b\b\b\b\b\b\b\b\b\b\b\b\b\b\b\b\b\b\b\b\b\b\r379/379 [==============================] - 2s 5ms/step - loss: 1.5582e-04\n",
            "Epoch 259/300\n",
            "378/379 [============================>.] - ETA: 0s - loss: 1.5775e-04"
          ]
        },
        {
          "output_type": "stream",
          "name": "stderr",
          "text": [
            "WARNING:tensorflow:Early stopping conditioned on metric `val_loss` which is not available. Available metrics are: loss\n"
          ]
        },
        {
          "output_type": "stream",
          "name": "stdout",
          "text": [
            "\b\b\b\b\b\b\b\b\b\b\b\b\b\b\b\b\b\b\b\b\b\b\b\b\b\b\b\b\b\b\b\b\b\b\b\b\b\b\b\b\b\b\b\b\b\b\b\b\b\b\b\b\b\b\b\b\b\b\b\b\b\b\b\b\b\b\b\b\b\r379/379 [==============================] - 2s 4ms/step - loss: 1.5776e-04\n",
            "Epoch 260/300\n",
            "379/379 [==============================] - ETA: 0s - loss: 1.5701e-04"
          ]
        },
        {
          "output_type": "stream",
          "name": "stderr",
          "text": [
            "WARNING:tensorflow:Early stopping conditioned on metric `val_loss` which is not available. Available metrics are: loss\n"
          ]
        },
        {
          "output_type": "stream",
          "name": "stdout",
          "text": [
            "\b\b\b\b\b\b\b\b\b\b\b\b\b\b\b\b\b\b\b\b\b\b\b\b\b\b\b\b\b\b\b\b\b\b\b\b\b\b\b\b\b\b\b\b\b\b\b\b\b\b\b\b\b\b\b\b\b\b\b\b\b\b\b\b\b\b\b\b\b\r379/379 [==============================] - 2s 5ms/step - loss: 1.5701e-04\n",
            "Epoch 261/300\n",
            "373/379 [============================>.] - ETA: 0s - loss: 1.5771e-04"
          ]
        },
        {
          "output_type": "stream",
          "name": "stderr",
          "text": [
            "WARNING:tensorflow:Early stopping conditioned on metric `val_loss` which is not available. Available metrics are: loss\n"
          ]
        },
        {
          "output_type": "stream",
          "name": "stdout",
          "text": [
            "\b\b\b\b\b\b\b\b\b\b\b\b\b\b\b\b\b\b\b\b\b\b\b\b\b\b\b\b\b\b\b\b\b\b\b\b\b\b\b\b\b\b\b\b\b\b\b\b\b\b\b\b\b\b\b\b\b\b\b\b\b\b\b\b\b\b\b\b\b\r379/379 [==============================] - 2s 5ms/step - loss: 1.5794e-04\n",
            "Epoch 262/300\n",
            "370/379 [============================>.] - ETA: 0s - loss: 1.5527e-04"
          ]
        },
        {
          "output_type": "stream",
          "name": "stderr",
          "text": [
            "WARNING:tensorflow:Early stopping conditioned on metric `val_loss` which is not available. Available metrics are: loss\n"
          ]
        },
        {
          "output_type": "stream",
          "name": "stdout",
          "text": [
            "\b\b\b\b\b\b\b\b\b\b\b\b\b\b\b\b\b\b\b\b\b\b\b\b\b\b\b\b\b\b\b\b\b\b\b\b\b\b\b\b\b\b\b\b\b\b\b\b\b\b\b\b\b\b\b\b\b\b\b\b\b\b\b\b\b\b\b\b\b\r379/379 [==============================] - 2s 5ms/step - loss: 1.5612e-04\n",
            "Epoch 263/300\n",
            "376/379 [============================>.] - ETA: 0s - loss: 1.5583e-04"
          ]
        },
        {
          "output_type": "stream",
          "name": "stderr",
          "text": [
            "WARNING:tensorflow:Early stopping conditioned on metric `val_loss` which is not available. Available metrics are: loss\n"
          ]
        },
        {
          "output_type": "stream",
          "name": "stdout",
          "text": [
            "\b\b\b\b\b\b\b\b\b\b\b\b\b\b\b\b\b\b\b\b\b\b\b\b\b\b\b\b\b\b\b\b\b\b\b\b\b\b\b\b\b\b\b\b\b\b\b\b\b\b\b\b\b\b\b\b\b\b\b\b\b\b\b\b\b\b\b\b\b\r379/379 [==============================] - 2s 5ms/step - loss: 1.5612e-04\n",
            "Epoch 264/300\n",
            "376/379 [============================>.] - ETA: 0s - loss: 1.5831e-04"
          ]
        },
        {
          "output_type": "stream",
          "name": "stderr",
          "text": [
            "WARNING:tensorflow:Early stopping conditioned on metric `val_loss` which is not available. Available metrics are: loss\n"
          ]
        },
        {
          "output_type": "stream",
          "name": "stdout",
          "text": [
            "\b\b\b\b\b\b\b\b\b\b\b\b\b\b\b\b\b\b\b\b\b\b\b\b\b\b\b\b\b\b\b\b\b\b\b\b\b\b\b\b\b\b\b\b\b\b\b\b\b\b\b\b\b\b\b\b\b\b\b\b\b\b\b\b\b\b\b\b\b\r379/379 [==============================] - 2s 5ms/step - loss: 1.5900e-04\n",
            "Epoch 265/300\n",
            "372/379 [============================>.] - ETA: 0s - loss: 1.5720e-04"
          ]
        },
        {
          "output_type": "stream",
          "name": "stderr",
          "text": [
            "WARNING:tensorflow:Early stopping conditioned on metric `val_loss` which is not available. Available metrics are: loss\n"
          ]
        },
        {
          "output_type": "stream",
          "name": "stdout",
          "text": [
            "\b\b\b\b\b\b\b\b\b\b\b\b\b\b\b\b\b\b\b\b\b\b\b\b\b\b\b\b\b\b\b\b\b\b\b\b\b\b\b\b\b\b\b\b\b\b\b\b\b\b\b\b\b\b\b\b\b\b\b\b\b\b\b\b\b\b\b\b\b\r379/379 [==============================] - 2s 5ms/step - loss: 1.5623e-04\n",
            "Epoch 266/300\n",
            "371/379 [============================>.] - ETA: 0s - loss: 1.6028e-04"
          ]
        },
        {
          "output_type": "stream",
          "name": "stderr",
          "text": [
            "WARNING:tensorflow:Early stopping conditioned on metric `val_loss` which is not available. Available metrics are: loss\n"
          ]
        },
        {
          "output_type": "stream",
          "name": "stdout",
          "text": [
            "\b\b\b\b\b\b\b\b\b\b\b\b\b\b\b\b\b\b\b\b\b\b\b\b\b\b\b\b\b\b\b\b\b\b\b\b\b\b\b\b\b\b\b\b\b\b\b\b\b\b\b\b\b\b\b\b\b\b\b\b\b\b\b\b\b\b\b\b\b\r379/379 [==============================] - 2s 4ms/step - loss: 1.6008e-04\n",
            "Epoch 267/300\n",
            "375/379 [============================>.] - ETA: 0s - loss: 1.5801e-04"
          ]
        },
        {
          "output_type": "stream",
          "name": "stderr",
          "text": [
            "WARNING:tensorflow:Early stopping conditioned on metric `val_loss` which is not available. Available metrics are: loss\n"
          ]
        },
        {
          "output_type": "stream",
          "name": "stdout",
          "text": [
            "\b\b\b\b\b\b\b\b\b\b\b\b\b\b\b\b\b\b\b\b\b\b\b\b\b\b\b\b\b\b\b\b\b\b\b\b\b\b\b\b\b\b\b\b\b\b\b\b\b\b\b\b\b\b\b\b\b\b\b\b\b\b\b\b\b\b\b\b\b\r379/379 [==============================] - 2s 5ms/step - loss: 1.5848e-04\n",
            "Epoch 268/300\n",
            "370/379 [============================>.] - ETA: 0s - loss: 1.5270e-04"
          ]
        },
        {
          "output_type": "stream",
          "name": "stderr",
          "text": [
            "WARNING:tensorflow:Early stopping conditioned on metric `val_loss` which is not available. Available metrics are: loss\n"
          ]
        },
        {
          "output_type": "stream",
          "name": "stdout",
          "text": [
            "\b\b\b\b\b\b\b\b\b\b\b\b\b\b\b\b\b\b\b\b\b\b\b\b\b\b\b\b\b\b\b\b\b\b\b\b\b\b\b\b\b\b\b\b\b\b\b\b\b\b\b\b\b\b\b\b\b\b\b\b\b\b\b\b\b\b\b\b\b\r379/379 [==============================] - 2s 5ms/step - loss: 1.5423e-04\n",
            "Epoch 269/300\n",
            "370/379 [============================>.] - ETA: 0s - loss: 1.6076e-04"
          ]
        },
        {
          "output_type": "stream",
          "name": "stderr",
          "text": [
            "WARNING:tensorflow:Early stopping conditioned on metric `val_loss` which is not available. Available metrics are: loss\n"
          ]
        },
        {
          "output_type": "stream",
          "name": "stdout",
          "text": [
            "\b\b\b\b\b\b\b\b\b\b\b\b\b\b\b\b\b\b\b\b\b\b\b\b\b\b\b\b\b\b\b\b\b\b\b\b\b\b\b\b\b\b\b\b\b\b\b\b\b\b\b\b\b\b\b\b\b\b\b\b\b\b\b\b\b\b\b\b\b\r379/379 [==============================] - 2s 5ms/step - loss: 1.6048e-04\n",
            "Epoch 270/300\n",
            "369/379 [============================>.] - ETA: 0s - loss: 1.5167e-04"
          ]
        },
        {
          "output_type": "stream",
          "name": "stderr",
          "text": [
            "WARNING:tensorflow:Early stopping conditioned on metric `val_loss` which is not available. Available metrics are: loss\n"
          ]
        },
        {
          "output_type": "stream",
          "name": "stdout",
          "text": [
            "\b\b\b\b\b\b\b\b\b\b\b\b\b\b\b\b\b\b\b\b\b\b\b\b\b\b\b\b\b\b\b\b\b\b\b\b\b\b\b\b\b\b\b\b\b\b\b\b\b\b\b\b\b\b\b\b\b\b\b\b\b\b\b\b\b\b\b\b\b\r379/379 [==============================] - 2s 5ms/step - loss: 1.5309e-04\n",
            "Epoch 271/300\n",
            "370/379 [============================>.] - ETA: 0s - loss: 1.6020e-04"
          ]
        },
        {
          "output_type": "stream",
          "name": "stderr",
          "text": [
            "WARNING:tensorflow:Early stopping conditioned on metric `val_loss` which is not available. Available metrics are: loss\n"
          ]
        },
        {
          "output_type": "stream",
          "name": "stdout",
          "text": [
            "\b\b\b\b\b\b\b\b\b\b\b\b\b\b\b\b\b\b\b\b\b\b\b\b\b\b\b\b\b\b\b\b\b\b\b\b\b\b\b\b\b\b\b\b\b\b\b\b\b\b\b\b\b\b\b\b\b\b\b\b\b\b\b\b\b\b\b\b\b\r379/379 [==============================] - 2s 5ms/step - loss: 1.5892e-04\n",
            "Epoch 272/300\n",
            "373/379 [============================>.] - ETA: 0s - loss: 1.5339e-04"
          ]
        },
        {
          "output_type": "stream",
          "name": "stderr",
          "text": [
            "WARNING:tensorflow:Early stopping conditioned on metric `val_loss` which is not available. Available metrics are: loss\n"
          ]
        },
        {
          "output_type": "stream",
          "name": "stdout",
          "text": [
            "\b\b\b\b\b\b\b\b\b\b\b\b\b\b\b\b\b\b\b\b\b\b\b\b\b\b\b\b\b\b\b\b\b\b\b\b\b\b\b\b\b\b\b\b\b\b\b\b\b\b\b\b\b\b\b\b\b\b\b\b\b\b\b\b\b\b\b\b\b\r379/379 [==============================] - 2s 5ms/step - loss: 1.5416e-04\n",
            "Epoch 273/300\n",
            "378/379 [============================>.] - ETA: 0s - loss: 1.5517e-04"
          ]
        },
        {
          "output_type": "stream",
          "name": "stderr",
          "text": [
            "WARNING:tensorflow:Early stopping conditioned on metric `val_loss` which is not available. Available metrics are: loss\n"
          ]
        },
        {
          "output_type": "stream",
          "name": "stdout",
          "text": [
            "\b\b\b\b\b\b\b\b\b\b\b\b\b\b\b\b\b\b\b\b\b\b\b\b\b\b\b\b\b\b\b\b\b\b\b\b\b\b\b\b\b\b\b\b\b\b\b\b\b\b\b\b\b\b\b\b\b\b\b\b\b\b\b\b\b\b\b\b\b\r379/379 [==============================] - 2s 4ms/step - loss: 1.5521e-04\n",
            "Epoch 274/300\n",
            "375/379 [============================>.] - ETA: 0s - loss: 1.6299e-04"
          ]
        },
        {
          "output_type": "stream",
          "name": "stderr",
          "text": [
            "WARNING:tensorflow:Early stopping conditioned on metric `val_loss` which is not available. Available metrics are: loss\n"
          ]
        },
        {
          "output_type": "stream",
          "name": "stdout",
          "text": [
            "\b\b\b\b\b\b\b\b\b\b\b\b\b\b\b\b\b\b\b\b\b\b\b\b\b\b\b\b\b\b\b\b\b\b\b\b\b\b\b\b\b\b\b\b\b\b\b\b\b\b\b\b\b\b\b\b\b\b\b\b\b\b\b\b\b\b\b\b\b\r379/379 [==============================] - 2s 5ms/step - loss: 1.6239e-04\n",
            "Epoch 275/300\n",
            "369/379 [============================>.] - ETA: 0s - loss: 1.5829e-04"
          ]
        },
        {
          "output_type": "stream",
          "name": "stderr",
          "text": [
            "WARNING:tensorflow:Early stopping conditioned on metric `val_loss` which is not available. Available metrics are: loss\n"
          ]
        },
        {
          "output_type": "stream",
          "name": "stdout",
          "text": [
            "\b\b\b\b\b\b\b\b\b\b\b\b\b\b\b\b\b\b\b\b\b\b\b\b\b\b\b\b\b\b\b\b\b\b\b\b\b\b\b\b\b\b\b\b\b\b\b\b\b\b\b\b\b\b\b\b\b\b\b\b\b\b\b\b\b\b\b\b\b\r379/379 [==============================] - 2s 4ms/step - loss: 1.5781e-04\n",
            "Epoch 276/300\n",
            "378/379 [============================>.] - ETA: 0s - loss: 1.5687e-04"
          ]
        },
        {
          "output_type": "stream",
          "name": "stderr",
          "text": [
            "WARNING:tensorflow:Early stopping conditioned on metric `val_loss` which is not available. Available metrics are: loss\n"
          ]
        },
        {
          "output_type": "stream",
          "name": "stdout",
          "text": [
            "\b\b\b\b\b\b\b\b\b\b\b\b\b\b\b\b\b\b\b\b\b\b\b\b\b\b\b\b\b\b\b\b\b\b\b\b\b\b\b\b\b\b\b\b\b\b\b\b\b\b\b\b\b\b\b\b\b\b\b\b\b\b\b\b\b\b\b\b\b\r379/379 [==============================] - 2s 4ms/step - loss: 1.5684e-04\n",
            "Epoch 277/300\n",
            "373/379 [============================>.] - ETA: 0s - loss: 1.6582e-04"
          ]
        },
        {
          "output_type": "stream",
          "name": "stderr",
          "text": [
            "WARNING:tensorflow:Early stopping conditioned on metric `val_loss` which is not available. Available metrics are: loss\n"
          ]
        },
        {
          "output_type": "stream",
          "name": "stdout",
          "text": [
            "\b\b\b\b\b\b\b\b\b\b\b\b\b\b\b\b\b\b\b\b\b\b\b\b\b\b\b\b\b\b\b\b\b\b\b\b\b\b\b\b\b\b\b\b\b\b\b\b\b\b\b\b\b\b\b\b\b\b\b\b\b\b\b\b\b\b\b\b\b\r379/379 [==============================] - 2s 4ms/step - loss: 1.6507e-04\n",
            "Epoch 278/300\n",
            "371/379 [============================>.] - ETA: 0s - loss: 1.6028e-04"
          ]
        },
        {
          "output_type": "stream",
          "name": "stderr",
          "text": [
            "WARNING:tensorflow:Early stopping conditioned on metric `val_loss` which is not available. Available metrics are: loss\n"
          ]
        },
        {
          "output_type": "stream",
          "name": "stdout",
          "text": [
            "\b\b\b\b\b\b\b\b\b\b\b\b\b\b\b\b\b\b\b\b\b\b\b\b\b\b\b\b\b\b\b\b\b\b\b\b\b\b\b\b\b\b\b\b\b\b\b\b\b\b\b\b\b\b\b\b\b\b\b\b\b\b\b\b\b\b\b\b\b\r379/379 [==============================] - 2s 5ms/step - loss: 1.5985e-04\n",
            "Epoch 279/300\n",
            "375/379 [============================>.] - ETA: 0s - loss: 1.5845e-04"
          ]
        },
        {
          "output_type": "stream",
          "name": "stderr",
          "text": [
            "WARNING:tensorflow:Early stopping conditioned on metric `val_loss` which is not available. Available metrics are: loss\n"
          ]
        },
        {
          "output_type": "stream",
          "name": "stdout",
          "text": [
            "\b\b\b\b\b\b\b\b\b\b\b\b\b\b\b\b\b\b\b\b\b\b\b\b\b\b\b\b\b\b\b\b\b\b\b\b\b\b\b\b\b\b\b\b\b\b\b\b\b\b\b\b\b\b\b\b\b\b\b\b\b\b\b\b\b\b\b\b\b\r379/379 [==============================] - 2s 5ms/step - loss: 1.5830e-04\n",
            "Epoch 280/300\n",
            "375/379 [============================>.] - ETA: 0s - loss: 1.5677e-04"
          ]
        },
        {
          "output_type": "stream",
          "name": "stderr",
          "text": [
            "WARNING:tensorflow:Early stopping conditioned on metric `val_loss` which is not available. Available metrics are: loss\n"
          ]
        },
        {
          "output_type": "stream",
          "name": "stdout",
          "text": [
            "\b\b\b\b\b\b\b\b\b\b\b\b\b\b\b\b\b\b\b\b\b\b\b\b\b\b\b\b\b\b\b\b\b\b\b\b\b\b\b\b\b\b\b\b\b\b\b\b\b\b\b\b\b\b\b\b\b\b\b\b\b\b\b\b\b\b\b\b\b\r379/379 [==============================] - 2s 5ms/step - loss: 1.5723e-04\n",
            "Epoch 281/300\n",
            "377/379 [============================>.] - ETA: 0s - loss: 1.6187e-04"
          ]
        },
        {
          "output_type": "stream",
          "name": "stderr",
          "text": [
            "WARNING:tensorflow:Early stopping conditioned on metric `val_loss` which is not available. Available metrics are: loss\n"
          ]
        },
        {
          "output_type": "stream",
          "name": "stdout",
          "text": [
            "\b\b\b\b\b\b\b\b\b\b\b\b\b\b\b\b\b\b\b\b\b\b\b\b\b\b\b\b\b\b\b\b\b\b\b\b\b\b\b\b\b\b\b\b\b\b\b\b\b\b\b\b\b\b\b\b\b\b\b\b\b\b\b\b\b\b\b\b\b\r379/379 [==============================] - 2s 4ms/step - loss: 1.6249e-04\n",
            "Epoch 282/300\n",
            "368/379 [============================>.] - ETA: 0s - loss: 1.5987e-04"
          ]
        },
        {
          "output_type": "stream",
          "name": "stderr",
          "text": [
            "WARNING:tensorflow:Early stopping conditioned on metric `val_loss` which is not available. Available metrics are: loss\n"
          ]
        },
        {
          "output_type": "stream",
          "name": "stdout",
          "text": [
            "\b\b\b\b\b\b\b\b\b\b\b\b\b\b\b\b\b\b\b\b\b\b\b\b\b\b\b\b\b\b\b\b\b\b\b\b\b\b\b\b\b\b\b\b\b\b\b\b\b\b\b\b\b\b\b\b\b\b\b\b\b\b\b\b\b\b\b\b\b\r379/379 [==============================] - 2s 4ms/step - loss: 1.5948e-04\n",
            "Epoch 283/300\n",
            "379/379 [==============================] - ETA: 0s - loss: 1.6232e-04"
          ]
        },
        {
          "output_type": "stream",
          "name": "stderr",
          "text": [
            "WARNING:tensorflow:Early stopping conditioned on metric `val_loss` which is not available. Available metrics are: loss\n"
          ]
        },
        {
          "output_type": "stream",
          "name": "stdout",
          "text": [
            "\b\b\b\b\b\b\b\b\b\b\b\b\b\b\b\b\b\b\b\b\b\b\b\b\b\b\b\b\b\b\b\b\b\b\b\b\b\b\b\b\b\b\b\b\b\b\b\b\b\b\b\b\b\b\b\b\b\b\b\b\b\b\b\b\b\b\b\b\b\r379/379 [==============================] - 2s 4ms/step - loss: 1.6232e-04\n",
            "Epoch 284/300\n",
            "374/379 [============================>.] - ETA: 0s - loss: 1.5866e-04"
          ]
        },
        {
          "output_type": "stream",
          "name": "stderr",
          "text": [
            "WARNING:tensorflow:Early stopping conditioned on metric `val_loss` which is not available. Available metrics are: loss\n"
          ]
        },
        {
          "output_type": "stream",
          "name": "stdout",
          "text": [
            "\b\b\b\b\b\b\b\b\b\b\b\b\b\b\b\b\b\b\b\b\b\b\b\b\b\b\b\b\b\b\b\b\b\b\b\b\b\b\b\b\b\b\b\b\b\b\b\b\b\b\b\b\b\b\b\b\b\b\b\b\b\b\b\b\b\b\b\b\b\r379/379 [==============================] - 2s 5ms/step - loss: 1.5876e-04\n",
            "Epoch 285/300\n",
            "378/379 [============================>.] - ETA: 0s - loss: 1.6290e-04"
          ]
        },
        {
          "output_type": "stream",
          "name": "stderr",
          "text": [
            "WARNING:tensorflow:Early stopping conditioned on metric `val_loss` which is not available. Available metrics are: loss\n"
          ]
        },
        {
          "output_type": "stream",
          "name": "stdout",
          "text": [
            "\b\b\b\b\b\b\b\b\b\b\b\b\b\b\b\b\b\b\b\b\b\b\b\b\b\b\b\b\b\b\b\b\b\b\b\b\b\b\b\b\b\b\b\b\b\b\b\b\b\b\b\b\b\b\b\b\b\b\b\b\b\b\b\b\b\b\b\b\b\r379/379 [==============================] - 2s 5ms/step - loss: 1.6285e-04\n",
            "Epoch 286/300\n",
            "378/379 [============================>.] - ETA: 0s - loss: 1.5704e-04"
          ]
        },
        {
          "output_type": "stream",
          "name": "stderr",
          "text": [
            "WARNING:tensorflow:Early stopping conditioned on metric `val_loss` which is not available. Available metrics are: loss\n"
          ]
        },
        {
          "output_type": "stream",
          "name": "stdout",
          "text": [
            "\b\b\b\b\b\b\b\b\b\b\b\b\b\b\b\b\b\b\b\b\b\b\b\b\b\b\b\b\b\b\b\b\b\b\b\b\b\b\b\b\b\b\b\b\b\b\b\b\b\b\b\b\b\b\b\b\b\b\b\b\b\b\b\b\b\b\b\b\b\r379/379 [==============================] - 2s 5ms/step - loss: 1.5702e-04\n",
            "Epoch 287/300\n",
            "379/379 [==============================] - ETA: 0s - loss: 1.6869e-04"
          ]
        },
        {
          "output_type": "stream",
          "name": "stderr",
          "text": [
            "WARNING:tensorflow:Early stopping conditioned on metric `val_loss` which is not available. Available metrics are: loss\n"
          ]
        },
        {
          "output_type": "stream",
          "name": "stdout",
          "text": [
            "\b\b\b\b\b\b\b\b\b\b\b\b\b\b\b\b\b\b\b\b\b\b\b\b\b\b\b\b\b\b\b\b\b\b\b\b\b\b\b\b\b\b\b\b\b\b\b\b\b\b\b\b\b\b\b\b\b\b\b\b\b\b\b\b\b\b\b\b\b\r379/379 [==============================] - 2s 5ms/step - loss: 1.6869e-04\n",
            "Epoch 288/300\n",
            "370/379 [============================>.] - ETA: 0s - loss: 1.6080e-04"
          ]
        },
        {
          "output_type": "stream",
          "name": "stderr",
          "text": [
            "WARNING:tensorflow:Early stopping conditioned on metric `val_loss` which is not available. Available metrics are: loss\n"
          ]
        },
        {
          "output_type": "stream",
          "name": "stdout",
          "text": [
            "\b\b\b\b\b\b\b\b\b\b\b\b\b\b\b\b\b\b\b\b\b\b\b\b\b\b\b\b\b\b\b\b\b\b\b\b\b\b\b\b\b\b\b\b\b\b\b\b\b\b\b\b\b\b\b\b\b\b\b\b\b\b\b\b\b\b\b\b\b\r379/379 [==============================] - 2s 5ms/step - loss: 1.6082e-04\n",
            "Epoch 289/300\n",
            "372/379 [============================>.] - ETA: 0s - loss: 1.6209e-04"
          ]
        },
        {
          "output_type": "stream",
          "name": "stderr",
          "text": [
            "WARNING:tensorflow:Early stopping conditioned on metric `val_loss` which is not available. Available metrics are: loss\n"
          ]
        },
        {
          "output_type": "stream",
          "name": "stdout",
          "text": [
            "\b\b\b\b\b\b\b\b\b\b\b\b\b\b\b\b\b\b\b\b\b\b\b\b\b\b\b\b\b\b\b\b\b\b\b\b\b\b\b\b\b\b\b\b\b\b\b\b\b\b\b\b\b\b\b\b\b\b\b\b\b\b\b\b\b\b\b\b\b\r379/379 [==============================] - 2s 5ms/step - loss: 1.6260e-04\n",
            "Epoch 290/300\n",
            "369/379 [============================>.] - ETA: 0s - loss: 1.5828e-04"
          ]
        },
        {
          "output_type": "stream",
          "name": "stderr",
          "text": [
            "WARNING:tensorflow:Early stopping conditioned on metric `val_loss` which is not available. Available metrics are: loss\n"
          ]
        },
        {
          "output_type": "stream",
          "name": "stdout",
          "text": [
            "\b\b\b\b\b\b\b\b\b\b\b\b\b\b\b\b\b\b\b\b\b\b\b\b\b\b\b\b\b\b\b\b\b\b\b\b\b\b\b\b\b\b\b\b\b\b\b\b\b\b\b\b\b\b\b\b\b\b\b\b\b\b\b\b\b\b\b\b\b\r379/379 [==============================] - 2s 4ms/step - loss: 1.5831e-04\n",
            "Epoch 291/300\n",
            "379/379 [==============================] - ETA: 0s - loss: 1.5800e-04"
          ]
        },
        {
          "output_type": "stream",
          "name": "stderr",
          "text": [
            "WARNING:tensorflow:Early stopping conditioned on metric `val_loss` which is not available. Available metrics are: loss\n"
          ]
        },
        {
          "output_type": "stream",
          "name": "stdout",
          "text": [
            "\b\b\b\b\b\b\b\b\b\b\b\b\b\b\b\b\b\b\b\b\b\b\b\b\b\b\b\b\b\b\b\b\b\b\b\b\b\b\b\b\b\b\b\b\b\b\b\b\b\b\b\b\b\b\b\b\b\b\b\b\b\b\b\b\b\b\b\b\b\r379/379 [==============================] - 2s 5ms/step - loss: 1.5800e-04\n",
            "Epoch 292/300\n",
            "377/379 [============================>.] - ETA: 0s - loss: 1.5681e-04"
          ]
        },
        {
          "output_type": "stream",
          "name": "stderr",
          "text": [
            "WARNING:tensorflow:Early stopping conditioned on metric `val_loss` which is not available. Available metrics are: loss\n"
          ]
        },
        {
          "output_type": "stream",
          "name": "stdout",
          "text": [
            "\b\b\b\b\b\b\b\b\b\b\b\b\b\b\b\b\b\b\b\b\b\b\b\b\b\b\b\b\b\b\b\b\b\b\b\b\b\b\b\b\b\b\b\b\b\b\b\b\b\b\b\b\b\b\b\b\b\b\b\b\b\b\b\b\b\b\b\b\b\r379/379 [==============================] - 2s 5ms/step - loss: 1.5677e-04\n",
            "Epoch 293/300\n",
            "374/379 [============================>.] - ETA: 0s - loss: 1.5701e-04"
          ]
        },
        {
          "output_type": "stream",
          "name": "stderr",
          "text": [
            "WARNING:tensorflow:Early stopping conditioned on metric `val_loss` which is not available. Available metrics are: loss\n"
          ]
        },
        {
          "output_type": "stream",
          "name": "stdout",
          "text": [
            "\b\b\b\b\b\b\b\b\b\b\b\b\b\b\b\b\b\b\b\b\b\b\b\b\b\b\b\b\b\b\b\b\b\b\b\b\b\b\b\b\b\b\b\b\b\b\b\b\b\b\b\b\b\b\b\b\b\b\b\b\b\b\b\b\b\b\b\b\b\r379/379 [==============================] - 2s 5ms/step - loss: 1.5706e-04\n",
            "Epoch 294/300\n",
            "377/379 [============================>.] - ETA: 0s - loss: 1.6071e-04"
          ]
        },
        {
          "output_type": "stream",
          "name": "stderr",
          "text": [
            "WARNING:tensorflow:Early stopping conditioned on metric `val_loss` which is not available. Available metrics are: loss\n"
          ]
        },
        {
          "output_type": "stream",
          "name": "stdout",
          "text": [
            "\b\b\b\b\b\b\b\b\b\b\b\b\b\b\b\b\b\b\b\b\b\b\b\b\b\b\b\b\b\b\b\b\b\b\b\b\b\b\b\b\b\b\b\b\b\b\b\b\b\b\b\b\b\b\b\b\b\b\b\b\b\b\b\b\b\b\b\b\b\r379/379 [==============================] - 2s 5ms/step - loss: 1.6053e-04\n",
            "Epoch 295/300\n",
            "375/379 [============================>.] - ETA: 0s - loss: 1.6274e-04"
          ]
        },
        {
          "output_type": "stream",
          "name": "stderr",
          "text": [
            "WARNING:tensorflow:Early stopping conditioned on metric `val_loss` which is not available. Available metrics are: loss\n"
          ]
        },
        {
          "output_type": "stream",
          "name": "stdout",
          "text": [
            "\b\b\b\b\b\b\b\b\b\b\b\b\b\b\b\b\b\b\b\b\b\b\b\b\b\b\b\b\b\b\b\b\b\b\b\b\b\b\b\b\b\b\b\b\b\b\b\b\b\b\b\b\b\b\b\b\b\b\b\b\b\b\b\b\b\b\b\b\b\r379/379 [==============================] - 2s 5ms/step - loss: 1.6233e-04\n",
            "Epoch 296/300\n",
            "375/379 [============================>.] - ETA: 0s - loss: 1.5639e-04"
          ]
        },
        {
          "output_type": "stream",
          "name": "stderr",
          "text": [
            "WARNING:tensorflow:Early stopping conditioned on metric `val_loss` which is not available. Available metrics are: loss\n"
          ]
        },
        {
          "output_type": "stream",
          "name": "stdout",
          "text": [
            "\b\b\b\b\b\b\b\b\b\b\b\b\b\b\b\b\b\b\b\b\b\b\b\b\b\b\b\b\b\b\b\b\b\b\b\b\b\b\b\b\b\b\b\b\b\b\b\b\b\b\b\b\b\b\b\b\b\b\b\b\b\b\b\b\b\b\b\b\b\r379/379 [==============================] - 2s 5ms/step - loss: 1.5713e-04\n",
            "Epoch 297/300\n",
            "370/379 [============================>.] - ETA: 0s - loss: 1.5993e-04"
          ]
        },
        {
          "output_type": "stream",
          "name": "stderr",
          "text": [
            "WARNING:tensorflow:Early stopping conditioned on metric `val_loss` which is not available. Available metrics are: loss\n"
          ]
        },
        {
          "output_type": "stream",
          "name": "stdout",
          "text": [
            "\b\b\b\b\b\b\b\b\b\b\b\b\b\b\b\b\b\b\b\b\b\b\b\b\b\b\b\b\b\b\b\b\b\b\b\b\b\b\b\b\b\b\b\b\b\b\b\b\b\b\b\b\b\b\b\b\b\b\b\b\b\b\b\b\b\b\b\b\b\r379/379 [==============================] - 2s 4ms/step - loss: 1.5950e-04\n",
            "Epoch 298/300\n",
            "376/379 [============================>.] - ETA: 0s - loss: 1.5605e-04"
          ]
        },
        {
          "output_type": "stream",
          "name": "stderr",
          "text": [
            "WARNING:tensorflow:Early stopping conditioned on metric `val_loss` which is not available. Available metrics are: loss\n"
          ]
        },
        {
          "output_type": "stream",
          "name": "stdout",
          "text": [
            "\b\b\b\b\b\b\b\b\b\b\b\b\b\b\b\b\b\b\b\b\b\b\b\b\b\b\b\b\b\b\b\b\b\b\b\b\b\b\b\b\b\b\b\b\b\b\b\b\b\b\b\b\b\b\b\b\b\b\b\b\b\b\b\b\b\b\b\b\b\r379/379 [==============================] - 2s 4ms/step - loss: 1.5601e-04\n",
            "Epoch 299/300\n",
            "379/379 [==============================] - ETA: 0s - loss: 1.5850e-04"
          ]
        },
        {
          "output_type": "stream",
          "name": "stderr",
          "text": [
            "WARNING:tensorflow:Early stopping conditioned on metric `val_loss` which is not available. Available metrics are: loss\n"
          ]
        },
        {
          "output_type": "stream",
          "name": "stdout",
          "text": [
            "\b\b\b\b\b\b\b\b\b\b\b\b\b\b\b\b\b\b\b\b\b\b\b\b\b\b\b\b\b\b\b\b\b\b\b\b\b\b\b\b\b\b\b\b\b\b\b\b\b\b\b\b\b\b\b\b\b\b\b\b\b\b\b\b\b\b\b\b\b\r379/379 [==============================] - 2s 4ms/step - loss: 1.5850e-04\n",
            "Epoch 300/300\n",
            "369/379 [============================>.] - ETA: 0s - loss: 1.5302e-04"
          ]
        },
        {
          "output_type": "stream",
          "name": "stderr",
          "text": [
            "WARNING:tensorflow:Early stopping conditioned on metric `val_loss` which is not available. Available metrics are: loss\n"
          ]
        },
        {
          "output_type": "stream",
          "name": "stdout",
          "text": [
            "379/379 [==============================] - 2s 5ms/step - loss: 1.5269e-04\n",
            "13/13 [==============================] - 0s 2ms/step\n",
            "rmse= 19.836815415014932\n",
            "mae= 14.444187729033\n",
            "mape= 0.7107403803846698\n",
            "amape= 0.6987329465197563\n",
            "Optimal learning rate: 0.0001\n",
            "Optimal epochs: 300\n",
            "Optimal batch size: 8\n",
            "Optimal dropout rate: 0.2\n",
            "Optimal activation function: tanh\n",
            "Optimal optimizer: Adam\n",
            "Optimal neurons for the first GRU layer: 180\n",
            "Optimal Dense neuron 1: 25\n",
            "Optimal Dense neuron 2: 1\n",
            "L2 regularization lambda: 0.0001\n"
          ]
        }
      ],
      "source": [
        "# Determining the index where the validation set should start\n",
        "validation_start_index = int(x_train.shape[0] * 0.8)\n",
        "\n",
        "# Splitting the training data into training and validation sets\n",
        "x_train, x_val = x_train[:validation_start_index], x_train[validation_start_index:]\n",
        "y_train, y_val = y_train[:validation_start_index], y_train[validation_start_index:]\n",
        "\n",
        "\n",
        "def gru_model_optimize(params):\n",
        "    learning_rate, epochs, batch_size, dropout, activation_function, optimizer, neurons_1, neurons_3, neurons_4, l2_lambda = params\n",
        "\n",
        "    model = Sequential()\n",
        "    model.add(GRU(neurons_1, return_sequences=False, input_shape=(x_train.shape[1], 6), activation=activation_function, kernel_regularizer=L2(l2_lambda)))\n",
        "    model.add(Dropout(dropout))\n",
        "    model.add(Dense(neurons_3, activation=activation_function))\n",
        "    model.add(Dense(neurons_4))\n",
        "\n",
        "    opt = optimizer(learning_rate=learning_rate)\n",
        "    model.compile(optimizer=opt, loss='mean_squared_error')\n",
        "    model.fit(x_train, y_train, batch_size=batch_size, epochs=epochs, verbose=1, validation_data=(x_val, y_val), callbacks=[early_stopping])\n",
        "\n",
        "\n",
        "    predictions = model.predict(x_val)\n",
        "    predicted_data = np.zeros((predictions.shape[0], dataset.shape[1]))\n",
        "    predicted_data[:, 3] = predictions[:, 0]\n",
        "    predictions = scaler.inverse_transform(predicted_data)[:, 3]\n",
        "\n",
        "\n",
        "    # Inverse transform y_val\n",
        "    y_val_unscaled_data = np.zeros((y_val.shape[0], dataset.shape[1]))\n",
        "    y_val_unscaled_data[:, 3] = y_val\n",
        "    y_val_unscaled = scaler.inverse_transform(y_val_unscaled_data)[:, 3]\n",
        "\n",
        "    mse = np.mean(((predictions - y_val_unscaled) ** 2))\n",
        "\n",
        "    rmse = np.sqrt(np.mean(((predictions - y_val_unscaled) ** 2)))\n",
        "    print('rmse=', rmse)\n",
        "    #Checking if MSE is \"nan\" and return a large value if it is\n",
        "    if np.isnan(mse):\n",
        "        return 1e6  # Replace with a large value of your choice\n",
        "    else:\n",
        "      return mse\n",
        "\n",
        "\n",
        "# Defining the search space for hyperparameters\n",
        "space = [\n",
        "    Categorical([0.0001, 0.001, 0.01, 0.1], name=\"learning_rate\"),\n",
        "    Categorical([100, 200, 300, 400, 500,1000], name=\"epochs\"),\n",
        "    Categorical([8, 16, 32, 64], name=\"batch_size\"),\n",
        "    Categorical([0.1, 0.2, 0.3, 0.4, 0.5], name=\"dropout\"),\n",
        "    Categorical(['tanh', 'sigmoid','relu'], name=\"activation_function\"),\n",
        "    Categorical([Adam, RMSprop, Adagrad], name=\"optimizer\"),\n",
        "    Categorical([60, 80, 100, 120, 140, 160, 180], name=\"neurons_1\"),\n",
        "    Integer(15, 30, name=\"neurons_3\"),\n",
        "    Integer(1, 10, name=\"neurons_4\"),\n",
        "    Categorical([0.0005, 0.0001, 0.00005, 0.00001], name=\"l2_lambda\"),\n",
        "\n",
        "]\n",
        "\n",
        "\n",
        "early_stopping = EarlyStopping(monitor='val_loss', patience=8, restore_best_weights=True)\n",
        "# Performing Bayesian optimization using gp_minimize\n",
        "result = gp_minimize(gru_model_optimize, space, n_calls=20, n_random_starts=10, verbose=1, n_jobs=-1)\n",
        "\n",
        "# Extracting the optimal hyperparameters\n",
        "opt_learning_rate, opt_epochs, opt_batch_size, opt_dropout, opt_activation_function, opt_optimizer, opt_neurons_1, opt_neurons_3, opt_neurons_4, opt_l2_lambda = result.x\n",
        "\n",
        "# Training the GRU model with the optimal hyperparameters\n",
        "model = Sequential()\n",
        "model.add(GRU(opt_neurons_1, return_sequences=False, input_shape=(x_train.shape[1], 6), activation=opt_activation_function, kernel_regularizer=L2(opt_l2_lambda)))\n",
        "model.add(Dropout(opt_dropout))\n",
        "model.add(Dense(opt_neurons_3, activation=opt_activation_function))\n",
        "model.add(Dense(opt_neurons_4))\n",
        "\n",
        "opt = opt_optimizer(learning_rate=opt_learning_rate)\n",
        "model.compile(optimizer=opt, loss='mean_squared_error')\n",
        "model.fit(x_train, y_train, batch_size=opt_batch_size, epochs=opt_epochs, verbose=1, callbacks=[early_stopping])\n",
        "\n",
        "predictions = model.predict(x_test)\n",
        "predicted_data = np.zeros((predictions.shape[0], dataset.shape[1]))\n",
        "predicted_data[:, 3] = predictions[:, 0]\n",
        "predictions = scaler.inverse_transform(predicted_data)[:, 3]\n",
        "\n",
        "\n",
        "# Calculating Root Mean Square Error (RMSE)\n",
        "rmse = np.sqrt(np.mean(((predictions - y_test) ** 2)))\n",
        "print('rmse= ' + str(rmse))\n",
        "\n",
        "# Calculating Mean Absolute Error (MAE)\n",
        "mae = mean_absolute_error(predictions, y_test)\n",
        "print('mae= ' + str(mae))\n",
        "\n",
        "\n",
        "#Calculating Mean Absolute Percentage Error (MAPE)\n",
        "mape = np.mean(np.abs((predictions - y_test) / y_test)) * 100\n",
        "print('mape= ' + str(mape))\n",
        "\n",
        "# Calculating Adjusted Mean Absolute Percentage Error (AMAPE)\n",
        "amape = np.mean(np.abs((predictions - y_test) / np.mean(y_test))) * 100\n",
        "print('amape= ' + str(amape))\n",
        "\n",
        "\n",
        "print(\"Optimal learning rate:\", opt_learning_rate)\n",
        "print(\"Optimal epochs:\", opt_epochs)\n",
        "print(\"Optimal batch size:\", opt_batch_size)\n",
        "print(\"Optimal dropout rate:\", opt_dropout)\n",
        "print(\"Optimal activation function:\", opt_activation_function)\n",
        "print(\"Optimal optimizer:\", opt_optimizer.__name__)\n",
        "print(\"Optimal neurons for the first GRU layer:\", opt_neurons_1)\n",
        "print(\"Optimal Dense neuron 1:\", opt_neurons_3)\n",
        "print(\"Optimal Dense neuron 2:\", opt_neurons_4)\n",
        "print(\"L2 regularization lambda:\", opt_l2_lambda)\n"
      ]
    },
    {
      "cell_type": "code",
      "execution_count": null,
      "metadata": {
        "colab": {
          "base_uri": "https://localhost:8080/",
          "height": 333
        },
        "id": "Up9gXG25DpMw",
        "outputId": "7f2026f3-746f-4bbc-b517-ee36f9f37bb3"
      },
      "outputs": [
        {
          "output_type": "display_data",
          "data": {
            "text/plain": [
              "<Figure size 1600x800 with 1 Axes>"
            ],
            "image/png": "[encoded data removed]"
          },
          "metadata": {}
        }
      ],
      "source": [
        "#Plotting the data\n",
        "train = data[:training_data_len]\n",
        "valid = data[training_data_len:].copy()\n",
        "valid.loc[:,'Predictions'] = predictions\n",
        "#Visualising the model\n",
        "plt.figure(figsize=(16,8))\n",
        "plt.title('Model')\n",
        "plt.xlabel('Date', fontsize=18)\n",
        "plt.ylabel('Close Price USD ($)')\n",
        "plt.plot(valid[['Adj Close', 'Predictions']])\n",
        "plt.legend(['Train', 'Val', 'Predictions'], loc='lower right')\n",
        "plt.show()"
      ]
    },
    {
      "cell_type": "code",
      "source": [
        "#Download the Model Results\n",
        "\n",
        "import pickle\n",
        "\n",
        "variables = {\n",
        "    'data': data,\n",
        "    'training_data_len': training_data_len,\n",
        "    'scaler': scaler,\n",
        "    'x_train': x_train,\n",
        "    'y_train': y_train,\n",
        "    'x_test': x_test,\n",
        "    'y_test': y_test,\n",
        "    'predictions': predictions,\n",
        "    'rmse': rmse,\n",
        "    'mae': mae,\n",
        "    'mape': mape,\n",
        "    'amape': amape,\n",
        "    'opt_learning_rate': opt_learning_rate,\n",
        "    'opt_epochs': opt_epochs,\n",
        "    'opt_batch_size': opt_batch_size,\n",
        "    'opt_dropout': opt_dropout,\n",
        "    'opt_activation_function': opt_activation_function,\n",
        "    'opt_optimizer': opt_optimizer.__name__,\n",
        "    'opt_neurons_1': opt_neurons_1,\n",
        "    'opt dense neuron 1': opt_neurons_3,\n",
        "    'opt_dense neuron 2': opt_neurons_4,\n",
        "    'opt_l2_lambda': opt_l2_lambda\n",
        "\n",
        "}\n",
        "\n",
        "with open('gru_single_400.pickle', 'wb') as f:\n",
        "    pickle.dump(variables, f)\n",
        "\n",
        "\n"
      ],
      "metadata": {
        "id": "X3wnkwmAO_aH"
      },
      "execution_count": null,
      "outputs": []
    }
  ],
  "metadata": {
    "accelerator": "GPU",
    "colab": {
      "machine_shape": "hm",
      "provenance": [],
      "gpuClass": "premium",
      "authorship_tag": "ABX9TyNzH1K7aquv0wT4ts06Xe5w",
      "include_colab_link": true
    },
    "gpuClass": "premium",
    "kernelspec": {
      "display_name": "Python 3",
      "name": "python3"
    },
    "language_info": {
      "name": "python"
    }
  },
  "nbformat": 4,
  "nbformat_minor": 0
}